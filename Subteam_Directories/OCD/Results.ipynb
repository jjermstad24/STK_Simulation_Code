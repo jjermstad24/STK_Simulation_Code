{
 "cells": [
  {
   "cell_type": "code",
   "execution_count": 1,
   "metadata": {},
   "outputs": [],
   "source": [
    "import sys\n",
    "sys.path.append(\"../../\")\n",
    "from Scripts import *"
   ]
  },
  {
   "cell_type": "code",
   "execution_count": null,
   "metadata": {},
   "outputs": [],
   "source": [
    "results_dict = {}\n",
    "cost_curve_dicts = {'Optimization': {}, 'Planning': {}}\n",
    "\n",
    "opt_counter = 0\n",
    "plan_counter = 0\n",
    "for n_sats in range(3,13,1):\n",
    "    results_dict[n_sats] = {'Optimization': {'Total Results': pd.DataFrame({'Number of Targets': [], 'Avg_Percentage': [], 'Max_Time': [], 'Avg_Time': [], 'Std_Time': []})}, 'Planning': pd.DataFrame({'Total Results': {'Number of Targets': [], 'Avg_Percentage': [], 'Max_Time': [], 'Avg_Time': [], 'Std_Time': []}})}\n",
    "\n",
    "\n",
    "    if os.path.exists(f'../../Pop_Over_Gen/{n_sats}.csv'):\n",
    "        df = pd.read_csv(f'../../Pop_Over_Gen/{n_sats}.csv')\n",
    "        results_dict[n_sats]['Pop_Over_Gen'] = df\n",
    "\n",
    "\n",
    "    for n_targets in [15,34,65,82,109,186,494,1131]:\n",
    "        if os.path.exists(f'../../Optimization_Results/{n_sats}_{n_targets}.csv'):\n",
    "            df = pd.read_csv(f'../../Optimization_Results/{n_sats}_{n_targets}.csv').round(4)\n",
    "            results_dict[n_sats]['Optimization'][n_targets] = df\n",
    "            results_dict[n_sats]['Optimization']['Total Results'].loc[len(results_dict[n_sats]['Optimization']['Total Results'])] = [df[\"Unplanned (%)\"].count(), df[\"Unplanned (%)\"].mean().round(4), df[\"Unplanned (Time)\"].max().round(1),  df[\"Unplanned (Time)\"].mean().round(1), df[\"Unplanned (Time)\"].std().round(1)]\n",
    "            opt_counter += 1\n",
    "\n",
    "        # if os.path.exists(f'../../Planning_Results/{n_sats}_{n_targets}.csv'):\n",
    "        #     df = pd.read_csv(f'../../Planning_Results/{n_sats}_{n_targets}.csv').round(4)\n",
    "        #     results_dict[n_sats]['Planning'][n_targets] = df\n",
    "        #     results_dict[n_sats]['Planning']['Total Results'].loc[len(results_dict[n_sats]['Planning']['Total Results'])] = [df[\"Planned (%)\"].count(), df[\"Planned (%)\"].mean().round(4), df[\"Planned (Time)\"].max().round(1), df[\"Planned (Time)\"].mean().round(1), df[\"Planned (Time)\"].std().round(1)]\n",
    "        #     plan_counter += 1\n",
    "\n",
    "    cost_curve_dicts['Optimization'][n_sats] = results_dict[n_sats]['Optimization']['Total Results'][results_dict[n_sats]['Optimization']['Total Results']['Avg_Percentage'] == 100]\n",
    "    if len(results_dict[n_sats]['Planning']['Total Results']['Number of Targets']) != 0:\n",
    "        cost_curve_dicts['Planning'][n_sats] = results_dict[n_sats]['Planning']['Total Results'][results_dict[n_sats]['Planning']['Total Results']['Avg_Percentage'] == 100]\n",
    "\n",
    "\n",
    "    \n",
    "\n",
    "# axis's = Number of Targets, Avg_Time, Max_Time, Std_Time\n",
    "# curve_type = Optimzation, Planning\n",
    "Generate_Performance_Curve(cost_curve_dicts,curve_type='Optimization', xaxis='Number of Targets', yaxis='Max_Time') \n",
    "# Generate_Performance_Curve(cost_curve_dicts,curve_type='Planning', xaxis='Number of Targets', yaxis='Avg_Time') "
   ]
  },
  {
   "cell_type": "code",
   "execution_count": null,
   "metadata": {},
   "outputs": [],
   "source": [
    "def pop_over_gen_plotter_animator(n_sats, results_dict, hover_text=['Alt', 'Inc', 'Initial_Raan', 'Delta_Raan','Num_Planes', 'Avg_Percentage', 'Std_Percentage', 'Avg_Time',\n",
    "       'Std_Time'],plot_title='Satellites Pop_Over_Gen', xaxis='Avg_Time', yaxis='Avg_Percentage', graph=True, animation=True, constraint=True, xticks = [0, 10, 20, 30, 40], yticks=[0, 25, 50, 75, 100]):\n",
    "\n",
    "    pop_over_gen_df = results_dict[n_sats]['Pop_Over_Gen']\n",
    "    colors = ['blue', 'orange', 'green', 'red', 'purple', 'brown', 'pink', 'gray', 'cyan', 'olive', 'yellow']\n",
    "\n",
    "    figs = []\n",
    "    if graph:\n",
    "        fig_graph = make_subplots()\n",
    "        figs.append(fig_graph)\n",
    "        \n",
    "    if animation:\n",
    "        fig_animation = make_subplots()\n",
    "        figs.append(fig_animation)\n",
    "    \n",
    "\n",
    "    frames = []\n",
    "\n",
    "    df = pop_over_gen_df[pop_over_gen_df['Gen'] == 0]\n",
    "\n",
    "    scatter = go.Scatter(\n",
    "        x=df[xaxis],\n",
    "        y=df[yaxis],\n",
    "        hovertext=df[hover_text].astype(str).agg(', '.join, axis=1),\n",
    "        hoverinfo='text',\n",
    "        mode='markers',\n",
    "        name=f'{0}',\n",
    "        marker=dict(color=colors[0], size=8),\n",
    "    )\n",
    "\n",
    "    \n",
    "\n",
    "    for i, gen in enumerate(pop_over_gen_df['Gen'].unique()):\n",
    "        df = pop_over_gen_df[pop_over_gen_df['Gen'] == gen]\n",
    "\n",
    "\n",
    "        scatter = go.Scatter(\n",
    "            x=df[xaxis],\n",
    "            y=df[yaxis],\n",
    "            hovertext=df[hover_text].astype(str).agg(', '.join, axis=1),\n",
    "            hoverinfo='text',\n",
    "            mode='markers',\n",
    "            name=f'{gen}',\n",
    "            marker=dict(color=colors[i % len(colors)], size=8),\n",
    "        )\n",
    "        \n",
    "        if i == 0 and animation:\n",
    "            fig_animation.add_trace(scatter)\n",
    "\n",
    "        if graph:\n",
    "            fig_graph.add_trace(scatter)\n",
    "\n",
    "        frames.append(go.Frame(data=[scatter], name=str(gen)))\n",
    "\n",
    "    for fig in figs:\n",
    "\n",
    "        if constraint:\n",
    "            fig.add_vline(30, line_dash='dash', line_color='red')\n",
    "            fig.add_hline(100, line_dash='dash', line_color='red')\n",
    "\n",
    "            fig.add_annotation(x=30.5, y=50, text='30 Day Constraint', font=dict(color='red', size=15), textangle=90, showarrow=False)\n",
    "            fig.add_annotation(x=15, y=105, text='100% Imaged Constraint', font=dict(color='red', size=15), showarrow=False)\n",
    "\n",
    "\n",
    "        if graph and fig == fig_graph:\n",
    "            fig.update_layout(\n",
    "                title=f'{plot_title}',\n",
    "                xaxis_title=xaxis,\n",
    "                yaxis_title=yaxis,\n",
    "                xaxis=dict(tickmode='array',tickvals=xticks),\n",
    "                yaxis=dict(tickmode='array',tickvals=yticks, range=[yticks[0]-10, yticks[-1]+10]),\n",
    "                legend=dict(title='Gen',title_font=dict(size=15),font=dict(size=12, color='black')),\n",
    "                font=dict(size=15))\n",
    "\n",
    "        if animation and fig == fig_animation:\n",
    "            \n",
    "            fig.update_layout(title=f'{plot_title}',\n",
    "            xaxis_title=xaxis,\n",
    "            yaxis_title=yaxis,\n",
    "            xaxis=dict(tickmode='array',tickvals=xticks),\n",
    "            yaxis=dict(tickmode='array',tickvals=yticks,range=[yticks[0]-10, yticks[-1]+10]),\n",
    "            legend=dict(title='Gen',title_font=dict(size=15),font=dict(size=12, color='black')),\n",
    "            font=dict(size=15), \n",
    "            updatemenus=[{\n",
    "            'buttons': [\n",
    "                {\n",
    "                    'args': [None, {'frame': {'duration': 500, 'redraw': True}, 'fromcurrent': True}],\n",
    "                    'label': 'Play',\n",
    "                    'method': 'animate'\n",
    "                },\n",
    "                {\n",
    "                    'args': [[None], {'frame': {'duration': 0, 'redraw': True}, 'mode': 'immediate'}],\n",
    "                    'label': 'Pause',\n",
    "                    'method': 'animate'\n",
    "                }\n",
    "            ],\n",
    "            'direction': 'left',\n",
    "            'pad': {'r': 10, 't': 87},\n",
    "            'showactive': False,\n",
    "            'type': 'buttons',\n",
    "            'x': 0.1,\n",
    "            'xanchor': 'right',\n",
    "            'y': 0,\n",
    "            'yanchor': 'top'\n",
    "        }],\n",
    "        sliders=[{\n",
    "            'active': 0,\n",
    "            'yanchor': 'top',\n",
    "            'xanchor': 'left',\n",
    "            'currentvalue': {\n",
    "                'font': {'size': 20},\n",
    "                'prefix': 'Generation: ',\n",
    "                'visible': True,\n",
    "                'xanchor': 'right'\n",
    "            },\n",
    "            'transition': {'duration': 300, 'easing': 'cubic-in-out'},\n",
    "            'pad': {'b': 10, 't': 50},\n",
    "            'len': 0.9,\n",
    "            'x': 0.1,\n",
    "            'y': 0,\n",
    "            'steps': [\n",
    "                {\n",
    "                    'args': [[str(gen)], {'frame': {'duration': 300, 'redraw': True}, 'mode': 'immediate', 'transition': {'duration': 300}}],\n",
    "                    'label': str(gen),\n",
    "                    'method': 'animate'\n",
    "                } for gen in pop_over_gen_df['Gen'].unique()\n",
    "            ]\n",
    "        }])\n",
    "            fig.frames = frames\n",
    "        fig.show()\n",
    "\n",
    "n_sats=5\n",
    "pop_over_gen_plotter_animator(n_sats, results_dict, graph=True, animation=True, xaxis='Avg_Time', yaxis='Avg_Percentage',plot_title=f'{n_sats} Satellite Constellation Populations Over Generations')\n"
   ]
  },
  {
   "cell_type": "code",
   "execution_count": 20,
   "metadata": {},
   "outputs": [],
   "source": [
    "def create_pareto(df, dvs, plot_title, objective1='Cost', objective2='Avg_Percentage', pareto = True):\n",
    "\n",
    "    df = df.sort_values(by=objective1, ignore_index = True)\n",
    "    df[objective2] = df[objective2]\n",
    "\n",
    "    dvs_ovs = dvs\n",
    "    dvs_ovs.append(objective1)\n",
    "    dvs_ovs.append(objective2)\n",
    "\n",
    "    fig = make_subplots()\n",
    "\n",
    "    # Scatter plot of all data points\n",
    "    scatter = go.Scatter(\n",
    "        x=df[objective1],\n",
    "        y=df[objective2],\n",
    "        hovertext=df[dvs_ovs].astype(str).agg(', '.join, axis=1),\n",
    "        hoverinfo='text',\n",
    "        mode='markers',\n",
    "        name='Data Points',\n",
    "        marker=dict(\n",
    "        size=8,\n",
    "        color=df['Per_Weight'],  # Color by Per_Weight\n",
    "        colorscale='Viridis',  # You can choose a different colorscale if desired\n",
    "        colorbar=dict(title='Per_Weight')  # Adds a colorbar to indicate the Per_Weight values\n",
    "        )\n",
    "    )\n",
    "\n",
    "    # Line plot of the Pareto frontier\n",
    "    if pareto:\n",
    "        pareto_frontier = []\n",
    "        pareto_frontier = [[df[idx][0] for idx in dvs_ovs]]\n",
    "\n",
    "        for index, row in df[1:].iterrows():\n",
    "            point = [row[idx] for idx in dvs_ovs]\n",
    "            if point[-1] > pareto_frontier[-1][-1]:\n",
    "                pareto_frontier.append(point)\n",
    "\n",
    "        pareto_frontier = pd.DataFrame(pareto_frontier, columns=dvs_ovs)\n",
    "        pareto_line = go.Scatter(\n",
    "            x=pareto_frontier[objective1],\n",
    "            y=pareto_frontier[objective2],\n",
    "            hovertext=pareto_frontier[dvs_ovs].astype(str).agg(', '.join, axis=1),\n",
    "            hoverinfo='text',\n",
    "            mode='lines+markers',\n",
    "            name='Pareto Frontier',\n",
    "            line=dict(color='green'),\n",
    "            marker=dict(size=8)\n",
    "        )\n",
    "\n",
    "\n",
    "    # Add the traces to the figure\n",
    "    fig.add_trace(scatter)\n",
    "    fig.add_trace(pareto_line)\n",
    "\n",
    "\n",
    "    # Update layout\n",
    "    fig.update_layout(\n",
    "        title=f'{plot_title}',\n",
    "        xaxis_title=f'{objective1}',\n",
    "        yaxis_title=f'{objective2}',\n",
    "        legend=dict(x=0, y=1),\n",
    "        template='plotly_white'\n",
    "    )\n",
    "\n",
    "    # Show the figure\n",
    "    fig.show()\n",
    "    return pareto_frontier"
   ]
  },
  {
   "cell_type": "code",
   "execution_count": 11,
   "metadata": {},
   "outputs": [],
   "source": [
    "df = pd.read_csv('../../Pop_Over_Gen/pop_gen.csv')\n",
    "df = df[df['Cost'] < 50]\n"
   ]
  },
  {
   "cell_type": "code",
   "execution_count": 21,
   "metadata": {},
   "outputs": [
    {
     "data": {
      "application/vnd.plotly.v1+json": {
       "config": {
        "plotlyServerURL": "https://plot.ly"
       },
       "data": [
        {
         "hoverinfo": "text",
         "hovertext": [
          "3, 3, 6.0, 2.8600823045267494",
          "3, 3, 6.0, 7.736625514403292",
          "3, 3, 6.0, 8.8477366255144",
          "4, 2, 6.0, 1.7489711934156378",
          "3, 3, 6.0, 9.197530864197532",
          "3, 3, 6.0, 8.004115226337447",
          "3, 3, 6.0, 9.197530864197532",
          "3, 3, 6.0, 5.288065843621399",
          "4, 4, 8.0, 2.6748971193415634",
          "4, 4, 8.0, 6.481481481481481",
          "4, 4, 8.0, 12.304526748971194",
          "5, 5, 10.0, 14.753086419753089",
          "7, 4, 11.0, 5.925925925925926",
          "6, 5, 11.0, 17.078189300411527",
          "7, 5, 12.0, 12.798353909465025",
          "6, 6, 12.0, 13.744855967078188",
          "8, 5, 13.0, 13.312757201646091",
          "8, 5, 13.0, 18.971193415637856",
          "8, 5, 13.0, 19.485596707818928",
          "8, 5, 13.0, 12.880658436213992",
          "8, 5, 13.0, 14.91769547325103",
          "8, 5, 13.0, 19.485596707818928",
          "8, 5, 13.0, 19.485596707818928",
          "7, 7, 14.0, 14.11522633744856",
          "8, 7, 15.0, 21.81069958847736",
          "10, 5, 15.0, 17.304526748971195",
          "8, 7, 15.0, 21.81069958847736",
          "8, 7, 15.0, 21.81069958847736",
          "8, 7, 15.0, 21.81069958847736",
          "8, 7, 15.0, 21.81069958847736",
          "8, 7, 15.0, 21.81069958847736",
          "8, 7, 15.0, 21.81069958847736",
          "8, 7, 15.0, 22.119341563786005",
          "8, 7, 15.0, 21.81069958847736",
          "8, 7, 15.0, 21.81069958847736",
          "8, 7, 15.0, 21.81069958847736",
          "8, 7, 15.0, 21.81069958847736",
          "8, 7, 15.0, 21.81069958847736",
          "8, 7, 15.0, 21.81069958847736",
          "8, 7, 15.0, 21.81069958847736",
          "8, 7, 15.0, 21.81069958847736",
          "8, 7, 15.0, 21.81069958847736",
          "8, 7, 15.0, 20.59670781893005",
          "8, 7, 15.0, 21.81069958847736",
          "8, 7, 15.0, 21.81069958847736",
          "8, 8, 16.0, 19.588477366255145",
          "8, 8, 16.0, 15.411522633744854",
          "8, 8, 16.0, 15.041152263374483",
          "8, 8, 16.0, 19.588477366255145",
          "8, 8, 16.0, 21.46090534979424",
          "8, 8, 16.0, 15.411522633744854",
          "8, 8, 16.0, 19.588477366255145",
          "9, 7, 16.0, 23.148148148148145",
          "12, 5, 17.0, 13.456790123456791",
          "10, 7, 17.0, 18.703703703703702",
          "9, 9, 17.999999999999996, 25.185185185185187",
          "9, 9, 17.999999999999996, 25.0",
          "12, 8, 20.0, 28.37448559670782"
         ],
         "marker": {
          "color": [
           0.01,
           0.01,
           0.01,
           0.01,
           0.01,
           0.01,
           0.01,
           0.01,
           0.01,
           0.01,
           0.01,
           0.01,
           0.01,
           0.01,
           0.01,
           0.01,
           0.01,
           0.01,
           0.01,
           0.01,
           0.01,
           0.01,
           0.01,
           0.01,
           0.01,
           0.01,
           0.01,
           0.01,
           0.01,
           0.01,
           0.01,
           0.01,
           0.01,
           0.01,
           0.01,
           0.01,
           0.01,
           0.01,
           0.01,
           0.01,
           0.01,
           0.01,
           0.01,
           0.01,
           0.01,
           0.01,
           0.01,
           0.01,
           0.01,
           0.01,
           0.01,
           0.01,
           0.01,
           0.01,
           0.01,
           0.01,
           0.01,
           0.01
          ],
          "colorbar": {
           "title": {
            "text": "Per_Weight"
           }
          },
          "colorscale": [
           [
            0,
            "#440154"
           ],
           [
            0.1111111111111111,
            "#482878"
           ],
           [
            0.2222222222222222,
            "#3e4989"
           ],
           [
            0.3333333333333333,
            "#31688e"
           ],
           [
            0.4444444444444444,
            "#26828e"
           ],
           [
            0.5555555555555556,
            "#1f9e89"
           ],
           [
            0.6666666666666666,
            "#35b779"
           ],
           [
            0.7777777777777778,
            "#6ece58"
           ],
           [
            0.8888888888888888,
            "#b5de2b"
           ],
           [
            1,
            "#fde725"
           ]
          ],
          "size": 8
         },
         "mode": "markers",
         "name": "Data Points",
         "type": "scatter",
         "x": [
          6,
          6,
          6,
          6,
          6,
          6,
          6,
          6,
          8,
          8,
          8,
          10,
          11,
          11,
          12,
          12,
          13,
          13,
          13,
          13,
          13,
          13,
          13,
          14,
          15,
          15,
          15,
          15,
          15,
          15,
          15,
          15,
          15,
          15,
          15,
          15,
          15,
          15,
          15,
          15,
          15,
          15,
          15,
          15,
          15,
          16,
          16,
          16,
          16,
          16,
          16,
          16,
          16,
          17,
          17,
          17.999999999999996,
          17.999999999999996,
          20
         ],
         "y": [
          2.8600823045267494,
          7.736625514403292,
          8.8477366255144,
          1.7489711934156378,
          9.197530864197532,
          8.004115226337447,
          9.197530864197532,
          5.288065843621399,
          2.6748971193415634,
          6.481481481481481,
          12.304526748971194,
          14.753086419753089,
          5.925925925925926,
          17.078189300411527,
          12.798353909465025,
          13.744855967078188,
          13.312757201646091,
          18.971193415637856,
          19.485596707818928,
          12.880658436213992,
          14.91769547325103,
          19.485596707818928,
          19.485596707818928,
          14.11522633744856,
          21.81069958847736,
          17.304526748971195,
          21.81069958847736,
          21.81069958847736,
          21.81069958847736,
          21.81069958847736,
          21.81069958847736,
          21.81069958847736,
          22.119341563786005,
          21.81069958847736,
          21.81069958847736,
          21.81069958847736,
          21.81069958847736,
          21.81069958847736,
          21.81069958847736,
          21.81069958847736,
          21.81069958847736,
          21.81069958847736,
          20.59670781893005,
          21.81069958847736,
          21.81069958847736,
          19.588477366255145,
          15.411522633744854,
          15.041152263374483,
          19.588477366255145,
          21.46090534979424,
          15.411522633744854,
          19.588477366255145,
          23.148148148148145,
          13.456790123456791,
          18.703703703703702,
          25.185185185185187,
          25,
          28.37448559670782
         ]
        },
        {
         "hoverinfo": "text",
         "hovertext": [
          "3.0, 3.0, 6.0, 2.8600823045267494",
          "3.0, 3.0, 6.0, 7.736625514403292",
          "3.0, 3.0, 6.0, 8.8477366255144",
          "3.0, 3.0, 6.0, 9.197530864197532",
          "4.0, 4.0, 8.0, 12.304526748971194",
          "5.0, 5.0, 10.0, 14.753086419753089",
          "6.0, 5.0, 11.0, 17.078189300411527",
          "8.0, 5.0, 13.0, 18.971193415637856",
          "8.0, 5.0, 13.0, 19.485596707818928",
          "8.0, 7.0, 15.0, 21.81069958847736",
          "8.0, 7.0, 15.0, 22.119341563786005",
          "9.0, 7.0, 16.0, 23.148148148148145",
          "9.0, 9.0, 17.999999999999996, 25.185185185185187",
          "12.0, 8.0, 20.0, 28.37448559670782"
         ],
         "line": {
          "color": "green"
         },
         "marker": {
          "size": 8
         },
         "mode": "lines+markers",
         "name": "Pareto Frontier",
         "type": "scatter",
         "x": [
          6,
          6,
          6,
          6,
          8,
          10,
          11,
          13,
          13,
          15,
          15,
          16,
          17.999999999999996,
          20
         ],
         "y": [
          2.8600823045267494,
          7.736625514403292,
          8.8477366255144,
          9.197530864197532,
          12.304526748971194,
          14.753086419753089,
          17.078189300411527,
          18.971193415637856,
          19.485596707818928,
          21.81069958847736,
          22.119341563786005,
          23.148148148148145,
          25.185185185185187,
          28.37448559670782
         ]
        }
       ],
       "layout": {
        "legend": {
         "x": 0,
         "y": 1
        },
        "template": {
         "data": {
          "bar": [
           {
            "error_x": {
             "color": "#2a3f5f"
            },
            "error_y": {
             "color": "#2a3f5f"
            },
            "marker": {
             "line": {
              "color": "white",
              "width": 0.5
             },
             "pattern": {
              "fillmode": "overlay",
              "size": 10,
              "solidity": 0.2
             }
            },
            "type": "bar"
           }
          ],
          "barpolar": [
           {
            "marker": {
             "line": {
              "color": "white",
              "width": 0.5
             },
             "pattern": {
              "fillmode": "overlay",
              "size": 10,
              "solidity": 0.2
             }
            },
            "type": "barpolar"
           }
          ],
          "carpet": [
           {
            "aaxis": {
             "endlinecolor": "#2a3f5f",
             "gridcolor": "#C8D4E3",
             "linecolor": "#C8D4E3",
             "minorgridcolor": "#C8D4E3",
             "startlinecolor": "#2a3f5f"
            },
            "baxis": {
             "endlinecolor": "#2a3f5f",
             "gridcolor": "#C8D4E3",
             "linecolor": "#C8D4E3",
             "minorgridcolor": "#C8D4E3",
             "startlinecolor": "#2a3f5f"
            },
            "type": "carpet"
           }
          ],
          "choropleth": [
           {
            "colorbar": {
             "outlinewidth": 0,
             "ticks": ""
            },
            "type": "choropleth"
           }
          ],
          "contour": [
           {
            "colorbar": {
             "outlinewidth": 0,
             "ticks": ""
            },
            "colorscale": [
             [
              0,
              "#0d0887"
             ],
             [
              0.1111111111111111,
              "#46039f"
             ],
             [
              0.2222222222222222,
              "#7201a8"
             ],
             [
              0.3333333333333333,
              "#9c179e"
             ],
             [
              0.4444444444444444,
              "#bd3786"
             ],
             [
              0.5555555555555556,
              "#d8576b"
             ],
             [
              0.6666666666666666,
              "#ed7953"
             ],
             [
              0.7777777777777778,
              "#fb9f3a"
             ],
             [
              0.8888888888888888,
              "#fdca26"
             ],
             [
              1,
              "#f0f921"
             ]
            ],
            "type": "contour"
           }
          ],
          "contourcarpet": [
           {
            "colorbar": {
             "outlinewidth": 0,
             "ticks": ""
            },
            "type": "contourcarpet"
           }
          ],
          "heatmap": [
           {
            "colorbar": {
             "outlinewidth": 0,
             "ticks": ""
            },
            "colorscale": [
             [
              0,
              "#0d0887"
             ],
             [
              0.1111111111111111,
              "#46039f"
             ],
             [
              0.2222222222222222,
              "#7201a8"
             ],
             [
              0.3333333333333333,
              "#9c179e"
             ],
             [
              0.4444444444444444,
              "#bd3786"
             ],
             [
              0.5555555555555556,
              "#d8576b"
             ],
             [
              0.6666666666666666,
              "#ed7953"
             ],
             [
              0.7777777777777778,
              "#fb9f3a"
             ],
             [
              0.8888888888888888,
              "#fdca26"
             ],
             [
              1,
              "#f0f921"
             ]
            ],
            "type": "heatmap"
           }
          ],
          "heatmapgl": [
           {
            "colorbar": {
             "outlinewidth": 0,
             "ticks": ""
            },
            "colorscale": [
             [
              0,
              "#0d0887"
             ],
             [
              0.1111111111111111,
              "#46039f"
             ],
             [
              0.2222222222222222,
              "#7201a8"
             ],
             [
              0.3333333333333333,
              "#9c179e"
             ],
             [
              0.4444444444444444,
              "#bd3786"
             ],
             [
              0.5555555555555556,
              "#d8576b"
             ],
             [
              0.6666666666666666,
              "#ed7953"
             ],
             [
              0.7777777777777778,
              "#fb9f3a"
             ],
             [
              0.8888888888888888,
              "#fdca26"
             ],
             [
              1,
              "#f0f921"
             ]
            ],
            "type": "heatmapgl"
           }
          ],
          "histogram": [
           {
            "marker": {
             "pattern": {
              "fillmode": "overlay",
              "size": 10,
              "solidity": 0.2
             }
            },
            "type": "histogram"
           }
          ],
          "histogram2d": [
           {
            "colorbar": {
             "outlinewidth": 0,
             "ticks": ""
            },
            "colorscale": [
             [
              0,
              "#0d0887"
             ],
             [
              0.1111111111111111,
              "#46039f"
             ],
             [
              0.2222222222222222,
              "#7201a8"
             ],
             [
              0.3333333333333333,
              "#9c179e"
             ],
             [
              0.4444444444444444,
              "#bd3786"
             ],
             [
              0.5555555555555556,
              "#d8576b"
             ],
             [
              0.6666666666666666,
              "#ed7953"
             ],
             [
              0.7777777777777778,
              "#fb9f3a"
             ],
             [
              0.8888888888888888,
              "#fdca26"
             ],
             [
              1,
              "#f0f921"
             ]
            ],
            "type": "histogram2d"
           }
          ],
          "histogram2dcontour": [
           {
            "colorbar": {
             "outlinewidth": 0,
             "ticks": ""
            },
            "colorscale": [
             [
              0,
              "#0d0887"
             ],
             [
              0.1111111111111111,
              "#46039f"
             ],
             [
              0.2222222222222222,
              "#7201a8"
             ],
             [
              0.3333333333333333,
              "#9c179e"
             ],
             [
              0.4444444444444444,
              "#bd3786"
             ],
             [
              0.5555555555555556,
              "#d8576b"
             ],
             [
              0.6666666666666666,
              "#ed7953"
             ],
             [
              0.7777777777777778,
              "#fb9f3a"
             ],
             [
              0.8888888888888888,
              "#fdca26"
             ],
             [
              1,
              "#f0f921"
             ]
            ],
            "type": "histogram2dcontour"
           }
          ],
          "mesh3d": [
           {
            "colorbar": {
             "outlinewidth": 0,
             "ticks": ""
            },
            "type": "mesh3d"
           }
          ],
          "parcoords": [
           {
            "line": {
             "colorbar": {
              "outlinewidth": 0,
              "ticks": ""
             }
            },
            "type": "parcoords"
           }
          ],
          "pie": [
           {
            "automargin": true,
            "type": "pie"
           }
          ],
          "scatter": [
           {
            "fillpattern": {
             "fillmode": "overlay",
             "size": 10,
             "solidity": 0.2
            },
            "type": "scatter"
           }
          ],
          "scatter3d": [
           {
            "line": {
             "colorbar": {
              "outlinewidth": 0,
              "ticks": ""
             }
            },
            "marker": {
             "colorbar": {
              "outlinewidth": 0,
              "ticks": ""
             }
            },
            "type": "scatter3d"
           }
          ],
          "scattercarpet": [
           {
            "marker": {
             "colorbar": {
              "outlinewidth": 0,
              "ticks": ""
             }
            },
            "type": "scattercarpet"
           }
          ],
          "scattergeo": [
           {
            "marker": {
             "colorbar": {
              "outlinewidth": 0,
              "ticks": ""
             }
            },
            "type": "scattergeo"
           }
          ],
          "scattergl": [
           {
            "marker": {
             "colorbar": {
              "outlinewidth": 0,
              "ticks": ""
             }
            },
            "type": "scattergl"
           }
          ],
          "scattermapbox": [
           {
            "marker": {
             "colorbar": {
              "outlinewidth": 0,
              "ticks": ""
             }
            },
            "type": "scattermapbox"
           }
          ],
          "scatterpolar": [
           {
            "marker": {
             "colorbar": {
              "outlinewidth": 0,
              "ticks": ""
             }
            },
            "type": "scatterpolar"
           }
          ],
          "scatterpolargl": [
           {
            "marker": {
             "colorbar": {
              "outlinewidth": 0,
              "ticks": ""
             }
            },
            "type": "scatterpolargl"
           }
          ],
          "scatterternary": [
           {
            "marker": {
             "colorbar": {
              "outlinewidth": 0,
              "ticks": ""
             }
            },
            "type": "scatterternary"
           }
          ],
          "surface": [
           {
            "colorbar": {
             "outlinewidth": 0,
             "ticks": ""
            },
            "colorscale": [
             [
              0,
              "#0d0887"
             ],
             [
              0.1111111111111111,
              "#46039f"
             ],
             [
              0.2222222222222222,
              "#7201a8"
             ],
             [
              0.3333333333333333,
              "#9c179e"
             ],
             [
              0.4444444444444444,
              "#bd3786"
             ],
             [
              0.5555555555555556,
              "#d8576b"
             ],
             [
              0.6666666666666666,
              "#ed7953"
             ],
             [
              0.7777777777777778,
              "#fb9f3a"
             ],
             [
              0.8888888888888888,
              "#fdca26"
             ],
             [
              1,
              "#f0f921"
             ]
            ],
            "type": "surface"
           }
          ],
          "table": [
           {
            "cells": {
             "fill": {
              "color": "#EBF0F8"
             },
             "line": {
              "color": "white"
             }
            },
            "header": {
             "fill": {
              "color": "#C8D4E3"
             },
             "line": {
              "color": "white"
             }
            },
            "type": "table"
           }
          ]
         },
         "layout": {
          "annotationdefaults": {
           "arrowcolor": "#2a3f5f",
           "arrowhead": 0,
           "arrowwidth": 1
          },
          "autotypenumbers": "strict",
          "coloraxis": {
           "colorbar": {
            "outlinewidth": 0,
            "ticks": ""
           }
          },
          "colorscale": {
           "diverging": [
            [
             0,
             "#8e0152"
            ],
            [
             0.1,
             "#c51b7d"
            ],
            [
             0.2,
             "#de77ae"
            ],
            [
             0.3,
             "#f1b6da"
            ],
            [
             0.4,
             "#fde0ef"
            ],
            [
             0.5,
             "#f7f7f7"
            ],
            [
             0.6,
             "#e6f5d0"
            ],
            [
             0.7,
             "#b8e186"
            ],
            [
             0.8,
             "#7fbc41"
            ],
            [
             0.9,
             "#4d9221"
            ],
            [
             1,
             "#276419"
            ]
           ],
           "sequential": [
            [
             0,
             "#0d0887"
            ],
            [
             0.1111111111111111,
             "#46039f"
            ],
            [
             0.2222222222222222,
             "#7201a8"
            ],
            [
             0.3333333333333333,
             "#9c179e"
            ],
            [
             0.4444444444444444,
             "#bd3786"
            ],
            [
             0.5555555555555556,
             "#d8576b"
            ],
            [
             0.6666666666666666,
             "#ed7953"
            ],
            [
             0.7777777777777778,
             "#fb9f3a"
            ],
            [
             0.8888888888888888,
             "#fdca26"
            ],
            [
             1,
             "#f0f921"
            ]
           ],
           "sequentialminus": [
            [
             0,
             "#0d0887"
            ],
            [
             0.1111111111111111,
             "#46039f"
            ],
            [
             0.2222222222222222,
             "#7201a8"
            ],
            [
             0.3333333333333333,
             "#9c179e"
            ],
            [
             0.4444444444444444,
             "#bd3786"
            ],
            [
             0.5555555555555556,
             "#d8576b"
            ],
            [
             0.6666666666666666,
             "#ed7953"
            ],
            [
             0.7777777777777778,
             "#fb9f3a"
            ],
            [
             0.8888888888888888,
             "#fdca26"
            ],
            [
             1,
             "#f0f921"
            ]
           ]
          },
          "colorway": [
           "#636efa",
           "#EF553B",
           "#00cc96",
           "#ab63fa",
           "#FFA15A",
           "#19d3f3",
           "#FF6692",
           "#B6E880",
           "#FF97FF",
           "#FECB52"
          ],
          "font": {
           "color": "#2a3f5f"
          },
          "geo": {
           "bgcolor": "white",
           "lakecolor": "white",
           "landcolor": "white",
           "showlakes": true,
           "showland": true,
           "subunitcolor": "#C8D4E3"
          },
          "hoverlabel": {
           "align": "left"
          },
          "hovermode": "closest",
          "mapbox": {
           "style": "light"
          },
          "paper_bgcolor": "white",
          "plot_bgcolor": "white",
          "polar": {
           "angularaxis": {
            "gridcolor": "#EBF0F8",
            "linecolor": "#EBF0F8",
            "ticks": ""
           },
           "bgcolor": "white",
           "radialaxis": {
            "gridcolor": "#EBF0F8",
            "linecolor": "#EBF0F8",
            "ticks": ""
           }
          },
          "scene": {
           "xaxis": {
            "backgroundcolor": "white",
            "gridcolor": "#DFE8F3",
            "gridwidth": 2,
            "linecolor": "#EBF0F8",
            "showbackground": true,
            "ticks": "",
            "zerolinecolor": "#EBF0F8"
           },
           "yaxis": {
            "backgroundcolor": "white",
            "gridcolor": "#DFE8F3",
            "gridwidth": 2,
            "linecolor": "#EBF0F8",
            "showbackground": true,
            "ticks": "",
            "zerolinecolor": "#EBF0F8"
           },
           "zaxis": {
            "backgroundcolor": "white",
            "gridcolor": "#DFE8F3",
            "gridwidth": 2,
            "linecolor": "#EBF0F8",
            "showbackground": true,
            "ticks": "",
            "zerolinecolor": "#EBF0F8"
           }
          },
          "shapedefaults": {
           "line": {
            "color": "#2a3f5f"
           }
          },
          "ternary": {
           "aaxis": {
            "gridcolor": "#DFE8F3",
            "linecolor": "#A2B1C6",
            "ticks": ""
           },
           "baxis": {
            "gridcolor": "#DFE8F3",
            "linecolor": "#A2B1C6",
            "ticks": ""
           },
           "bgcolor": "white",
           "caxis": {
            "gridcolor": "#DFE8F3",
            "linecolor": "#A2B1C6",
            "ticks": ""
           }
          },
          "title": {
           "x": 0.05
          },
          "xaxis": {
           "automargin": true,
           "gridcolor": "#EBF0F8",
           "linecolor": "#EBF0F8",
           "ticks": "",
           "title": {
            "standoff": 15
           },
           "zerolinecolor": "#EBF0F8",
           "zerolinewidth": 2
          },
          "yaxis": {
           "automargin": true,
           "gridcolor": "#EBF0F8",
           "linecolor": "#EBF0F8",
           "ticks": "",
           "title": {
            "standoff": 15
           },
           "zerolinecolor": "#EBF0F8",
           "zerolinewidth": 2
          }
         }
        },
        "title": {
         "text": "Pareto Frontier"
        },
        "xaxis": {
         "anchor": "y",
         "domain": [
          0,
          1
         ],
         "title": {
          "text": "Cost"
         }
        },
        "yaxis": {
         "anchor": "x",
         "domain": [
          0,
          1
         ],
         "title": {
          "text": "Avg_Percentage"
         }
        }
       }
      }
     },
     "metadata": {},
     "output_type": "display_data"
    }
   ],
   "source": [
    "pareto_frontier3 = create_pareto(df[df['Per_Weight'] == .01], ['Num_Sats', 'Num_Planes'],'Pareto Frontier')"
   ]
  }
 ],
 "metadata": {
  "kernelspec": {
   "display_name": "Python 3",
   "language": "python",
   "name": "python3"
  },
  "language_info": {
   "codemirror_mode": {
    "name": "ipython",
    "version": 3
   },
   "file_extension": ".py",
   "mimetype": "text/x-python",
   "name": "python",
   "nbconvert_exporter": "python",
   "pygments_lexer": "ipython3",
   "version": "3.12.7"
  }
 },
 "nbformat": 4,
 "nbformat_minor": 2
}
