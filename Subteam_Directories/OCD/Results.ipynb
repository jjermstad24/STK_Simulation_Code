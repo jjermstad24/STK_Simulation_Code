{
 "cells": [
  {
   "cell_type": "code",
   "execution_count": 91,
   "metadata": {},
   "outputs": [],
   "source": [
    "import sys\n",
    "import os\n",
    "sys.path.append(\"../../\")\n",
    "import pandas as pd\n",
    "import plotly.graph_objs as go\n",
    "from plotly.subplots import make_subplots\n",
    "import matplotlib.pyplot as plt\n",
    "import numpy as np"
   ]
  },
  {
   "cell_type": "code",
   "execution_count": 68,
   "metadata": {},
   "outputs": [],
   "source": [
    "results = {}\n",
    "for n_sats in range(3,13,1):\n",
    "    results[n_sats] = {'Optimization': {}, 'Planning': {}}\n",
    "\n",
    "    if os.path.exists(f'../../Pop_Over_Gen/{n_sats}.csv'):\n",
    "        df = pd.read_csv(f'../../Pop_Over_Gen/{n_sats}.csv')\n",
    "        results[n_sats]['Pop_Over_Gen'] = df\n",
    "\n",
    "    for n_targets in [15,34,65,82,109,186,494]:\n",
    "        if os.path.exists(f'../../Optimization_Results/{n_sats}_{n_targets}.csv'):\n",
    "            df = pd.read_csv(f'../../Optimization_Results/{n_sats}_{n_targets}.csv')\n",
    "            results[n_sats]['Optimization'][n_targets] = df\n",
    "\n",
    "        if os.path.exists(f'../../Planning_Results/{n_sats}_{n_targets}.csv'):\n",
    "            df = pd.read_csv(f'../../Planning_Results/{n_sats}_{n_targets}.csv')\n",
    "            results[n_sats]['Planning'][n_targets] = df"
   ]
  },
  {
   "cell_type": "code",
   "execution_count": 183,
   "metadata": {},
   "outputs": [
    {
     "data": {
      "application/vnd.plotly.v1+json": {
       "config": {
        "plotlyServerURL": "https://plot.ly"
       },
       "data": [
        {
         "marker": {
          "color": "blue",
          "size": 8
         },
         "mode": "markers",
         "name": "0",
         "type": "scatter",
         "x": [
          29.246037095835224,
          25.448167336529664,
          6.335719696308245,
          0.6753923690304998,
          22.95382211122152,
          29.805837214062745,
          25.795058723887102,
          9.980669843202628,
          9.435236999907367,
          10.61588103316858,
          11.126282490257342,
          5.470208330237008,
          27.837891623026792,
          21.959861726008448,
          22.93303808685084,
          0.6021159920197833,
          22.43048279701017,
          1.6525436749755886,
          29.181405963539195,
          1.9346130177633831,
          29.599112673008865,
          15.569245328792263,
          9.365804376510434,
          27.804893133806864,
          4.241812989643977
         ],
         "y": [
          2.5451092117758782,
          15.508072174738842,
          81.48622981956316,
          99.94301994301996,
          23.85090218423552,
          0.6552706552706553,
          14.311490978157646,
          67.82526115859449,
          73.64197530864196,
          68.58499525166191,
          65.84045584045585,
          98.5232668566002,
          7.388414055080721,
          27.78727445394112,
          23.83190883190884,
          100,
          25.455840455840452,
          97.70180436847104,
          2.739791073124407,
          95.56505223171888,
          1.339031339031339,
          54.29249762583096,
          70.06172839506173,
          7.41690408357075,
          88.32858499525163
         ]
        },
        {
         "marker": {
          "color": "orange",
          "size": 8
         },
         "mode": "markers",
         "name": "1",
         "type": "scatter",
         "x": [
          0.6753923690304998,
          0.6753923690304998,
          0.6753923690304998,
          1.9346130177633831,
          0.6753923690304998,
          24.366203551349937,
          0.6021159920197833,
          0.6021159920197833,
          0.6753923690304998,
          0.6753923690304998,
          1.6525436749755886,
          0.6021159920197833,
          0.920695054262968,
          0.7566895907815006,
          0.6021159920197833,
          0.6021159920197833,
          0.8971054006557266,
          4.685254680185771,
          0.6753923690304998,
          28.873567809225506,
          0.6021159920197833,
          4.545996497208005,
          1.2927095232264574,
          4.280614559746828,
          0.6021159920197833
         ],
         "y": [
          99.94301994301996,
          99.94301994301996,
          99.94301994301996,
          95.56505223171888,
          99.94301994301996,
          20,
          100,
          100,
          99.94301994301996,
          99.94301994301996,
          97.70180436847104,
          100,
          99.97150997150996,
          99.94301994301996,
          100,
          100,
          99.94301994301992,
          98.8556505223172,
          99.94301994301996,
          3.765432098765432,
          100,
          99.17853751187084,
          99.98575498575498,
          98.4188034188034,
          100
         ]
        },
        {
         "marker": {
          "color": "green",
          "size": 8
         },
         "mode": "markers",
         "name": "2",
         "type": "scatter",
         "x": [
          0.6021159920197833,
          0.6145915954691704,
          0.6021159920197833,
          0.6021159920197833,
          0.6021159920197833,
          4.318165268943308,
          0.6021159920197833,
          0.6021159920197833,
          22.842696684164206,
          0.6021159920197833,
          0.6021159920197833,
          0.6021159920197833,
          1.3245002586879235,
          0.6021159920197833,
          0.6021159920197833,
          0.6021159920197833,
          29.68412787639856,
          0.6021159920197833,
          28.86502542235525,
          0.6021159920197833,
          0.6021159920197833,
          0.6021159920197833,
          0.6021159920197833,
          28.80279201372115,
          0.6021159920197833
         ],
         "y": [
          100,
          100,
          100,
          100,
          100,
          98.04843304843304,
          100,
          100,
          24.22127255460589,
          100,
          100,
          100,
          99.97625830959164,
          100,
          100,
          100,
          1.054131054131054,
          100,
          3.8129154795821454,
          100,
          100,
          100,
          100,
          4.045584045584045,
          100
         ]
        }
       ],
       "frames": [
        {
         "data": [
          {
           "marker": {
            "color": "blue",
            "size": 8
           },
           "mode": "markers",
           "name": "0",
           "type": "scatter",
           "x": [
            29.246037095835224,
            25.448167336529664,
            6.335719696308245,
            0.6753923690304998,
            22.95382211122152,
            29.805837214062745,
            25.795058723887102,
            9.980669843202628,
            9.435236999907367,
            10.61588103316858,
            11.126282490257342,
            5.470208330237008,
            27.837891623026792,
            21.959861726008448,
            22.93303808685084,
            0.6021159920197833,
            22.43048279701017,
            1.6525436749755886,
            29.181405963539195,
            1.9346130177633831,
            29.599112673008865,
            15.569245328792263,
            9.365804376510434,
            27.804893133806864,
            4.241812989643977
           ],
           "y": [
            2.5451092117758782,
            15.508072174738842,
            81.48622981956316,
            99.94301994301996,
            23.85090218423552,
            0.6552706552706553,
            14.311490978157646,
            67.82526115859449,
            73.64197530864196,
            68.58499525166191,
            65.84045584045585,
            98.5232668566002,
            7.388414055080721,
            27.78727445394112,
            23.83190883190884,
            100,
            25.455840455840452,
            97.70180436847104,
            2.739791073124407,
            95.56505223171888,
            1.339031339031339,
            54.29249762583096,
            70.06172839506173,
            7.41690408357075,
            88.32858499525163
           ]
          }
         ],
         "name": "0"
        },
        {
         "data": [
          {
           "marker": {
            "color": "orange",
            "size": 8
           },
           "mode": "markers",
           "name": "1",
           "type": "scatter",
           "x": [
            0.6753923690304998,
            0.6753923690304998,
            0.6753923690304998,
            1.9346130177633831,
            0.6753923690304998,
            24.366203551349937,
            0.6021159920197833,
            0.6021159920197833,
            0.6753923690304998,
            0.6753923690304998,
            1.6525436749755886,
            0.6021159920197833,
            0.920695054262968,
            0.7566895907815006,
            0.6021159920197833,
            0.6021159920197833,
            0.8971054006557266,
            4.685254680185771,
            0.6753923690304998,
            28.873567809225506,
            0.6021159920197833,
            4.545996497208005,
            1.2927095232264574,
            4.280614559746828,
            0.6021159920197833
           ],
           "y": [
            99.94301994301996,
            99.94301994301996,
            99.94301994301996,
            95.56505223171888,
            99.94301994301996,
            20,
            100,
            100,
            99.94301994301996,
            99.94301994301996,
            97.70180436847104,
            100,
            99.97150997150996,
            99.94301994301996,
            100,
            100,
            99.94301994301992,
            98.8556505223172,
            99.94301994301996,
            3.765432098765432,
            100,
            99.17853751187084,
            99.98575498575498,
            98.4188034188034,
            100
           ]
          }
         ],
         "name": "1"
        },
        {
         "data": [
          {
           "marker": {
            "color": "green",
            "size": 8
           },
           "mode": "markers",
           "name": "2",
           "type": "scatter",
           "x": [
            0.6021159920197833,
            0.6145915954691704,
            0.6021159920197833,
            0.6021159920197833,
            0.6021159920197833,
            4.318165268943308,
            0.6021159920197833,
            0.6021159920197833,
            22.842696684164206,
            0.6021159920197833,
            0.6021159920197833,
            0.6021159920197833,
            1.3245002586879235,
            0.6021159920197833,
            0.6021159920197833,
            0.6021159920197833,
            29.68412787639856,
            0.6021159920197833,
            28.86502542235525,
            0.6021159920197833,
            0.6021159920197833,
            0.6021159920197833,
            0.6021159920197833,
            28.80279201372115,
            0.6021159920197833
           ],
           "y": [
            100,
            100,
            100,
            100,
            100,
            98.04843304843304,
            100,
            100,
            24.22127255460589,
            100,
            100,
            100,
            99.97625830959164,
            100,
            100,
            100,
            1.054131054131054,
            100,
            3.8129154795821454,
            100,
            100,
            100,
            100,
            4.045584045584045,
            100
           ]
          }
         ],
         "name": "2"
        }
       ],
       "layout": {
        "annotations": [
         {
          "font": {
           "color": "red",
           "size": 15
          },
          "showarrow": false,
          "text": "30 Day Constraint",
          "textangle": 90,
          "x": 30.5,
          "y": 50
         },
         {
          "font": {
           "color": "red",
           "size": 15
          },
          "showarrow": false,
          "text": "100% Imaged Constraint",
          "x": 15,
          "y": 105
         }
        ],
        "font": {
         "size": 15
        },
        "legend": {
         "font": {
          "color": "black",
          "size": 12
         },
         "title": {
          "font": {
           "size": 15
          },
          "text": "Gen"
         },
         "xanchor": "right",
         "yanchor": "bottom"
        },
        "shapes": [
         {
          "line": {
           "color": "red",
           "dash": "dash"
          },
          "type": "line",
          "x0": 30,
          "x1": 30,
          "xref": "x",
          "y0": 0,
          "y1": 1,
          "yref": "y domain"
         },
         {
          "line": {
           "color": "red",
           "dash": "dash"
          },
          "type": "line",
          "x0": 0,
          "x1": 1,
          "xref": "x domain",
          "y0": 100,
          "y1": 100,
          "yref": "y"
         }
        ],
        "sliders": [
         {
          "active": 0,
          "currentvalue": {
           "prefix": "Gen: ",
           "visible": true,
           "xanchor": "right"
          },
          "len": 0.9,
          "pad": {
           "b": 10
          },
          "steps": [
           {
            "args": [
             [
              0
             ],
             {
              "frame": {
               "duration": 500,
               "redraw": true
              },
              "mode": "immediate"
             }
            ],
            "label": "0",
            "method": "animate"
           },
           {
            "args": [
             [
              1
             ],
             {
              "frame": {
               "duration": 500,
               "redraw": true
              },
              "mode": "immediate"
             }
            ],
            "label": "1",
            "method": "animate"
           },
           {
            "args": [
             [
              2
             ],
             {
              "frame": {
               "duration": 500,
               "redraw": true
              },
              "mode": "immediate"
             }
            ],
            "label": "2",
            "method": "animate"
           }
          ],
          "transition": {
           "duration": 300,
           "easing": "cubic-in-out"
          },
          "x": 0.1,
          "xanchor": "left",
          "y": 0,
          "yanchor": "top"
         }
        ],
        "template": {
         "data": {
          "bar": [
           {
            "error_x": {
             "color": "#2a3f5f"
            },
            "error_y": {
             "color": "#2a3f5f"
            },
            "marker": {
             "line": {
              "color": "white",
              "width": 0.5
             },
             "pattern": {
              "fillmode": "overlay",
              "size": 10,
              "solidity": 0.2
             }
            },
            "type": "bar"
           }
          ],
          "barpolar": [
           {
            "marker": {
             "line": {
              "color": "white",
              "width": 0.5
             },
             "pattern": {
              "fillmode": "overlay",
              "size": 10,
              "solidity": 0.2
             }
            },
            "type": "barpolar"
           }
          ],
          "carpet": [
           {
            "aaxis": {
             "endlinecolor": "#2a3f5f",
             "gridcolor": "#C8D4E3",
             "linecolor": "#C8D4E3",
             "minorgridcolor": "#C8D4E3",
             "startlinecolor": "#2a3f5f"
            },
            "baxis": {
             "endlinecolor": "#2a3f5f",
             "gridcolor": "#C8D4E3",
             "linecolor": "#C8D4E3",
             "minorgridcolor": "#C8D4E3",
             "startlinecolor": "#2a3f5f"
            },
            "type": "carpet"
           }
          ],
          "choropleth": [
           {
            "colorbar": {
             "outlinewidth": 0,
             "ticks": ""
            },
            "type": "choropleth"
           }
          ],
          "contour": [
           {
            "colorbar": {
             "outlinewidth": 0,
             "ticks": ""
            },
            "colorscale": [
             [
              0,
              "#0d0887"
             ],
             [
              0.1111111111111111,
              "#46039f"
             ],
             [
              0.2222222222222222,
              "#7201a8"
             ],
             [
              0.3333333333333333,
              "#9c179e"
             ],
             [
              0.4444444444444444,
              "#bd3786"
             ],
             [
              0.5555555555555556,
              "#d8576b"
             ],
             [
              0.6666666666666666,
              "#ed7953"
             ],
             [
              0.7777777777777778,
              "#fb9f3a"
             ],
             [
              0.8888888888888888,
              "#fdca26"
             ],
             [
              1,
              "#f0f921"
             ]
            ],
            "type": "contour"
           }
          ],
          "contourcarpet": [
           {
            "colorbar": {
             "outlinewidth": 0,
             "ticks": ""
            },
            "type": "contourcarpet"
           }
          ],
          "heatmap": [
           {
            "colorbar": {
             "outlinewidth": 0,
             "ticks": ""
            },
            "colorscale": [
             [
              0,
              "#0d0887"
             ],
             [
              0.1111111111111111,
              "#46039f"
             ],
             [
              0.2222222222222222,
              "#7201a8"
             ],
             [
              0.3333333333333333,
              "#9c179e"
             ],
             [
              0.4444444444444444,
              "#bd3786"
             ],
             [
              0.5555555555555556,
              "#d8576b"
             ],
             [
              0.6666666666666666,
              "#ed7953"
             ],
             [
              0.7777777777777778,
              "#fb9f3a"
             ],
             [
              0.8888888888888888,
              "#fdca26"
             ],
             [
              1,
              "#f0f921"
             ]
            ],
            "type": "heatmap"
           }
          ],
          "heatmapgl": [
           {
            "colorbar": {
             "outlinewidth": 0,
             "ticks": ""
            },
            "colorscale": [
             [
              0,
              "#0d0887"
             ],
             [
              0.1111111111111111,
              "#46039f"
             ],
             [
              0.2222222222222222,
              "#7201a8"
             ],
             [
              0.3333333333333333,
              "#9c179e"
             ],
             [
              0.4444444444444444,
              "#bd3786"
             ],
             [
              0.5555555555555556,
              "#d8576b"
             ],
             [
              0.6666666666666666,
              "#ed7953"
             ],
             [
              0.7777777777777778,
              "#fb9f3a"
             ],
             [
              0.8888888888888888,
              "#fdca26"
             ],
             [
              1,
              "#f0f921"
             ]
            ],
            "type": "heatmapgl"
           }
          ],
          "histogram": [
           {
            "marker": {
             "pattern": {
              "fillmode": "overlay",
              "size": 10,
              "solidity": 0.2
             }
            },
            "type": "histogram"
           }
          ],
          "histogram2d": [
           {
            "colorbar": {
             "outlinewidth": 0,
             "ticks": ""
            },
            "colorscale": [
             [
              0,
              "#0d0887"
             ],
             [
              0.1111111111111111,
              "#46039f"
             ],
             [
              0.2222222222222222,
              "#7201a8"
             ],
             [
              0.3333333333333333,
              "#9c179e"
             ],
             [
              0.4444444444444444,
              "#bd3786"
             ],
             [
              0.5555555555555556,
              "#d8576b"
             ],
             [
              0.6666666666666666,
              "#ed7953"
             ],
             [
              0.7777777777777778,
              "#fb9f3a"
             ],
             [
              0.8888888888888888,
              "#fdca26"
             ],
             [
              1,
              "#f0f921"
             ]
            ],
            "type": "histogram2d"
           }
          ],
          "histogram2dcontour": [
           {
            "colorbar": {
             "outlinewidth": 0,
             "ticks": ""
            },
            "colorscale": [
             [
              0,
              "#0d0887"
             ],
             [
              0.1111111111111111,
              "#46039f"
             ],
             [
              0.2222222222222222,
              "#7201a8"
             ],
             [
              0.3333333333333333,
              "#9c179e"
             ],
             [
              0.4444444444444444,
              "#bd3786"
             ],
             [
              0.5555555555555556,
              "#d8576b"
             ],
             [
              0.6666666666666666,
              "#ed7953"
             ],
             [
              0.7777777777777778,
              "#fb9f3a"
             ],
             [
              0.8888888888888888,
              "#fdca26"
             ],
             [
              1,
              "#f0f921"
             ]
            ],
            "type": "histogram2dcontour"
           }
          ],
          "mesh3d": [
           {
            "colorbar": {
             "outlinewidth": 0,
             "ticks": ""
            },
            "type": "mesh3d"
           }
          ],
          "parcoords": [
           {
            "line": {
             "colorbar": {
              "outlinewidth": 0,
              "ticks": ""
             }
            },
            "type": "parcoords"
           }
          ],
          "pie": [
           {
            "automargin": true,
            "type": "pie"
           }
          ],
          "scatter": [
           {
            "fillpattern": {
             "fillmode": "overlay",
             "size": 10,
             "solidity": 0.2
            },
            "type": "scatter"
           }
          ],
          "scatter3d": [
           {
            "line": {
             "colorbar": {
              "outlinewidth": 0,
              "ticks": ""
             }
            },
            "marker": {
             "colorbar": {
              "outlinewidth": 0,
              "ticks": ""
             }
            },
            "type": "scatter3d"
           }
          ],
          "scattercarpet": [
           {
            "marker": {
             "colorbar": {
              "outlinewidth": 0,
              "ticks": ""
             }
            },
            "type": "scattercarpet"
           }
          ],
          "scattergeo": [
           {
            "marker": {
             "colorbar": {
              "outlinewidth": 0,
              "ticks": ""
             }
            },
            "type": "scattergeo"
           }
          ],
          "scattergl": [
           {
            "marker": {
             "colorbar": {
              "outlinewidth": 0,
              "ticks": ""
             }
            },
            "type": "scattergl"
           }
          ],
          "scattermapbox": [
           {
            "marker": {
             "colorbar": {
              "outlinewidth": 0,
              "ticks": ""
             }
            },
            "type": "scattermapbox"
           }
          ],
          "scatterpolar": [
           {
            "marker": {
             "colorbar": {
              "outlinewidth": 0,
              "ticks": ""
             }
            },
            "type": "scatterpolar"
           }
          ],
          "scatterpolargl": [
           {
            "marker": {
             "colorbar": {
              "outlinewidth": 0,
              "ticks": ""
             }
            },
            "type": "scatterpolargl"
           }
          ],
          "scatterternary": [
           {
            "marker": {
             "colorbar": {
              "outlinewidth": 0,
              "ticks": ""
             }
            },
            "type": "scatterternary"
           }
          ],
          "surface": [
           {
            "colorbar": {
             "outlinewidth": 0,
             "ticks": ""
            },
            "colorscale": [
             [
              0,
              "#0d0887"
             ],
             [
              0.1111111111111111,
              "#46039f"
             ],
             [
              0.2222222222222222,
              "#7201a8"
             ],
             [
              0.3333333333333333,
              "#9c179e"
             ],
             [
              0.4444444444444444,
              "#bd3786"
             ],
             [
              0.5555555555555556,
              "#d8576b"
             ],
             [
              0.6666666666666666,
              "#ed7953"
             ],
             [
              0.7777777777777778,
              "#fb9f3a"
             ],
             [
              0.8888888888888888,
              "#fdca26"
             ],
             [
              1,
              "#f0f921"
             ]
            ],
            "type": "surface"
           }
          ],
          "table": [
           {
            "cells": {
             "fill": {
              "color": "#EBF0F8"
             },
             "line": {
              "color": "white"
             }
            },
            "header": {
             "fill": {
              "color": "#C8D4E3"
             },
             "line": {
              "color": "white"
             }
            },
            "type": "table"
           }
          ]
         },
         "layout": {
          "annotationdefaults": {
           "arrowcolor": "#2a3f5f",
           "arrowhead": 0,
           "arrowwidth": 1
          },
          "autotypenumbers": "strict",
          "coloraxis": {
           "colorbar": {
            "outlinewidth": 0,
            "ticks": ""
           }
          },
          "colorscale": {
           "diverging": [
            [
             0,
             "#8e0152"
            ],
            [
             0.1,
             "#c51b7d"
            ],
            [
             0.2,
             "#de77ae"
            ],
            [
             0.3,
             "#f1b6da"
            ],
            [
             0.4,
             "#fde0ef"
            ],
            [
             0.5,
             "#f7f7f7"
            ],
            [
             0.6,
             "#e6f5d0"
            ],
            [
             0.7,
             "#b8e186"
            ],
            [
             0.8,
             "#7fbc41"
            ],
            [
             0.9,
             "#4d9221"
            ],
            [
             1,
             "#276419"
            ]
           ],
           "sequential": [
            [
             0,
             "#0d0887"
            ],
            [
             0.1111111111111111,
             "#46039f"
            ],
            [
             0.2222222222222222,
             "#7201a8"
            ],
            [
             0.3333333333333333,
             "#9c179e"
            ],
            [
             0.4444444444444444,
             "#bd3786"
            ],
            [
             0.5555555555555556,
             "#d8576b"
            ],
            [
             0.6666666666666666,
             "#ed7953"
            ],
            [
             0.7777777777777778,
             "#fb9f3a"
            ],
            [
             0.8888888888888888,
             "#fdca26"
            ],
            [
             1,
             "#f0f921"
            ]
           ],
           "sequentialminus": [
            [
             0,
             "#0d0887"
            ],
            [
             0.1111111111111111,
             "#46039f"
            ],
            [
             0.2222222222222222,
             "#7201a8"
            ],
            [
             0.3333333333333333,
             "#9c179e"
            ],
            [
             0.4444444444444444,
             "#bd3786"
            ],
            [
             0.5555555555555556,
             "#d8576b"
            ],
            [
             0.6666666666666666,
             "#ed7953"
            ],
            [
             0.7777777777777778,
             "#fb9f3a"
            ],
            [
             0.8888888888888888,
             "#fdca26"
            ],
            [
             1,
             "#f0f921"
            ]
           ]
          },
          "colorway": [
           "#636efa",
           "#EF553B",
           "#00cc96",
           "#ab63fa",
           "#FFA15A",
           "#19d3f3",
           "#FF6692",
           "#B6E880",
           "#FF97FF",
           "#FECB52"
          ],
          "font": {
           "color": "#2a3f5f"
          },
          "geo": {
           "bgcolor": "white",
           "lakecolor": "white",
           "landcolor": "white",
           "showlakes": true,
           "showland": true,
           "subunitcolor": "#C8D4E3"
          },
          "hoverlabel": {
           "align": "left"
          },
          "hovermode": "closest",
          "mapbox": {
           "style": "light"
          },
          "paper_bgcolor": "white",
          "plot_bgcolor": "white",
          "polar": {
           "angularaxis": {
            "gridcolor": "#EBF0F8",
            "linecolor": "#EBF0F8",
            "ticks": ""
           },
           "bgcolor": "white",
           "radialaxis": {
            "gridcolor": "#EBF0F8",
            "linecolor": "#EBF0F8",
            "ticks": ""
           }
          },
          "scene": {
           "xaxis": {
            "backgroundcolor": "white",
            "gridcolor": "#DFE8F3",
            "gridwidth": 2,
            "linecolor": "#EBF0F8",
            "showbackground": true,
            "ticks": "",
            "zerolinecolor": "#EBF0F8"
           },
           "yaxis": {
            "backgroundcolor": "white",
            "gridcolor": "#DFE8F3",
            "gridwidth": 2,
            "linecolor": "#EBF0F8",
            "showbackground": true,
            "ticks": "",
            "zerolinecolor": "#EBF0F8"
           },
           "zaxis": {
            "backgroundcolor": "white",
            "gridcolor": "#DFE8F3",
            "gridwidth": 2,
            "linecolor": "#EBF0F8",
            "showbackground": true,
            "ticks": "",
            "zerolinecolor": "#EBF0F8"
           }
          },
          "shapedefaults": {
           "line": {
            "color": "#2a3f5f"
           }
          },
          "ternary": {
           "aaxis": {
            "gridcolor": "#DFE8F3",
            "linecolor": "#A2B1C6",
            "ticks": ""
           },
           "baxis": {
            "gridcolor": "#DFE8F3",
            "linecolor": "#A2B1C6",
            "ticks": ""
           },
           "bgcolor": "white",
           "caxis": {
            "gridcolor": "#DFE8F3",
            "linecolor": "#A2B1C6",
            "ticks": ""
           }
          },
          "title": {
           "x": 0.05
          },
          "xaxis": {
           "automargin": true,
           "gridcolor": "#EBF0F8",
           "linecolor": "#EBF0F8",
           "ticks": "",
           "title": {
            "standoff": 15
           },
           "zerolinecolor": "#EBF0F8",
           "zerolinewidth": 2
          },
          "yaxis": {
           "automargin": true,
           "gridcolor": "#EBF0F8",
           "linecolor": "#EBF0F8",
           "ticks": "",
           "title": {
            "standoff": 15
           },
           "zerolinecolor": "#EBF0F8",
           "zerolinewidth": 2
          }
         }
        },
        "title": {
         "text": "8 Satellites Pop_Over_Gen"
        },
        "updatemenus": [
         {
          "buttons": [
           {
            "args": [
             null,
             {
              "frame": {
               "duration": 500,
               "redraw": true
              },
              "mode": "immediate"
             }
            ],
            "label": "Play",
            "method": "animate"
           },
           {
            "args": [
             [
              null
             ],
             {
              "frame": {
               "duration": 0,
               "redraw": true
              },
              "mode": "immediate"
             }
            ],
            "label": "Pause",
            "method": "animate"
           }
          ],
          "direction": "left",
          "pad": {
           "r": 10,
           "t": 87
          },
          "showactive": false,
          "type": "buttons",
          "x": 0.1,
          "xanchor": "right",
          "y": 1.1,
          "yanchor": "top"
         }
        ],
        "xaxis": {
         "anchor": "y",
         "domain": [
          0,
          1
         ],
         "title": {
          "text": "Average Time to Image [days] ←"
         }
        },
        "yaxis": {
         "anchor": "x",
         "domain": [
          0,
          1
         ],
         "title": {
          "text": "Average Target Bin Percentage →"
         }
        }
       }
      }
     },
     "metadata": {},
     "output_type": "display_data"
    }
   ],
   "source": [
    "def pop_over_gen_ploter(n_sats, results):\n",
    "    fig = make_subplots()\n",
    "    colors = ['blue','orange','green','red','purple','brown','pink','gray','cyan','olive']\n",
    "    frames = []\n",
    "\n",
    "    for i, gen in enumerate(results[n_sats]['Pop_Over_Gen']['Gen'].unique()):\n",
    "        df = results[n_sats]['Pop_Over_Gen'][results[n_sats]['Pop_Over_Gen']['Gen'] == gen]\n",
    "\n",
    "        scatter = go.Scatter(\n",
    "            x=df['Avg_Time'],\n",
    "            y=df['Avg_Percentage'],\n",
    "            # hovertext=df[dvs_ovs].astype(str).agg(', '.join, axis=1),\n",
    "            # hoverinfo='text',\n",
    "            mode='markers',\n",
    "            name=f'{gen}',\n",
    "            marker=dict(color=colors[i], size=8),)\n",
    "\n",
    "        fig.add_trace(scatter)\n",
    "\n",
    "        frames.append(go.Frame(data=[scatter], name=str(gen)))\n",
    "\n",
    "    fig.add_vline(30,line_dash = 'dash', line_color='red')\n",
    "    fig.add_hline(100,line_dash = 'dash', line_color='red')\n",
    "\n",
    "\n",
    "    fig.add_annotation(\n",
    "        x=30.5,  # X position for vertical line annotation\n",
    "        y=50,  # Adjust this for vertical annotation (above the line)\n",
    "        text='30 Day Constraint',\n",
    "        font=dict(color='red', size=15),\n",
    "        textangle=90,\n",
    "        showarrow=False\n",
    "        )\n",
    "\n",
    "    fig.add_annotation(\n",
    "        x=15,\n",
    "        y=105,\n",
    "        text='100% Imaged Constraint',\n",
    "        font=dict(color='red', size=15),\n",
    "        showarrow=False)\n",
    "\n",
    "\n",
    "    fig.update_layout(\n",
    "        title=f'{n_sats} Satellites Pop_Over_Gen',\n",
    "        xaxis_title='Average Time to Image [days] ←',\n",
    "        yaxis_title='Average Target Bin Percentage →',\n",
    "        legend=dict(\n",
    "            title='Gen',\n",
    "            title_font=dict(size=15),\n",
    "            font=dict(size=12, color='black'),\n",
    "            xanchor='right',\n",
    "            yanchor='bottom',\n",
    "        ),\n",
    "        template='plotly_white',\n",
    "        font=dict(size=15),\n",
    "        updatemenus=[\n",
    "            {\n",
    "                'buttons': [\n",
    "                    {\n",
    "                        'args': [None, {'frame': {'duration': 500, 'redraw': True}, 'mode': 'immediate'}],\n",
    "                        'label': 'Play',\n",
    "                        'method': 'animate'\n",
    "                    },\n",
    "                    {\n",
    "                        'args': [[None], {'frame': {'duration': 0, 'redraw': True}, 'mode': 'immediate'}],\n",
    "                        'label': 'Pause',\n",
    "                        'method': 'animate'\n",
    "                    }\n",
    "                ],\n",
    "                'direction': 'left',\n",
    "                'pad': {'r': 10, 't': 87},\n",
    "                'showactive': False,\n",
    "                'type': 'buttons',\n",
    "                'x': 0.1,\n",
    "                'xanchor': 'right',\n",
    "                'y': 1.1,\n",
    "                'yanchor': 'top'\n",
    "            }\n",
    "        ],\n",
    "        sliders=[{\n",
    "            'active': 0,\n",
    "            'yanchor': 'top',\n",
    "            'xanchor': 'left',\n",
    "            'currentvalue': {\n",
    "                'prefix': 'Gen: ',\n",
    "                'visible': True,\n",
    "                'xanchor': 'right'\n",
    "            },\n",
    "            'transition': {'duration': 300, 'easing': 'cubic-in-out'},\n",
    "            'pad': {'b': 10},\n",
    "            'len': 0.9,\n",
    "            'x': 0.1,\n",
    "            'y': 0,\n",
    "            'steps': [{\n",
    "                'args': [\n",
    "                    [gen],\n",
    "                    {'frame': {'duration': 500, 'redraw': True}, 'mode': 'immediate'}\n",
    "                ],\n",
    "                'label': str(gen),\n",
    "                'method': 'animate'\n",
    "            } for gen in results[n_sats]['Pop_Over_Gen']['Gen'].unique()]\n",
    "        }]\n",
    "    )\n",
    "\n",
    "    # Add frames to the figure\n",
    "    fig.frames = frames\n",
    "\n",
    "    fig.show()\n",
    "\n",
    "pop_over_gen_ploter(8, results)"
   ]
  },
  {
   "cell_type": "code",
   "execution_count": null,
   "metadata": {},
   "outputs": [],
   "source": []
  }
 ],
 "metadata": {
  "kernelspec": {
   "display_name": "Python 3",
   "language": "python",
   "name": "python3"
  },
  "language_info": {
   "codemirror_mode": {
    "name": "ipython",
    "version": 3
   },
   "file_extension": ".py",
   "mimetype": "text/x-python",
   "name": "python",
   "nbconvert_exporter": "python",
   "pygments_lexer": "ipython3",
   "version": "3.12.7"
  }
 },
 "nbformat": 4,
 "nbformat_minor": 2
}
