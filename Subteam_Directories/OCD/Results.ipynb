{
 "cells": [
  {
   "cell_type": "code",
   "execution_count": 14,
   "metadata": {},
   "outputs": [],
   "source": [
    "import sys\n",
    "sys.path.append(\"../../\")\n",
    "from Scripts import *"
   ]
  },
  {
   "cell_type": "code",
   "execution_count": 15,
   "metadata": {},
   "outputs": [],
   "source": [
    "results_dict = {}\n",
    "cost_curve_dict = {}\n",
    "for n_sats in range(3,13,1):\n",
    "    results_dict[n_sats] = {'Optimization': {'Total Results': {'Number of Targets': [], 'Avg_Percentage': [], 'Max_Time': []}}, 'Planning': {'Total Results': {'Number of Targets': [], 'Avg_Percentage': [], 'Max_Time': []}}}\n",
    "    results_dict[n_sats]['Optimization']['Total Results'] = pd.DataFrame(results_dict[n_sats]['Optimization']['Total Results'])\n",
    "\n",
    "    if os.path.exists(f'../../Pop_Over_Gen/{n_sats}.csv'):\n",
    "        df = pd.read_csv(f'../../Pop_Over_Gen/{n_sats}.csv')\n",
    "        results_dict[n_sats]['Pop_Over_Gen'] = df\n",
    "\n",
    "    for n_targets in [15,34,65,82,109,186,494,1131]:\n",
    "        if os.path.exists(f'../../Optimization_Results/{n_sats}_{n_targets}.csv'):\n",
    "            df = pd.read_csv(f'../../Optimization_Results/{n_sats}_{n_targets}.csv').round(4)\n",
    "            results_dict[n_sats]['Optimization'][n_targets] = df\n",
    "            results_dict[n_sats]['Optimization']['Total Results'].loc[len(results_dict[n_sats]['Optimization']['Total Results'])] = [df[\"Unplanned (%)\"].count(), df[\"Unplanned (%)\"].mean().round(4), df[\"Unplanned (Time)\"].max().round(1)]\n",
    "\n",
    "        if os.path.exists(f'../../Planning_Results/{n_sats}_{n_targets}.csv'):\n",
    "            df = pd.read_csv(f'../../Planning_Results/{n_sats}_{n_targets}.csv').round(4)\n",
    "            results_dict[n_sats]['Planning'][n_targets] = df\n",
    "            results_dict[n_sats]['Planning']['Total Results'].loc[len(results_dict[n_sats]['Planning']['Total Results'])] = [df[\"Planned (%)\"].count(), df[\"Planned (%)\"].mean().round(4), df[\"Planned (Time)\"].max().round(1)]\n",
    "\n",
    "    \n",
    "    cost_curve_dict[n_sats] = results_dict[n_sats]['Optimization']['Total Results'][results_dict[n_sats]['Optimization']['Total Results']['Avg_Percentage'] == 100]"
   ]
  },
  {
   "cell_type": "code",
   "execution_count": 17,
   "metadata": {},
   "outputs": [
    {
     "data": {
      "application/vnd.plotly.v1+json": {
       "config": {
        "plotlyServerURL": "https://plot.ly"
       },
       "data": [
        {
         "mode": "lines+markers",
         "name": "3",
         "type": "scatter",
         "x": [
          15,
          34,
          65,
          82,
          109,
          186,
          494,
          1132
         ],
         "y": [
          41.4,
          51.3,
          58.4,
          58.8,
          81.7,
          88.2,
          89.7,
          88.7
         ]
        },
        {
         "mode": "lines+markers",
         "name": "4",
         "type": "scatter",
         "x": [
          15,
          34,
          65,
          82,
          109,
          186
         ],
         "y": [
          48.1,
          44.4,
          44.6,
          45.6,
          47.1,
          67.6
         ]
        },
        {
         "mode": "lines+markers",
         "name": "5",
         "type": "scatter",
         "x": [],
         "y": []
        },
        {
         "mode": "lines+markers",
         "name": "6",
         "type": "scatter",
         "x": [],
         "y": []
        },
        {
         "mode": "lines+markers",
         "name": "7",
         "type": "scatter",
         "x": [],
         "y": []
        },
        {
         "mode": "lines+markers",
         "name": "8",
         "type": "scatter",
         "x": [
          34,
          65,
          82,
          109
         ],
         "y": [
          20.9,
          20.3,
          21.1,
          22.3
         ]
        },
        {
         "mode": "lines+markers",
         "name": "9",
         "type": "scatter",
         "x": [],
         "y": []
        },
        {
         "mode": "lines+markers",
         "name": "10",
         "type": "scatter",
         "x": [],
         "y": []
        },
        {
         "mode": "lines+markers",
         "name": "11",
         "type": "scatter",
         "x": [],
         "y": []
        },
        {
         "mode": "lines+markers",
         "name": "12",
         "type": "scatter",
         "x": [],
         "y": []
        }
       ],
       "layout": {
        "annotations": [
         {
          "font": {
           "color": "red",
           "size": 15
          },
          "showarrow": false,
          "text": "30 Day Constraint",
          "x": 100,
          "y": 32
         }
        ],
        "height": 600,
        "legend": {
         "title": {
          "text": "Number of Satellites"
         }
        },
        "shapes": [
         {
          "line": {
           "color": "red",
           "dash": "dash"
          },
          "type": "line",
          "x0": 0,
          "x1": 1,
          "xref": "x domain",
          "y0": 30,
          "y1": 30,
          "yref": "y"
         }
        ],
        "template": {
         "data": {
          "bar": [
           {
            "error_x": {
             "color": "#2a3f5f"
            },
            "error_y": {
             "color": "#2a3f5f"
            },
            "marker": {
             "line": {
              "color": "#E5ECF6",
              "width": 0.5
             },
             "pattern": {
              "fillmode": "overlay",
              "size": 10,
              "solidity": 0.2
             }
            },
            "type": "bar"
           }
          ],
          "barpolar": [
           {
            "marker": {
             "line": {
              "color": "#E5ECF6",
              "width": 0.5
             },
             "pattern": {
              "fillmode": "overlay",
              "size": 10,
              "solidity": 0.2
             }
            },
            "type": "barpolar"
           }
          ],
          "carpet": [
           {
            "aaxis": {
             "endlinecolor": "#2a3f5f",
             "gridcolor": "white",
             "linecolor": "white",
             "minorgridcolor": "white",
             "startlinecolor": "#2a3f5f"
            },
            "baxis": {
             "endlinecolor": "#2a3f5f",
             "gridcolor": "white",
             "linecolor": "white",
             "minorgridcolor": "white",
             "startlinecolor": "#2a3f5f"
            },
            "type": "carpet"
           }
          ],
          "choropleth": [
           {
            "colorbar": {
             "outlinewidth": 0,
             "ticks": ""
            },
            "type": "choropleth"
           }
          ],
          "contour": [
           {
            "colorbar": {
             "outlinewidth": 0,
             "ticks": ""
            },
            "colorscale": [
             [
              0,
              "#0d0887"
             ],
             [
              0.1111111111111111,
              "#46039f"
             ],
             [
              0.2222222222222222,
              "#7201a8"
             ],
             [
              0.3333333333333333,
              "#9c179e"
             ],
             [
              0.4444444444444444,
              "#bd3786"
             ],
             [
              0.5555555555555556,
              "#d8576b"
             ],
             [
              0.6666666666666666,
              "#ed7953"
             ],
             [
              0.7777777777777778,
              "#fb9f3a"
             ],
             [
              0.8888888888888888,
              "#fdca26"
             ],
             [
              1,
              "#f0f921"
             ]
            ],
            "type": "contour"
           }
          ],
          "contourcarpet": [
           {
            "colorbar": {
             "outlinewidth": 0,
             "ticks": ""
            },
            "type": "contourcarpet"
           }
          ],
          "heatmap": [
           {
            "colorbar": {
             "outlinewidth": 0,
             "ticks": ""
            },
            "colorscale": [
             [
              0,
              "#0d0887"
             ],
             [
              0.1111111111111111,
              "#46039f"
             ],
             [
              0.2222222222222222,
              "#7201a8"
             ],
             [
              0.3333333333333333,
              "#9c179e"
             ],
             [
              0.4444444444444444,
              "#bd3786"
             ],
             [
              0.5555555555555556,
              "#d8576b"
             ],
             [
              0.6666666666666666,
              "#ed7953"
             ],
             [
              0.7777777777777778,
              "#fb9f3a"
             ],
             [
              0.8888888888888888,
              "#fdca26"
             ],
             [
              1,
              "#f0f921"
             ]
            ],
            "type": "heatmap"
           }
          ],
          "heatmapgl": [
           {
            "colorbar": {
             "outlinewidth": 0,
             "ticks": ""
            },
            "colorscale": [
             [
              0,
              "#0d0887"
             ],
             [
              0.1111111111111111,
              "#46039f"
             ],
             [
              0.2222222222222222,
              "#7201a8"
             ],
             [
              0.3333333333333333,
              "#9c179e"
             ],
             [
              0.4444444444444444,
              "#bd3786"
             ],
             [
              0.5555555555555556,
              "#d8576b"
             ],
             [
              0.6666666666666666,
              "#ed7953"
             ],
             [
              0.7777777777777778,
              "#fb9f3a"
             ],
             [
              0.8888888888888888,
              "#fdca26"
             ],
             [
              1,
              "#f0f921"
             ]
            ],
            "type": "heatmapgl"
           }
          ],
          "histogram": [
           {
            "marker": {
             "pattern": {
              "fillmode": "overlay",
              "size": 10,
              "solidity": 0.2
             }
            },
            "type": "histogram"
           }
          ],
          "histogram2d": [
           {
            "colorbar": {
             "outlinewidth": 0,
             "ticks": ""
            },
            "colorscale": [
             [
              0,
              "#0d0887"
             ],
             [
              0.1111111111111111,
              "#46039f"
             ],
             [
              0.2222222222222222,
              "#7201a8"
             ],
             [
              0.3333333333333333,
              "#9c179e"
             ],
             [
              0.4444444444444444,
              "#bd3786"
             ],
             [
              0.5555555555555556,
              "#d8576b"
             ],
             [
              0.6666666666666666,
              "#ed7953"
             ],
             [
              0.7777777777777778,
              "#fb9f3a"
             ],
             [
              0.8888888888888888,
              "#fdca26"
             ],
             [
              1,
              "#f0f921"
             ]
            ],
            "type": "histogram2d"
           }
          ],
          "histogram2dcontour": [
           {
            "colorbar": {
             "outlinewidth": 0,
             "ticks": ""
            },
            "colorscale": [
             [
              0,
              "#0d0887"
             ],
             [
              0.1111111111111111,
              "#46039f"
             ],
             [
              0.2222222222222222,
              "#7201a8"
             ],
             [
              0.3333333333333333,
              "#9c179e"
             ],
             [
              0.4444444444444444,
              "#bd3786"
             ],
             [
              0.5555555555555556,
              "#d8576b"
             ],
             [
              0.6666666666666666,
              "#ed7953"
             ],
             [
              0.7777777777777778,
              "#fb9f3a"
             ],
             [
              0.8888888888888888,
              "#fdca26"
             ],
             [
              1,
              "#f0f921"
             ]
            ],
            "type": "histogram2dcontour"
           }
          ],
          "mesh3d": [
           {
            "colorbar": {
             "outlinewidth": 0,
             "ticks": ""
            },
            "type": "mesh3d"
           }
          ],
          "parcoords": [
           {
            "line": {
             "colorbar": {
              "outlinewidth": 0,
              "ticks": ""
             }
            },
            "type": "parcoords"
           }
          ],
          "pie": [
           {
            "automargin": true,
            "type": "pie"
           }
          ],
          "scatter": [
           {
            "fillpattern": {
             "fillmode": "overlay",
             "size": 10,
             "solidity": 0.2
            },
            "type": "scatter"
           }
          ],
          "scatter3d": [
           {
            "line": {
             "colorbar": {
              "outlinewidth": 0,
              "ticks": ""
             }
            },
            "marker": {
             "colorbar": {
              "outlinewidth": 0,
              "ticks": ""
             }
            },
            "type": "scatter3d"
           }
          ],
          "scattercarpet": [
           {
            "marker": {
             "colorbar": {
              "outlinewidth": 0,
              "ticks": ""
             }
            },
            "type": "scattercarpet"
           }
          ],
          "scattergeo": [
           {
            "marker": {
             "colorbar": {
              "outlinewidth": 0,
              "ticks": ""
             }
            },
            "type": "scattergeo"
           }
          ],
          "scattergl": [
           {
            "marker": {
             "colorbar": {
              "outlinewidth": 0,
              "ticks": ""
             }
            },
            "type": "scattergl"
           }
          ],
          "scattermapbox": [
           {
            "marker": {
             "colorbar": {
              "outlinewidth": 0,
              "ticks": ""
             }
            },
            "type": "scattermapbox"
           }
          ],
          "scatterpolar": [
           {
            "marker": {
             "colorbar": {
              "outlinewidth": 0,
              "ticks": ""
             }
            },
            "type": "scatterpolar"
           }
          ],
          "scatterpolargl": [
           {
            "marker": {
             "colorbar": {
              "outlinewidth": 0,
              "ticks": ""
             }
            },
            "type": "scatterpolargl"
           }
          ],
          "scatterternary": [
           {
            "marker": {
             "colorbar": {
              "outlinewidth": 0,
              "ticks": ""
             }
            },
            "type": "scatterternary"
           }
          ],
          "surface": [
           {
            "colorbar": {
             "outlinewidth": 0,
             "ticks": ""
            },
            "colorscale": [
             [
              0,
              "#0d0887"
             ],
             [
              0.1111111111111111,
              "#46039f"
             ],
             [
              0.2222222222222222,
              "#7201a8"
             ],
             [
              0.3333333333333333,
              "#9c179e"
             ],
             [
              0.4444444444444444,
              "#bd3786"
             ],
             [
              0.5555555555555556,
              "#d8576b"
             ],
             [
              0.6666666666666666,
              "#ed7953"
             ],
             [
              0.7777777777777778,
              "#fb9f3a"
             ],
             [
              0.8888888888888888,
              "#fdca26"
             ],
             [
              1,
              "#f0f921"
             ]
            ],
            "type": "surface"
           }
          ],
          "table": [
           {
            "cells": {
             "fill": {
              "color": "#EBF0F8"
             },
             "line": {
              "color": "white"
             }
            },
            "header": {
             "fill": {
              "color": "#C8D4E3"
             },
             "line": {
              "color": "white"
             }
            },
            "type": "table"
           }
          ]
         },
         "layout": {
          "annotationdefaults": {
           "arrowcolor": "#2a3f5f",
           "arrowhead": 0,
           "arrowwidth": 1
          },
          "autotypenumbers": "strict",
          "coloraxis": {
           "colorbar": {
            "outlinewidth": 0,
            "ticks": ""
           }
          },
          "colorscale": {
           "diverging": [
            [
             0,
             "#8e0152"
            ],
            [
             0.1,
             "#c51b7d"
            ],
            [
             0.2,
             "#de77ae"
            ],
            [
             0.3,
             "#f1b6da"
            ],
            [
             0.4,
             "#fde0ef"
            ],
            [
             0.5,
             "#f7f7f7"
            ],
            [
             0.6,
             "#e6f5d0"
            ],
            [
             0.7,
             "#b8e186"
            ],
            [
             0.8,
             "#7fbc41"
            ],
            [
             0.9,
             "#4d9221"
            ],
            [
             1,
             "#276419"
            ]
           ],
           "sequential": [
            [
             0,
             "#0d0887"
            ],
            [
             0.1111111111111111,
             "#46039f"
            ],
            [
             0.2222222222222222,
             "#7201a8"
            ],
            [
             0.3333333333333333,
             "#9c179e"
            ],
            [
             0.4444444444444444,
             "#bd3786"
            ],
            [
             0.5555555555555556,
             "#d8576b"
            ],
            [
             0.6666666666666666,
             "#ed7953"
            ],
            [
             0.7777777777777778,
             "#fb9f3a"
            ],
            [
             0.8888888888888888,
             "#fdca26"
            ],
            [
             1,
             "#f0f921"
            ]
           ],
           "sequentialminus": [
            [
             0,
             "#0d0887"
            ],
            [
             0.1111111111111111,
             "#46039f"
            ],
            [
             0.2222222222222222,
             "#7201a8"
            ],
            [
             0.3333333333333333,
             "#9c179e"
            ],
            [
             0.4444444444444444,
             "#bd3786"
            ],
            [
             0.5555555555555556,
             "#d8576b"
            ],
            [
             0.6666666666666666,
             "#ed7953"
            ],
            [
             0.7777777777777778,
             "#fb9f3a"
            ],
            [
             0.8888888888888888,
             "#fdca26"
            ],
            [
             1,
             "#f0f921"
            ]
           ]
          },
          "colorway": [
           "#636efa",
           "#EF553B",
           "#00cc96",
           "#ab63fa",
           "#FFA15A",
           "#19d3f3",
           "#FF6692",
           "#B6E880",
           "#FF97FF",
           "#FECB52"
          ],
          "font": {
           "color": "#2a3f5f"
          },
          "geo": {
           "bgcolor": "white",
           "lakecolor": "white",
           "landcolor": "#E5ECF6",
           "showlakes": true,
           "showland": true,
           "subunitcolor": "white"
          },
          "hoverlabel": {
           "align": "left"
          },
          "hovermode": "closest",
          "mapbox": {
           "style": "light"
          },
          "paper_bgcolor": "white",
          "plot_bgcolor": "#E5ECF6",
          "polar": {
           "angularaxis": {
            "gridcolor": "white",
            "linecolor": "white",
            "ticks": ""
           },
           "bgcolor": "#E5ECF6",
           "radialaxis": {
            "gridcolor": "white",
            "linecolor": "white",
            "ticks": ""
           }
          },
          "scene": {
           "xaxis": {
            "backgroundcolor": "#E5ECF6",
            "gridcolor": "white",
            "gridwidth": 2,
            "linecolor": "white",
            "showbackground": true,
            "ticks": "",
            "zerolinecolor": "white"
           },
           "yaxis": {
            "backgroundcolor": "#E5ECF6",
            "gridcolor": "white",
            "gridwidth": 2,
            "linecolor": "white",
            "showbackground": true,
            "ticks": "",
            "zerolinecolor": "white"
           },
           "zaxis": {
            "backgroundcolor": "#E5ECF6",
            "gridcolor": "white",
            "gridwidth": 2,
            "linecolor": "white",
            "showbackground": true,
            "ticks": "",
            "zerolinecolor": "white"
           }
          },
          "shapedefaults": {
           "line": {
            "color": "#2a3f5f"
           }
          },
          "ternary": {
           "aaxis": {
            "gridcolor": "white",
            "linecolor": "white",
            "ticks": ""
           },
           "baxis": {
            "gridcolor": "white",
            "linecolor": "white",
            "ticks": ""
           },
           "bgcolor": "#E5ECF6",
           "caxis": {
            "gridcolor": "white",
            "linecolor": "white",
            "ticks": ""
           }
          },
          "title": {
           "x": 0.05
          },
          "xaxis": {
           "automargin": true,
           "gridcolor": "white",
           "linecolor": "white",
           "ticks": "",
           "title": {
            "standoff": 15
           },
           "zerolinecolor": "white",
           "zerolinewidth": 2
          },
          "yaxis": {
           "automargin": true,
           "gridcolor": "white",
           "linecolor": "white",
           "ticks": "",
           "title": {
            "standoff": 15
           },
           "zerolinecolor": "white",
           "zerolinewidth": 2
          }
         }
        },
        "title": {
         "text": "Optimization Comparison"
        },
        "width": 1000,
        "xaxis": {
         "title": {
          "text": "Number of Targets"
         }
        },
        "yaxis": {
         "title": {
          "text": "Max_Time"
         }
        }
       }
      }
     },
     "metadata": {},
     "output_type": "display_data"
    },
    {
     "data": {
      "text/plain": [
       "0"
      ]
     },
     "execution_count": 17,
     "metadata": {},
     "output_type": "execute_result"
    }
   ],
   "source": [
    "Generate_Performance_Curve(cost_curve_dict, plot_title='Optimization Comparison')"
   ]
  },
  {
   "cell_type": "code",
   "execution_count": null,
   "metadata": {},
   "outputs": [],
   "source": []
  },
  {
   "cell_type": "code",
   "execution_count": null,
   "metadata": {},
   "outputs": [],
   "source": [
    "def pop_over_gen_plotter_animator(n_sats, results_dict, hover_text=['Alt', 'Inc', 'Initial_Raan', 'Delta_Raan','Num_Planes', 'Avg_Percentage', 'Std_Percentage', 'Avg_Time',\n",
    "       'Std_Time'],plot_title='Satellites Pop_Over_Gen', xaxis='Avg_Time', yaxis='Avg_Percentage', graph=True, animation=True, constraint=True, xticks = [0, 10, 20, 30, 40], yticks=[0, 25, 50, 75, 100]):\n",
    "\n",
    "    pop_over_gen_df = results_dict[n_sats]['Pop_Over_Gen']\n",
    "    colors = ['blue', 'orange', 'green', 'red', 'purple', 'brown', 'pink', 'gray', 'cyan', 'olive', 'yellow']\n",
    "\n",
    "    figs = []\n",
    "    if graph:\n",
    "        fig_graph = make_subplots()\n",
    "        figs.append(fig_graph)\n",
    "        \n",
    "    if animation:\n",
    "        fig_animation = make_subplots()\n",
    "        figs.append(fig_animation)\n",
    "    \n",
    "\n",
    "    frames = []\n",
    "\n",
    "    df = pop_over_gen_df[pop_over_gen_df['Gen'] == 0]\n",
    "\n",
    "    scatter = go.Scatter(\n",
    "        x=df[xaxis],\n",
    "        y=df[yaxis],\n",
    "        hovertext=df[hover_text].astype(str).agg(', '.join, axis=1),\n",
    "        hoverinfo='text',\n",
    "        mode='markers',\n",
    "        name=f'{0}',\n",
    "        marker=dict(color=colors[0], size=8),\n",
    "    )\n",
    "\n",
    "    \n",
    "\n",
    "    for i, gen in enumerate(pop_over_gen_df['Gen'].unique()):\n",
    "        df = pop_over_gen_df[pop_over_gen_df['Gen'] == gen]\n",
    "\n",
    "\n",
    "        scatter = go.Scatter(\n",
    "            x=df[xaxis],\n",
    "            y=df[yaxis],\n",
    "            hovertext=df[hover_text].astype(str).agg(', '.join, axis=1),\n",
    "            hoverinfo='text',\n",
    "            mode='markers',\n",
    "            name=f'{gen}',\n",
    "            marker=dict(color=colors[i % len(colors)], size=8),\n",
    "        )\n",
    "        \n",
    "        if i == 0 and animation:\n",
    "            fig_animation.add_trace(scatter)\n",
    "\n",
    "        if graph:\n",
    "            fig_graph.add_trace(scatter)\n",
    "\n",
    "        frames.append(go.Frame(data=[scatter], name=str(gen)))\n",
    "\n",
    "    for fig in figs:\n",
    "\n",
    "        if constraint:\n",
    "            fig.add_vline(30, line_dash='dash', line_color='red')\n",
    "            fig.add_hline(100, line_dash='dash', line_color='red')\n",
    "\n",
    "            fig.add_annotation(x=30.5, y=50, text='30 Day Constraint', font=dict(color='red', size=15), textangle=90, showarrow=False)\n",
    "            fig.add_annotation(x=15, y=105, text='100% Imaged Constraint', font=dict(color='red', size=15), showarrow=False)\n",
    "\n",
    "\n",
    "        if graph and fig == fig_graph:\n",
    "            fig.update_layout(\n",
    "                title=f'{plot_title}',\n",
    "                xaxis_title=xaxis,\n",
    "                yaxis_title=yaxis,\n",
    "                xaxis=dict(tickmode='array',tickvals=xticks),\n",
    "                yaxis=dict(tickmode='array',tickvals=yticks, range=[yticks[0]-10, yticks[-1]+10]),\n",
    "                legend=dict(title='Gen',title_font=dict(size=15),font=dict(size=12, color='black')),\n",
    "                font=dict(size=15))\n",
    "\n",
    "        if animation and fig == fig_animation:\n",
    "            \n",
    "            fig.update_layout(title=f'{plot_title}',\n",
    "            xaxis_title=xaxis,\n",
    "            yaxis_title=yaxis,\n",
    "            xaxis=dict(tickmode='array',tickvals=xticks),\n",
    "            yaxis=dict(tickmode='array',tickvals=yticks,range=[yticks[0]-10, yticks[-1]+10]),\n",
    "            legend=dict(title='Gen',title_font=dict(size=15),font=dict(size=12, color='black')),\n",
    "            font=dict(size=15), \n",
    "            updatemenus=[{\n",
    "            'buttons': [\n",
    "                {\n",
    "                    'args': [None, {'frame': {'duration': 500, 'redraw': True}, 'fromcurrent': True}],\n",
    "                    'label': 'Play',\n",
    "                    'method': 'animate'\n",
    "                },\n",
    "                {\n",
    "                    'args': [[None], {'frame': {'duration': 0, 'redraw': True}, 'mode': 'immediate'}],\n",
    "                    'label': 'Pause',\n",
    "                    'method': 'animate'\n",
    "                }\n",
    "            ],\n",
    "            'direction': 'left',\n",
    "            'pad': {'r': 10, 't': 87},\n",
    "            'showactive': False,\n",
    "            'type': 'buttons',\n",
    "            'x': 0.1,\n",
    "            'xanchor': 'right',\n",
    "            'y': 0,\n",
    "            'yanchor': 'top'\n",
    "        }],\n",
    "        sliders=[{\n",
    "            'active': 0,\n",
    "            'yanchor': 'top',\n",
    "            'xanchor': 'left',\n",
    "            'currentvalue': {\n",
    "                'font': {'size': 20},\n",
    "                'prefix': 'Generation: ',\n",
    "                'visible': True,\n",
    "                'xanchor': 'right'\n",
    "            },\n",
    "            'transition': {'duration': 300, 'easing': 'cubic-in-out'},\n",
    "            'pad': {'b': 10, 't': 50},\n",
    "            'len': 0.9,\n",
    "            'x': 0.1,\n",
    "            'y': 0,\n",
    "            'steps': [\n",
    "                {\n",
    "                    'args': [[str(gen)], {'frame': {'duration': 300, 'redraw': True}, 'mode': 'immediate', 'transition': {'duration': 300}}],\n",
    "                    'label': str(gen),\n",
    "                    'method': 'animate'\n",
    "                } for gen in pop_over_gen_df['Gen'].unique()\n",
    "            ]\n",
    "        }])\n",
    "            fig.frames = frames\n",
    "        fig.show()\n",
    "\n",
    "n_sats=5\n",
    "pop_over_gen_plotter_animator(n_sats, results_dict, graph=True, animation=True, xaxis='Avg_Time', yaxis='Avg_Percentage',plot_title=f'{n_sats} Satellite Constellation Populations Over Generations')\n"
   ]
  }
 ],
 "metadata": {
  "kernelspec": {
   "display_name": "Python 3",
   "language": "python",
   "name": "python3"
  },
  "language_info": {
   "codemirror_mode": {
    "name": "ipython",
    "version": 3
   },
   "file_extension": ".py",
   "mimetype": "text/x-python",
   "name": "python",
   "nbconvert_exporter": "python",
   "pygments_lexer": "ipython3",
   "version": "3.12.7"
  }
 },
 "nbformat": 4,
 "nbformat_minor": 2
}
