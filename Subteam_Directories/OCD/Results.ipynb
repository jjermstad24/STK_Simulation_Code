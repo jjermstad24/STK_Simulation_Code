{
 "cells": [
  {
   "cell_type": "code",
   "execution_count": 1,
   "metadata": {},
   "outputs": [],
   "source": [
    "import sys\n",
    "sys.path.append(\"../../\")\n",
    "from Scripts import *"
   ]
  },
  {
   "cell_type": "code",
   "execution_count": 2,
   "metadata": {},
   "outputs": [],
   "source": [
    "results_dict = {}\n",
    "cost_curve_dicts = {'Optimization': {}, 'Planning': {}}\n",
    "\n",
    "opt_counter = 0\n",
    "plan_counter = 0\n",
    "for n_sats in range(3,13,1):\n",
    "    results_dict[n_sats] = {'Optimization': {'Total Results': pd.DataFrame({'Number of Targets': [], 'Avg_Percentage': [], 'Max_Time': [], 'Avg_Time': [], 'Std_Time': []})}, 'Planning': pd.DataFrame({'Total Results': {'Number of Targets': [], 'Avg_Percentage': [], 'Max_Time': [], 'Avg_Time': [], 'Std_Time': []}})}\n",
    "\n",
    "\n",
    "    if os.path.exists(f'../../Pop_Over_Gen/{n_sats}.csv'):\n",
    "        df = pd.read_csv(f'../../Pop_Over_Gen/{n_sats}.csv')\n",
    "        results_dict[n_sats]['Pop_Over_Gen'] = df\n",
    "\n",
    "\n",
    "    for n_targets in [15,34,65,82,109,186,494,1131]:\n",
    "        if os.path.exists(f'../../Optimization_Results/{n_sats}_{n_targets}.csv'):\n",
    "            df = pd.read_csv(f'../../Optimization_Results/{n_sats}_{n_targets}.csv').round(4)\n",
    "            results_dict[n_sats]['Optimization'][n_targets] = df\n",
    "            results_dict[n_sats]['Optimization']['Total Results'].loc[len(results_dict[n_sats]['Optimization']['Total Results'])] = [df[\"Unplanned (%)\"].count(), df[\"Unplanned (%)\"].mean().round(4), df[\"Unplanned (Time)\"].max().round(1),  df[\"Unplanned (Time)\"].mean().round(1), df[\"Unplanned (Time)\"].std().round(1)]\n",
    "            opt_counter += 1\n",
    "\n",
    "        # if os.path.exists(f'../../Planning_Results/{n_sats}_{n_targets}.csv'):\n",
    "        #     df = pd.read_csv(f'../../Planning_Results/{n_sats}_{n_targets}.csv').round(4)\n",
    "        #     results_dict[n_sats]['Planning'][n_targets] = df\n",
    "        #     results_dict[n_sats]['Planning']['Total Results'].loc[len(results_dict[n_sats]['Planning']['Total Results'])] = [df[\"Planned (%)\"].count(), df[\"Planned (%)\"].mean().round(4), df[\"Planned (Time)\"].max().round(1), df[\"Planned (Time)\"].mean().round(1), df[\"Planned (Time)\"].std().round(1)]\n",
    "        #     plan_counter += 1\n",
    "\n",
    "    cost_curve_dicts['Optimization'][n_sats] = results_dict[n_sats]['Optimization']['Total Results'][results_dict[n_sats]['Optimization']['Total Results']['Avg_Percentage'] == 100]\n",
    "    if len(results_dict[n_sats]['Planning']['Total Results']['Number of Targets']) != 0:\n",
    "        cost_curve_dicts['Planning'][n_sats] = results_dict[n_sats]['Planning']['Total Results'][results_dict[n_sats]['Planning']['Total Results']['Avg_Percentage'] == 100]\n",
    "\n",
    "\n",
    "    \n",
    "\n",
    "# axis's = Number of Targets, Avg_Time, Max_Time, Std_Time\n",
    "# curve_type = Optimzation, Planning\n",
    "# Generate_Performance_Curve(cost_curve_dicts,curve_type='Optimization', xaxis='Number of Targets', yaxis='Max_Time') \n",
    "# Generate_Performance_Curve(cost_curve_dicts,curve_type='Planning', xaxis='Number of Targets', yaxis='Avg_Time') "
   ]
  },
  {
   "cell_type": "code",
   "execution_count": 3,
   "metadata": {},
   "outputs": [],
   "source": [
    "df = pd.read_csv('../../Pop_Over_Gen/pop_gen.csv')\n",
    "df[['Avg_Percentage', 'Avg_Time']] = df[['Avg_Percentage', 'Avg_Time']] .round(2)\n",
    "# df = df[(df['Cost'] < 25)]\n",
    "df = df.drop(df.columns[-1], axis=1)\n",
    "# df = df[(df['Avg_Percentage'] == 100)]\n"
   ]
  },
  {
   "cell_type": "code",
   "execution_count": null,
   "metadata": {},
   "outputs": [],
   "source": [
    "import pandas as pd\n",
    "\n",
    "# Sample DataFrame\n",
    "data = {\n",
    "    'A': [1, 2, None],\n",
    "    'B': [4, None, 6],\n",
    "    'C': [7, 8, 9]\n",
    "}\n",
    "df = pd.DataFrame(data)\n",
    "\n",
    "# Check if column 'A' contains None (or NaN)\n",
    "if df['A'].isnull().any():\n",
    "    print(\"Column 'A' contains None (or NaN).\")\n",
    "else:\n",
    "    print(\"Column 'A' does not contain None (or NaN).\")\n"
   ]
  },
  {
   "cell_type": "code",
   "execution_count": null,
   "metadata": {},
   "outputs": [],
   "source": [
    "df['A'].isnull().any()"
   ]
  },
  {
   "cell_type": "code",
   "execution_count": null,
   "metadata": {},
   "outputs": [],
   "source": [
    "objective1 = 'Cost'\n",
    "obj1_type = -1\n",
    "objective2='Avg_Percentage'\n",
    "obj2_type = 1\n",
    "\n",
    "\n",
    "create_pareto(df,objective1=objective1, obj1_type=obj1_type, objective2=objective2, obj2_type=obj2_type)\n",
    "pop_over_gen_animator(df,objective1=objective1, obj1_type=obj1_type, objective2=objective2, obj2_type=obj2_type,add_pareto=True, constraint=True)"
   ]
  },
  {
   "cell_type": "code",
   "execution_count": null,
   "metadata": {},
   "outputs": [],
   "source": [
    "np.linspace(0, df['Avg_Percentage'].max(), 3)"
   ]
  },
  {
   "cell_type": "code",
   "execution_count": null,
   "metadata": {},
   "outputs": [],
   "source": [
    "unique_rows = df['Alt,Inc,Initial_Raan,Delta_Raan,Num_Sats,Num_Planes,Avg_Percentage,Cost'.split(',')].drop_duplicates()\n",
    "unique_rows.sort_values(by='Cost')\n"
   ]
  }
 ],
 "metadata": {
  "kernelspec": {
   "display_name": "Python 3",
   "language": "python",
   "name": "python3"
  },
  "language_info": {
   "codemirror_mode": {
    "name": "ipython",
    "version": 3
   },
   "file_extension": ".py",
   "mimetype": "text/x-python",
   "name": "python",
   "nbconvert_exporter": "python",
   "pygments_lexer": "ipython3",
   "version": "3.12.7"
  }
 },
 "nbformat": 4,
 "nbformat_minor": 2
}
