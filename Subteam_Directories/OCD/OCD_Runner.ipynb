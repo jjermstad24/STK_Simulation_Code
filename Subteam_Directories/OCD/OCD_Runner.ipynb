{
 "cells": [
  {
   "cell_type": "code",
   "execution_count": 1,
   "metadata": {},
   "outputs": [],
   "source": [
    "import sys\n",
    "sys.path.append(\"../../\")\n",
    "from STK_Sim import *\n",
    "\n",
    "Filename = 'AERO_402_Further_Assessment'\n",
    "\n",
    "stk_object = STK_Simulation(False,Filename)"
   ]
  },
  {
   "cell_type": "code",
   "execution_count": 2,
   "metadata": {},
   "outputs": [],
   "source": [
    "# Setting scenario time variables\n",
    "stk_object.root.UnitPreferences.SetCurrentUnit(\"DateFormat\", \"UTCG\")\n",
    "start_time = time_convert(stk_object.root.CurrentScenario.StartTime)\n",
    "duration = datetime.timedelta(days=1, seconds=0, microseconds=0, milliseconds=0, minutes=0, hours=0, weeks=0)\n",
    "stop_time=(start_time+duration).strftime(\"%d %b %Y %H:%M:%S.%f\")\n",
    "stk_object.root.CurrentScenario.StopTime=stop_time\n",
    "stk_object.root.UnitPreferences.SetCurrentUnit(\"DateFormat\", \"EpSec\")"
   ]
  },
  {
   "cell_type": "code",
   "execution_count": 3,
   "metadata": {},
   "outputs": [],
   "source": [
    "stk_object.Target_Loader(\"../../Input_Files/Targets_File.txt\")\n",
    "stk_object.Satellite_Loader(\"../../Input_Files/Satellites_File.txt\")"
   ]
  },
  {
   "cell_type": "code",
   "execution_count": 4,
   "metadata": {},
   "outputs": [
    {
     "name": "stdout",
     "output_type": "stream",
     "text": [
      "- Computing_AER Data/Default [==========] 150/150 [100%] in 4.5s (32.84/s)      \n",
      "- Computing_Sat Angles Data [==========] 150/150 [100%] in 1.8s (86.06/s)       \n"
     ]
    },
    {
     "data": {
      "text/plain": [
       "0"
      ]
     },
     "execution_count": 4,
     "metadata": {},
     "output_type": "execute_result"
    }
   ],
   "source": [
    "stk_object.dt = 30\n",
    "stk_object.Generate_Planning_Data()"
   ]
  },
  {
   "cell_type": "code",
   "execution_count": 11,
   "metadata": {},
   "outputs": [
    {
     "name": "stdout",
     "output_type": "stream",
     "text": [
      "- Planning_Data [==========] 4860/4860 [100%] in 1:27.9 (55.37/s)               \n"
     ]
    },
    {
     "data": {
      "text/plain": [
       "0"
      ]
     },
     "execution_count": 11,
     "metadata": {},
     "output_type": "execute_result"
    }
   ],
   "source": [
    "stk_object.Plan_Data(slew_rate=0.05)"
   ]
  },
  {
   "cell_type": "code",
   "execution_count": 12,
   "metadata": {},
   "outputs": [
    {
     "name": "stdout",
     "output_type": "stream",
     "text": [
      "    Unplanned Data (%)  Planned Data (%)\n",
      "0            64.506173         27.160494\n",
      "1            73.765432         50.000000\n",
      "2            61.728395         48.456790\n",
      "3            70.061728         45.370370\n",
      "4            68.209877         49.382716\n",
      "5            66.975309         42.592593\n",
      "6            57.716049         53.395062\n",
      "7            83.641975         74.382716\n",
      "8            65.740741         55.246914\n",
      "9            64.197531         44.753086\n",
      "10           62.345679         41.049383\n",
      "11           63.580247         30.555556\n",
      "12           62.962963         23.148148\n",
      "13           70.987654         48.456790\n",
      "14           67.901235         48.765432\n",
      "Unplanned Data (%)    66.954733\n",
      "Planned Data (%)      45.514403\n",
      "dtype: float64\n"
     ]
    }
   ],
   "source": [
    "data_comparison = {}\n",
    "data_comparison[\"Unplanned Data (%)\"] = [len(np.unique(stk_object.Planning_Data[stk_object.Planning_Data['Target'].values==tar_num]['Bin Number'].values))/324*100 for tar_num in range(len(stk_object.targets))]\n",
    "data_comparison[\"Planned Data (%)\"] = [len(np.unique(stk_object.Planned_Data[stk_object.Planned_Data['Target'].values==tar_num]['Bin Number'].values))/324*100 for tar_num in range(len(stk_object.targets))]\n",
    "\n",
    "data_comparison = pd.DataFrame(data_comparison)\n",
    "print(data_comparison)\n",
    "print(data_comparison.mean())"
   ]
  },
  {
   "cell_type": "code",
   "execution_count": 18,
   "metadata": {},
   "outputs": [
    {
     "ename": "AttributeError",
     "evalue": "'Frame' object has no attribute 'add_traces'",
     "output_type": "error",
     "traceback": [
      "\u001b[1;31m---------------------------------------------------------------------------\u001b[0m",
      "\u001b[1;31mAttributeError\u001b[0m                            Traceback (most recent call last)",
      "Cell \u001b[1;32mIn[18], line 5\u001b[0m\n\u001b[0;32m      3\u001b[0m \u001b[38;5;66;03m# fig.update_xaxes(range = [650,2250])\u001b[39;00m\n\u001b[0;32m      4\u001b[0m \u001b[38;5;28;01mfor\u001b[39;00m sat_num \u001b[38;5;129;01min\u001b[39;00m \u001b[38;5;28mrange\u001b[39m(\u001b[38;5;28mlen\u001b[39m(stk_object\u001b[38;5;241m.\u001b[39msatellites)):\n\u001b[1;32m----> 5\u001b[0m     \u001b[43mfig\u001b[49m\u001b[38;5;241;43m.\u001b[39;49m\u001b[43mframes\u001b[49m\u001b[43m[\u001b[49m\u001b[43msat_num\u001b[49m\u001b[43m]\u001b[49m\u001b[38;5;241;43m.\u001b[39;49m\u001b[43madd_traces\u001b[49m(\n\u001b[0;32m      6\u001b[0m         \u001b[38;5;28mlist\u001b[39m(px\u001b[38;5;241m.\u001b[39mscatter(stk_object\u001b[38;5;241m.\u001b[39mPlanned_Data[stk_object\u001b[38;5;241m.\u001b[39mPlanned_Data[\u001b[38;5;124m'\u001b[39m\u001b[38;5;124mSatellite\u001b[39m\u001b[38;5;124m'\u001b[39m]\u001b[38;5;241m==\u001b[39msat_num],x\u001b[38;5;241m=\u001b[39m\u001b[38;5;124m\"\u001b[39m\u001b[38;5;124mTime\u001b[39m\u001b[38;5;124m\"\u001b[39m,y\u001b[38;5;241m=\u001b[39m\u001b[38;5;124m\"\u001b[39m\u001b[38;5;124mTarget\u001b[39m\u001b[38;5;124m\"\u001b[39m,hover_data\u001b[38;5;241m=\u001b[39m\u001b[38;5;124m\"\u001b[39m\u001b[38;5;124mCross Track\u001b[39m\u001b[38;5;124m\"\u001b[39m)\u001b[38;5;241m.\u001b[39mselect_traces())\n\u001b[0;32m      7\u001b[0m     )\n\u001b[0;32m      8\u001b[0m fig\u001b[38;5;241m.\u001b[39mupdate_layout(title\u001b[38;5;241m=\u001b[39m\u001b[38;5;124m\"\u001b[39m\u001b[38;5;124mPlanning Data vs Planned Data\u001b[39m\u001b[38;5;124m\"\u001b[39m,\n\u001b[0;32m      9\u001b[0m                   showlegend\u001b[38;5;241m=\u001b[39m\u001b[38;5;28;01mTrue\u001b[39;00m)\n\u001b[0;32m     10\u001b[0m fig\u001b[38;5;241m.\u001b[39mshow()\n",
      "\u001b[1;31mAttributeError\u001b[0m: 'Frame' object has no attribute 'add_traces'"
     ]
    }
   ],
   "source": [
    "# fig = px.scatter(stk_object.Planning_Data.sort_values(by=\"Satellite\"),x=\"Time\",y=\"Target\",hover_data=\"Cross Track\",animation_frame=\"Satellite\",color_discrete_sequence=['grey'])\n",
    "# fig.update_traces(marker={'size': 3,'color':'grey'})\n",
    "# # fig.update_xaxes(range = [650,2250])\n",
    "# for sat_num in range(len(stk_object.satellites)):\n",
    "#     fig.frames[sat_num].add_traces(\n",
    "#         list(px.scatter(stk_object.Planned_Data[stk_object.Planned_Data['Satellite']==sat_num],x=\"Time\",y=\"Target\",hover_data=\"Cross Track\").select_traces())\n",
    "#     )\n",
    "# fig.update_layout(title=\"Planning Data vs Planned Data\",\n",
    "#                   showlegend=True)\n",
    "# fig.show()"
   ]
  }
 ],
 "metadata": {
  "kernelspec": {
   "display_name": "Python 3",
   "language": "python",
   "name": "python3"
  },
  "language_info": {
   "codemirror_mode": {
    "name": "ipython",
    "version": 3
   },
   "file_extension": ".py",
   "mimetype": "text/x-python",
   "name": "python",
   "nbconvert_exporter": "python",
   "pygments_lexer": "ipython3",
   "version": "3.12.0"
  }
 },
 "nbformat": 4,
 "nbformat_minor": 2
}
