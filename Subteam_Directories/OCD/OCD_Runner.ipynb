{
 "cells": [
  {
   "cell_type": "code",
   "execution_count": 1,
   "metadata": {},
   "outputs": [],
   "source": [
    "import sys\n",
    "sys.path.append(\"../../\")\n",
    "from STK_Sim import *\n",
    "\n",
    "Filename = 'AERO_402_Further_Assessment'\n",
    "\n",
    "stk_object = STK_Simulation(False,Filename)"
   ]
  },
  {
   "cell_type": "code",
   "execution_count": 20,
   "metadata": {},
   "outputs": [],
   "source": [
    "# Loading targets into stk from file.\n",
    "stk_object.set_sim_time(days=1)\n",
    "stk_object.Target_Loader(\"../../Input_Files/Targets_15.txt\")\n",
    "stk_object.Satellite_Loader(\"../../Input_Files/Satellites_File.txt\")"
   ]
  },
  {
   "cell_type": "code",
   "execution_count": null,
   "metadata": {},
   "outputs": [],
   "source": [
    "stk_object.Compute_AzEl()\n",
    "\n",
    "percentages = [np.count_nonzero(stk_object.target_bins[idx])/324*100 for idx in range(len(stk_object.targets))]\n",
    "times = [np.max(stk_object.target_times[idx])/86400 for idx in range(len(stk_object.targets))]\n",
    "print(f\"Percentage = {np.average(percentages)}\")\n",
    "print(f\"Time = {np.average(times)}\")"
   ]
  },
  {
   "cell_type": "code",
   "execution_count": null,
   "metadata": {},
   "outputs": [],
   "source": [
    "self = stk_object\n",
    "enable_print = True\n",
    "\n",
    "stk_object.set_sim_time(days=1)\n",
    "\n",
    "self.Reset_Target_Bins()\n",
    "with alive_bar(len(self.targets)*len(self.satellites),force_tty=True,bar='classic',title='- Computing_AzEl',length=10,disable=not(enable_print)) as bar:\n",
    "    for sat in self.satellites:\n",
    "        for tar_num,tar in enumerate(self.targets):\n",
    "            access = tar.GetAccessToObject(sat)\n",
    "            access.ComputeAccess()\n",
    "            Intervals1 = access.DataProviders.GetItemByName('AER Data').Group.Item(0).ExecElements(self.root.CurrentScenario.StartTime,\n",
    "                                                                                        self.root.CurrentScenario.StopTime,\n",
    "                                                                                        self.dt,['Time','Azimuth','Elevation']).Intervals\n",
    "            Intervals2 = access.DataProviders.GetItemByName('Sat Angles Data').ExecElements(self.root.CurrentScenario.StartTime,\n",
    "                                                                                        self.root.CurrentScenario.StopTime,\n",
    "                                                                                        self.dt,[\"Cross Track\",\"Along Track\"]).Intervals                                                                                                    \n",
    "            for Int1,Int2 in zip(Intervals1,Intervals2):\n",
    "                print(\"HERE\")\n",
    "                times_az = Int1.MultipleThresholdCrossings(\"Azimuth\",az_range)\n",
    "                times_el = Int1.MultipleThresholdCrossings(\"Elevation\",el_range)\n",
    "                for i,t_az in enumerate(times_az[1:]):\n",
    "                    for j,t_el in enumerate(times_el[1:]):\n",
    "                        if len(t_az)>0 and len(t_el)>0:\n",
    "                            for t in t_el:\n",
    "                                if (any(t[0] <= value <= t[1] for value in t_az[0]) or \n",
    "                                    any(t_az[0][0] <= value <= t_az[0][1] for value in t)):\n",
    "                                    Int2.ThresholdCrossings(\"Time\",t[0])\n",
    "            bar()"
   ]
  }
 ],
 "metadata": {
  "kernelspec": {
   "display_name": "Python 3",
   "language": "python",
   "name": "python3"
  },
  "language_info": {
   "codemirror_mode": {
    "name": "ipython",
    "version": 3
   },
   "file_extension": ".py",
   "mimetype": "text/x-python",
   "name": "python",
   "nbconvert_exporter": "python",
   "pygments_lexer": "ipython3",
   "version": "3.11.7"
  }
 },
 "nbformat": 4,
 "nbformat_minor": 2
}
