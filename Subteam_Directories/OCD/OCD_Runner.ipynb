{
 "cells": [
  {
   "cell_type": "code",
   "execution_count": 1,
   "metadata": {},
   "outputs": [],
   "source": [
    "import sys\n",
    "sys.path.append(\"../../\")\n",
    "from STK_Sim import *\n",
    "\n",
    "Filename = 'AERO_402_Further_Assessment'\n",
    "\n",
    "stk_object = STK_Simulation(False,Filename)"
   ]
  },
  {
   "cell_type": "code",
   "execution_count": 7,
   "metadata": {},
   "outputs": [],
   "source": [
    "# Setting scenario time variables\n",
    "stk_object.root.UnitPreferences.SetCurrentUnit(\"DateFormat\", \"UTCG\")\n",
    "start_time = time_convert(stk_object.root.CurrentScenario.StartTime)\n",
    "duration = datetime.timedelta(days=5, seconds=0, microseconds=0, milliseconds=0, minutes=0, hours=0, weeks=0)\n",
    "stop_time=(start_time+duration).strftime(\"%d %b %Y %H:%M:%S.%f\")\n",
    "stk_object.root.CurrentScenario.StopTime=stop_time\n",
    "stk_object.root.UnitPreferences.SetCurrentUnit(\"DateFormat\", \"EpSec\")\n",
    "opt = Optimizer(stk_object,5,5,3)\n",
    "clear_output(wait=False)"
   ]
  },
  {
   "cell_type": "code",
   "execution_count": 3,
   "metadata": {},
   "outputs": [],
   "source": [
    "# Loading targets into stk from file.\n",
    "stk_object.Target_Loader(\"../../Input_Files/Targets_15.txt\")\n",
    "stk_object.Satellite_Loader(\"../../Input_Files/Satellites_File.txt\")"
   ]
  },
  {
   "cell_type": "code",
   "execution_count": null,
   "metadata": {},
   "outputs": [],
   "source": [
    "stk_object.dt = 30\n",
    "stk_object.Interpolate = True\n",
    "res = opt.run(read=True)\n",
    "opt.cost_function(res[0][0])"
   ]
  },
  {
   "cell_type": "code",
   "execution_count": null,
   "metadata": {},
   "outputs": [],
   "source": [
    "stk_object.root.UnitPreferences.SetCurrentUnit(\"DateFormat\", \"UTCG\")\n",
    "start_time = time_convert(stk_object.root.CurrentScenario.StartTime)\n",
    "duration = datetime.timedelta(days=30, seconds=0, microseconds=0, milliseconds=0, minutes=0, hours=0, weeks=0)\n",
    "stop_time=(start_time+duration).strftime(\"%d %b %Y %H:%M:%S.%f\")\n",
    "stk_object.root.CurrentScenario.StopTime=stop_time\n",
    "stk_object.root.UnitPreferences.SetCurrentUnit(\"DateFormat\", \"EpSec\")\n",
    "\n",
    "stk_object.dt = 2.5\n",
    "stk_object.Generate_Holding_Data()"
   ]
  },
  {
   "cell_type": "code",
   "execution_count": null,
   "metadata": {},
   "outputs": [],
   "source": [
    "import matplotlib.pyplot as plt\n",
    "\n",
    "def compute_orbital_resonance(Individual,error):\n",
    "    Re = 6378\n",
    "    J2 = 1082.64e-6\n",
    "    T_sid = 86164.0905\n",
    "    mu = 3.986004418e5\n",
    "    Alt = Individual[0]\n",
    "    Inc = Individual[1]\n",
    "    a = Re+Alt\n",
    "    T = 2*np.pi*(a**3/mu)**0.5\n",
    "    rate = (-3*J2*(Re/a)**2*np.cos(Inc)-4*np.pi/T_sid*(a**3/mu)**0.5)*np.pi\n",
    "    i = 1\n",
    "    while True:\n",
    "        res = rate*i%(2*np.pi)\n",
    "        i+=1\n",
    "        if res < np.radians(error):\n",
    "            break\n",
    "    return(T*i/86400,np.radians(res))\n",
    "\n",
    "incs = np.linspace(60,120,5)\n",
    "for alt in [580,600,620]:\n",
    "    plt.plot(incs,[compute_orbital_resonance([alt,inc],5)[0] for inc in incs],label=f\"{alt} km\")\n",
    "plt.legend()\n",
    "# plt.yscale('log')\n",
    "plt.show()"
   ]
  },
  {
   "cell_type": "code",
   "execution_count": null,
   "metadata": {},
   "outputs": [],
   "source": [
    "stk_object.Plan(slew_rate=1,cone_angle=20.0)\n",
    "df_1 = stk_object.Planned_Data.copy()\n",
    "df_1['Slew Rate'] = 1\n",
    "stk_object.Plan(slew_rate=0,cone_angle=20.0)\n",
    "df_0 = stk_object.Planned_Data.copy()\n",
    "df_0['Slew Rate'] = 0\n",
    "df = pd.concat([df_1, df_0], ignore_index=True, sort=False)"
   ]
  },
  {
   "cell_type": "code",
   "execution_count": null,
   "metadata": {},
   "outputs": [],
   "source": [
    "data_comparison = {}\n",
    "data_comparison[\"Unplanned (%)\"] = [len(np.unique(stk_object.Holding_Data[stk_object.Holding_Data['Target'].values==tar_num]['Bin Number'].values))/324*100 for tar_num in range(len(stk_object.targets))]\n",
    "data_comparison[\"Planned (Time)\"] = [max(stk_object.Holding_Data[stk_object.Holding_Data['Target'].values==tar_num]['Time'].values)/86400 for tar_num in range(len(stk_object.targets))]\n",
    "# data_comparison[\"Planned (%)\"] = [len(np.unique(stk_object.Planned_Data[stk_object.Planned_Data['Target'].values==tar_num]['Bin Number'].values))/324*100 for tar_num in range(len(stk_object.targets))]\n",
    "# data_comparison[\"Planned (Time)\"] = [max(stk_object.Planned_Data[stk_object.Planned_Data['Target'].values==tar_num]['Time'].values)/86400 for tar_num in range(len(stk_object.targets))]\n",
    "\n",
    "data_comparison = pd.DataFrame(data_comparison)\n",
    "print(data_comparison)\n",
    "print(data_comparison.describe())"
   ]
  },
  {
   "cell_type": "code",
   "execution_count": null,
   "metadata": {},
   "outputs": [],
   "source": [
    "fig = px.scatter(stk_object.Planned_Data.sort_values(by=\"Target\"),x=\"Time\",y=\"Bin Number\",hover_data=\"Bin Number\",color=\"Satellite\",animation_frame=\"Target\")\n",
    "fig.show()"
   ]
  },
  {
   "cell_type": "code",
   "execution_count": null,
   "metadata": {},
   "outputs": [],
   "source": [
    "df['Satellite'] = df['Satellite'].astype(int)\n",
    "df['Satellite'] = df['Satellite'].astype(str)\n",
    "fig = px.scatter(df.sort_values(by=\"Slew Rate\"),x=\"Cross Track\",y=\"Along Track\",\n",
    "                 color=\"Satellite\",\n",
    "                 facet_col=\"Slew Rate\",\n",
    "                 labels={\"Cross Track\":\"Cross Track [deg]\",\n",
    "                         \"Along Track\":\"Along Track [deg]\",\n",
    "                         \"Slew Rate\":\"Slew Rate [deg/s]\"})\n",
    "fig.update_layout(width=800,\n",
    "                  height=400,\n",
    "                  title=\"Planned Data for Various Slewing Rates\")\n",
    "fig.update_layout(legend=dict(\n",
    "    yanchor=\"top\",\n",
    "    y=0.99,\n",
    "    xanchor=\"left\",\n",
    "    x=0.01\n",
    "))\n",
    "fig.update_xaxes(range=(-70,70))\n",
    "fig.update_yaxes(range=(-70,70))\n",
    "fig.show()"
   ]
  }
 ],
 "metadata": {
  "kernelspec": {
   "display_name": "Python 3",
   "language": "python",
   "name": "python3"
  },
  "language_info": {
   "codemirror_mode": {
    "name": "ipython",
    "version": 3
   },
   "file_extension": ".py",
   "mimetype": "text/x-python",
   "name": "python",
   "nbconvert_exporter": "python",
   "pygments_lexer": "ipython3",
   "version": "3.12.0"
  }
 },
 "nbformat": 4,
 "nbformat_minor": 2
}
