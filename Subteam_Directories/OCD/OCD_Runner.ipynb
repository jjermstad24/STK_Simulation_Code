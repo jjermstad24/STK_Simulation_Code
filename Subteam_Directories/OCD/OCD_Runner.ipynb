{
 "cells": [
  {
   "cell_type": "code",
   "execution_count": 1,
   "metadata": {},
   "outputs": [],
   "source": [
    "import sys\n",
    "sys.path.append(\"../../\")\n",
    "from STK_Sim import *\n",
    "\n",
    "Filename = 'AERO_402_Further_Assessment'\n",
    "\n",
    "stk_object = STK_Simulation(False,Filename)"
   ]
  },
  {
   "cell_type": "code",
   "execution_count": 2,
   "metadata": {},
   "outputs": [],
   "source": [
    "# Setting scenario time variables\n",
    "stk_object.root.UnitPreferences.SetCurrentUnit(\"DateFormat\", \"UTCG\")\n",
    "start_time = time_convert(stk_object.root.CurrentScenario.StartTime)\n",
    "duration = datetime.timedelta(days=1, seconds=0, microseconds=0, milliseconds=0, minutes=0, hours=0, weeks=0)\n",
    "stop_time=(start_time+duration).strftime(\"%d %b %Y %H:%M:%S.%f\")\n",
    "stk_object.root.CurrentScenario.StopTime=stop_time\n",
    "stk_object.root.UnitPreferences.SetCurrentUnit(\"DateFormat\", \"EpSec\")"
   ]
  },
  {
   "cell_type": "code",
   "execution_count": 3,
   "metadata": {},
   "outputs": [],
   "source": [
    "stk_object.Target_Loader(\"../../Input_Files/Targets_File.txt\")\n",
    "stk_object.Satellite_Loader(\"../../Input_Files/Satellites_File.txt\")"
   ]
  },
  {
   "cell_type": "code",
   "execution_count": 4,
   "metadata": {},
   "outputs": [
    {
     "name": "stdout",
     "output_type": "stream",
     "text": [
      "- Computing_AER Data/Default [==========] 150/150 [100%] in 20.4s (7.36/s)      \n",
      "- Computing_Sat Angles Data [==========] 150/150 [100%] in 6.8s (22.28/s)       \n"
     ]
    }
   ],
   "source": [
    "stk_object.dt = 2.5\n",
    "AER_Data = stk_object.Get_Access_DP(stk_object.targets,\n",
    "                                    stk_object.satellites,\n",
    "                                    \"AER Data/Default\",\n",
    "                                    ['Access Number','Time','Azimuth','Elevation'])\n",
    "Cross_Track = stk_object.Get_Access_DP(stk_object.satellites,\n",
    "                                       stk_object.targets,\n",
    "                                       \"Sat Angles Data\",\n",
    "                                       [\"Cross Track\"])"
   ]
  },
  {
   "cell_type": "code",
   "execution_count": 5,
   "metadata": {},
   "outputs": [],
   "source": [
    "total_dict = {key:[] for key in AER_Data[0][0]}\n",
    "total_dict['Satellite'] = []\n",
    "total_dict['Target'] = []\n",
    "total_dict['Cross Track'] = []\n",
    "\n",
    "tar_bin_count = np.zeros([len(stk_object.targets),36,9])\n",
    "for tar_num,tar in enumerate(stk_object.targets):\n",
    "    data_holder = AER_Data[tar_num].copy()\n",
    "    for sat_num,df in enumerate(data_holder):\n",
    "        df['Elevation'] = np.abs(df['Elevation'])\n",
    "        df['Target'] = tar_num*np.ones_like(df[list(df.keys())[0]]).astype(int)\n",
    "        df['Satellite'] = sat_num*np.ones_like(df[list(df.keys())[0]]).astype(int)\n",
    "        df['Cross Track'] = Cross_Track[sat_num][tar_num]['Cross Track']\n",
    "        for key in total_dict:\n",
    "            total_dict[key].extend(df[key])\n",
    "\n",
    "bins = []\n",
    "for idx in range(len(total_dict['Target'])):\n",
    "    az = total_dict['Azimuth'][idx]\n",
    "    el = total_dict['Elevation'][idx]\n",
    "    bins.append(int(az//10*9+el//10))\n",
    "\n",
    "total_dict[\"Bin Number\"] = bins\n",
    "total_dict = pd.DataFrame(total_dict).sort_values(by=\"Time\")"
   ]
  },
  {
   "cell_type": "code",
   "execution_count": 6,
   "metadata": {},
   "outputs": [
    {
     "name": "stdout",
     "output_type": "stream",
     "text": [
      "Target_0 : 88.58%\n",
      "Target_1 : 95.06%\n",
      "Target_2 : 85.49%\n",
      "Target_3 : 88.58%\n",
      "Target_4 : 91.05%\n",
      "Target_5 : 90.43%\n",
      "Target_6 : 79.01%\n",
      "Target_7 : 99.69%\n",
      "Target_8 : 91.36%\n",
      "Target_9 : 78.70%\n",
      "Target_10 : 81.79%\n",
      "Target_11 : 84.57%\n",
      "Target_12 : 83.64%\n",
      "Target_13 : 95.06%\n",
      "Target_14 : 84.57%\n",
      "Total : 87.84%\n"
     ]
    }
   ],
   "source": [
    "hash_map = {}\n",
    "for tar_num in range(len(stk_object.targets)):\n",
    "    hash_map[tar_num] = {}\n",
    "    tar_window = total_dict['Target'].values==tar_num\n",
    "    for bin_num in range(324):\n",
    "        bin_window = total_dict['Bin Number'].values==bin_num\n",
    "        hash_map[tar_num][bin_num] = {\"Time\":total_dict['Time'].values[bin_window&tar_window],\n",
    "                                               \"Satellite\":total_dict['Satellite'].values[bin_window&tar_window].astype(int),\n",
    "                                               \"Cross Track\":total_dict['Cross Track'].values[bin_window&tar_window]}\n",
    "percentages = [len(np.unique(total_dict[total_dict['Target'].values==tar_num]['Bin Number'].values))/324*100 for tar_num in range(len(stk_object.targets))]\n",
    "for tar_num,percentage in enumerate(percentages):\n",
    "    print(f\"Target_{tar_num} : {percentage:.2f}%\")\n",
    "print(f\"Total : {sum(percentages)/len(percentages):.2f}%\")"
   ]
  },
  {
   "cell_type": "code",
   "execution_count": 7,
   "metadata": {},
   "outputs": [
    {
     "name": "stdout",
     "output_type": "stream",
     "text": [
      "Target_0 : 88.58%\n",
      "Target_1 : 95.06%\n",
      "Target_2 : 85.49%\n",
      "Target_3 : 88.58%\n",
      "Target_4 : 91.05%\n",
      "Target_5 : 90.43%\n",
      "Target_6 : 79.01%\n",
      "Target_7 : 99.69%\n",
      "Target_8 : 91.36%\n",
      "Target_9 : 78.70%\n",
      "Target_10 : 81.79%\n",
      "Target_11 : 84.57%\n",
      "Target_12 : 83.64%\n",
      "Target_13 : 95.06%\n",
      "Target_14 : 84.57%\n",
      "Total : 87.84%\n"
     ]
    }
   ],
   "source": [
    "tar_chosen = []\n",
    "for tar_num in range(len(stk_object.targets)):\n",
    "    tar_chosen.append([])\n",
    "    for bin_num in range(324):\n",
    "        if len(hash_map[tar_num][bin_num]['Time']) > 0:\n",
    "            tar_chosen[-1].append([hash_map[tar_num][bin_num][key][0] for key in ['Time','Satellite','Cross Track']])\n",
    "percentages = [len(chosen)/324*100 for chosen in tar_chosen]\n",
    "for tar_num,percentage in enumerate(percentages):\n",
    "    print(f\"Target_{tar_num} : {percentage:.2f}%\")\n",
    "print(f\"Total : {sum(percentages)/len(percentages):.2f}%\")"
   ]
  },
  {
   "cell_type": "code",
   "execution_count": 8,
   "metadata": {},
   "outputs": [
    {
     "name": "stdout",
     "output_type": "stream",
     "text": [
      "- Computing_AzEl [==========] 150/150 [100%] in 18.5s (8.11/s)                  ▄▆█ 57/150 [38%] in 7s (~12s, 8.0/s) \n",
      "Target_0 : 88.58%\n",
      "Target_1 : 95.06%\n",
      "Target_2 : 85.49%\n",
      "Target_3 : 88.58%\n",
      "Target_4 : 91.05%\n",
      "Target_5 : 90.43%\n",
      "Target_6 : 79.01%\n",
      "Target_7 : 99.69%\n",
      "Target_8 : 91.36%\n",
      "Target_9 : 78.70%\n",
      "Target_10 : 81.79%\n",
      "Target_11 : 84.57%\n",
      "Target_12 : 83.64%\n",
      "Target_13 : 95.06%\n",
      "Target_14 : 84.57%\n",
      "Total : 87.84%\n"
     ]
    }
   ],
   "source": [
    "stk_object.dt = 2.5\n",
    "stk_object.Interpolate = False\n",
    "stk_object.Satellite_Loader(\"../../Input_Files/Satellites_File.txt\")\n",
    "stk_object.Compute_AzEl()\n",
    "percentages = [100*np.count_nonzero(stk_object.target_bins[idx])/324 for idx in range(len(stk_object.targets))]\n",
    "times = [stk_object.target_times[idx]/86400 for idx in range(len(stk_object.targets))]\n",
    "for tar_num,percentage in enumerate(percentages):\n",
    "    print(f\"Target_{tar_num} : {percentage:.2f}%\")\n",
    "print(f\"Total : {sum(percentages)/len(percentages):.2f}%\")"
   ]
  },
  {
   "cell_type": "code",
   "execution_count": 1,
   "metadata": {},
   "outputs": [],
   "source": [
    "def check_manueverability(theta1,time1,theta2,time2):\n",
    "    dtheta = abs(theta2-theta1)\n",
    "    dtime = time2-time1\n",
    "    if dtime == 0:\n",
    "        return False,0\n",
    "    else:\n",
    "        return dtheta/dtime<0.1,dtime"
   ]
  },
  {
   "cell_type": "code",
   "execution_count": null,
   "metadata": {},
   "outputs": [],
   "source": [
    "Nodes = []\n",
    "Edges = []\n",
    "captured_bins = [[] for _ in range(len(stk_object.targets))]\n",
    "for sat_num in range(len(stk_object.satellites))[:1]:\n",
    "    sat_df = total_dict[total_dict['Satellite'].values==sat_num]\n",
    "    for i in range(len(sat_df))[:96]:\n",
    "        Nodes.append(i)\n",
    "        Edges.append([])\n",
    "        bin_window = sat_df['Bin Number'].values == sat_df['Bin Number'].values[i]\n",
    "        target_window = sat_df['Target'].values == sat_df['Target'].values[i]\n",
    "        time_window = (sat_df['Time'].values < sat_df['Time'].values[i]+200)&(sat_df['Time'].values > sat_df['Time'].values[i])\n",
    "        new_df = sat_df[time_window&~(bin_window&target_window)]\n",
    "        for j in range(len(new_df)):\n",
    "            feasible,transition_time = check_manueverability(sat_df['Cross Track'].values[i],\n",
    "                                                            sat_df['Time'].values[i],\n",
    "                                                            new_df['Cross Track'].values[j],\n",
    "                                                            new_df['Time'].values[j])\n",
    "            if feasible and j!=i:\n",
    "                Edges[-1].append(j+i+1)\n",
    "        # if len(Edges[-1])==0:\n",
    "        #     Edges[-1].append(i+1)\n",
    "            \n",
    "network = {key:value for key,value in zip(Nodes,Edges)}\n",
    "\n",
    "sum([len(case) for case in Edges])"
   ]
  },
  {
   "cell_type": "code",
   "execution_count": null,
   "metadata": {},
   "outputs": [],
   "source": [
    "node_x = []\n",
    "node_y = []\n",
    "\n",
    "edge_x = []\n",
    "edge_y = []\n",
    "\n",
    "for idx,node in enumerate(network):\n",
    "    node_x.append(sat_df['Time'].values[idx])\n",
    "    node_y.append(sat_df['Target'].values[idx])\n",
    "    for edge in network[node]:\n",
    "        edge_x.append(sat_df['Time'].values[idx])\n",
    "        edge_x.append(sat_df['Time'].values[edge])\n",
    "        edge_y.append(sat_df['Target'].values[idx])\n",
    "        edge_y.append(sat_df['Target'].values[edge])\n",
    "\n",
    "node_trace = go.Scatter(\n",
    "    x=node_x, y=node_y,\n",
    "    line=dict(width=0.5, color='blue'),\n",
    "    hovertext=Nodes,\n",
    "    mode='markers')\n",
    "\n",
    "edge_trace = go.Scatter(\n",
    "    x=edge_x, y=edge_y,\n",
    "    line=dict(width=0.5, color='grey'),\n",
    "    hoverinfo='none',\n",
    "    mode='lines')\n",
    "\n",
    "fig = go.Figure()\n",
    "fig.add_trace(edge_trace)\n",
    "fig.add_trace(node_trace)\n",
    "fig.show()"
   ]
  }
 ],
 "metadata": {
  "kernelspec": {
   "display_name": "Python 3",
   "language": "python",
   "name": "python3"
  },
  "language_info": {
   "codemirror_mode": {
    "name": "ipython",
    "version": 3
   },
   "file_extension": ".py",
   "mimetype": "text/x-python",
   "name": "python",
   "nbconvert_exporter": "python",
   "pygments_lexer": "ipython3",
   "version": "3.12.0"
  }
 },
 "nbformat": 4,
 "nbformat_minor": 2
}
