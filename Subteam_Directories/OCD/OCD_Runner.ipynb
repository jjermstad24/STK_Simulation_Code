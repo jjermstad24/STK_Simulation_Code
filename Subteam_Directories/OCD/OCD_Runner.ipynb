{
 "cells": [
  {
   "cell_type": "code",
   "execution_count": 1,
   "metadata": {},
   "outputs": [],
   "source": [
    "import sys\n",
    "sys.path.append(\"../../\")\n",
    "from STK_Sim import *\n",
    "\n",
    "Filename = 'AERO_402_Further_Assessment'\n",
    "\n",
    "stk_object = STK_Simulation(False,Filename)"
   ]
  },
  {
   "cell_type": "code",
   "execution_count": 70,
   "metadata": {},
   "outputs": [],
   "source": [
    "# Loading targets into stk from file.\n",
    "stk_object.set_sim_time(days=18)\n",
    "stk_object.Target_Loader(\"../../Input_Files/Targets_65.txt\")\n",
    "stk_object.Satellite_Loader(\"../../Input_Files/Satellites_File.txt\")"
   ]
  },
  {
   "cell_type": "code",
   "execution_count": 3,
   "metadata": {},
   "outputs": [],
   "source": [
    "stk_object.Compute_AzEl()"
   ]
  },
  {
   "cell_type": "code",
   "execution_count": 4,
   "metadata": {},
   "outputs": [],
   "source": [
    "stk_object.Generate_Pre_Planning_Data()\n",
    "stk_object.Plan(1,20)"
   ]
  },
  {
   "cell_type": "code",
   "execution_count": 5,
   "metadata": {},
   "outputs": [],
   "source": [
    "data_comparison = {}\n",
    "data_comparison[\"Unplanned (%)\"] = [np.count_nonzero(stk_object.target_bins[tar_num])/324*100 for tar_num in range(len(stk_object.targets))]\n",
    "data_comparison[\"Unplanned (Time)\"] = [np.max(stk_object.target_times[tar_num])/86400 for tar_num in range(len(stk_object.targets))]\n",
    "data_comparison[\"Planned (%)\"] = [len(np.unique(stk_object.Planned_Data[stk_object.Planned_Data['Target'].values==tar_num]['Bin Number'].values))/324*100 for tar_num in range(len(stk_object.targets))]\n",
    "data_comparison[\"Planned (Time)\"] = [max(stk_object.Planned_Data[stk_object.Planned_Data['Target'].values==tar_num]['Time'].values)/86400 for tar_num in range(len(stk_object.targets))]\n",
    "\n",
    "data_comparison = pd.DataFrame(data_comparison)\n",
    "print(data_comparison)\n",
    "print(data_comparison.describe())"
   ]
  },
  {
   "cell_type": "code",
   "execution_count": null,
   "metadata": {},
   "outputs": [],
   "source": [
    "self = stk_object\n",
    "\n",
    "az_range = list(range(0,360,10))\n",
    "el_range = list(range(0,90,10))\n",
    "\n",
    "self.Reset_Target_Bins()\n",
    "\n",
    "# with alive_bar(len(self.targets)*len(self.satellites),force_tty=True,bar='classic',title='- Computing_Access',length=10) as bar:\n",
    "#     for sat_num,sat in enumerate(self.satellites):\n",
    "#         for tar_num,tar in enumerate(self.targets):\n",
    "#             tar.GetAccessToObject(sat).ComputeAccess()\n",
    "#             sat.GetAccessToObject(tar).ComputeAccess()\n",
    "#             bar()\n",
    "\n",
    "self.Pre_Planning_Hash_Map = {idx:{bin_num:[] for bin_num in range(324)} for idx in range(len(self.targets))}\n",
    "\n",
    "with alive_bar(len(self.targets)*len(self.satellites),force_tty=True,bar='classic',title='- Getting_AzEl',length=10) as bar:\n",
    "    for sat_num,sat in enumerate(self.satellites):\n",
    "        for tar_num,tar in enumerate(self.targets):\n",
    "            access = tar.GetAccessToObject(sat)\n",
    "            Intervals = access.DataProviders.GetItemByName('AER Data').Group.Item(0).ExecElements(self.root.CurrentScenario.StartTime,\n",
    "                                                                                        self.root.CurrentScenario.StopTime,\n",
    "                                                                                        self.dt,['Time','Azimuth','Elevation']).Intervals\n",
    "            start_times = []\n",
    "            stop_times = []\n",
    "            bins = []\n",
    "            for Int in Intervals:\n",
    "                times_az = Int.MultipleThresholdCrossings(\"Azimuth\",az_range)\n",
    "                times_el = Int.MultipleThresholdCrossings(\"Elevation\",el_range)\n",
    "                for i,t_az in enumerate(times_az[1:]):\n",
    "                    for j,t_el in enumerate(times_el[1:]):\n",
    "                        if len(t_az)>0 and len(t_el)>0:\n",
    "                            for t in t_el:\n",
    "                                if (any(t[0] <= value <= t[1] for value in t_az[0]) or \n",
    "                                    any(t_az[0][0] <= value <= t_az[0][1] for value in t)):\n",
    "                                    self.Update_Target_Bins(t_az[0][0],i*9+j,tar_num)\n",
    "                                    start_times.append(t_az[0][0]+.001)\n",
    "                                    stop_times.append(t_az[0][1]-.001)\n",
    "                                    bins.append(i*9+j)\n",
    "                                    \n",
    "            access = sat.GetAccessToObject(tar)\n",
    "            res = access.DataProviders.GetItemByName('Sat Angles Data').ExecSingleElementsArray(start_times,['Cross Track','Along Track'])\n",
    "            crosstrack = res.GetArray(0)\n",
    "            alongtrack = res.GetArray(1)\n",
    "            for b,t,ct,at in zip(bins,start_times,crosstrack,alongtrack):\n",
    "                self.Pre_Planning_Hash_Map[tar_num][b].append([t,ct,at,sat_num])\n",
    "            \n",
    "            res = access.DataProviders.GetItemByName('Sat Angles Data').ExecSingleElementsArray(stop_times,['Cross Track','Along Track'])\n",
    "            crosstrack = res.GetArray(0)\n",
    "            alongtrack = res.GetArray(1)\n",
    "            for b,t,ct,at in zip(bins,start_times,crosstrack,alongtrack):\n",
    "                self.Pre_Planning_Hash_Map[tar_num][b].append([t,ct,at,sat_num])\n",
    "            \n",
    "            bar()\n",
    "            \n",
    "with alive_bar(len(self.targets)*324,force_tty=True,bar='classic',title='- Sorting_Data',length=10) as bar:\n",
    "    for tar_num in range(len(self.targets)):\n",
    "        for bin_num in range(324):\n",
    "            a = np.array(self.Pre_Planning_Hash_Map[tar_num][bin_num],dtype=float)\n",
    "            if len(a) > 0:\n",
    "                self.Pre_Planning_Hash_Map[tar_num][bin_num] = a[a[:,0].argsort()]\n",
    "            bar()"
   ]
  },
  {
   "cell_type": "code",
   "execution_count": null,
   "metadata": {},
   "outputs": [],
   "source": [
    "stk_object.Plan(1,20)\n",
    "\n",
    "data_comparison = {}\n",
    "data_comparison[\"Unplanned (%)\"] = [np.count_nonzero(stk_object.target_bins[tar_num])/324*100 for tar_num in range(len(stk_object.targets))]\n",
    "data_comparison[\"Unplanned (Time)\"] = [np.max(stk_object.target_times[tar_num])/86400 for tar_num in range(len(stk_object.targets))]\n",
    "data_comparison[\"Planned (%)\"] = [len(np.unique(stk_object.Planned_Data[stk_object.Planned_Data['Target'].values==tar_num]['Bin Number'].values))/324*100 for tar_num in range(len(stk_object.targets))]\n",
    "data_comparison[\"Planned (Time)\"] = [np.max(stk_object.Planned_Data[stk_object.Planned_Data['Target'].values==tar_num]['Time'].values)/86400 for tar_num in range(len(stk_object.targets))]\n",
    "\n",
    "data_comparison = pd.DataFrame(data_comparison)\n",
    "print(data_comparison)\n",
    "print(data_comparison.describe())"
   ]
  },
  {
   "cell_type": "code",
   "execution_count": null,
   "metadata": {},
   "outputs": [],
   "source": [
    "fig = go.Figure()\n",
    "\n",
    "res = access.DataProviders.GetItemByName('Sat Angles Data').ExecElements(start_times,stop_times,60,['Time','Cross Track','Along Track'])\n",
    "df = res.DataSets.ToPandasDataFrame()\n",
    "df.dropna()\n",
    "\n",
    "fig.add_trace(go.Scatter(x=df['time'],y=df['cross track'],mode=\"markers\"))\n",
    "\n",
    "res = access.DataProviders.GetItemByName('Sat Angles Data').ExecSingleElementsArray(start_times,['Cross Track','Along Track'])\n",
    "crosstrack = res.GetArray(0)\n",
    "alongtrack = res.GetArray(1)\n",
    "fig.add_trace(go.Scatter(x=start_times,y=crosstrack,mode=\"markers\"))\n",
    "\n",
    "res = access.DataProviders.GetItemByName('Sat Angles Data').ExecSingleElementsArray(stop_times,['Cross Track','Along Track'])\n",
    "crosstrack = res.GetArray(0)\n",
    "alongtrack = res.GetArray(1)\n",
    "fig.add_trace(go.Scatter(x=stop_times,y=crosstrack,mode=\"markers\"))\n",
    "\n",
    "fig.show()"
   ]
  }
 ],
 "metadata": {
  "kernelspec": {
   "display_name": "Python 3",
   "language": "python",
   "name": "python3"
  },
  "language_info": {
   "codemirror_mode": {
    "name": "ipython",
    "version": 3
   },
   "file_extension": ".py",
   "mimetype": "text/x-python",
   "name": "python",
   "nbconvert_exporter": "python",
   "pygments_lexer": "ipython3",
   "version": "3.12.0"
  }
 },
 "nbformat": 4,
 "nbformat_minor": 2
}
