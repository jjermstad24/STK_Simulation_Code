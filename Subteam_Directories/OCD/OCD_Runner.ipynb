{
 "cells": [
  {
   "cell_type": "code",
   "execution_count": 2,
   "metadata": {},
   "outputs": [],
   "source": [
    "import sys\n",
    "sys.path.append(\"../../\")\n",
    "from STK_Sim import *\n",
    "\n",
    "Filename = 'AERO_402_Further_Assessment'\n",
    "\n",
    "stk_object = STK_Simulation(True,Filename)"
   ]
  },
  {
   "cell_type": "code",
   "execution_count": 3,
   "metadata": {},
   "outputs": [],
   "source": [
    "# Setting scenario time variables\n",
    "stk_object.root.UnitPreferences.SetCurrentUnit(\"DateFormat\", \"UTCG\")\n",
    "start_time = time_convert(stk_object.root.CurrentScenario.StartTime)\n",
    "duration = datetime.timedelta(days=9, seconds=0, microseconds=0, milliseconds=0, minutes=0, hours=0, weeks=0)\n",
    "stop_time=(start_time+duration).strftime(\"%d %b %Y %H:%M:%S.%f\")\n",
    "stk_object.root.CurrentScenario.StopTime=stop_time\n",
    "stk_object.root.UnitPreferences.SetCurrentUnit(\"DateFormat\", \"EpSec\")"
   ]
  },
  {
   "cell_type": "code",
   "execution_count": 4,
   "metadata": {},
   "outputs": [],
   "source": [
    "stk_object.Target_Loader(\"../../Input_Files/Targets_File.txt\")\n",
    "stk_object.Satellite_Loader(\"../../Input_Files/Satellites_File.txt\")"
   ]
  },
  {
   "cell_type": "code",
   "execution_count": null,
   "metadata": {},
   "outputs": [],
   "source": [
    "# n_pop = 10\n",
    "# n_gen = 10\n",
    "# n_sats = 5\n",
    "# opt = Optimizer(stk_object,n_pop,n_gen,n_sats,weights=(7,-8,-1))\n",
    "# stk_object.dt = 30\n",
    "# stk_object.Interpolate=True\n",
    "\n",
    "# # Run optimization if read=True the 1st generation takes the input file as one of the initial population\n",
    "# hof,percent,std,time = opt.run(read=True)\n",
    "\n",
    "# print(\"Hall of Fame:\")\n",
    "# for entry in hof:\n",
    "#     print(entry,\"->\",entry.fitness)\n",
    "\n",
    "# # Get best individual from optimization and load them into ../../Input_Files/Satellite_File.txt\n",
    "\n",
    "# best_stats = opt.cost_function(hof[0])"
   ]
  },
  {
   "cell_type": "code",
   "execution_count": null,
   "metadata": {},
   "outputs": [],
   "source": [
    "stk_object.dt = 2.5\n",
    "stk_object.Generate_Holding_Data()"
   ]
  },
  {
   "cell_type": "code",
   "execution_count": null,
   "metadata": {},
   "outputs": [],
   "source": [
    "stk_object.Plan(slew_rate=1)"
   ]
  },
  {
   "cell_type": "code",
   "execution_count": null,
   "metadata": {},
   "outputs": [],
   "source": [
    "target_times = []\n",
    "with alive_bar(324*len(stk_object.targets),force_tty=True,bar='classic',title=f'- Timing Planned Data',length=10) as bar:\n",
    "    for tar_num in range(len(stk_object.targets)):\n",
    "        times = []\n",
    "        for bin_num in range(324):\n",
    "            tar_window = stk_object.Holding_Data['Target'].values==tar_num\n",
    "            bin_window = stk_object.Holding_Data['Bin Number'].values==bin_num\n",
    "            times.append(min(stk_object.Holding_Data['Time'].values[tar_window&bin_window]))\n",
    "            bar()\n",
    "        target_times.append(max(times))\n",
    "\n",
    "data_comparison = {}\n",
    "data_comparison[\"Unplanned (%)\"] = [len(np.unique(stk_object.Holding_Data[stk_object.Holding_Data['Target'].values==tar_num]['Bin Number'].values))/324*100 for tar_num in range(len(stk_object.targets))]\n",
    "data_comparison[\"Planned (%)\"] = [len(np.unique(stk_object.Planned_Data[stk_object.Planned_Data['Target'].values==tar_num]['Bin Number'].values))/324*100 for tar_num in range(len(stk_object.targets))]\n",
    "data_comparison[\"Unplanned (Time)\"] = np.array(target_times)/86400\n",
    "data_comparison[\"Planned (Time)\"] = [max(stk_object.Planned_Data[stk_object.Planned_Data['Target'].values==tar_num]['Time'].values)/86400 for tar_num in range(len(stk_object.targets))]\n",
    "\n",
    "data_comparison = pd.DataFrame(data_comparison)\n",
    "print(data_comparison)\n",
    "print(data_comparison.describe())\n",
    "\n",
    "data_comparison['Unplanned (Time)'].plot()\n",
    "data_comparison['Planned (Time)'].plot()"
   ]
  },
  {
   "cell_type": "code",
   "execution_count": null,
   "metadata": {},
   "outputs": [],
   "source": [
    "fig = px.scatter(stk_object.Planned_Data.sort_values(by=\"Target\"),x=\"Time\",y=\"Bin Number\",hover_data=\"Bin Number\",color=\"Satellite\",animation_frame=\"Target\")\n",
    "fig.show()"
   ]
  }
 ],
 "metadata": {
  "kernelspec": {
   "display_name": "Python 3",
   "language": "python",
   "name": "python3"
  },
  "language_info": {
   "codemirror_mode": {
    "name": "ipython",
    "version": 3
   },
   "file_extension": ".py",
   "mimetype": "text/x-python",
   "name": "python",
   "nbconvert_exporter": "python",
   "pygments_lexer": "ipython3",
   "version": "3.12.0"
  }
 },
 "nbformat": 4,
 "nbformat_minor": 2
}
