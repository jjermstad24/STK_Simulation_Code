{
 "cells": [
  {
   "cell_type": "code",
   "execution_count": 1,
   "metadata": {},
   "outputs": [],
   "source": [
    "import sys\n",
    "sys.path.append(\"../../\")\n",
    "from STK_Sim import *\n",
    "\n",
    "Filename = 'AERO_402_Further_Assessment'\n",
    "\n",
    "stk_object = STK_Simulation(False,Filename)"
   ]
  },
  {
   "cell_type": "code",
   "execution_count": 2,
   "metadata": {},
   "outputs": [],
   "source": [
<<<<<<< Updated upstream
    "# Setting scenario time variables\n",
    "stk_object.root.UnitPreferences.SetCurrentUnit(\"DateFormat\", \"UTCG\")\n",
    "start_time = time_convert(stk_object.root.CurrentScenario.StartTime)\n",
    "duration = datetime.timedelta(days=1, seconds=0, microseconds=0, milliseconds=0, minutes=0, hours=0, weeks=0)\n",
    "stop_time=(start_time+duration).strftime(\"%d %b %Y %H:%M:%S.%f\")\n",
    "stk_object.root.CurrentScenario.StopTime=stop_time\n",
    "stk_object.root.UnitPreferences.SetCurrentUnit(\"DateFormat\", \"EpSec\")\n",
    "n_pop = 25\n",
    "n_gen = 10\n",
    "n_sats = 3\n",
    "\n",
    "opt = Optimizer(stk_object,n_pop,n_gen,n_sats,weights=(7,-5,-1))"
   ]
  },
  {
   "cell_type": "code",
   "execution_count": 3,
   "metadata": {},
   "outputs": [],
   "source": [
    "# Loading targets into stk from file.\n",
    "stk_object.Target_Loader(\"../../Input_Files/Targets_34.txt\")"
=======
    "stk_object.Target_Loader(\"../../Input_Files/Targets/Targets_15.txt\")\n",
    "stk_object.Satellite_Loader(\"../../Input_Files/Satellites_File.txt\")"
>>>>>>> Stashed changes
   ]
  },
  {
   "cell_type": "code",
<<<<<<< Updated upstream
   "execution_count": 5,
   "metadata": {},
   "outputs": [
    {
     "name": "stdout",
     "output_type": "stream",
     "text": [
      "-- Generation 10 --\n",
      "         avg        std        min        max\n",
      "0  53.615468  13.160513   0.544662  59.540668\n",
      "1  10.483457   4.273837   1.386484  25.025066\n",
      "2  23.779644   0.486007  22.318349  24.000000\n",
      "Hall of Fame:\n",
      "[618, 110, 180, 3] -> (59.54066811909949, 9.854211672195133, 23.9939987506925)\n",
      "[618, 110, 1, 3] -> (59.51343500363108, 9.581791925615835, 23.365986817965275)\n",
      "[612, 110, 180, 3] -> (59.4952795933188, 9.695907033483246, 23.99772719900472)\n",
      "[618, 110, 169, 3] -> (59.47712418300654, 9.774037268928133, 23.999434648572223)\n",
      "[620, 110, 131, 3] -> (59.29557007988382, 9.286079742598664, 23.993309211654722)\n"
     ]
    }
   ],
   "source": [
    "stk_object.dt = 30\n",
    "stk_object.Interpolate=True\n",
    "\n",
    "# # Run optimization if read=True the 1st generation takes the input file as one of the initial population\n",
    "hof,percent,std,time = opt.run(read=True)\n",
    "\n",
    "print(\"Hall of Fame:\")\n",
    "for entry in hof:\n",
    "    print(entry,\"->\",entry.fitness)\n",
    "\n",
    "# Get best individual from optimization and load them into ../../Input_Files/Satellite_File.txt\n",
    "\n",
    "best_stats = opt.cost_function(hof[0])"
   ]
  },
  {
   "cell_type": "code",
=======
>>>>>>> Stashed changes
   "execution_count": null,
   "metadata": {},
   "outputs": [],
   "source": [
    "# Setting scenario time variables\n",
    "stk_object.root.UnitPreferences.SetCurrentUnit(\"DateFormat\", \"UTCG\")\n",
    "start_time = time_convert(stk_object.root.CurrentScenario.StartTime)\n",
    "duration = datetime.timedelta(days=1, seconds=0, microseconds=0, milliseconds=0, minutes=0, hours=0, weeks=0)\n",
    "stop_time=(start_time+duration).strftime(\"%d %b %Y %H:%M:%S.%f\")\n",
    "stk_object.root.CurrentScenario.StopTime=stop_time\n",
    "stk_object.root.UnitPreferences.SetCurrentUnit(\"DateFormat\", \"EpSec\")\n",
    "\n",
    "stk_object.dt = 2.5\n",
    "stk_object.Generate_Holding_Data()"
   ]
  },
  {
   "cell_type": "code",
   "execution_count": null,
   "metadata": {},
   "outputs": [],
   "source": [
    "stk_object.Plan(slew_rate=1.0,cone_angle=20)"
   ]
  },
  {
   "cell_type": "code",
   "execution_count": null,
   "metadata": {},
   "outputs": [],
   "source": [
    "data_comparison = {}\n",
    "data_comparison[\"Unplanned (%)\"] = [len(np.unique(stk_object.Holding_Data[stk_object.Holding_Data['Target'].values==tar_num]['Bin Number'].values))/324*100 for tar_num in range(len(stk_object.targets))]\n",
    "data_comparison[\"Planned (%)\"] = [len(np.unique(stk_object.Planned_Data[stk_object.Planned_Data['Target'].values==tar_num]['Bin Number'].values))/324*100 for tar_num in range(len(stk_object.targets))]\n",
    "\n",
    "data_comparison = pd.DataFrame(data_comparison)\n",
    "print(data_comparison)\n",
    "print(data_comparison.describe())"
   ]
  },
  {
   "cell_type": "code",
   "execution_count": null,
   "metadata": {},
   "outputs": [],
   "source": [
    "fig = px.scatter(stk_object.Planned_Data,x=\"Cross Track\",y=\"Along Track\",hover_data=\"Bin Number\",color=\"Satellite\")\n",
    "fig.update_layout(title=\"Slew Rate=0.0 m/s<br>Cone Angle=20 deg\",width=500,height=500)\n",
    "fig.update_xaxes(range=(-70,70))\n",
    "fig.update_yaxes(range=(-70,70))\n",
    "fig.show()"
   ]
  },
  {
   "cell_type": "code",
   "execution_count": 1,
   "metadata": {},
   "outputs": [],
   "source": [
    "import sys\n",
    "sys.path.append(\"../../\")\n",
    "from STK_Sim import *"
   ]
  }
 ],
 "metadata": {
  "kernelspec": {
   "display_name": "Python 3",
   "language": "python",
   "name": "python3"
  },
  "language_info": {
   "codemirror_mode": {
    "name": "ipython",
    "version": 3
   },
   "file_extension": ".py",
   "mimetype": "text/x-python",
   "name": "python",
   "nbconvert_exporter": "python",
   "pygments_lexer": "ipython3",
   "version": "3.12.2"
  }
 },
 "nbformat": 4,
 "nbformat_minor": 2
}
