{
 "cells": [
  {
   "cell_type": "code",
   "execution_count": 1,
   "metadata": {},
   "outputs": [],
   "source": [
    "import sys\n",
    "sys.path.append(\"../../\")\n",
    "from STK_Sim import *\n",
    "\n",
    "Filename = 'AERO_402_Further_Assessment'\n",
    "\n",
    "stk_object = STK_Simulation(False,Filename)"
   ]
  },
  {
   "cell_type": "code",
   "execution_count": 2,
   "metadata": {},
   "outputs": [],
   "source": [
    "# Loading targets into stk from file.\n",
    "stk_object.set_sim_time(days=1)\n",
    "stk_object.Target_Loader(\"../../Input_Files/Targets_15.txt\")\n",
    "stk_object.Satellite_Loader(\"../../Input_Files/Satellites_File.txt\")"
   ]
  },
  {
   "cell_type": "code",
   "execution_count": 3,
   "metadata": {},
   "outputs": [
    {
     "name": "stdout",
     "output_type": "stream",
     "text": [
      "- Computing_Access [==========] 180/180 [100%] in 0.5s (380.24/s)               \n",
      "- Getting_AzEl [==========] 180/180 [100%] in 4.7s (38.60/s)                    \n",
      "- Sorting_Data [==========] 4860/4860 [100%] in 0.0s (140273.39/s)              \n"
     ]
    },
    {
     "data": {
      "text/plain": [
       "0"
      ]
     },
     "execution_count": 3,
     "metadata": {},
     "output_type": "execute_result"
    }
   ],
   "source": [
    "stk_object.Generate_Pre_Planning_Data()"
   ]
  },
  {
   "cell_type": "code",
   "execution_count": 4,
   "metadata": {},
   "outputs": [
    {
     "name": "stdout",
     "output_type": "stream",
     "text": [
      "- Planning [==========] 4860/4860 [100%] in 0.6s (11964.63/s)                   \n"
     ]
    },
    {
     "data": {
      "text/plain": [
       "0"
      ]
     },
     "execution_count": 4,
     "metadata": {},
     "output_type": "execute_result"
    }
   ],
   "source": [
    "stk_object.Plan(1,20)"
   ]
  },
  {
   "cell_type": "code",
   "execution_count": 5,
   "metadata": {},
   "outputs": [
    {
     "name": "stdout",
     "output_type": "stream",
     "text": [
      "    Unplanned (%)  Unplanned (Time)  Planned (%)  Planned (Time)\n",
      "0       85.185185               1.0    53.703704        0.999843\n",
      "1       75.925926               1.0    49.382716        0.937653\n",
      "2       80.864198               1.0    37.345679        0.956267\n",
      "3       84.567901               1.0    60.185185        0.954174\n",
      "4       89.197531               1.0    51.851852        0.951234\n",
      "5       73.148148               1.0    44.135802        0.999958\n",
      "6       84.259259               1.0    41.666667        0.999404\n",
      "7       88.580247               1.0    44.753086        0.938394\n",
      "8       85.185185               1.0    43.209877        0.937921\n",
      "9       92.901235               1.0    51.234568        0.941352\n",
      "10      91.049383               1.0    49.074074        0.941768\n",
      "11      95.987654               1.0    55.555556        0.942191\n",
      "12      82.407407               1.0    50.000000        0.938153\n",
      "13      94.444444               1.0    57.716049        0.941157\n",
      "14      91.049383               1.0    67.901235        0.941402\n",
      "       Unplanned (%)  Unplanned (Time)  Planned (%)  Planned (Time)\n",
      "count      15.000000              15.0    15.000000       15.000000\n",
      "mean       86.316872               1.0    50.514403        0.954725\n",
      "std         6.532372               0.0     7.874620        0.024014\n",
      "min        73.148148               1.0    37.345679        0.937653\n",
      "25%        83.333333               1.0    44.444444        0.939775\n",
      "50%        85.185185               1.0    50.000000        0.941768\n",
      "75%        91.049383               1.0    54.629630        0.955220\n",
      "max        95.987654               1.0    67.901235        0.999958\n"
     ]
    }
   ],
   "source": [
    "data_comparison = {}\n",
    "data_comparison[\"Unplanned (%)\"] = [np.count_nonzero(stk_object.target_bins[tar_num])/324*100 for tar_num in range(len(stk_object.targets))]\n",
    "data_comparison[\"Unplanned (Time)\"] = [np.max(stk_object.target_times[tar_num])/86400 for tar_num in range(len(stk_object.targets))]\n",
    "data_comparison[\"Planned (%)\"] = [len(np.unique(stk_object.Planned_Data[stk_object.Planned_Data['Target'].values==tar_num]['Bin Number'].values))/324*100 for tar_num in range(len(stk_object.targets))]\n",
    "data_comparison[\"Planned (Time)\"] = [max(stk_object.Planned_Data[stk_object.Planned_Data['Target'].values==tar_num]['Time'].values)/86400 for tar_num in range(len(stk_object.targets))]\n",
    "\n",
    "data_comparison = pd.DataFrame(data_comparison)\n",
    "print(data_comparison)\n",
    "print(data_comparison.describe())"
   ]
  }
 ],
 "metadata": {
  "kernelspec": {
   "display_name": "Python 3",
   "language": "python",
   "name": "python3"
  },
  "language_info": {
   "codemirror_mode": {
    "name": "ipython",
    "version": 3
   },
   "file_extension": ".py",
   "mimetype": "text/x-python",
   "name": "python",
   "nbconvert_exporter": "python",
   "pygments_lexer": "ipython3",
   "version": "3.11.7"
  }
 },
 "nbformat": 4,
 "nbformat_minor": 2
}
