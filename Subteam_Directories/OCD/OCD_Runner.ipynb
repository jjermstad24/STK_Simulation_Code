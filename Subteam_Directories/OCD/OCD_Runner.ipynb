{
 "cells": [
  {
   "cell_type": "code",
   "execution_count": 2,
   "metadata": {},
   "outputs": [],
   "source": [
    "import sys\n",
    "sys.path.append(\"../../\")\n",
    "from STK_Sim import *\n",
    "\n",
    "Filename = 'AERO_402_Further_Assessment'\n",
    "\n",
    "# turn off GUI, use application correlating to Filename\n",
    "stk_object = STK_Simulation(False,Filename)"
   ]
  },
  {
   "cell_type": "code",
   "execution_count": 3,
   "metadata": {},
   "outputs": [],
   "source": [
    "# Setting the time format in STK to UTCG (Coordinated Universal Time in Gregorian calendar)\n",
    "stk_object.root.UnitPreferences.SetCurrentUnit(\"DateFormat\", \"UTCG\")\n",
    "\n",
    "# Convert the start time of the current STK scenario into a datetime object using the 'time_convert' function\n",
    "start_time = time_convert(stk_object.root.CurrentScenario.StartTime)\n",
    "\n",
    "# Define a duration of 1 day using the timedelta function\n",
    "# This creates a time period of 1 day, which will be added to the scenario start time\n",
    "duration = datetime.timedelta(days=1, seconds=0, microseconds=0, milliseconds=0, minutes=0, hours=0, weeks=0)\n",
    "\n",
    "# Calculate the stop time by adding the duration to the start time\n",
    "# The result is formatted as a string in the format \"DD MMM YYYY HH:MM:SS.SSSSSS\"\n",
    "stop_time=(start_time+duration).strftime(\"%d %b %Y %H:%M:%S.%f\")\n",
    "\n",
    "# Set the stop time of the current STK scenario to the calculated stop time\n",
    "stk_object.root.CurrentScenario.StopTime=stop_time\n",
    "\n",
    "# Set the time format back to EpSec (Ephemeris Seconds, which is time elapsed from a reference epoch)\n",
    "stk_object.root.UnitPreferences.SetCurrentUnit(\"DateFormat\", \"EpSec\")\n",
    "\n",
    "# Define the parameters for the optimizer\n",
    "# 'n_pop' is the number of individuals in the population (10 in this case)\n",
    "# 'n_gen' is the number of generations (iterations of the optimization process, 10 in this case)\n",
    "# 'n_sats' is the number of satellites (5 satellites to be optimized)\n",
    "n_pop = 10\n",
    "n_gen = 10\n",
    "n_sats = 5\n",
    "\n",
    "# Initialize an optimizer object with the STK object, population size, number of generations, and number of satellites\n",
    "# 'weights' is a tuple that defines the weights for the optimization objective function (7, -5, -1 in this case)\n",
    "# These weights likely correspond to the importance of different objectives being optimized\n",
    "opt = Optimizer(stk_object,n_pop,n_gen,n_sats,weights=(7,-5,-1))"
   ]
  },
  {
   "cell_type": "code",
   "execution_count": 4,
   "metadata": {},
   "outputs": [],
   "source": [
    "# Load target data into the STK object\n",
    "# The 'Target_Loader' method is used to load information from the specified targets file.\n",
    "# The file \"../../Input_Files/Targets_File.txt\" contains data about targets that will be used in the scenario.\n",
    "stk_object.Target_Loader(\"../../Input_Files/Targets_File.txt\")\n",
    "\n",
    "# Load satellite data into the STK object\n",
    "# The 'Satellite_Loader' method is used to load information from the specified satellites file.\n",
    "# The file \"../../Input_Files/Satellites_File.txt\" contains data about the satellites involved in the scenario.\n",
    "stk_object.Satellite_Loader(\"../../Input_Files/Satellites_File.txt\")"
   ]
  },
  {
   "cell_type": "code",
   "execution_count": 12,
   "metadata": {},
   "outputs": [
    {
     "name": "stdout",
     "output_type": "stream",
     "text": [
      "-- Generation 10 --\n",
      "         avg       std        min        max\n",
      "0  70.935185  0.250000  70.185185  71.018519\n",
      "1   4.268459  0.107556   3.945792   4.304311\n",
      "2  19.299164  0.060538  19.117548  19.319343\n",
      "Hall of Fame:\n",
      "[612, 67, 168, 5] -> (np.float64(71.0493827160494), np.float64(4.1724924978077), np.float64(19.27445727748917))\n",
      "[612, 67, 158, 5] -> (np.float64(71.0185185185185), np.float64(4.304310851544242), np.float64(19.319343008105278))\n",
      "[611, 67, 158, 5] -> (np.float64(70.77160493827162), np.float64(4.13176973094907), np.float64(19.315100322564167))\n",
      "[611, 67, 118, 5] -> (np.float64(70.74074074074073), np.float64(4.115020570987396), np.float64(19.49460437667583))\n",
      "[611, 67, 168, 5] -> (np.float64(70.61728395061729), np.float64(4.217906248359632), np.float64(19.27022422864361))\n"
     ]
    }
   ],
   "source": [
    "stk_object.dt = 30\n",
    "stk_object.Interpolate=True\n",
    "\n",
    "# Run optimization if read=True the 1st generation takes the input file as one of the initial population\n",
    "hof,percent,std,time = opt.run(read=True)\n",
    "\n",
    "print(\"Hall of Fame:\")\n",
    "for entry in hof:\n",
    "    print(entry,\"->\",entry.fitness)\n",
    "\n",
    "# Get best individual from optimization and load them into ../../Input_Files/Satellite_File.txt\n",
    "\n",
    "best_stats = opt.cost_function(hof[0])"
   ]
  },
  {
   "cell_type": "code",
   "execution_count": 6,
   "metadata": {},
   "outputs": [
    {
     "name": "stdout",
     "output_type": "stream",
     "text": [
      "- Computing_AER Data/Default [==========] 20/20 [100%] in 1.0s (19.68/s)        \n",
      "- Computing_Sat Angles Data [==========] 20/20 [100%] in 0.8s (26.01/s)         \n",
      "- Compiling_Data [==========] 10/10 [100%] in 0.1s (95.87/s)                    \n",
      "- Creating_Hash_Map [==========] 3240/3240 [100%] in 0.2s (19856.28/s)          \n"
     ]
    },
    {
     "data": {
      "text/plain": [
       "0"
      ]
     },
     "execution_count": 6,
     "metadata": {},
     "output_type": "execute_result"
    }
   ],
   "source": [
    "stk_object.dt = 2.5\n",
    "stk_object.Generate_Holding_Data()"
   ]
  },
  {
   "cell_type": "code",
   "execution_count": 7,
   "metadata": {},
   "outputs": [
    {
     "name": "stdout",
     "output_type": "stream",
     "text": [
      "- Planning [==========] 3240/3240 [100%] in 1.3s (2951.67/s)                    \n"
     ]
    },
    {
     "data": {
      "text/plain": [
       "0"
      ]
     },
     "execution_count": 7,
     "metadata": {},
     "output_type": "execute_result"
    }
   ],
   "source": [
    "stk_object.Plan(slew_rate=1,cone_angle=20)"
   ]
  },
  {
   "cell_type": "code",
   "execution_count": 8,
   "metadata": {},
   "outputs": [
    {
     "name": "stdout",
     "output_type": "stream",
     "text": [
      "   Unplanned (%)  Planned (%)  Planned (Time)\n",
      "0      44.753086    19.444444        0.954959\n",
      "1      52.160494    14.506173        0.886985\n",
      "2      47.530864     5.555556        0.882656\n",
      "3      51.234568    13.888889        0.950116\n",
      "4      37.962963    10.493827        0.827454\n",
      "5      48.148148    13.580247        0.945290\n",
      "6      42.901235     7.407407        0.822778\n",
      "7      40.123457     8.333333        0.891111\n",
      "8      48.148148    13.580247        0.816869\n",
      "9      51.543210    14.197531        0.948872\n",
      "       Unplanned (%)  Planned (%)  Planned (Time)\n",
      "count      10.000000    10.000000       10.000000\n",
      "mean       46.450617    12.098765        0.892709\n",
      "std         4.897919     4.127554        0.055903\n",
      "min        37.962963     5.555556        0.816869\n",
      "25%        43.364198     8.873457        0.841254\n",
      "50%        47.839506    13.580247        0.889048\n",
      "75%        50.462963    14.120370        0.947976\n",
      "max        52.160494    19.444444        0.954959\n"
     ]
    }
   ],
   "source": [
    "# Initialize an empty dictionary to store the comparison data\n",
    "data_comparison = {}\n",
    "\n",
    "\n",
    "# Calculate the percentage of unique unplanned bin numbers for each target\n",
    "# 'stk_object.Holding_Data' contains unplanned data, filtered for each target ('Target' == tar_num)\n",
    "# For each target, count the number of unique 'Bin Number' values, divide by 324 (possibly the total number of bins),\n",
    "# and multiply by 100 to get the percentage of coverage.\n",
    "data_comparison[\"Unplanned (%)\"] = [\n",
    "    len(np.unique(stk_object.Holding_Data[stk_object.Holding_Data['Target'].values==tar_num]['Bin Number'].values))/324*100 \n",
    "    for tar_num in range(len(stk_object.targets))]\n",
    "\n",
    "\n",
    "# Calculate the percentage of unique planned bin numbers for each target\n",
    "# 'stk_object.Planned_Data' contains planned data, filtered for each target ('Target' == tar_num)\n",
    "# Similar to the 'Unplanned (%)', it counts the unique 'Bin Number' values and calculates the percentage.\n",
    "data_comparison[\"Planned (%)\"] = [\n",
    "    len(np.unique(stk_object.Planned_Data[stk_object.Planned_Data['Target'].values==tar_num]['Bin Number'].values))/324*100 \n",
    "    for tar_num in range(len(stk_object.targets))]\n",
    "\n",
    "\n",
    "# Calculate the maximum planned time for each target (in days)\n",
    "# 'stk_object.Planned_Data' is filtered for each target, and the maximum 'Time' value is taken.\n",
    "# 'Time' is assumed to be in seconds, so it is divided by 86400 (seconds in a day) to convert to days.\n",
    "data_comparison[\"Planned (Time)\"] = [\n",
    "    max(stk_object.Planned_Data[stk_object.Planned_Data['Target'].values==tar_num]['Time'].values)/86400 \n",
    "    for tar_num in range(len(stk_object.targets))]\n",
    "\n",
    "\n",
    "# Convert the dictionary into a pandas DataFrame for easier analysis and visualization\n",
    "data_comparison = pd.DataFrame(data_comparison)\n",
    "\n",
    "\n",
    "# Print the DataFrame to display the data for each target\n",
    "print(data_comparison)\n",
    "\n",
    "\n",
    "# Print summary statistics (like mean, standard deviation, min, max, etc.) for each column of the DataFrame\n",
    "print(data_comparison.describe())"
   ]
  },
  {
   "cell_type": "code",
   "execution_count": 11,
   "metadata": {},
   "outputs": [
    {
     "data": {
      "application/vnd.plotly.v1+json": {
       "config": {
        "plotlyServerURL": "https://plot.ly"
       },
       "data": [
        {
         "hovertemplate": "Target=0<br>Time=%{x}<br>Bin Number=%{y}<br>Satellite=%{marker.color}<extra></extra>",
         "legendgroup": "",
         "marker": {
          "color": [
           0,
           0,
           1,
           1,
           1,
           1,
           1,
           1,
           1,
           1,
           1,
           1,
           1,
           1,
           0,
           1,
           1,
           1,
           0,
           1,
           1,
           1,
           1,
           1,
           1,
           0,
           1,
           1,
           1,
           0,
           0,
           0,
           1,
           1,
           1,
           1,
           1,
           1,
           1,
           0,
           1,
           1,
           1,
           1,
           1,
           1,
           1,
           1,
           1,
           1,
           1,
           1,
           1,
           1,
           0,
           1,
           1,
           1,
           1,
           1,
           1,
           0,
           1
          ],
          "coloraxis": "coloraxis",
          "symbol": "circle"
         },
         "mode": "markers",
         "name": "",
         "orientation": "v",
         "showlegend": false,
         "type": "scatter",
         "x": [
          30759.5,
          69645.5,
          76899,
          29155.5,
          71296,
          23399,
          76704,
          23456.5,
          23464,
          82233.5,
          76826.5,
          29065.5,
          76754,
          76764,
          30654.5,
          77091.5,
          29250.5,
          82508.5,
          69738,
          29350.5,
          76739,
          23534,
          23491.5,
          1372,
          76744,
          36581,
          76784,
          76749,
          23414,
          36266,
          36386,
          69518,
          23374,
          23409,
          76726.5,
          23421.5,
          76714,
          82323.5,
          76734,
          63943.5,
          82413.5,
          1237.435384304,
          12272,
          23444,
          23439,
          23434,
          23436.5,
          76691.5,
          23451.5,
          23446.5,
          76706.5,
          76719,
          23441.5,
          76736.5,
          30894.5,
          76731.5,
          23426.5,
          23429,
          23431.5,
          76724,
          28813.375084493,
          41998.5,
          28938
         ],
         "xaxis": "x",
         "y": [
          136,
          253,
          190,
          234,
          135,
          123,
          6,
          322,
          312,
          307,
          201,
          217,
          222,
          213,
          111,
          189,
          252,
          243,
          271,
          270,
          250,
          300,
          302,
          288,
          241,
          207,
          203,
          232,
          115,
          281,
          235,
          218,
          121,
          114,
          286,
          106,
          313,
          280,
          268,
          29,
          262,
          315,
          18,
          26,
          53,
          71,
          62,
          5,
          7,
          16,
          321,
          304,
          35,
          259,
          162,
          277,
          97,
          98,
          89,
          295,
          180,
          261,
          198
         ],
         "yaxis": "y"
        }
       ],
       "frames": [
        {
         "data": [
          {
           "hovertemplate": "Target=0<br>Time=%{x}<br>Bin Number=%{y}<br>Satellite=%{marker.color}<extra></extra>",
           "legendgroup": "",
           "marker": {
            "color": [
             0,
             0,
             1,
             1,
             1,
             1,
             1,
             1,
             1,
             1,
             1,
             1,
             1,
             1,
             0,
             1,
             1,
             1,
             0,
             1,
             1,
             1,
             1,
             1,
             1,
             0,
             1,
             1,
             1,
             0,
             0,
             0,
             1,
             1,
             1,
             1,
             1,
             1,
             1,
             0,
             1,
             1,
             1,
             1,
             1,
             1,
             1,
             1,
             1,
             1,
             1,
             1,
             1,
             1,
             0,
             1,
             1,
             1,
             1,
             1,
             1,
             0,
             1
            ],
            "coloraxis": "coloraxis",
            "symbol": "circle"
           },
           "mode": "markers",
           "name": "",
           "orientation": "v",
           "showlegend": false,
           "type": "scatter",
           "x": [
            30759.5,
            69645.5,
            76899,
            29155.5,
            71296,
            23399,
            76704,
            23456.5,
            23464,
            82233.5,
            76826.5,
            29065.5,
            76754,
            76764,
            30654.5,
            77091.5,
            29250.5,
            82508.5,
            69738,
            29350.5,
            76739,
            23534,
            23491.5,
            1372,
            76744,
            36581,
            76784,
            76749,
            23414,
            36266,
            36386,
            69518,
            23374,
            23409,
            76726.5,
            23421.5,
            76714,
            82323.5,
            76734,
            63943.5,
            82413.5,
            1237.435384304,
            12272,
            23444,
            23439,
            23434,
            23436.5,
            76691.5,
            23451.5,
            23446.5,
            76706.5,
            76719,
            23441.5,
            76736.5,
            30894.5,
            76731.5,
            23426.5,
            23429,
            23431.5,
            76724,
            28813.375084493,
            41998.5,
            28938
           ],
           "xaxis": "x",
           "y": [
            136,
            253,
            190,
            234,
            135,
            123,
            6,
            322,
            312,
            307,
            201,
            217,
            222,
            213,
            111,
            189,
            252,
            243,
            271,
            270,
            250,
            300,
            302,
            288,
            241,
            207,
            203,
            232,
            115,
            281,
            235,
            218,
            121,
            114,
            286,
            106,
            313,
            280,
            268,
            29,
            262,
            315,
            18,
            26,
            53,
            71,
            62,
            5,
            7,
            16,
            321,
            304,
            35,
            259,
            162,
            277,
            97,
            98,
            89,
            295,
            180,
            261,
            198
           ],
           "yaxis": "y"
          }
         ],
         "name": "0"
        },
        {
         "data": [
          {
           "hovertemplate": "Target=1<br>Time=%{x}<br>Bin Number=%{y}<br>Satellite=%{marker.color}<extra></extra>",
           "legendgroup": "",
           "marker": {
            "color": [
             0,
             0,
             1,
             0,
             0,
             1,
             0,
             0,
             0,
             0,
             0,
             0,
             0,
             0,
             0,
             1,
             1,
             1,
             1,
             0,
             1,
             1,
             1,
             1,
             0,
             0,
             1,
             1,
             1,
             1,
             1,
             1,
             0,
             1,
             1,
             1,
             0,
             0,
             1,
             1,
             0,
             1,
             1,
             1,
             1,
             1,
             1
            ],
            "coloraxis": "coloraxis",
            "symbol": "circle"
           },
           "mode": "markers",
           "name": "",
           "orientation": "v",
           "showlegend": false,
           "type": "scatter",
           "x": [
            36190,
            52460,
            23605,
            52827.5,
            41897.5,
            17860.5,
            52732.5,
            41607.5,
            58553,
            41725,
            36080,
            36015,
            64017.5,
            58385.5,
            58460.5,
            76585.5,
            17875.5,
            18098,
            23800,
            69415.244188447,
            23297.5,
            1108,
            6713,
            76635.5,
            64095,
            35937.5,
            6903,
            17823,
            76158.703525909,
            6805.5,
            17873,
            17858,
            69837.5,
            76475.5,
            17923,
            17850.5,
            47416,
            46976,
            17868,
            17865.5,
            63857.5,
            17853,
            17883,
            988,
            18005.5,
            17890.5,
            18190.5
           ],
           "xaxis": "x",
           "y": [
            236,
            63,
            244,
            1,
            252,
            52,
            19,
            307,
            298,
            280,
            282,
            309,
            246,
            3,
            308,
            229,
            16,
            289,
            270,
            189,
            171,
            315,
            0,
            210,
            272,
            11,
            297,
            104,
            27,
            306,
            25,
            61,
            261,
            4,
            310,
            79,
            279,
            36,
            34,
            43,
            173,
            70,
            6,
            18,
            290,
            321,
            288
           ],
           "yaxis": "y"
          }
         ],
         "name": "1"
        },
        {
         "data": [
          {
           "hovertemplate": "Target=2<br>Time=%{x}<br>Bin Number=%{y}<br>Satellite=%{marker.color}<extra></extra>",
           "legendgroup": "",
           "marker": {
            "color": [
             1,
             0,
             1,
             0,
             1,
             0,
             0,
             1,
             0,
             1,
             0,
             1,
             1,
             1,
             0,
             1,
             1,
             1
            ],
            "coloraxis": "coloraxis",
            "symbol": "circle"
           },
           "mode": "markers",
           "name": "",
           "orientation": "v",
           "showlegend": false,
           "type": "scatter",
           "x": [
            70918,
            69518,
            12272,
            30503,
            17669,
            30465.5,
            63943.5,
            17704,
            58137,
            17741.5,
            41512,
            70978,
            17606.5,
            23297.5,
            57877,
            17701.5,
            76261.5,
            70948
           ],
           "xaxis": "x",
           "y": [
            96,
            234,
            1,
            256,
            121,
            284,
            263,
            114,
            65,
            17,
            0,
            148,
            128,
            199,
            108,
            123,
            9,
            131
           ],
           "yaxis": "y"
          }
         ],
         "name": "2"
        },
        {
         "data": [
          {
           "hovertemplate": "Target=3<br>Time=%{x}<br>Bin Number=%{y}<br>Satellite=%{marker.color}<extra></extra>",
           "legendgroup": "",
           "marker": {
            "color": [
             0,
             1,
             0,
             1,
             1,
             1,
             0,
             0,
             1,
             0,
             0,
             0,
             0,
             0,
             0,
             1,
             0,
             0,
             0,
             0,
             0,
             1,
             0,
             0,
             0,
             0,
             0,
             1,
             1,
             0,
             0,
             0,
             1,
             0,
             0,
             0,
             0,
             0,
             0,
             0,
             0,
             0,
             0,
             0,
             0
            ],
            "coloraxis": "coloraxis",
            "symbol": "circle"
           },
           "mode": "markers",
           "name": "",
           "orientation": "v",
           "showlegend": false,
           "type": "scatter",
           "x": [
            30395,
            12174,
            30430,
            81830,
            76261.5,
            70683,
            30380,
            58302,
            82090,
            41404.5,
            41512,
            47126.5,
            47221.5,
            30420,
            30390,
            76534,
            30425,
            58249.5,
            30365,
            30415,
            30375,
            81982.5,
            58267,
            30382.5,
            58137,
            30435,
            63857.5,
            17784.5,
            23698,
            35937.5,
            52460,
            52732.5,
            76414,
            30397.5,
            30400,
            35830,
            30405,
            30402.5,
            30410,
            30412.5,
            30407.5,
            41297.973324205,
            52925,
            64190,
            24487
           ],
           "xaxis": "x",
           "y": [
            313,
            38,
            222,
            18,
            19,
            46,
            16,
            4,
            289,
            9,
            315,
            0,
            306,
            232,
            322,
            263,
            223,
            51,
            24,
            241,
            15,
            316,
            33,
            7,
            110,
            213,
            209,
            194,
            261,
            307,
            63,
            1,
            308,
            304,
            296,
            10,
            278,
            287,
            259,
            250,
            269,
            27,
            297,
            279,
            45
           ],
           "yaxis": "y"
          }
         ],
         "name": "3"
        },
        {
         "data": [
          {
           "hovertemplate": "Target=4<br>Time=%{x}<br>Bin Number=%{y}<br>Satellite=%{marker.color}<extra></extra>",
           "legendgroup": "",
           "marker": {
            "color": [
             1,
             0,
             1,
             0,
             1,
             0,
             1,
             1,
             0,
             0,
             0,
             0,
             0,
             0,
             0,
             0,
             0,
             0,
             1,
             1,
             0,
             0,
             0,
             0,
             1,
             1,
             1,
             0,
             1,
             1,
             1,
             0,
             0,
             0
            ],
            "coloraxis": "coloraxis",
            "symbol": "circle"
           },
           "mode": "markers",
           "name": "",
           "orientation": "v",
           "showlegend": false,
           "type": "scatter",
           "x": [
            22943.5,
            25383.5,
            17217.303111982,
            63609.5,
            71394.5,
            63494.5,
            65776,
            22806.226348378,
            69145,
            63374.5,
            24878.5,
            25286,
            25086,
            25196,
            63594.5,
            69010.864588327,
            25021,
            63552,
            71492,
            17374.5,
            63599.5,
            63624.5,
            63614.5,
            63579.5,
            23201,
            23118.5,
            23036,
            63247.475402778,
            65481,
            65676,
            71197,
            63604.5,
            63622,
            63619.5
           ],
           "xaxis": "x",
           "y": [
            163,
            162,
            99,
            61,
            199,
            119,
            135,
            153,
            207,
            127,
            37,
            154,
            102,
            146,
            87,
            180,
            74,
            112,
            189,
            82,
            78,
            33,
            52,
            105,
            236,
            201,
            173,
            126,
            81,
            117,
            247,
            70,
            42,
            43
           ],
           "yaxis": "y"
          }
         ],
         "name": "4"
        },
        {
         "data": [
          {
           "hovertemplate": "Target=5<br>Time=%{x}<br>Bin Number=%{y}<br>Satellite=%{marker.color}<extra></extra>",
           "legendgroup": "",
           "marker": {
            "color": [
             0,
             0,
             1,
             1,
             1,
             0,
             0,
             0,
             1,
             0,
             0,
             1,
             1,
             0,
             0,
             1,
             0,
             0,
             1,
             1,
             0,
             0,
             0,
             1,
             0,
             1,
             1,
             1,
             0,
             0,
             0,
             0,
             1,
             1,
             1,
             1,
             0,
             0,
             1,
             0,
             1,
             1,
             1,
             1
            ],
            "coloraxis": "coloraxis",
            "symbol": "circle"
           },
           "mode": "markers",
           "name": "",
           "orientation": "v",
           "showlegend": false,
           "type": "scatter",
           "x": [
            24684.5,
            24689.5,
            11992,
            81673.042346161,
            12272,
            35601.692040348,
            35726,
            41171.666379103,
            12044.5,
            46701.5,
            52732.5,
            12062,
            12057,
            30224.5,
            24577,
            70683,
            24487,
            19252.5,
            6533.5,
            6296,
            24679.5,
            52362.5,
            46879,
            76261.5,
            30109.5,
            12047,
            12039.5,
            12052,
            52460,
            24659.5,
            24694.5,
            52562.5,
            12029.5,
            12032,
            64921,
            70750.5,
            24634.5,
            24722,
            875,
            24702,
            59518.5,
            655.70494049,
            59306.593452884,
            6131.60559151
           ],
           "xaxis": "x",
           "y": [
            105,
            114,
            103,
            27,
            289,
            18,
            0,
            36,
            61,
            54,
            298,
            24,
            34,
            308,
            39,
            3,
            37,
            135,
            1,
            64,
            96,
            82,
            28,
            316,
            10,
            52,
            70,
            43,
            66,
            69,
            123,
            12,
            87,
            78,
            46,
            292,
            58,
            149,
            9,
            132,
            99,
            45,
            63,
            81
           ],
           "yaxis": "y"
          }
         ],
         "name": "5"
        },
        {
         "data": [
          {
           "hovertemplate": "Target=6<br>Time=%{x}<br>Bin Number=%{y}<br>Satellite=%{marker.color}<extra></extra>",
           "legendgroup": "",
           "marker": {
            "color": [
             1,
             1,
             1,
             0,
             1,
             1,
             0,
             1,
             0,
             1,
             1,
             0,
             1,
             1,
             1,
             1,
             0,
             1,
             1,
             1,
             0,
             1,
             1,
             0
            ],
            "coloraxis": "coloraxis",
            "symbol": "circle"
           },
           "mode": "markers",
           "name": "",
           "orientation": "v",
           "showlegend": false,
           "type": "scatter",
           "x": [
            71038,
            23201,
            17669,
            63776,
            71028,
            17741.5,
            63801,
            71015.5,
            57877,
            71033,
            71053,
            63943.5,
            71020.5,
            71060.5,
            17606.5,
            71003,
            30594,
            71043,
            71048,
            71088,
            63761,
            70978,
            65577.5,
            63748.5
           ],
           "xaxis": "x",
           "y": [
            114,
            190,
            48,
            239,
            96,
            12,
            266,
            78,
            90,
            105,
            141,
            289,
            87,
            150,
            84,
            60,
            264,
            123,
            132,
            167,
            222,
            49,
            126,
            213
           ],
           "yaxis": "y"
          }
         ],
         "name": "6"
        },
        {
         "data": [
          {
           "hovertemplate": "Target=7<br>Time=%{x}<br>Bin Number=%{y}<br>Satellite=%{marker.color}<extra></extra>",
           "legendgroup": "",
           "marker": {
            "color": [
             0,
             0,
             1,
             1,
             1,
             1,
             1,
             1,
             1,
             1,
             1,
             1,
             1,
             1,
             0,
             1,
             1,
             1,
             0,
             0,
             0,
             1,
             1,
             1,
             0,
             1,
             0
            ],
            "coloraxis": "coloraxis",
            "symbol": "circle"
           },
           "mode": "markers",
           "name": "",
           "orientation": "v",
           "showlegend": false,
           "type": "scatter",
           "x": [
            30654.5,
            30759.5,
            65577.5,
            71166,
            71156,
            71161,
            71146,
            71131,
            71128.5,
            71141,
            71151,
            71143.5,
            71168.5,
            71153.5,
            31029.5,
            76992,
            71136,
            71123.5,
            63677.5,
            69276.5,
            30894.5,
            71171,
            71296,
            71111,
            63645,
            65385,
            63722.5
           ],
           "xaxis": "x",
           "y": [
            282,
            236,
            108,
            151,
            133,
            142,
            106,
            70,
            61,
            88,
            115,
            97,
            150,
            124,
            198,
            234,
            79,
            60,
            59,
            216,
            208,
            159,
            182,
            51,
            85,
            72,
            22
           ],
           "yaxis": "y"
          }
         ],
         "name": "7"
        },
        {
         "data": [
          {
           "hovertemplate": "Target=8<br>Time=%{x}<br>Bin Number=%{y}<br>Satellite=%{marker.color}<extra></extra>",
           "legendgroup": "",
           "marker": {
            "color": [
             1,
             1,
             0,
             0,
             0,
             0,
             0,
             1,
             1,
             1,
             1,
             1,
             1,
             1,
             1,
             1,
             0,
             0,
             0,
             1,
             1,
             1,
             1,
             0,
             0,
             0,
             0,
             0,
             1,
             0,
             0,
             0,
             0,
             0,
             0,
             0,
             0,
             0,
             1,
             0,
             0,
             0,
             0,
             0
            ],
            "coloraxis": "coloraxis",
            "symbol": "circle"
           },
           "mode": "markers",
           "name": "",
           "orientation": "v",
           "showlegend": false,
           "type": "scatter",
           "x": [
            988,
            64817.5,
            24761,
            24743.5,
            24693.5,
            24713.5,
            24711,
            65017.5,
            17473.5,
            65290,
            12174,
            12019,
            65385,
            65212.5,
            65117.5,
            11949,
            35726,
            29998.247378981,
            24346.889518429,
            59424,
            11869,
            6445.5,
            11781.5,
            18890.5,
            52244.5,
            57747.216123368,
            52142.509574342,
            18758.847503044,
            70577.5,
            57877,
            19073,
            24786,
            58137,
            24746,
            58074.5,
            24691,
            24696,
            24878.5,
            11654.390914115,
            24736,
            58017,
            24731,
            24703.5,
            24708.5
           ],
           "xaxis": "x",
           "y": [
            315,
            36,
            186,
            178,
            51,
            80,
            71,
            55,
            180,
            146,
            299,
            50,
            153,
            119,
            83,
            103,
            0,
            18,
            27,
            81,
            110,
            19,
            118,
            63,
            90,
            144,
            99,
            45,
            10,
            145,
            100,
            184,
            238,
            177,
            193,
            42,
            52,
            191,
            117,
            169,
            165,
            160,
            61,
            70
           ],
           "yaxis": "y"
          }
         ],
         "name": "8"
        },
        {
         "data": [
          {
           "hovertemplate": "Target=9<br>Time=%{x}<br>Bin Number=%{y}<br>Satellite=%{marker.color}<extra></extra>",
           "legendgroup": "",
           "marker": {
            "color": [
             1,
             1,
             1,
             1,
             0,
             0,
             0,
             0,
             0,
             0,
             0,
             0,
             1,
             1,
             1,
             1,
             1,
             1,
             1,
             1,
             0,
             0,
             1,
             1,
             1,
             1,
             1,
             0,
             0,
             0,
             0,
             0,
             0,
             0,
             0,
             0,
             0,
             1,
             1,
             1,
             0,
             0,
             0,
             0,
             0,
             0
            ],
            "coloraxis": "coloraxis",
            "symbol": "circle"
           },
           "mode": "markers",
           "name": "",
           "orientation": "v",
           "showlegend": false,
           "type": "scatter",
           "x": [
            70459.397902128,
            12500.5,
            81830,
            1108,
            58239.5,
            58229.5,
            58232,
            58234.5,
            58237,
            58222,
            58224.5,
            58227,
            18005.5,
            6533.5,
            70846.5,
            70789,
            12098,
            70824,
            70879,
            17823,
            47126.5,
            64190,
            64921,
            6623.5,
            6296,
            81982.5,
            12368,
            57877,
            58137,
            58199.5,
            58302,
            52637,
            30345.5,
            58259.5,
            58209.5,
            58249.5,
            58267,
            778.875645857,
            988,
            23297.5,
            58187,
            58257,
            58217,
            30305.5,
            58242,
            58207
           ],
           "xaxis": "x",
           "y": [
            27,
            288,
            9,
            306,
            17,
            62,
            53,
            44,
            26,
            88,
            80,
            71,
            280,
            28,
            131,
            68,
            66,
            104,
            148,
            237,
            315,
            270,
            54,
            10,
            63,
            316,
            298,
            126,
            120,
            114,
            301,
            29,
            320,
            312,
            106,
            322,
            303,
            36,
            0,
            198,
            113,
            313,
            97,
            13,
            7,
            115
           ],
           "yaxis": "y"
          }
         ],
         "name": "9"
        }
       ],
       "layout": {
        "coloraxis": {
         "colorbar": {
          "title": {
           "text": "Satellite"
          }
         },
         "colorscale": [
          [
           0,
           "#0d0887"
          ],
          [
           0.1111111111111111,
           "#46039f"
          ],
          [
           0.2222222222222222,
           "#7201a8"
          ],
          [
           0.3333333333333333,
           "#9c179e"
          ],
          [
           0.4444444444444444,
           "#bd3786"
          ],
          [
           0.5555555555555556,
           "#d8576b"
          ],
          [
           0.6666666666666666,
           "#ed7953"
          ],
          [
           0.7777777777777778,
           "#fb9f3a"
          ],
          [
           0.8888888888888888,
           "#fdca26"
          ],
          [
           1,
           "#f0f921"
          ]
         ]
        },
        "legend": {
         "tracegroupgap": 0
        },
        "margin": {
         "t": 60
        },
        "sliders": [
         {
          "active": 0,
          "currentvalue": {
           "prefix": "Target="
          },
          "len": 0.9,
          "pad": {
           "b": 10,
           "t": 60
          },
          "steps": [
           {
            "args": [
             [
              "0"
             ],
             {
              "frame": {
               "duration": 0,
               "redraw": false
              },
              "fromcurrent": true,
              "mode": "immediate",
              "transition": {
               "duration": 0,
               "easing": "linear"
              }
             }
            ],
            "label": "0",
            "method": "animate"
           },
           {
            "args": [
             [
              "1"
             ],
             {
              "frame": {
               "duration": 0,
               "redraw": false
              },
              "fromcurrent": true,
              "mode": "immediate",
              "transition": {
               "duration": 0,
               "easing": "linear"
              }
             }
            ],
            "label": "1",
            "method": "animate"
           },
           {
            "args": [
             [
              "2"
             ],
             {
              "frame": {
               "duration": 0,
               "redraw": false
              },
              "fromcurrent": true,
              "mode": "immediate",
              "transition": {
               "duration": 0,
               "easing": "linear"
              }
             }
            ],
            "label": "2",
            "method": "animate"
           },
           {
            "args": [
             [
              "3"
             ],
             {
              "frame": {
               "duration": 0,
               "redraw": false
              },
              "fromcurrent": true,
              "mode": "immediate",
              "transition": {
               "duration": 0,
               "easing": "linear"
              }
             }
            ],
            "label": "3",
            "method": "animate"
           },
           {
            "args": [
             [
              "4"
             ],
             {
              "frame": {
               "duration": 0,
               "redraw": false
              },
              "fromcurrent": true,
              "mode": "immediate",
              "transition": {
               "duration": 0,
               "easing": "linear"
              }
             }
            ],
            "label": "4",
            "method": "animate"
           },
           {
            "args": [
             [
              "5"
             ],
             {
              "frame": {
               "duration": 0,
               "redraw": false
              },
              "fromcurrent": true,
              "mode": "immediate",
              "transition": {
               "duration": 0,
               "easing": "linear"
              }
             }
            ],
            "label": "5",
            "method": "animate"
           },
           {
            "args": [
             [
              "6"
             ],
             {
              "frame": {
               "duration": 0,
               "redraw": false
              },
              "fromcurrent": true,
              "mode": "immediate",
              "transition": {
               "duration": 0,
               "easing": "linear"
              }
             }
            ],
            "label": "6",
            "method": "animate"
           },
           {
            "args": [
             [
              "7"
             ],
             {
              "frame": {
               "duration": 0,
               "redraw": false
              },
              "fromcurrent": true,
              "mode": "immediate",
              "transition": {
               "duration": 0,
               "easing": "linear"
              }
             }
            ],
            "label": "7",
            "method": "animate"
           },
           {
            "args": [
             [
              "8"
             ],
             {
              "frame": {
               "duration": 0,
               "redraw": false
              },
              "fromcurrent": true,
              "mode": "immediate",
              "transition": {
               "duration": 0,
               "easing": "linear"
              }
             }
            ],
            "label": "8",
            "method": "animate"
           },
           {
            "args": [
             [
              "9"
             ],
             {
              "frame": {
               "duration": 0,
               "redraw": false
              },
              "fromcurrent": true,
              "mode": "immediate",
              "transition": {
               "duration": 0,
               "easing": "linear"
              }
             }
            ],
            "label": "9",
            "method": "animate"
           }
          ],
          "x": 0.1,
          "xanchor": "left",
          "y": 0,
          "yanchor": "top"
         }
        ],
        "template": {
         "data": {
          "bar": [
           {
            "error_x": {
             "color": "#2a3f5f"
            },
            "error_y": {
             "color": "#2a3f5f"
            },
            "marker": {
             "line": {
              "color": "#E5ECF6",
              "width": 0.5
             },
             "pattern": {
              "fillmode": "overlay",
              "size": 10,
              "solidity": 0.2
             }
            },
            "type": "bar"
           }
          ],
          "barpolar": [
           {
            "marker": {
             "line": {
              "color": "#E5ECF6",
              "width": 0.5
             },
             "pattern": {
              "fillmode": "overlay",
              "size": 10,
              "solidity": 0.2
             }
            },
            "type": "barpolar"
           }
          ],
          "carpet": [
           {
            "aaxis": {
             "endlinecolor": "#2a3f5f",
             "gridcolor": "white",
             "linecolor": "white",
             "minorgridcolor": "white",
             "startlinecolor": "#2a3f5f"
            },
            "baxis": {
             "endlinecolor": "#2a3f5f",
             "gridcolor": "white",
             "linecolor": "white",
             "minorgridcolor": "white",
             "startlinecolor": "#2a3f5f"
            },
            "type": "carpet"
           }
          ],
          "choropleth": [
           {
            "colorbar": {
             "outlinewidth": 0,
             "ticks": ""
            },
            "type": "choropleth"
           }
          ],
          "contour": [
           {
            "colorbar": {
             "outlinewidth": 0,
             "ticks": ""
            },
            "colorscale": [
             [
              0,
              "#0d0887"
             ],
             [
              0.1111111111111111,
              "#46039f"
             ],
             [
              0.2222222222222222,
              "#7201a8"
             ],
             [
              0.3333333333333333,
              "#9c179e"
             ],
             [
              0.4444444444444444,
              "#bd3786"
             ],
             [
              0.5555555555555556,
              "#d8576b"
             ],
             [
              0.6666666666666666,
              "#ed7953"
             ],
             [
              0.7777777777777778,
              "#fb9f3a"
             ],
             [
              0.8888888888888888,
              "#fdca26"
             ],
             [
              1,
              "#f0f921"
             ]
            ],
            "type": "contour"
           }
          ],
          "contourcarpet": [
           {
            "colorbar": {
             "outlinewidth": 0,
             "ticks": ""
            },
            "type": "contourcarpet"
           }
          ],
          "heatmap": [
           {
            "colorbar": {
             "outlinewidth": 0,
             "ticks": ""
            },
            "colorscale": [
             [
              0,
              "#0d0887"
             ],
             [
              0.1111111111111111,
              "#46039f"
             ],
             [
              0.2222222222222222,
              "#7201a8"
             ],
             [
              0.3333333333333333,
              "#9c179e"
             ],
             [
              0.4444444444444444,
              "#bd3786"
             ],
             [
              0.5555555555555556,
              "#d8576b"
             ],
             [
              0.6666666666666666,
              "#ed7953"
             ],
             [
              0.7777777777777778,
              "#fb9f3a"
             ],
             [
              0.8888888888888888,
              "#fdca26"
             ],
             [
              1,
              "#f0f921"
             ]
            ],
            "type": "heatmap"
           }
          ],
          "heatmapgl": [
           {
            "colorbar": {
             "outlinewidth": 0,
             "ticks": ""
            },
            "colorscale": [
             [
              0,
              "#0d0887"
             ],
             [
              0.1111111111111111,
              "#46039f"
             ],
             [
              0.2222222222222222,
              "#7201a8"
             ],
             [
              0.3333333333333333,
              "#9c179e"
             ],
             [
              0.4444444444444444,
              "#bd3786"
             ],
             [
              0.5555555555555556,
              "#d8576b"
             ],
             [
              0.6666666666666666,
              "#ed7953"
             ],
             [
              0.7777777777777778,
              "#fb9f3a"
             ],
             [
              0.8888888888888888,
              "#fdca26"
             ],
             [
              1,
              "#f0f921"
             ]
            ],
            "type": "heatmapgl"
           }
          ],
          "histogram": [
           {
            "marker": {
             "pattern": {
              "fillmode": "overlay",
              "size": 10,
              "solidity": 0.2
             }
            },
            "type": "histogram"
           }
          ],
          "histogram2d": [
           {
            "colorbar": {
             "outlinewidth": 0,
             "ticks": ""
            },
            "colorscale": [
             [
              0,
              "#0d0887"
             ],
             [
              0.1111111111111111,
              "#46039f"
             ],
             [
              0.2222222222222222,
              "#7201a8"
             ],
             [
              0.3333333333333333,
              "#9c179e"
             ],
             [
              0.4444444444444444,
              "#bd3786"
             ],
             [
              0.5555555555555556,
              "#d8576b"
             ],
             [
              0.6666666666666666,
              "#ed7953"
             ],
             [
              0.7777777777777778,
              "#fb9f3a"
             ],
             [
              0.8888888888888888,
              "#fdca26"
             ],
             [
              1,
              "#f0f921"
             ]
            ],
            "type": "histogram2d"
           }
          ],
          "histogram2dcontour": [
           {
            "colorbar": {
             "outlinewidth": 0,
             "ticks": ""
            },
            "colorscale": [
             [
              0,
              "#0d0887"
             ],
             [
              0.1111111111111111,
              "#46039f"
             ],
             [
              0.2222222222222222,
              "#7201a8"
             ],
             [
              0.3333333333333333,
              "#9c179e"
             ],
             [
              0.4444444444444444,
              "#bd3786"
             ],
             [
              0.5555555555555556,
              "#d8576b"
             ],
             [
              0.6666666666666666,
              "#ed7953"
             ],
             [
              0.7777777777777778,
              "#fb9f3a"
             ],
             [
              0.8888888888888888,
              "#fdca26"
             ],
             [
              1,
              "#f0f921"
             ]
            ],
            "type": "histogram2dcontour"
           }
          ],
          "mesh3d": [
           {
            "colorbar": {
             "outlinewidth": 0,
             "ticks": ""
            },
            "type": "mesh3d"
           }
          ],
          "parcoords": [
           {
            "line": {
             "colorbar": {
              "outlinewidth": 0,
              "ticks": ""
             }
            },
            "type": "parcoords"
           }
          ],
          "pie": [
           {
            "automargin": true,
            "type": "pie"
           }
          ],
          "scatter": [
           {
            "fillpattern": {
             "fillmode": "overlay",
             "size": 10,
             "solidity": 0.2
            },
            "type": "scatter"
           }
          ],
          "scatter3d": [
           {
            "line": {
             "colorbar": {
              "outlinewidth": 0,
              "ticks": ""
             }
            },
            "marker": {
             "colorbar": {
              "outlinewidth": 0,
              "ticks": ""
             }
            },
            "type": "scatter3d"
           }
          ],
          "scattercarpet": [
           {
            "marker": {
             "colorbar": {
              "outlinewidth": 0,
              "ticks": ""
             }
            },
            "type": "scattercarpet"
           }
          ],
          "scattergeo": [
           {
            "marker": {
             "colorbar": {
              "outlinewidth": 0,
              "ticks": ""
             }
            },
            "type": "scattergeo"
           }
          ],
          "scattergl": [
           {
            "marker": {
             "colorbar": {
              "outlinewidth": 0,
              "ticks": ""
             }
            },
            "type": "scattergl"
           }
          ],
          "scattermapbox": [
           {
            "marker": {
             "colorbar": {
              "outlinewidth": 0,
              "ticks": ""
             }
            },
            "type": "scattermapbox"
           }
          ],
          "scatterpolar": [
           {
            "marker": {
             "colorbar": {
              "outlinewidth": 0,
              "ticks": ""
             }
            },
            "type": "scatterpolar"
           }
          ],
          "scatterpolargl": [
           {
            "marker": {
             "colorbar": {
              "outlinewidth": 0,
              "ticks": ""
             }
            },
            "type": "scatterpolargl"
           }
          ],
          "scatterternary": [
           {
            "marker": {
             "colorbar": {
              "outlinewidth": 0,
              "ticks": ""
             }
            },
            "type": "scatterternary"
           }
          ],
          "surface": [
           {
            "colorbar": {
             "outlinewidth": 0,
             "ticks": ""
            },
            "colorscale": [
             [
              0,
              "#0d0887"
             ],
             [
              0.1111111111111111,
              "#46039f"
             ],
             [
              0.2222222222222222,
              "#7201a8"
             ],
             [
              0.3333333333333333,
              "#9c179e"
             ],
             [
              0.4444444444444444,
              "#bd3786"
             ],
             [
              0.5555555555555556,
              "#d8576b"
             ],
             [
              0.6666666666666666,
              "#ed7953"
             ],
             [
              0.7777777777777778,
              "#fb9f3a"
             ],
             [
              0.8888888888888888,
              "#fdca26"
             ],
             [
              1,
              "#f0f921"
             ]
            ],
            "type": "surface"
           }
          ],
          "table": [
           {
            "cells": {
             "fill": {
              "color": "#EBF0F8"
             },
             "line": {
              "color": "white"
             }
            },
            "header": {
             "fill": {
              "color": "#C8D4E3"
             },
             "line": {
              "color": "white"
             }
            },
            "type": "table"
           }
          ]
         },
         "layout": {
          "annotationdefaults": {
           "arrowcolor": "#2a3f5f",
           "arrowhead": 0,
           "arrowwidth": 1
          },
          "autotypenumbers": "strict",
          "coloraxis": {
           "colorbar": {
            "outlinewidth": 0,
            "ticks": ""
           }
          },
          "colorscale": {
           "diverging": [
            [
             0,
             "#8e0152"
            ],
            [
             0.1,
             "#c51b7d"
            ],
            [
             0.2,
             "#de77ae"
            ],
            [
             0.3,
             "#f1b6da"
            ],
            [
             0.4,
             "#fde0ef"
            ],
            [
             0.5,
             "#f7f7f7"
            ],
            [
             0.6,
             "#e6f5d0"
            ],
            [
             0.7,
             "#b8e186"
            ],
            [
             0.8,
             "#7fbc41"
            ],
            [
             0.9,
             "#4d9221"
            ],
            [
             1,
             "#276419"
            ]
           ],
           "sequential": [
            [
             0,
             "#0d0887"
            ],
            [
             0.1111111111111111,
             "#46039f"
            ],
            [
             0.2222222222222222,
             "#7201a8"
            ],
            [
             0.3333333333333333,
             "#9c179e"
            ],
            [
             0.4444444444444444,
             "#bd3786"
            ],
            [
             0.5555555555555556,
             "#d8576b"
            ],
            [
             0.6666666666666666,
             "#ed7953"
            ],
            [
             0.7777777777777778,
             "#fb9f3a"
            ],
            [
             0.8888888888888888,
             "#fdca26"
            ],
            [
             1,
             "#f0f921"
            ]
           ],
           "sequentialminus": [
            [
             0,
             "#0d0887"
            ],
            [
             0.1111111111111111,
             "#46039f"
            ],
            [
             0.2222222222222222,
             "#7201a8"
            ],
            [
             0.3333333333333333,
             "#9c179e"
            ],
            [
             0.4444444444444444,
             "#bd3786"
            ],
            [
             0.5555555555555556,
             "#d8576b"
            ],
            [
             0.6666666666666666,
             "#ed7953"
            ],
            [
             0.7777777777777778,
             "#fb9f3a"
            ],
            [
             0.8888888888888888,
             "#fdca26"
            ],
            [
             1,
             "#f0f921"
            ]
           ]
          },
          "colorway": [
           "#636efa",
           "#EF553B",
           "#00cc96",
           "#ab63fa",
           "#FFA15A",
           "#19d3f3",
           "#FF6692",
           "#B6E880",
           "#FF97FF",
           "#FECB52"
          ],
          "font": {
           "color": "#2a3f5f"
          },
          "geo": {
           "bgcolor": "white",
           "lakecolor": "white",
           "landcolor": "#E5ECF6",
           "showlakes": true,
           "showland": true,
           "subunitcolor": "white"
          },
          "hoverlabel": {
           "align": "left"
          },
          "hovermode": "closest",
          "mapbox": {
           "style": "light"
          },
          "paper_bgcolor": "white",
          "plot_bgcolor": "#E5ECF6",
          "polar": {
           "angularaxis": {
            "gridcolor": "white",
            "linecolor": "white",
            "ticks": ""
           },
           "bgcolor": "#E5ECF6",
           "radialaxis": {
            "gridcolor": "white",
            "linecolor": "white",
            "ticks": ""
           }
          },
          "scene": {
           "xaxis": {
            "backgroundcolor": "#E5ECF6",
            "gridcolor": "white",
            "gridwidth": 2,
            "linecolor": "white",
            "showbackground": true,
            "ticks": "",
            "zerolinecolor": "white"
           },
           "yaxis": {
            "backgroundcolor": "#E5ECF6",
            "gridcolor": "white",
            "gridwidth": 2,
            "linecolor": "white",
            "showbackground": true,
            "ticks": "",
            "zerolinecolor": "white"
           },
           "zaxis": {
            "backgroundcolor": "#E5ECF6",
            "gridcolor": "white",
            "gridwidth": 2,
            "linecolor": "white",
            "showbackground": true,
            "ticks": "",
            "zerolinecolor": "white"
           }
          },
          "shapedefaults": {
           "line": {
            "color": "#2a3f5f"
           }
          },
          "ternary": {
           "aaxis": {
            "gridcolor": "white",
            "linecolor": "white",
            "ticks": ""
           },
           "baxis": {
            "gridcolor": "white",
            "linecolor": "white",
            "ticks": ""
           },
           "bgcolor": "#E5ECF6",
           "caxis": {
            "gridcolor": "white",
            "linecolor": "white",
            "ticks": ""
           }
          },
          "title": {
           "x": 0.05
          },
          "xaxis": {
           "automargin": true,
           "gridcolor": "white",
           "linecolor": "white",
           "ticks": "",
           "title": {
            "standoff": 15
           },
           "zerolinecolor": "white",
           "zerolinewidth": 2
          },
          "yaxis": {
           "automargin": true,
           "gridcolor": "white",
           "linecolor": "white",
           "ticks": "",
           "title": {
            "standoff": 15
           },
           "zerolinecolor": "white",
           "zerolinewidth": 2
          }
         }
        },
        "updatemenus": [
         {
          "buttons": [
           {
            "args": [
             null,
             {
              "frame": {
               "duration": 500,
               "redraw": false
              },
              "fromcurrent": true,
              "mode": "immediate",
              "transition": {
               "duration": 500,
               "easing": "linear"
              }
             }
            ],
            "label": "&#9654;",
            "method": "animate"
           },
           {
            "args": [
             [
              null
             ],
             {
              "frame": {
               "duration": 0,
               "redraw": false
              },
              "fromcurrent": true,
              "mode": "immediate",
              "transition": {
               "duration": 0,
               "easing": "linear"
              }
             }
            ],
            "label": "&#9724;",
            "method": "animate"
           }
          ],
          "direction": "left",
          "pad": {
           "r": 10,
           "t": 70
          },
          "showactive": false,
          "type": "buttons",
          "x": 0.1,
          "xanchor": "right",
          "y": 0,
          "yanchor": "top"
         }
        ],
        "xaxis": {
         "anchor": "y",
         "domain": [
          0,
          1
         ],
         "title": {
          "text": "Time"
         }
        },
        "yaxis": {
         "anchor": "x",
         "domain": [
          0,
          1
         ],
         "title": {
          "text": "Bin Number"
         }
        }
       }
      }
     },
     "metadata": {},
     "output_type": "display_data"
    }
   ],
   "source": [
    "# import plotly.io as pio\n",
    "# pio.renderers.default = 'notebook'\n",
    "# %pip install nbformat\n",
    "\n",
    "# Create a scatter plot using Plotly Express\n",
    "# 'stk_object.Planned_Data' is sorted by the 'Target' column for proper animation and visualization order\n",
    "# 'x' axis represents 'Time', and 'y' axis represents 'Bin Number'\n",
    "# 'hover_data' shows 'Bin Number' when hovering over the points on the plot\n",
    "# 'color' differentiates points based on the 'Satellite' column, using different colors for each satellite\n",
    "# 'animation_frame' allows the plot to animate, with each frame representing a different 'Target'\n",
    "fig = px.scatter(\n",
    "    stk_object.Planned_Data.sort_values(by=\"Target\"),\n",
    "    x=\"Time\",\n",
    "    y=\"Bin Number\",\n",
    "    hover_data=\"Bin Number\",\n",
    "    color=\"Satellite\",\n",
    "    animation_frame=\"Target\"\n",
    ")\n",
    "\n",
    "# Display the generated scatter plot with animation\n",
    "fig.show()"
   ]
  }
 ],
 "metadata": {
  "kernelspec": {
   "display_name": "Python 3",
   "language": "python",
   "name": "python3"
  },
  "language_info": {
   "codemirror_mode": {
    "name": "ipython",
    "version": 3
   },
   "file_extension": ".py",
   "mimetype": "text/x-python",
   "name": "python",
   "nbconvert_exporter": "python",
   "pygments_lexer": "ipython3",
   "version": "3.12.2"
  }
 },
 "nbformat": 4,
 "nbformat_minor": 2
}
