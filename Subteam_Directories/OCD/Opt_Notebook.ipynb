{
 "cells": [
  {
   "cell_type": "code",
   "execution_count": 1,
   "metadata": {},
   "outputs": [],
   "source": [
    "import sys\n",
    "sys.path.append(\"../../\")\n",
    "from STK_Sim import *\n",
    "\n",
    "Filename = 'AERO_402_Further_Assessment'\n",
    "\n",
    "stk_object = STK_Simulation(False,Filename)"
   ]
  },
  {
   "cell_type": "code",
   "execution_count": 2,
   "metadata": {},
   "outputs": [],
   "source": [
    "# Loading targets into stk from file.\n",
    "stk_object.set_sim_time(days=0,hours=1)\n",
    "stk_object.Target_Loader(\"../../Input_Files/Target_Packages/Targets_15.txt\")"
   ]
  },
  {
   "cell_type": "code",
   "execution_count": 3,
   "metadata": {},
   "outputs": [],
   "source": [
    "n_pop = 2\n",
    "n_gen = 1\n",
    "n_sats = 4\n",
    "opt = Optimizer(stk_object,n_pop,n_gen,n_sats)"
   ]
  },
  {
   "cell_type": "code",
   "execution_count": 25,
   "metadata": {},
   "outputs": [
    {
     "name": "stdout",
     "output_type": "stream",
     "text": [
      "-- Generation 1 --\n",
      "        avg       std       min       max\n",
      "0  2.664860  1.385125  1.279735  4.049985\n",
      "1  4.288314  1.440278  2.848037  5.728592\n",
      "2  0.041006  0.000261  0.040745  0.041267\n",
      "3  0.004133  0.000531  0.003602  0.004664\n",
      "- Computing_Access [==========] 60/60 [100%] in 0.2s (415.56/s)                 \n",
      "- Getting_AzEl [==========] 60/60 [100%] in 0.4s (147.74/s)                     \n",
      "- Sorting_Data [==========] 4860/4860 [100%] in 0.0s (113594.64/s)              \n",
      "- Computing_Access [==========] 136/136 [100%] in 0.4s (363.27/s)               \n",
      "- Getting_AzEl [==========] 136/136 [100%] in 0.9s (151.95/s)                   ▄▂▂ 102/136 [75%] in 1s (~0s, 179.6/s) \n",
      "- Sorting_Data [==========] 11016/11016 [100%] in 0.1s (292322.23/s)            \n",
      "- Computing_Access [==========] 260/260 [100%] in 0.9s (279.51/s)               \n",
      "- Getting_AzEl [==========] 260/260 [100%] in 2.5s (104.96/s)                   \n",
      "- Sorting_Data [==========] 21060/21060 [100%] in 0.1s (365854.29/s)            \n",
      "- Computing_Access [==========] 328/328 [100%] in 1.0s (337.98/s)               \n",
      "- Getting_AzEl [==========] 328/328 [100%] in 2.9s (115.07/s)                   ▂▂▄ 103/328 [31%] in 1s (~1s, 167.2/s) [=========>] ▅▇▇ 308/328 [94%] in 3s (~0s, 119.0/s) \n",
      "- Sorting_Data [==========] 26568/26568 [100%] in 0.2s (145871.43/s)            \n"
     ]
    }
   ],
   "source": [
    "pd.read_csv(f\"../../Input_Files/Constellations/{n_sats}.txt\").to_csv(f\"../../Input_Files/Satellites_File_{n_sats}.txt\",index=False)\n",
    "\n",
    "print(\"Beginning Optimization\")\n",
    "with open(f\"../../Pop_Over_Gen/{n_sats}.csv\",\"w\") as f:\n",
    "    hof = opt.run(read=True,enable_print=True,file=f)\n",
    "\n",
    "opt.Load_Individual(hof[0])\n",
    "\n",
    "stk_object.set_sim_time(days=0, hours=1)\n",
    "stk_object.dt = 60\n",
    "\n",
    "message = [[f'{n_sats} Sats', 'Avg Unplanned %', 'Max Unplanned Time']]\n",
    "for n_targets in [15,34,65,82]: #,109,186,494]:\n",
    "    stk_object.Target_Loader(f\"../../Input_Files/Target_Packages/Targets_{n_targets}.txt\")\n",
    "    stk_object.Generate_Pre_Planning_Data()\n",
    "    data_comparison = {}\n",
    "    data_comparison[\"Unplanned (%)\"] = [np.count_nonzero(stk_object.target_bins[tar_num])/324*100 for tar_num in range(len(stk_object.targets))]\n",
    "    data_comparison[\"Unplanned (Time)\"] = [np.max(stk_object.target_times[tar_num])/86400 for tar_num in range(len(stk_object.targets))]\n",
    "    pd.DataFrame(data_comparison).to_csv(f\"../../Optimization_Results/{n_sats}_{n_targets}.csv\",index=False)\n",
    "    data_comparison = pd.DataFrame(data_comparison)\n",
    "\n",
    "    message.append([data_comparison[\"Unplanned (%)\"].count(), data_comparison[\"Unplanned (%)\"].mean(), data_comparison[\"Unplanned (Time)\"].max()])\n",
    "\n",
    "\n"
   ]
  },
  {
   "cell_type": "code",
   "execution_count": 26,
   "metadata": {},
   "outputs": [
    {
     "name": "stdout",
     "output_type": "stream",
     "text": [
      "  4 Sats Avg Unplanned % Max Unplanned Time\n",
      "1     15        2.757202           0.041667\n",
      "2     34         3.75817           0.041667\n",
      "3     65        4.392213           0.041667\n",
      "4     82        4.049985           0.041667\n"
     ]
    }
   ],
   "source": [
    "df = pd.DataFrame(message, columns=message[0]).drop(0)\n",
    "print(f'{df}')"
   ]
  },
  {
   "cell_type": "code",
   "execution_count": null,
   "metadata": {},
   "outputs": [],
   "source": [
    "send_message_to_discord(message='help',channel_id=1293765673649963038)"
   ]
  }
 ],
 "metadata": {
  "kernelspec": {
   "display_name": "Python 3",
   "language": "python",
   "name": "python3"
  },
  "language_info": {
   "codemirror_mode": {
    "name": "ipython",
    "version": 3
   },
   "file_extension": ".py",
   "mimetype": "text/x-python",
   "name": "python",
   "nbconvert_exporter": "python",
   "pygments_lexer": "ipython3",
   "version": "3.12.2"
  }
 },
 "nbformat": 4,
 "nbformat_minor": 2
}
