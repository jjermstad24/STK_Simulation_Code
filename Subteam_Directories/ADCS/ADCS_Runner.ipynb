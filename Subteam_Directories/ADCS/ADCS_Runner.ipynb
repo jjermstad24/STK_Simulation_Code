{
 "cells": [
  {
   "cell_type": "code",
   "execution_count": 1,
   "metadata": {},
   "outputs": [],
   "source": [
    "import sys\n",
    "sys.path.append(\"../../\")\n",
    "from STK_Sim import *\n",
    "\n",
    "Filename = 'AERO_402_Further_Assessment'\n",
    "\n",
    "stk_object = STK_Simulation(False,Filename)"
   ]
  },
  {
   "cell_type": "code",
   "execution_count": 2,
   "metadata": {},
   "outputs": [],
   "source": [
    "# Comparing high data rate w/ no interpolation to low data rate w/ interpolation data\n",
    "\n",
    "stk_object.root.UnitPreferences.SetCurrentUnit(\"DateFormat\", \"UTCG\")\n",
    "start_time = time_convert(stk_object.root.CurrentScenario.StartTime)\n",
    "duration = datetime.timedelta(days=1, seconds=0, microseconds=0, milliseconds=0, minutes=0, hours=0, weeks=0)\n",
    "stop_time=(start_time+duration).strftime(\"%d %b %Y %H:%M:%S.%f\")\n",
    "stk_object.root.CurrentScenario.StopTime=stop_time\n",
    "stk_object.root.UnitPreferences.SetCurrentUnit(\"DateFormat\", \"EpSec\")\n",
    "\n",
    "# Loading targets into stk from file.\n",
    "stk_object.Target_Loader(\"../../Input_Files/Targets_File.txt\")\n",
    "stk_object.Satellite_Loader(\"../../Input_Files/Satellites_File.txt\")"
   ]
  },
  {
   "cell_type": "code",
   "execution_count": null,
   "metadata": {},
   "outputs": [],
   "source": [
    "df = {}\n",
    "df['Control Method'] = []\n",
    "df['Angular_Momentum'] = []\n",
    "df['Gravity_Grad_Torque'] = [] \n",
    "df['Total_Torque'] = []\n",
    "\n",
    "stk_object.dt=600\n",
    "\n",
    "stk_object.Update_Mass_Properties(M=250,I =  [[123.44,0,0],\n",
    "                                              [0,88.88,0],\n",
    "                                              [0,0,123.44]])\n",
    "\n",
    "for Control_Method in [\"NadirOrbit\",\"NadirECIVel\",\"NadirECFVel\",\"NadirSun\",\"NorthEastDown\"]:\n",
    "    for sat in stk_object.satellites:\n",
    "        stk_object.root.ExecuteCommand(f\"SetAttitude {sat.Path} Profile {Control_Method} Offset 0.0\")\n",
    "\n",
    "    Angular_Momentum_Body = stk_object.Get_Satellite_DP(\"Vectors(Body)/AngMomentum\")\n",
    "    Gravity_Grad_Torque_Body = stk_object.Get_Satellite_DP(\"Vectors(Body)/GrvGrdTorque\")\n",
    "    Total_Torque_Body = stk_object.Get_Satellite_DP(\"Vectors(Body)/TotalTorque\")\n",
    "\n",
    "    df['Control Method'].append(Control_Method)\n",
    "    df['Total_Torque'].append(max([max(df.magnitude) for df in Total_Torque_Body]))\n",
    "    df['Gravity_Grad_Torque'].append(max([max(df.magnitude) for df in Gravity_Grad_Torque_Body]))\n",
    "    df['Angular_Momentum'].append(max([max(df.magnitude) for df in Angular_Momentum_Body]))\n",
    "\n",
    "df = pd.DataFrame(df)\n",
    "df"
   ]
  }
 ],
 "metadata": {
  "kernelspec": {
   "display_name": "Python 3",
   "language": "python",
   "name": "python3"
  },
  "language_info": {
   "codemirror_mode": {
    "name": "ipython",
    "version": 3
   },
   "file_extension": ".py",
   "mimetype": "text/x-python",
   "name": "python",
   "nbconvert_exporter": "python",
   "pygments_lexer": "ipython3",
   "version": "3.12.0"
  }
 },
 "nbformat": 4,
 "nbformat_minor": 2
}
