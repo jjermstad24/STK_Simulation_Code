{
 "cells": [
  {
   "cell_type": "code",
   "execution_count": 1,
   "metadata": {},
   "outputs": [
    {
     "ename": "STKRuntimeError",
     "evalue": "License check failed",
     "output_type": "error",
     "traceback": [
      "\u001b[1;31m---------------------------------------------------------------------------\u001b[0m",
      "\u001b[1;31mSTKRuntimeError\u001b[0m                           Traceback (most recent call last)",
      "Cell \u001b[1;32mIn[1], line 7\u001b[0m\n\u001b[0;32m      3\u001b[0m \u001b[38;5;28;01mfrom\u001b[39;00m \u001b[38;5;21;01mSTK_Sim\u001b[39;00m \u001b[38;5;28;01mimport\u001b[39;00m \u001b[38;5;241m*\u001b[39m\n\u001b[0;32m      5\u001b[0m Filename \u001b[38;5;241m=\u001b[39m \u001b[38;5;124m'\u001b[39m\u001b[38;5;124mAERO_402_Further_Assessment\u001b[39m\u001b[38;5;124m'\u001b[39m\n\u001b[1;32m----> 7\u001b[0m stk_object \u001b[38;5;241m=\u001b[39m \u001b[43mSTK_Simulation\u001b[49m\u001b[43m(\u001b[49m\u001b[38;5;28;43;01mFalse\u001b[39;49;00m\u001b[43m,\u001b[49m\u001b[43mFilename\u001b[49m\u001b[43m)\u001b[49m\n",
      "File \u001b[1;32mc:\\Users\\kanis\\Desktop\\CAPSTONE\\STK_Simulation_Code\\Subteam_Directories\\Payload\\../..\\STK_Sim.py:27\u001b[0m, in \u001b[0;36mSTK_Simulation.__init__\u001b[1;34m(self, GUI, Filename)\u001b[0m\n\u001b[0;32m     24\u001b[0m     \u001b[38;5;28mself\u001b[39m\u001b[38;5;241m.\u001b[39mroot \u001b[38;5;241m=\u001b[39m \u001b[38;5;28mself\u001b[39m\u001b[38;5;241m.\u001b[39mstk\u001b[38;5;241m.\u001b[39mRoot\n\u001b[0;32m     25\u001b[0m \u001b[38;5;28;01melse\u001b[39;00m:\n\u001b[0;32m     26\u001b[0m     \u001b[38;5;66;03m# Start new instance of STK Engine with no GUI\u001b[39;00m\n\u001b[1;32m---> 27\u001b[0m     \u001b[38;5;28mself\u001b[39m\u001b[38;5;241m.\u001b[39mstk \u001b[38;5;241m=\u001b[39m \u001b[43mSTKEngine\u001b[49m\u001b[38;5;241;43m.\u001b[39;49m\u001b[43mStartApplication\u001b[49m\u001b[43m(\u001b[49m\u001b[43mnoGraphics\u001b[49m\u001b[38;5;241;43m=\u001b[39;49m\u001b[38;5;28;43;01mTrue\u001b[39;49;00m\u001b[43m)\u001b[49m \u001b[38;5;66;03m# optionally, noGraphics = True\u001b[39;00m\n\u001b[0;32m     28\u001b[0m     \u001b[38;5;66;03m# Get the IAgStkObjectRoot interface\u001b[39;00m\n\u001b[0;32m     29\u001b[0m     \u001b[38;5;28mself\u001b[39m\u001b[38;5;241m.\u001b[39mroot \u001b[38;5;241m=\u001b[39m \u001b[38;5;28mself\u001b[39m\u001b[38;5;241m.\u001b[39mstk\u001b[38;5;241m.\u001b[39mNewObjectRoot()\n",
      "File \u001b[1;32mc:\\Users\\kanis\\AppData\\Local\\Programs\\Python\\Python310\\lib\\site-packages\\agi\\stk12\\stkengine\\stkengine.py:181\u001b[0m, in \u001b[0;36mSTKEngine.StartApplication\u001b[1;34m(noGraphics)\u001b[0m\n\u001b[0;32m    179\u001b[0m         engine \u001b[38;5;241m=\u001b[39m STKEngineApplication()\n\u001b[0;32m    180\u001b[0m         engine\u001b[38;5;241m.\u001b[39m_private_init(pUnk, STKEngine\u001b[38;5;241m.\u001b[39m_stk_install_dir, STKEngine\u001b[38;5;241m.\u001b[39m_stk_config_dir, noGraphics)\n\u001b[1;32m--> 181\u001b[0m         \u001b[43mengine\u001b[49m\u001b[38;5;241;43m.\u001b[39;49m\u001b[43mNoGraphics\u001b[49m \u001b[38;5;241m=\u001b[39m noGraphics\n\u001b[0;32m    182\u001b[0m         \u001b[38;5;28;01mreturn\u001b[39;00m engine\n\u001b[0;32m    183\u001b[0m \u001b[38;5;28;01mraise\u001b[39;00m STKInitializationError(\u001b[38;5;124m\"\u001b[39m\u001b[38;5;124mFailed to create STK Engine application.  Check for successful install and registration.\u001b[39m\u001b[38;5;124m\"\u001b[39m)\n",
      "File \u001b[1;32mc:\\Users\\kanis\\AppData\\Local\\Programs\\Python\\Python310\\lib\\site-packages\\agi\\stk12\\stkx.py:3348\u001b[0m, in \u001b[0;36mAgSTKXApplication.__setattr__\u001b[1;34m(self, attrname, value)\u001b[0m\n\u001b[0;32m   3346\u001b[0m \u001b[38;5;28;01mif\u001b[39;00m IAgSTKXApplication\u001b[38;5;241m.\u001b[39m_get_property(\u001b[38;5;28mself\u001b[39m, attrname) \u001b[38;5;129;01mis\u001b[39;00m \u001b[38;5;129;01mnot\u001b[39;00m \u001b[38;5;28;01mNone\u001b[39;00m: found_prop \u001b[38;5;241m=\u001b[39m IAgSTKXApplication\u001b[38;5;241m.\u001b[39m_get_property(\u001b[38;5;28mself\u001b[39m, attrname)\n\u001b[0;32m   3347\u001b[0m \u001b[38;5;28;01mif\u001b[39;00m found_prop \u001b[38;5;129;01mis\u001b[39;00m \u001b[38;5;129;01mnot\u001b[39;00m \u001b[38;5;28;01mNone\u001b[39;00m:\n\u001b[1;32m-> 3348\u001b[0m     \u001b[43mfound_prop\u001b[49m\u001b[38;5;241;43m.\u001b[39;49m\u001b[38;5;21;43m__set__\u001b[39;49m\u001b[43m(\u001b[49m\u001b[38;5;28;43mself\u001b[39;49m\u001b[43m,\u001b[49m\u001b[43m \u001b[49m\u001b[43mvalue\u001b[49m\u001b[43m)\u001b[49m\n\u001b[0;32m   3349\u001b[0m \u001b[38;5;28;01melse\u001b[39;00m:\n\u001b[0;32m   3350\u001b[0m     \u001b[38;5;28;01mraise\u001b[39;00m STKAttributeError(attrname \u001b[38;5;241m+\u001b[39m \u001b[38;5;124m'\u001b[39m\u001b[38;5;124m is not a recognized attribute in AgSTKXApplication.\u001b[39m\u001b[38;5;124m'\u001b[39m)\n",
      "File \u001b[1;32mc:\\Users\\kanis\\AppData\\Local\\Programs\\Python\\Python310\\lib\\site-packages\\agi\\stk12\\stkx.py:948\u001b[0m, in \u001b[0;36mIAgSTKXApplication.NoGraphics\u001b[1;34m(self, newVal)\u001b[0m\n\u001b[0;32m    945\u001b[0m \u001b[38;5;129m@NoGraphics\u001b[39m\u001b[38;5;241m.\u001b[39msetter\n\u001b[0;32m    946\u001b[0m \u001b[38;5;28;01mdef\u001b[39;00m \u001b[38;5;21mNoGraphics\u001b[39m(\u001b[38;5;28mself\u001b[39m, newVal:\u001b[38;5;28mbool\u001b[39m) \u001b[38;5;241m-\u001b[39m\u001b[38;5;241m>\u001b[39m \u001b[38;5;28;01mNone\u001b[39;00m:\n\u001b[0;32m    947\u001b[0m     \u001b[38;5;28;01mwith\u001b[39;00m agmarshall\u001b[38;5;241m.\u001b[39mVARIANT_BOOL_arg(newVal) \u001b[38;5;28;01mas\u001b[39;00m arg_newVal:\n\u001b[1;32m--> 948\u001b[0m         \u001b[43magcls\u001b[49m\u001b[38;5;241;43m.\u001b[39;49m\u001b[43mevaluate_hresult\u001b[49m\u001b[43m(\u001b[49m\u001b[38;5;28;43mself\u001b[39;49m\u001b[38;5;241;43m.\u001b[39;49m\u001b[38;5;18;43m__dict__\u001b[39;49m\u001b[43m[\u001b[49m\u001b[38;5;124;43m'\u001b[39;49m\u001b[38;5;124;43m_SetNoGraphics\u001b[39;49m\u001b[38;5;124;43m'\u001b[39;49m\u001b[43m]\u001b[49m\u001b[43m(\u001b[49m\u001b[43marg_newVal\u001b[49m\u001b[38;5;241;43m.\u001b[39;49m\u001b[43mCOM_val\u001b[49m\u001b[43m)\u001b[49m\u001b[43m)\u001b[49m\n",
      "File \u001b[1;32mc:\\Users\\kanis\\AppData\\Local\\Programs\\Python\\Python310\\lib\\site-packages\\agi\\stk12\\internal\\coclassutil.py:86\u001b[0m, in \u001b[0;36mevaluate_hresult\u001b[1;34m(hr)\u001b[0m\n\u001b[0;32m     84\u001b[0m     msg \u001b[38;5;241m=\u001b[39m \u001b[38;5;124m\"\u001b[39m\u001b[38;5;124mOne or more arguments are invalid.\u001b[39m\u001b[38;5;124m\"\u001b[39m\n\u001b[0;32m     85\u001b[0m hresult_val \u001b[38;5;241m=\u001b[39m \u001b[38;5;124m'\u001b[39m\u001b[38;5;124m(HRESULT = 0x\u001b[39m\u001b[38;5;132;01m%x\u001b[39;00m\u001b[38;5;124m)\u001b[39m\u001b[38;5;124m'\u001b[39m \u001b[38;5;241m%\u001b[39m (hr \u001b[38;5;241m&\u001b[39m \u001b[38;5;241m0xFFFFFFFF\u001b[39m)\n\u001b[1;32m---> 86\u001b[0m \u001b[38;5;28;01mraise\u001b[39;00m STKRuntimeError(msg \u001b[38;5;28;01mif\u001b[39;00m msg \u001b[38;5;129;01mis\u001b[39;00m \u001b[38;5;129;01mnot\u001b[39;00m \u001b[38;5;28;01mNone\u001b[39;00m \u001b[38;5;28;01melse\u001b[39;00m hresult_val)\n",
      "\u001b[1;31mSTKRuntimeError\u001b[0m: License check failed"
     ]
    }
   ],
   "source": [
    "import sys\n",
    "sys.path.append(\"../../\")\n",
    "from STK_Sim import *\n",
    "\n",
    "Filename = 'AERO_402_Further_Assessment'\n",
    "\n",
    "stk_object = STK_Simulation(False,Filename)"
   ]
  },
  {
   "cell_type": "code",
   "execution_count": 3,
   "metadata": {},
   "outputs": [],
   "source": [
    "# Comparing high data rate w/ no interpolation to low data rate w/ interpolation data\n",
    "\n",
    "stk_object.root.UnitPreferences.SetCurrentUnit(\"DateFormat\", \"UTCG\")\n",
    "start_time = time_convert(stk_object.root.CurrentScenario.StartTime)\n",
    "duration = datetime.timedelta(days=1, seconds=0, microseconds=0, milliseconds=0, minutes=0, hours=0, weeks=0)\n",
    "stop_time=(start_time+duration).strftime(\"%d %b %Y %H:%M:%S.%f\")\n",
    "stk_object.root.CurrentScenario.StopTime=stop_time\n",
    "stk_object.root.UnitPreferences.SetCurrentUnit(\"DateFormat\", \"EpSec\")\n",
    "\n",
    "# Loading targets into stk from file.\n",
    "stk_object.Target_Loader(\"../../Input_Files/Targets_File.txt\")\n",
    "stk_object.Satellite_Loader(\"../../Input_Files/Satellites_File.txt\")"
   ]
  },
  {
   "cell_type": "code",
   "execution_count": null,
   "metadata": {},
   "outputs": [],
   "source": [
    "self = stk_object\n",
    "self.radars = []\n",
    "\n",
    "for sat_num, sat in enumerate(self.satellites):\n",
    "    self.radars.append(sat.Children.New(AgESTKObjectType.eRadar, f'Radar_{sat_num}'))\n",
    "    self.radars[-1].Model.SetMode(\"SAR\")\n",
    "    self.radars[-1].Model.AntennaControl.SetEmbeddedModel(\"Phased Array\")"
   ]
  }
 ],
 "metadata": {
  "kernelspec": {
   "display_name": "Python 3",
   "language": "python",
   "name": "python3"
  },
  "language_info": {
   "codemirror_mode": {
    "name": "ipython",
    "version": 3
   },
   "file_extension": ".py",
   "mimetype": "text/x-python",
   "name": "python",
   "nbconvert_exporter": "python",
   "pygments_lexer": "ipython3",
   "version": "3.10.11"
  }
 },
 "nbformat": 4,
 "nbformat_minor": 2
}
