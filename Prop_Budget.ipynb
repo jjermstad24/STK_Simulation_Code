{
 "cells": [
  {
   "cell_type": "code",
   "execution_count": 1,
   "metadata": {},
   "outputs": [],
   "source": [
    "import numpy as np\n",
    "import math\n",
    "import matplotlib.pyplot as plt\n",
    "%matplotlib tk\n",
    "Re = 6378\n",
    "mu = 3.986004354360959*10**5"
   ]
  },
  {
   "cell_type": "code",
   "execution_count": 2,
   "metadata": {},
   "outputs": [],
   "source": [
    "def Combing_Angle_Change(v1,i1,raan1,v2,i2,raan2):\n",
    "    delta_theta = np.arccos(np.cos(i1)*np.cos(i2)+np.cos(raan2-raan1)*np.sin(i1)*np.sin(i2))\n",
    "    return (v1**2+v2**2-2*v2*v1*np.cos(delta_theta))**0.5\n",
    "\n",
    "def dv_Calculation(inc,per,apo,raan,r_final,inc_final,raan_final,option):\n",
    "    a_initial = (apo+per)/2\n",
    "    Vp_initial = (mu*(2/per-1/a_initial))**.5\n",
    "\n",
    "    Vc_final = (mu/r_final)**0.5\n",
    "\n",
    "    a_transfer = (r_final+per)/2\n",
    "    Vp_transfer = (mu*(2/per-1/a_transfer))**.5\n",
    "    Va_transfer = (mu*(2/r_final-1/a_transfer))**.5\n",
    "\n",
    "    if option == 1:\n",
    "        dv1 = Combing_Angle_Change(Vp_transfer,inc_final,raan_final,Vp_initial,inc,raan)\n",
    "        dv2 = Va_transfer - Vc_final\n",
    "\n",
    "    if option == 2:\n",
    "        dv1 = Vp_transfer - Vp_initial\n",
    "        dv2 = Combing_Angle_Change(Va_transfer,inc_final,raan_final,Vc_final,inc,raan)\n",
    "\n",
    "    return abs(dv1)+abs(dv2)"
   ]
  },
  {
   "cell_type": "code",
   "execution_count": 4,
   "metadata": {},
   "outputs": [
    {
     "name": "stdout",
     "output_type": "stream",
     "text": [
      "1: dv = 26.903716329572998\n",
      "2: dv = 26.878633739370418\n"
     ]
    }
   ],
   "source": [
    "# Calculations using Atlas-5(531) Launch Vehicle\n",
    "\n",
    "d_inc = 0.1/180*np.pi\n",
    "d_raan = 0.15/180*np.pi\n",
    "d_r = 10\n",
    "\n",
    "r_final = 500+Re\n",
    "inc_final = 90.0/180*np.pi\n",
    "raan_final = 45/180*np.pi\n",
    "\n",
    "inc_insertion = inc_final+d_inc\n",
    "raan_insertion = raan_final+d_raan\n",
    "per_insertion = r_final-d_r\n",
    "apo_insertion = r_final-d_r\n",
    "\n",
    "dv = dv_Calculation(inc_insertion,per_insertion,apo_insertion,raan_insertion,r_final,inc_final,raan_final,1)\n",
    "print(\"1: dv =\",1000*dv)\n",
    "dv = dv_Calculation(inc_insertion,per_insertion,apo_insertion,raan_insertion,r_final,inc_final,raan_final,2)\n",
    "print(\"2: dv =\",1000*dv)"
   ]
  },
  {
   "cell_type": "code",
   "execution_count": 9,
   "metadata": {},
   "outputs": [
    {
     "name": "stdout",
     "output_type": "stream",
     "text": [
      "T_initial = 7631.704005906477\n",
      "v_initial = 6.8976111315127\n",
      "T_transfer = 6958.8095158054975\n",
      "vp_transfer = 6.675134848777878\n",
      "va_transfer = 7.579869851322996\n",
      "dv1 = -0.22247628273482167\n",
      "dv2 = 0.22247628273482167\n",
      "dv = 0.44495256546964335\n",
      "dt = 672.894490100979\n"
     ]
    }
   ],
   "source": [
    "# Phasing\n",
    "alt_initial = 2000\n",
    "a_initial = 2000+Re\n",
    "T_initial = 2*np.pi*(a_initial**3/mu)**0.5\n",
    "print(\"T_initial =\",T_initial)\n",
    "v_initial = (mu*(1/a_initial))**.5\n",
    "print(\"v_initial =\",v_initial)\n",
    "\n",
    "rp_transfer = a_initial\n",
    "ra_transfer = rp_transfer - 1000\n",
    "a_transfer = (rp_transfer+ra_transfer)/2\n",
    "T_transfer = 2*np.pi*(a_transfer**3/mu)**0.5\n",
    "print(\"T_transfer =\",T_transfer)\n",
    "vp_transfer = (mu*(2/rp_transfer-1/a_transfer))**.5\n",
    "print(\"vp_transfer =\",vp_transfer)\n",
    "va_transfer = (mu*(2/ra_transfer-1/a_transfer))**.5\n",
    "print(\"va_transfer =\",va_transfer)\n",
    "\n",
    "dv1 = vp_transfer - v_initial\n",
    "print(\"dv1 =\",dv1)\n",
    "dv2 = v_initial - vp_transfer\n",
    "print(\"dv2 =\",dv2)\n",
    "dv = abs(dv1) + abs(dv2)\n",
    "print(\"dv =\",dv)\n",
    "\n",
    "dt = T_initial-T_transfer\n",
    "print(\"dt =\",dt)"
   ]
  }
 ],
 "metadata": {
  "kernelspec": {
   "display_name": "Python 3",
   "language": "python",
   "name": "python3"
  },
  "language_info": {
   "codemirror_mode": {
    "name": "ipython",
    "version": 3
   },
   "file_extension": ".py",
   "mimetype": "text/x-python",
   "name": "python",
   "nbconvert_exporter": "python",
   "pygments_lexer": "ipython3",
   "version": "3.12.0"
  }
 },
 "nbformat": 4,
 "nbformat_minor": 2
}
