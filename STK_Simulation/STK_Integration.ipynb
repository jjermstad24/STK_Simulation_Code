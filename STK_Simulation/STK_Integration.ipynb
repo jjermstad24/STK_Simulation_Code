{
 "cells": [
  {
   "cell_type": "code",
   "execution_count": 1,
   "metadata": {},
   "outputs": [],
   "source": [
    "from STK_Sim import *\n",
    "\n",
    "Filename = 'AERO_401_Initial_Assessment'\n",
    "\n",
    "stk_object = STK_Simulation(False,Filename)"
   ]
  },
  {
   "cell_type": "code",
   "execution_count": 51,
   "metadata": {},
   "outputs": [],
   "source": [
    "# Setting scenario time variables\n",
    "stk_object.root.UnitPreferences.SetCurrentUnit(\"DateFormat\", \"UTCG\")\n",
    "start_time = time_convert(stk_object.root.CurrentScenario.StartTime)\n",
    "dt = datetime.timedelta(days=1, seconds=0, microseconds=0, milliseconds=0, minutes=0, hours=0, weeks=0)\n",
    "stop_time=(start_time+dt).strftime(\"%d %b %Y %H:%M:%S.%f\")\n",
    "stk_object.root.CurrentScenario.StopTime=stop_time\n",
    "stk_object.root.UnitPreferences.SetCurrentUnit(\"DateFormat\", \"EpSec\")"
   ]
  },
  {
   "cell_type": "code",
   "execution_count": 54,
   "metadata": {},
   "outputs": [],
   "source": [
    "# Generating a polygon to bound the lat/lon coordinates, you can create your polygon, in the same format as Targets_Polygon.txt.\n",
    "poly = Create_Poly('Input_Files/Targets_Polygon.txt')\n",
    "# Writing random points within the polygon to a target file.\n",
    "targets_filename = 'Input_Files/Targets_File.txt'\n",
    "polygon_random_points(poly,1).to_csv(targets_filename,index=False)\n",
    "# Plotting the polygon and generated targets on the map.\n",
    "plot_targets_and_polygon(poly,targets_filename)\n",
    "# Loading targets into stk from file.\n",
    "stk_object.Target_Loader(targets_filename)"
   ]
  },
  {
   "cell_type": "code",
   "execution_count": null,
   "metadata": {},
   "outputs": [],
   "source": [
    "# Generating an external sensor pointing file (still in development, feel free to comment out)\n",
    "External_Pointing_File = '/Users/jjfoo/Spring_2024_Classes/AERO_401/Input_Files/External_Pointing_File.txt'\n",
    "Pointing_File_Generator(External_Pointing_File,2*86400)"
   ]
  },
  {
   "cell_type": "code",
   "execution_count": 55,
   "metadata": {},
   "outputs": [],
   "source": [
    "# Loading satellites into stk from file.\n",
    "satellites_filename = 'Input_Files/Satellites_File.txt'\n",
    "stk_object.Satellite_Loader(satellites_filename)\n",
    "\n",
    "# Loading satellites into stk from file with external pointing file (Comment out the one you do not want to use).\n",
    "# satellites_filename = 'Input_Files/Satellites_File.txt'\n",
    "# stk_object.Satellite_Loader(satellites_filename,External_Pointing_File)"
   ]
  },
  {
   "cell_type": "code",
   "execution_count": null,
   "metadata": {},
   "outputs": [],
   "source": [
    "# Calculating the lifetime of each satellite using satellite properties\n",
    "Cd=2.2\n",
    "Cr=1.0\n",
    "DragArea=13.65\n",
    "SunArea=15.43\n",
    "Mass=100.0\n",
    "stk_object.Compute_Lifetime(Cd,Cr,DragArea,SunArea,Mass)\n",
    "print(stk_object.Lifetimes)"
   ]
  },
  {
   "cell_type": "code",
   "execution_count": null,
   "metadata": {},
   "outputs": [],
   "source": [
    "# Computing Azimuth and Elevation angels with a given time value (dt in seconds) in between each Computation.\n",
    "dt = 60\n",
    "stk_object.Compute_AzEl(dt)"
   ]
  },
  {
   "cell_type": "code",
   "execution_count": 43,
   "metadata": {},
   "outputs": [
    {
     "data": {
      "application/vnd.plotly.v1+json": {
       "config": {
        "plotlyServerURL": "https://plot.ly"
       },
       "data": [
        {
         "coloraxis": "coloraxis",
         "hovertemplate": "Azimuth: %{x}<br>Elevation: %{y}<br>Total Frames Captured: %{z}<extra></extra>",
         "name": "0",
         "texttemplate": "%{z}",
         "type": "heatmap",
         "x": [
          "0-10",
          "10-20",
          "20-30",
          "30-40",
          "40-50",
          "50-60",
          "60-70",
          "70-80",
          "80-90",
          "90-100",
          "100-110",
          "110-120",
          "120-130",
          "130-140",
          "140-150",
          "150-160",
          "160-170",
          "170-180",
          "180-190",
          "190-200",
          "200-210",
          "210-220",
          "220-230",
          "230-240",
          "240-250",
          "250-260",
          "260-270",
          "270-280",
          "280-290",
          "290-300",
          "300-310",
          "310-320",
          "320-330",
          "330-340",
          "340-350",
          "350-360"
         ],
         "xaxis": "x",
         "y": [
          "0-10",
          "10-20",
          "20-30",
          "30-40",
          "40-50",
          "50-60",
          "60-70",
          "70-80",
          "80-90"
         ],
         "yaxis": "y",
         "z": [
          [
           0,
           0,
           0,
           0,
           0,
           0,
           0,
           0,
           0,
           0,
           0,
           1,
           3,
           0,
           0,
           4,
           0,
           0,
           0,
           3,
           2,
           1,
           0,
           0,
           0,
           0,
           4,
           2,
           6,
           3,
           0,
           0,
           0,
           0,
           0,
           0
          ],
          [
           0,
           0,
           0,
           0,
           0,
           0,
           0,
           0,
           0,
           0,
           0,
           0,
           1,
           2,
           0,
           0,
           2,
           2,
           0,
           0,
           0,
           1,
           2,
           1,
           2,
           3,
           5,
           2,
           0,
           0,
           0,
           0,
           0,
           0,
           0,
           0
          ],
          [
           0,
           0,
           0,
           0,
           0,
           0,
           0,
           0,
           0,
           0,
           0,
           0,
           0,
           0,
           2,
           0,
           0,
           0,
           1,
           2,
           1,
           1,
           1,
           2,
           3,
           2,
           0,
           0,
           0,
           0,
           0,
           0,
           0,
           0,
           0,
           0
          ],
          [
           0,
           0,
           0,
           0,
           0,
           0,
           0,
           0,
           0,
           0,
           0,
           0,
           0,
           0,
           0,
           1,
           1,
           1,
           1,
           1,
           1,
           0,
           1,
           1,
           0,
           0,
           0,
           0,
           0,
           0,
           0,
           0,
           0,
           0,
           0,
           0
          ],
          [
           0,
           0,
           0,
           0,
           0,
           0,
           0,
           0,
           0,
           0,
           0,
           0,
           0,
           0,
           0,
           0,
           0,
           0,
           0,
           0,
           0,
           0,
           0,
           0,
           0,
           0,
           0,
           0,
           0,
           0,
           0,
           0,
           0,
           0,
           0,
           0
          ],
          [
           0,
           0,
           0,
           0,
           0,
           0,
           0,
           0,
           0,
           0,
           0,
           0,
           0,
           0,
           0,
           0,
           0,
           0,
           0,
           0,
           0,
           0,
           0,
           0,
           0,
           0,
           0,
           0,
           0,
           0,
           0,
           0,
           0,
           0,
           0,
           0
          ],
          [
           0,
           0,
           0,
           0,
           0,
           0,
           0,
           0,
           0,
           0,
           0,
           0,
           0,
           0,
           0,
           0,
           0,
           0,
           0,
           0,
           0,
           0,
           0,
           0,
           0,
           0,
           0,
           0,
           0,
           0,
           0,
           0,
           0,
           0,
           0,
           0
          ],
          [
           0,
           0,
           0,
           0,
           0,
           0,
           0,
           0,
           0,
           0,
           0,
           0,
           0,
           0,
           0,
           0,
           0,
           0,
           0,
           0,
           0,
           0,
           0,
           0,
           0,
           0,
           0,
           0,
           0,
           0,
           0,
           0,
           0,
           0,
           0,
           0
          ],
          [
           0,
           0,
           0,
           0,
           0,
           0,
           0,
           0,
           0,
           0,
           0,
           0,
           0,
           0,
           0,
           0,
           0,
           0,
           0,
           0,
           0,
           0,
           0,
           0,
           0,
           0,
           0,
           0,
           0,
           0,
           0,
           0,
           0,
           0,
           0,
           0
          ]
         ]
        },
        {
         "coloraxis": "coloraxis",
         "hovertemplate": "Azimuth: %{x}<br>Elevation: %{y}<br>Total Frames Captured: %{z}<extra></extra>",
         "name": "0",
         "texttemplate": "%{z}",
         "type": "heatmap",
         "x": [
          "0-10",
          "10-20",
          "20-30",
          "30-40",
          "40-50",
          "50-60",
          "60-70",
          "70-80",
          "80-90",
          "90-100",
          "100-110",
          "110-120",
          "120-130",
          "130-140",
          "140-150",
          "150-160",
          "160-170",
          "170-180",
          "180-190",
          "190-200",
          "200-210",
          "210-220",
          "220-230",
          "230-240",
          "240-250",
          "250-260",
          "260-270",
          "270-280",
          "280-290",
          "290-300",
          "300-310",
          "310-320",
          "320-330",
          "330-340",
          "340-350",
          "350-360"
         ],
         "xaxis": "x",
         "y": [
          "0-10",
          "10-20",
          "20-30",
          "30-40",
          "40-50",
          "50-60",
          "60-70",
          "70-80",
          "80-90"
         ],
         "yaxis": "y",
         "z": [
          [
           0,
           0,
           0,
           0,
           0,
           0,
           0,
           0,
           0,
           0,
           0,
           0,
           0,
           0,
           0,
           0,
           0,
           0,
           2,
           2,
           1,
           0,
           0,
           0,
           0,
           1,
           2,
           2,
           2,
           3,
           1,
           0,
           0,
           0,
           0,
           0
          ],
          [
           0,
           0,
           0,
           0,
           0,
           0,
           0,
           0,
           0,
           0,
           0,
           0,
           0,
           0,
           0,
           0,
           0,
           0,
           0,
           0,
           1,
           2,
           1,
           2,
           1,
           2,
           1,
           2,
           0,
           0,
           0,
           0,
           0,
           0,
           0,
           0
          ],
          [
           0,
           0,
           0,
           0,
           0,
           0,
           0,
           0,
           0,
           0,
           0,
           0,
           0,
           0,
           0,
           0,
           0,
           0,
           0,
           0,
           0,
           0,
           0,
           0,
           0,
           0,
           0,
           0,
           0,
           0,
           0,
           0,
           0,
           0,
           0,
           0
          ],
          [
           0,
           0,
           0,
           0,
           0,
           0,
           0,
           0,
           0,
           0,
           0,
           0,
           0,
           0,
           0,
           0,
           0,
           0,
           0,
           0,
           0,
           0,
           0,
           0,
           0,
           0,
           0,
           0,
           0,
           0,
           0,
           0,
           0,
           0,
           0,
           0
          ],
          [
           0,
           0,
           0,
           0,
           0,
           0,
           0,
           0,
           0,
           0,
           0,
           0,
           0,
           0,
           0,
           0,
           0,
           0,
           0,
           0,
           0,
           0,
           0,
           0,
           0,
           0,
           0,
           0,
           0,
           0,
           0,
           0,
           0,
           0,
           0,
           0
          ],
          [
           0,
           0,
           0,
           0,
           0,
           0,
           0,
           0,
           0,
           0,
           0,
           0,
           0,
           0,
           0,
           0,
           0,
           0,
           0,
           0,
           0,
           0,
           0,
           0,
           0,
           0,
           0,
           0,
           0,
           0,
           0,
           0,
           0,
           0,
           0,
           0
          ],
          [
           0,
           0,
           0,
           0,
           0,
           0,
           0,
           0,
           0,
           0,
           0,
           0,
           0,
           0,
           0,
           0,
           0,
           0,
           0,
           0,
           0,
           0,
           0,
           0,
           0,
           0,
           0,
           0,
           0,
           0,
           0,
           0,
           0,
           0,
           0,
           0
          ],
          [
           0,
           0,
           0,
           0,
           0,
           0,
           0,
           0,
           0,
           0,
           0,
           0,
           0,
           0,
           0,
           0,
           0,
           0,
           0,
           0,
           0,
           0,
           0,
           0,
           0,
           0,
           0,
           0,
           0,
           0,
           0,
           0,
           0,
           0,
           0,
           0
          ],
          [
           0,
           0,
           0,
           0,
           0,
           0,
           0,
           0,
           0,
           0,
           0,
           0,
           0,
           0,
           0,
           0,
           0,
           0,
           0,
           0,
           0,
           0,
           0,
           0,
           0,
           0,
           0,
           0,
           0,
           0,
           0,
           0,
           0,
           0,
           0,
           0
          ]
         ]
        },
        {
         "coloraxis": "coloraxis",
         "hovertemplate": "Azimuth: %{x}<br>Elevation: %{y}<br>Total Frames Captured: %{z}<extra></extra>",
         "name": "0",
         "texttemplate": "%{z}",
         "type": "heatmap",
         "x": [
          "0-10",
          "10-20",
          "20-30",
          "30-40",
          "40-50",
          "50-60",
          "60-70",
          "70-80",
          "80-90",
          "90-100",
          "100-110",
          "110-120",
          "120-130",
          "130-140",
          "140-150",
          "150-160",
          "160-170",
          "170-180",
          "180-190",
          "190-200",
          "200-210",
          "210-220",
          "220-230",
          "230-240",
          "240-250",
          "250-260",
          "260-270",
          "270-280",
          "280-290",
          "290-300",
          "300-310",
          "310-320",
          "320-330",
          "330-340",
          "340-350",
          "350-360"
         ],
         "xaxis": "x",
         "y": [
          "0-10",
          "10-20",
          "20-30",
          "30-40",
          "40-50",
          "50-60",
          "60-70",
          "70-80",
          "80-90"
         ],
         "yaxis": "y",
         "z": [
          [
           0,
           0,
           0,
           0,
           0,
           0,
           0,
           0,
           0,
           0,
           0,
           0,
           0,
           0,
           0,
           0,
           3,
           1,
           0,
           0,
           0,
           1,
           2,
           2,
           2,
           2,
           2,
           2,
           3,
           2,
           3,
           0,
           0,
           0,
           0,
           0
          ],
          [
           0,
           0,
           0,
           0,
           0,
           0,
           0,
           0,
           0,
           0,
           0,
           0,
           0,
           0,
           0,
           0,
           0,
           1,
           2,
           0,
           0,
           0,
           0,
           0,
           0,
           0,
           0,
           0,
           2,
           1,
           0,
           0,
           0,
           0,
           0,
           0
          ],
          [
           0,
           0,
           0,
           0,
           0,
           0,
           0,
           0,
           0,
           0,
           0,
           0,
           0,
           0,
           0,
           0,
           0,
           0,
           0,
           2,
           1,
           1,
           0,
           0,
           0,
           0,
           2,
           1,
           0,
           0,
           0,
           0,
           0,
           0,
           0,
           0
          ],
          [
           0,
           0,
           0,
           0,
           0,
           0,
           0,
           0,
           0,
           0,
           0,
           0,
           0,
           0,
           0,
           0,
           0,
           0,
           0,
           0,
           0,
           0,
           1,
           1,
           1,
           1,
           0,
           0,
           0,
           0,
           0,
           0,
           0,
           0,
           0,
           0
          ],
          [
           0,
           0,
           0,
           0,
           0,
           0,
           0,
           0,
           0,
           0,
           0,
           0,
           0,
           0,
           0,
           0,
           0,
           0,
           0,
           0,
           0,
           0,
           0,
           0,
           0,
           0,
           0,
           0,
           0,
           0,
           0,
           0,
           0,
           0,
           0,
           0
          ],
          [
           0,
           0,
           0,
           0,
           0,
           0,
           0,
           0,
           0,
           0,
           0,
           0,
           0,
           0,
           0,
           0,
           0,
           0,
           0,
           0,
           0,
           0,
           0,
           0,
           0,
           0,
           0,
           0,
           0,
           0,
           0,
           0,
           0,
           0,
           0,
           0
          ],
          [
           0,
           0,
           0,
           0,
           0,
           0,
           0,
           0,
           0,
           0,
           0,
           0,
           0,
           0,
           0,
           0,
           0,
           0,
           0,
           0,
           0,
           0,
           0,
           0,
           0,
           0,
           0,
           0,
           0,
           0,
           0,
           0,
           0,
           0,
           0,
           0
          ],
          [
           0,
           0,
           0,
           0,
           0,
           0,
           0,
           0,
           0,
           0,
           0,
           0,
           0,
           0,
           0,
           0,
           0,
           0,
           0,
           0,
           0,
           0,
           0,
           0,
           0,
           0,
           0,
           0,
           0,
           0,
           0,
           0,
           0,
           0,
           0,
           0
          ],
          [
           0,
           0,
           0,
           0,
           0,
           0,
           0,
           0,
           0,
           0,
           0,
           0,
           0,
           0,
           0,
           0,
           0,
           0,
           0,
           0,
           0,
           0,
           0,
           0,
           0,
           0,
           0,
           0,
           0,
           0,
           0,
           0,
           0,
           0,
           0,
           0
          ]
         ]
        },
        {
         "coloraxis": "coloraxis",
         "hovertemplate": "Azimuth: %{x}<br>Elevation: %{y}<br>Total Frames Captured: %{z}<extra></extra>",
         "name": "0",
         "texttemplate": "%{z}",
         "type": "heatmap",
         "x": [
          "0-10",
          "10-20",
          "20-30",
          "30-40",
          "40-50",
          "50-60",
          "60-70",
          "70-80",
          "80-90",
          "90-100",
          "100-110",
          "110-120",
          "120-130",
          "130-140",
          "140-150",
          "150-160",
          "160-170",
          "170-180",
          "180-190",
          "190-200",
          "200-210",
          "210-220",
          "220-230",
          "230-240",
          "240-250",
          "250-260",
          "260-270",
          "270-280",
          "280-290",
          "290-300",
          "300-310",
          "310-320",
          "320-330",
          "330-340",
          "340-350",
          "350-360"
         ],
         "xaxis": "x",
         "y": [
          "0-10",
          "10-20",
          "20-30",
          "30-40",
          "40-50",
          "50-60",
          "60-70",
          "70-80",
          "80-90"
         ],
         "yaxis": "y",
         "z": [
          [
           0,
           0,
           0,
           0,
           0,
           0,
           0,
           0,
           0,
           0,
           0,
           0,
           0,
           0,
           0,
           0,
           0,
           0,
           0,
           0,
           0,
           0,
           0,
           0,
           0,
           0,
           0,
           0,
           0,
           0,
           0,
           0,
           0,
           0,
           0,
           0
          ],
          [
           0,
           0,
           0,
           0,
           0,
           0,
           0,
           0,
           0,
           0,
           0,
           0,
           0,
           0,
           0,
           0,
           0,
           0,
           0,
           0,
           0,
           0,
           0,
           0,
           0,
           0,
           0,
           0,
           0,
           0,
           0,
           0,
           0,
           0,
           0,
           0
          ],
          [
           0,
           0,
           0,
           0,
           0,
           0,
           0,
           0,
           0,
           0,
           0,
           0,
           0,
           0,
           0,
           0,
           0,
           0,
           0,
           0,
           0,
           0,
           0,
           0,
           0,
           0,
           0,
           0,
           0,
           0,
           0,
           0,
           0,
           0,
           0,
           0
          ],
          [
           0,
           0,
           0,
           0,
           0,
           0,
           0,
           0,
           0,
           0,
           0,
           0,
           0,
           0,
           0,
           0,
           0,
           0,
           0,
           0,
           0,
           0,
           0,
           0,
           0,
           0,
           0,
           0,
           0,
           0,
           0,
           0,
           0,
           0,
           0,
           0
          ],
          [
           0,
           0,
           0,
           0,
           0,
           0,
           0,
           0,
           0,
           0,
           0,
           0,
           0,
           0,
           0,
           0,
           0,
           0,
           0,
           0,
           0,
           0,
           0,
           0,
           0,
           0,
           0,
           0,
           0,
           0,
           0,
           0,
           0,
           0,
           0,
           0
          ],
          [
           0,
           0,
           0,
           0,
           0,
           0,
           0,
           0,
           0,
           0,
           0,
           0,
           0,
           0,
           0,
           0,
           0,
           0,
           0,
           0,
           0,
           0,
           0,
           0,
           0,
           0,
           0,
           0,
           0,
           0,
           0,
           0,
           0,
           0,
           0,
           0
          ],
          [
           0,
           0,
           0,
           0,
           0,
           0,
           0,
           0,
           0,
           0,
           0,
           0,
           0,
           0,
           0,
           0,
           0,
           0,
           0,
           0,
           0,
           0,
           0,
           0,
           0,
           0,
           0,
           0,
           0,
           0,
           0,
           0,
           0,
           0,
           0,
           0
          ],
          [
           0,
           0,
           0,
           0,
           0,
           0,
           0,
           0,
           0,
           0,
           0,
           0,
           0,
           0,
           0,
           0,
           0,
           0,
           0,
           0,
           0,
           0,
           0,
           0,
           0,
           0,
           0,
           0,
           0,
           0,
           0,
           0,
           0,
           0,
           0,
           0
          ],
          [
           0,
           0,
           0,
           0,
           0,
           0,
           0,
           0,
           0,
           0,
           0,
           0,
           0,
           0,
           0,
           0,
           0,
           0,
           0,
           0,
           0,
           0,
           0,
           0,
           0,
           0,
           0,
           0,
           0,
           0,
           0,
           0,
           0,
           0,
           0,
           0
          ]
         ]
        },
        {
         "coloraxis": "coloraxis",
         "hovertemplate": "Azimuth: %{x}<br>Elevation: %{y}<br>Total Frames Captured: %{z}<extra></extra>",
         "name": "0",
         "texttemplate": "%{z}",
         "type": "heatmap",
         "x": [
          "0-10",
          "10-20",
          "20-30",
          "30-40",
          "40-50",
          "50-60",
          "60-70",
          "70-80",
          "80-90",
          "90-100",
          "100-110",
          "110-120",
          "120-130",
          "130-140",
          "140-150",
          "150-160",
          "160-170",
          "170-180",
          "180-190",
          "190-200",
          "200-210",
          "210-220",
          "220-230",
          "230-240",
          "240-250",
          "250-260",
          "260-270",
          "270-280",
          "280-290",
          "290-300",
          "300-310",
          "310-320",
          "320-330",
          "330-340",
          "340-350",
          "350-360"
         ],
         "xaxis": "x",
         "y": [
          "0-10",
          "10-20",
          "20-30",
          "30-40",
          "40-50",
          "50-60",
          "60-70",
          "70-80",
          "80-90"
         ],
         "yaxis": "y",
         "z": [
          [
           0,
           0,
           0,
           0,
           0,
           0,
           0,
           0,
           0,
           0,
           0,
           0,
           0,
           0,
           0,
           0,
           0,
           0,
           0,
           0,
           0,
           0,
           0,
           0,
           0,
           0,
           0,
           0,
           0,
           0,
           0,
           0,
           0,
           0,
           0,
           0
          ],
          [
           0,
           0,
           0,
           0,
           0,
           0,
           0,
           0,
           0,
           0,
           0,
           0,
           0,
           0,
           0,
           0,
           0,
           0,
           0,
           0,
           0,
           0,
           0,
           0,
           0,
           0,
           0,
           0,
           0,
           0,
           0,
           0,
           0,
           0,
           0,
           0
          ],
          [
           0,
           0,
           0,
           0,
           0,
           0,
           0,
           0,
           0,
           0,
           0,
           0,
           0,
           0,
           0,
           0,
           0,
           0,
           0,
           0,
           0,
           0,
           0,
           0,
           0,
           0,
           0,
           0,
           0,
           0,
           0,
           0,
           0,
           0,
           0,
           0
          ],
          [
           0,
           0,
           0,
           0,
           0,
           0,
           0,
           0,
           0,
           0,
           0,
           0,
           0,
           0,
           0,
           0,
           0,
           0,
           0,
           0,
           0,
           0,
           0,
           0,
           0,
           0,
           0,
           0,
           0,
           0,
           0,
           0,
           0,
           0,
           0,
           0
          ],
          [
           0,
           0,
           0,
           0,
           0,
           0,
           0,
           0,
           0,
           0,
           0,
           0,
           0,
           0,
           0,
           0,
           0,
           0,
           0,
           0,
           0,
           0,
           0,
           0,
           0,
           0,
           0,
           0,
           0,
           0,
           0,
           0,
           0,
           0,
           0,
           0
          ],
          [
           0,
           0,
           0,
           0,
           0,
           0,
           0,
           0,
           0,
           0,
           0,
           0,
           0,
           0,
           0,
           0,
           0,
           0,
           0,
           0,
           0,
           0,
           0,
           0,
           0,
           0,
           0,
           0,
           0,
           0,
           0,
           0,
           0,
           0,
           0,
           0
          ],
          [
           0,
           0,
           0,
           0,
           0,
           0,
           0,
           0,
           0,
           0,
           0,
           0,
           0,
           0,
           0,
           0,
           0,
           0,
           0,
           0,
           0,
           0,
           0,
           0,
           0,
           0,
           0,
           0,
           0,
           0,
           0,
           0,
           0,
           0,
           0,
           0
          ],
          [
           0,
           0,
           0,
           0,
           0,
           0,
           0,
           0,
           0,
           0,
           0,
           0,
           0,
           0,
           0,
           0,
           0,
           0,
           0,
           0,
           0,
           0,
           0,
           0,
           0,
           0,
           0,
           0,
           0,
           0,
           0,
           0,
           0,
           0,
           0,
           0
          ],
          [
           0,
           0,
           0,
           0,
           0,
           0,
           0,
           0,
           0,
           0,
           0,
           0,
           0,
           0,
           0,
           0,
           0,
           0,
           0,
           0,
           0,
           0,
           0,
           0,
           0,
           0,
           0,
           0,
           0,
           0,
           0,
           0,
           0,
           0,
           0,
           0
          ]
         ]
        }
       ],
       "layout": {
        "template": {
         "data": {
          "bar": [
           {
            "error_x": {
             "color": "#2a3f5f"
            },
            "error_y": {
             "color": "#2a3f5f"
            },
            "marker": {
             "line": {
              "color": "#E5ECF6",
              "width": 0.5
             },
             "pattern": {
              "fillmode": "overlay",
              "size": 10,
              "solidity": 0.2
             }
            },
            "type": "bar"
           }
          ],
          "barpolar": [
           {
            "marker": {
             "line": {
              "color": "#E5ECF6",
              "width": 0.5
             },
             "pattern": {
              "fillmode": "overlay",
              "size": 10,
              "solidity": 0.2
             }
            },
            "type": "barpolar"
           }
          ],
          "carpet": [
           {
            "aaxis": {
             "endlinecolor": "#2a3f5f",
             "gridcolor": "white",
             "linecolor": "white",
             "minorgridcolor": "white",
             "startlinecolor": "#2a3f5f"
            },
            "baxis": {
             "endlinecolor": "#2a3f5f",
             "gridcolor": "white",
             "linecolor": "white",
             "minorgridcolor": "white",
             "startlinecolor": "#2a3f5f"
            },
            "type": "carpet"
           }
          ],
          "choropleth": [
           {
            "colorbar": {
             "outlinewidth": 0,
             "ticks": ""
            },
            "type": "choropleth"
           }
          ],
          "contour": [
           {
            "colorbar": {
             "outlinewidth": 0,
             "ticks": ""
            },
            "colorscale": [
             [
              0,
              "#0d0887"
             ],
             [
              0.1111111111111111,
              "#46039f"
             ],
             [
              0.2222222222222222,
              "#7201a8"
             ],
             [
              0.3333333333333333,
              "#9c179e"
             ],
             [
              0.4444444444444444,
              "#bd3786"
             ],
             [
              0.5555555555555556,
              "#d8576b"
             ],
             [
              0.6666666666666666,
              "#ed7953"
             ],
             [
              0.7777777777777778,
              "#fb9f3a"
             ],
             [
              0.8888888888888888,
              "#fdca26"
             ],
             [
              1,
              "#f0f921"
             ]
            ],
            "type": "contour"
           }
          ],
          "contourcarpet": [
           {
            "colorbar": {
             "outlinewidth": 0,
             "ticks": ""
            },
            "type": "contourcarpet"
           }
          ],
          "heatmap": [
           {
            "colorbar": {
             "outlinewidth": 0,
             "ticks": ""
            },
            "colorscale": [
             [
              0,
              "#0d0887"
             ],
             [
              0.1111111111111111,
              "#46039f"
             ],
             [
              0.2222222222222222,
              "#7201a8"
             ],
             [
              0.3333333333333333,
              "#9c179e"
             ],
             [
              0.4444444444444444,
              "#bd3786"
             ],
             [
              0.5555555555555556,
              "#d8576b"
             ],
             [
              0.6666666666666666,
              "#ed7953"
             ],
             [
              0.7777777777777778,
              "#fb9f3a"
             ],
             [
              0.8888888888888888,
              "#fdca26"
             ],
             [
              1,
              "#f0f921"
             ]
            ],
            "type": "heatmap"
           }
          ],
          "heatmapgl": [
           {
            "colorbar": {
             "outlinewidth": 0,
             "ticks": ""
            },
            "colorscale": [
             [
              0,
              "#0d0887"
             ],
             [
              0.1111111111111111,
              "#46039f"
             ],
             [
              0.2222222222222222,
              "#7201a8"
             ],
             [
              0.3333333333333333,
              "#9c179e"
             ],
             [
              0.4444444444444444,
              "#bd3786"
             ],
             [
              0.5555555555555556,
              "#d8576b"
             ],
             [
              0.6666666666666666,
              "#ed7953"
             ],
             [
              0.7777777777777778,
              "#fb9f3a"
             ],
             [
              0.8888888888888888,
              "#fdca26"
             ],
             [
              1,
              "#f0f921"
             ]
            ],
            "type": "heatmapgl"
           }
          ],
          "histogram": [
           {
            "marker": {
             "pattern": {
              "fillmode": "overlay",
              "size": 10,
              "solidity": 0.2
             }
            },
            "type": "histogram"
           }
          ],
          "histogram2d": [
           {
            "colorbar": {
             "outlinewidth": 0,
             "ticks": ""
            },
            "colorscale": [
             [
              0,
              "#0d0887"
             ],
             [
              0.1111111111111111,
              "#46039f"
             ],
             [
              0.2222222222222222,
              "#7201a8"
             ],
             [
              0.3333333333333333,
              "#9c179e"
             ],
             [
              0.4444444444444444,
              "#bd3786"
             ],
             [
              0.5555555555555556,
              "#d8576b"
             ],
             [
              0.6666666666666666,
              "#ed7953"
             ],
             [
              0.7777777777777778,
              "#fb9f3a"
             ],
             [
              0.8888888888888888,
              "#fdca26"
             ],
             [
              1,
              "#f0f921"
             ]
            ],
            "type": "histogram2d"
           }
          ],
          "histogram2dcontour": [
           {
            "colorbar": {
             "outlinewidth": 0,
             "ticks": ""
            },
            "colorscale": [
             [
              0,
              "#0d0887"
             ],
             [
              0.1111111111111111,
              "#46039f"
             ],
             [
              0.2222222222222222,
              "#7201a8"
             ],
             [
              0.3333333333333333,
              "#9c179e"
             ],
             [
              0.4444444444444444,
              "#bd3786"
             ],
             [
              0.5555555555555556,
              "#d8576b"
             ],
             [
              0.6666666666666666,
              "#ed7953"
             ],
             [
              0.7777777777777778,
              "#fb9f3a"
             ],
             [
              0.8888888888888888,
              "#fdca26"
             ],
             [
              1,
              "#f0f921"
             ]
            ],
            "type": "histogram2dcontour"
           }
          ],
          "mesh3d": [
           {
            "colorbar": {
             "outlinewidth": 0,
             "ticks": ""
            },
            "type": "mesh3d"
           }
          ],
          "parcoords": [
           {
            "line": {
             "colorbar": {
              "outlinewidth": 0,
              "ticks": ""
             }
            },
            "type": "parcoords"
           }
          ],
          "pie": [
           {
            "automargin": true,
            "type": "pie"
           }
          ],
          "scatter": [
           {
            "fillpattern": {
             "fillmode": "overlay",
             "size": 10,
             "solidity": 0.2
            },
            "type": "scatter"
           }
          ],
          "scatter3d": [
           {
            "line": {
             "colorbar": {
              "outlinewidth": 0,
              "ticks": ""
             }
            },
            "marker": {
             "colorbar": {
              "outlinewidth": 0,
              "ticks": ""
             }
            },
            "type": "scatter3d"
           }
          ],
          "scattercarpet": [
           {
            "marker": {
             "colorbar": {
              "outlinewidth": 0,
              "ticks": ""
             }
            },
            "type": "scattercarpet"
           }
          ],
          "scattergeo": [
           {
            "marker": {
             "colorbar": {
              "outlinewidth": 0,
              "ticks": ""
             }
            },
            "type": "scattergeo"
           }
          ],
          "scattergl": [
           {
            "marker": {
             "colorbar": {
              "outlinewidth": 0,
              "ticks": ""
             }
            },
            "type": "scattergl"
           }
          ],
          "scattermapbox": [
           {
            "marker": {
             "colorbar": {
              "outlinewidth": 0,
              "ticks": ""
             }
            },
            "type": "scattermapbox"
           }
          ],
          "scatterpolar": [
           {
            "marker": {
             "colorbar": {
              "outlinewidth": 0,
              "ticks": ""
             }
            },
            "type": "scatterpolar"
           }
          ],
          "scatterpolargl": [
           {
            "marker": {
             "colorbar": {
              "outlinewidth": 0,
              "ticks": ""
             }
            },
            "type": "scatterpolargl"
           }
          ],
          "scatterternary": [
           {
            "marker": {
             "colorbar": {
              "outlinewidth": 0,
              "ticks": ""
             }
            },
            "type": "scatterternary"
           }
          ],
          "surface": [
           {
            "colorbar": {
             "outlinewidth": 0,
             "ticks": ""
            },
            "colorscale": [
             [
              0,
              "#0d0887"
             ],
             [
              0.1111111111111111,
              "#46039f"
             ],
             [
              0.2222222222222222,
              "#7201a8"
             ],
             [
              0.3333333333333333,
              "#9c179e"
             ],
             [
              0.4444444444444444,
              "#bd3786"
             ],
             [
              0.5555555555555556,
              "#d8576b"
             ],
             [
              0.6666666666666666,
              "#ed7953"
             ],
             [
              0.7777777777777778,
              "#fb9f3a"
             ],
             [
              0.8888888888888888,
              "#fdca26"
             ],
             [
              1,
              "#f0f921"
             ]
            ],
            "type": "surface"
           }
          ],
          "table": [
           {
            "cells": {
             "fill": {
              "color": "#EBF0F8"
             },
             "line": {
              "color": "white"
             }
            },
            "header": {
             "fill": {
              "color": "#C8D4E3"
             },
             "line": {
              "color": "white"
             }
            },
            "type": "table"
           }
          ]
         },
         "layout": {
          "annotationdefaults": {
           "arrowcolor": "#2a3f5f",
           "arrowhead": 0,
           "arrowwidth": 1
          },
          "autotypenumbers": "strict",
          "coloraxis": {
           "colorbar": {
            "outlinewidth": 0,
            "ticks": ""
           }
          },
          "colorscale": {
           "diverging": [
            [
             0,
             "#8e0152"
            ],
            [
             0.1,
             "#c51b7d"
            ],
            [
             0.2,
             "#de77ae"
            ],
            [
             0.3,
             "#f1b6da"
            ],
            [
             0.4,
             "#fde0ef"
            ],
            [
             0.5,
             "#f7f7f7"
            ],
            [
             0.6,
             "#e6f5d0"
            ],
            [
             0.7,
             "#b8e186"
            ],
            [
             0.8,
             "#7fbc41"
            ],
            [
             0.9,
             "#4d9221"
            ],
            [
             1,
             "#276419"
            ]
           ],
           "sequential": [
            [
             0,
             "#0d0887"
            ],
            [
             0.1111111111111111,
             "#46039f"
            ],
            [
             0.2222222222222222,
             "#7201a8"
            ],
            [
             0.3333333333333333,
             "#9c179e"
            ],
            [
             0.4444444444444444,
             "#bd3786"
            ],
            [
             0.5555555555555556,
             "#d8576b"
            ],
            [
             0.6666666666666666,
             "#ed7953"
            ],
            [
             0.7777777777777778,
             "#fb9f3a"
            ],
            [
             0.8888888888888888,
             "#fdca26"
            ],
            [
             1,
             "#f0f921"
            ]
           ],
           "sequentialminus": [
            [
             0,
             "#0d0887"
            ],
            [
             0.1111111111111111,
             "#46039f"
            ],
            [
             0.2222222222222222,
             "#7201a8"
            ],
            [
             0.3333333333333333,
             "#9c179e"
            ],
            [
             0.4444444444444444,
             "#bd3786"
            ],
            [
             0.5555555555555556,
             "#d8576b"
            ],
            [
             0.6666666666666666,
             "#ed7953"
            ],
            [
             0.7777777777777778,
             "#fb9f3a"
            ],
            [
             0.8888888888888888,
             "#fdca26"
            ],
            [
             1,
             "#f0f921"
            ]
           ]
          },
          "colorway": [
           "#636efa",
           "#EF553B",
           "#00cc96",
           "#ab63fa",
           "#FFA15A",
           "#19d3f3",
           "#FF6692",
           "#B6E880",
           "#FF97FF",
           "#FECB52"
          ],
          "font": {
           "color": "#2a3f5f"
          },
          "geo": {
           "bgcolor": "white",
           "lakecolor": "white",
           "landcolor": "#E5ECF6",
           "showlakes": true,
           "showland": true,
           "subunitcolor": "white"
          },
          "hoverlabel": {
           "align": "left"
          },
          "hovermode": "closest",
          "mapbox": {
           "style": "light"
          },
          "paper_bgcolor": "white",
          "plot_bgcolor": "#E5ECF6",
          "polar": {
           "angularaxis": {
            "gridcolor": "white",
            "linecolor": "white",
            "ticks": ""
           },
           "bgcolor": "#E5ECF6",
           "radialaxis": {
            "gridcolor": "white",
            "linecolor": "white",
            "ticks": ""
           }
          },
          "scene": {
           "xaxis": {
            "backgroundcolor": "#E5ECF6",
            "gridcolor": "white",
            "gridwidth": 2,
            "linecolor": "white",
            "showbackground": true,
            "ticks": "",
            "zerolinecolor": "white"
           },
           "yaxis": {
            "backgroundcolor": "#E5ECF6",
            "gridcolor": "white",
            "gridwidth": 2,
            "linecolor": "white",
            "showbackground": true,
            "ticks": "",
            "zerolinecolor": "white"
           },
           "zaxis": {
            "backgroundcolor": "#E5ECF6",
            "gridcolor": "white",
            "gridwidth": 2,
            "linecolor": "white",
            "showbackground": true,
            "ticks": "",
            "zerolinecolor": "white"
           }
          },
          "shapedefaults": {
           "line": {
            "color": "#2a3f5f"
           }
          },
          "ternary": {
           "aaxis": {
            "gridcolor": "white",
            "linecolor": "white",
            "ticks": ""
           },
           "baxis": {
            "gridcolor": "white",
            "linecolor": "white",
            "ticks": ""
           },
           "bgcolor": "#E5ECF6",
           "caxis": {
            "gridcolor": "white",
            "linecolor": "white",
            "ticks": ""
           }
          },
          "title": {
           "x": 0.05
          },
          "xaxis": {
           "automargin": true,
           "gridcolor": "white",
           "linecolor": "white",
           "ticks": "",
           "title": {
            "standoff": 15
           },
           "zerolinecolor": "white",
           "zerolinewidth": 2
          },
          "yaxis": {
           "automargin": true,
           "gridcolor": "white",
           "linecolor": "white",
           "ticks": "",
           "title": {
            "standoff": 15
           },
           "zerolinecolor": "white",
           "zerolinewidth": 2
          }
         }
        },
        "updatemenus": [
         {
          "active": 0,
          "buttons": [
           {
            "args": [
             {
              "visible": [
               true,
               false,
               false,
               false,
               false
              ]
             }
            ],
            "label": "Target1",
            "method": "restyle"
           },
           {
            "args": [
             {
              "visible": [
               false,
               true,
               false,
               false,
               false
              ]
             }
            ],
            "label": "Target2",
            "method": "restyle"
           },
           {
            "args": [
             {
              "visible": [
               false,
               false,
               true,
               false,
               false
              ]
             }
            ],
            "label": "Target3",
            "method": "restyle"
           },
           {
            "args": [
             {
              "visible": [
               false,
               false,
               false,
               true,
               false
              ]
             }
            ],
            "label": "Target4",
            "method": "restyle"
           },
           {
            "args": [
             {
              "visible": [
               false,
               false,
               false,
               false,
               true
              ]
             }
            ],
            "label": "Target5",
            "method": "restyle"
           }
          ],
          "x": 1.1,
          "xanchor": "left",
          "y": 1.1,
          "yanchor": "top"
         }
        ],
        "xaxis": {
         "title": {
          "text": "Azimuth"
         }
        },
        "yaxis": {
         "title": {
          "text": "Elevation"
         }
        }
       }
      }
     },
     "metadata": {},
     "output_type": "display_data"
    },
    {
     "data": {
      "application/vnd.plotly.v1+json": {
       "config": {
        "plotlyServerURL": "https://plot.ly"
       },
       "data": [
        {
         "mode": "lines",
         "name": "1->1",
         "type": "scatter",
         "x": [
          118.15176230226696,
          120.20267922724832,
          122.51355209501685,
          125.13563928446541,
          128.14858015602812,
          131.6571335381858,
          135.7991054920114,
          140.7536963766056,
          146.74581711564971,
          154.0346376323244,
          162.86103634142557,
          173.31980786208447,
          185.16137931572132,
          197.66637483952127,
          209.82747117536815,
          220.79227681172355,
          230.1600916187041,
          237.9357520631049,
          244.33073360124598,
          249.60701762959866,
          254.0033594366732,
          257.7139298577973,
          260.8892712009923,
          263.6440760209063,
          266.06546541788293,
          268.2199309291245,
          268.9296694946169,
          150.1886180743171,
          152.79853429612717,
          155.74644373769513,
          159.05764813011683,
          162.80566530507278,
          167.07756404746036,
          171.9726541802827,
          177.59626507559778,
          184.04469055768874,
          191.37666661573243,
          199.57086025302974,
          208.4806908285939,
          217.81572093857963,
          227.18166471953947,
          236.1765971171624,
          244.49169506136784,
          251.96043525232986,
          258.546559136035,
          264.3005249177539,
          269.3154654261462,
          273.6966828088967,
          277.5448888795469,
          280.9490833164808,
          283.9847174504941,
          286.7143937464445,
          287.288415691867,
          190.2064920246032,
          193.83277629186875,
          197.77886988523636,
          202.07362293985716,
          206.74324206271763,
          211.80494401410635,
          217.26104720873926,
          223.09251969528452,
          229.25330574429245,
          235.66787023747307,
          242.2339774044934,
          248.8318864975721,
          255.33828409303496,
          261.64128038950474,
          267.65217190844794,
          273.3111875531136,
          278.58730473160557,
          283.4737084835095,
          287.98151815497613,
          292.13345139815704,
          295.95863717453386,
          298.29477151257356
         ],
         "y": [
          0.00014494832205451746,
          2.8111629590334757,
          5.786999167029718,
          8.932892322035164,
          12.26647182569281,
          15.800081936774927,
          19.533147804684827,
          23.438750462574596,
          27.441749319908887,
          31.387843310879234,
          35.01071313391214,
          37.92340925793008,
          39.68151242679346,
          39.94515671326249,
          38.658888458735355,
          36.0851985215528,
          32.655858348286266,
          28.78833038924507,
          24.789757571027792,
          20.8478743937111,
          17.060019278944797,
          13.466109698998354,
          10.073617715938703,
          6.873462878231864,
          3.8492638003591653,
          0.9823417105903081,
          0.00020767019061782772,
          7.819063079090462e-8,
          2.576894451719739,
          5.285296526601177,
          8.08886702561842,
          10.98017604728538,
          13.939385811503806,
          16.92718702640966,
          19.875729424291528,
          22.67923642200795,
          25.188617888572477,
          27.21809014302306,
          28.572376052248696,
          29.095028360434178,
          28.720315841494834,
          27.498262668772636,
          25.5753070139835,
          23.144299001372172,
          20.394257738948706,
          17.479992688452764,
          14.513147276342709,
          11.566394489499476,
          8.682617536356936,
          5.884090769647057,
          3.179845725166949,
          0.570916297395352,
          0.0001916432468076299,
          0.00008922646348209107,
          2.053654521194645,
          4.083874699061685,
          6.064035848532739,
          7.960128662076705,
          9.72906675161353,
          11.319132950957904,
          12.672384201170079,
          13.729484729273397,
          14.436895460890494,
          14.755143984912888,
          14.665985455020431,
          14.175988091488476,
          13.315201174029406,
          12.131416809616889,
          10.682126687332923,
          9.026610837230155,
          7.219948573976467,
          5.30949875964492,
          3.3336280255901714,
          1.3219428860174525,
          9.153466366757986e-7
         ]
        },
        {
         "mode": "lines",
         "name": "2->1",
         "type": "scatter",
         "x": [
          185.7691279539238,
          189.16524203534442,
          192.9086597785387,
          197.02175814288,
          201.54393547126867,
          206.508956065706,
          211.93813501416105,
          217.8315117083673,
          224.15809409951976,
          230.848191491809,
          237.791647424783,
          244.8456950544158,
          251.85239834644202,
          258.66115680238715,
          265.1487318809008,
          271.23073097292956,
          276.8630430485082,
          282.0357314525405,
          286.76368529774777,
          291.0771810165586,
          295.01433477872547,
          298.61575872447776,
          300.55305818391355,
          259.1196807983138,
          263.7882652780291,
          268.54182421439737,
          273.287659641247,
          276.522448537922
         ],
         "y": [
          0.00017081514838512032,
          2.1998194565914675,
          4.414204948108595,
          6.6088498188193405,
          8.751915953515482,
          10.80000085172943,
          12.697033991600328,
          14.375190960821502,
          15.75899920164498,
          16.773478094208205,
          17.355589882827193,
          17.466347491913506,
          17.09935277428803,
          16.282249237170326,
          15.070447257003925,
          13.535830124823686,
          11.754671176505644,
          9.798172077930069,
          7.726927958006743,
          5.589013168033753,
          3.420456660639498,
          1.2469786649648633,
          0.0001517068359390423,
          0.000011014909099886,
          0.23381750347494706,
          0.29535451745568303,
          0.17988994171460138,
          0.000001105711395047514
         ]
        },
        {
         "mode": "lines",
         "name": "3->1",
         "type": "scatter",
         "x": [
          164.40917462401544,
          166.8085260001616,
          169.5342598986235,
          172.62468438195452,
          176.15988897924407,
          180.2382952790613,
          184.97776837758772,
          190.51214008255437,
          196.9777282836924,
          204.48157133638128,
          213.04510490469386,
          222.53195743906477,
          232.6014132360514,
          242.749186873007,
          252.44803418966765,
          261.30413122011834,
          269.1277410321368,
          275.90469173958854,
          281.72549727384654,
          286.7227407561956,
          291.0329654151813,
          294.77914025947473,
          298.06511660478776,
          300.97589655121624,
          303.58004911577206,
          304.66898465458934,
          218.90732915571724,
          223.20488840070286,
          227.79486741688507,
          232.6015199918547,
          237.60034515953453,
          242.75627015341001,
          248.02453884631683,
          253.35288975013103,
          258.6850501171561,
          263.9648364519659,
          269.14034164947736,
          274.16727238912625,
          279.0111549968004,
          283.64806402914627,
          288.06423616901014,
          289.4751985259182
         ],
         "y": [
          0.0002032789395004259,
          2.6837794788608047,
          5.512877105175916,
          8.462848854901809,
          11.532999315268373,
          14.710928943274142,
          17.964246030225503,
          21.22880225320576,
          24.394501567926888,
          27.29320411795911,
          29.699571618783533,
          31.36015334992748,
          32.05823960601768,
          31.693117877008703,
          30.323703039774013,
          28.14223053476565,
          25.39926429897313,
          22.331511367316914,
          19.123183604304476,
          15.8991263002117,
          12.734712681473846,
          9.670023055213742,
          6.722383561869184,
          3.895500037900752,
          1.1855261222442472,
          0.0000010456826355314497,
          0.00007391650558192035,
          1.2925937592348078,
          2.471910686580428,
          3.4917315777605653,
          4.325857884396538,
          4.950427211373698,
          5.346208324099065,
          5.500706393864088,
          5.409667154041035,
          5.077607106515833,
          4.5172517314139355,
          3.7480198306175923,
          2.793904741609457,
          1.6812061330768915,
          0.43647205682275797,
          0.00010577207040340605
         ]
        },
        {
         "type": "scatter",
         "x": [],
         "y": []
        },
        {
         "type": "scatter",
         "x": [],
         "y": []
        }
       ],
       "layout": {
        "template": {
         "data": {
          "bar": [
           {
            "error_x": {
             "color": "#2a3f5f"
            },
            "error_y": {
             "color": "#2a3f5f"
            },
            "marker": {
             "line": {
              "color": "#E5ECF6",
              "width": 0.5
             },
             "pattern": {
              "fillmode": "overlay",
              "size": 10,
              "solidity": 0.2
             }
            },
            "type": "bar"
           }
          ],
          "barpolar": [
           {
            "marker": {
             "line": {
              "color": "#E5ECF6",
              "width": 0.5
             },
             "pattern": {
              "fillmode": "overlay",
              "size": 10,
              "solidity": 0.2
             }
            },
            "type": "barpolar"
           }
          ],
          "carpet": [
           {
            "aaxis": {
             "endlinecolor": "#2a3f5f",
             "gridcolor": "white",
             "linecolor": "white",
             "minorgridcolor": "white",
             "startlinecolor": "#2a3f5f"
            },
            "baxis": {
             "endlinecolor": "#2a3f5f",
             "gridcolor": "white",
             "linecolor": "white",
             "minorgridcolor": "white",
             "startlinecolor": "#2a3f5f"
            },
            "type": "carpet"
           }
          ],
          "choropleth": [
           {
            "colorbar": {
             "outlinewidth": 0,
             "ticks": ""
            },
            "type": "choropleth"
           }
          ],
          "contour": [
           {
            "colorbar": {
             "outlinewidth": 0,
             "ticks": ""
            },
            "colorscale": [
             [
              0,
              "#0d0887"
             ],
             [
              0.1111111111111111,
              "#46039f"
             ],
             [
              0.2222222222222222,
              "#7201a8"
             ],
             [
              0.3333333333333333,
              "#9c179e"
             ],
             [
              0.4444444444444444,
              "#bd3786"
             ],
             [
              0.5555555555555556,
              "#d8576b"
             ],
             [
              0.6666666666666666,
              "#ed7953"
             ],
             [
              0.7777777777777778,
              "#fb9f3a"
             ],
             [
              0.8888888888888888,
              "#fdca26"
             ],
             [
              1,
              "#f0f921"
             ]
            ],
            "type": "contour"
           }
          ],
          "contourcarpet": [
           {
            "colorbar": {
             "outlinewidth": 0,
             "ticks": ""
            },
            "type": "contourcarpet"
           }
          ],
          "heatmap": [
           {
            "colorbar": {
             "outlinewidth": 0,
             "ticks": ""
            },
            "colorscale": [
             [
              0,
              "#0d0887"
             ],
             [
              0.1111111111111111,
              "#46039f"
             ],
             [
              0.2222222222222222,
              "#7201a8"
             ],
             [
              0.3333333333333333,
              "#9c179e"
             ],
             [
              0.4444444444444444,
              "#bd3786"
             ],
             [
              0.5555555555555556,
              "#d8576b"
             ],
             [
              0.6666666666666666,
              "#ed7953"
             ],
             [
              0.7777777777777778,
              "#fb9f3a"
             ],
             [
              0.8888888888888888,
              "#fdca26"
             ],
             [
              1,
              "#f0f921"
             ]
            ],
            "type": "heatmap"
           }
          ],
          "heatmapgl": [
           {
            "colorbar": {
             "outlinewidth": 0,
             "ticks": ""
            },
            "colorscale": [
             [
              0,
              "#0d0887"
             ],
             [
              0.1111111111111111,
              "#46039f"
             ],
             [
              0.2222222222222222,
              "#7201a8"
             ],
             [
              0.3333333333333333,
              "#9c179e"
             ],
             [
              0.4444444444444444,
              "#bd3786"
             ],
             [
              0.5555555555555556,
              "#d8576b"
             ],
             [
              0.6666666666666666,
              "#ed7953"
             ],
             [
              0.7777777777777778,
              "#fb9f3a"
             ],
             [
              0.8888888888888888,
              "#fdca26"
             ],
             [
              1,
              "#f0f921"
             ]
            ],
            "type": "heatmapgl"
           }
          ],
          "histogram": [
           {
            "marker": {
             "pattern": {
              "fillmode": "overlay",
              "size": 10,
              "solidity": 0.2
             }
            },
            "type": "histogram"
           }
          ],
          "histogram2d": [
           {
            "colorbar": {
             "outlinewidth": 0,
             "ticks": ""
            },
            "colorscale": [
             [
              0,
              "#0d0887"
             ],
             [
              0.1111111111111111,
              "#46039f"
             ],
             [
              0.2222222222222222,
              "#7201a8"
             ],
             [
              0.3333333333333333,
              "#9c179e"
             ],
             [
              0.4444444444444444,
              "#bd3786"
             ],
             [
              0.5555555555555556,
              "#d8576b"
             ],
             [
              0.6666666666666666,
              "#ed7953"
             ],
             [
              0.7777777777777778,
              "#fb9f3a"
             ],
             [
              0.8888888888888888,
              "#fdca26"
             ],
             [
              1,
              "#f0f921"
             ]
            ],
            "type": "histogram2d"
           }
          ],
          "histogram2dcontour": [
           {
            "colorbar": {
             "outlinewidth": 0,
             "ticks": ""
            },
            "colorscale": [
             [
              0,
              "#0d0887"
             ],
             [
              0.1111111111111111,
              "#46039f"
             ],
             [
              0.2222222222222222,
              "#7201a8"
             ],
             [
              0.3333333333333333,
              "#9c179e"
             ],
             [
              0.4444444444444444,
              "#bd3786"
             ],
             [
              0.5555555555555556,
              "#d8576b"
             ],
             [
              0.6666666666666666,
              "#ed7953"
             ],
             [
              0.7777777777777778,
              "#fb9f3a"
             ],
             [
              0.8888888888888888,
              "#fdca26"
             ],
             [
              1,
              "#f0f921"
             ]
            ],
            "type": "histogram2dcontour"
           }
          ],
          "mesh3d": [
           {
            "colorbar": {
             "outlinewidth": 0,
             "ticks": ""
            },
            "type": "mesh3d"
           }
          ],
          "parcoords": [
           {
            "line": {
             "colorbar": {
              "outlinewidth": 0,
              "ticks": ""
             }
            },
            "type": "parcoords"
           }
          ],
          "pie": [
           {
            "automargin": true,
            "type": "pie"
           }
          ],
          "scatter": [
           {
            "fillpattern": {
             "fillmode": "overlay",
             "size": 10,
             "solidity": 0.2
            },
            "type": "scatter"
           }
          ],
          "scatter3d": [
           {
            "line": {
             "colorbar": {
              "outlinewidth": 0,
              "ticks": ""
             }
            },
            "marker": {
             "colorbar": {
              "outlinewidth": 0,
              "ticks": ""
             }
            },
            "type": "scatter3d"
           }
          ],
          "scattercarpet": [
           {
            "marker": {
             "colorbar": {
              "outlinewidth": 0,
              "ticks": ""
             }
            },
            "type": "scattercarpet"
           }
          ],
          "scattergeo": [
           {
            "marker": {
             "colorbar": {
              "outlinewidth": 0,
              "ticks": ""
             }
            },
            "type": "scattergeo"
           }
          ],
          "scattergl": [
           {
            "marker": {
             "colorbar": {
              "outlinewidth": 0,
              "ticks": ""
             }
            },
            "type": "scattergl"
           }
          ],
          "scattermapbox": [
           {
            "marker": {
             "colorbar": {
              "outlinewidth": 0,
              "ticks": ""
             }
            },
            "type": "scattermapbox"
           }
          ],
          "scatterpolar": [
           {
            "marker": {
             "colorbar": {
              "outlinewidth": 0,
              "ticks": ""
             }
            },
            "type": "scatterpolar"
           }
          ],
          "scatterpolargl": [
           {
            "marker": {
             "colorbar": {
              "outlinewidth": 0,
              "ticks": ""
             }
            },
            "type": "scatterpolargl"
           }
          ],
          "scatterternary": [
           {
            "marker": {
             "colorbar": {
              "outlinewidth": 0,
              "ticks": ""
             }
            },
            "type": "scatterternary"
           }
          ],
          "surface": [
           {
            "colorbar": {
             "outlinewidth": 0,
             "ticks": ""
            },
            "colorscale": [
             [
              0,
              "#0d0887"
             ],
             [
              0.1111111111111111,
              "#46039f"
             ],
             [
              0.2222222222222222,
              "#7201a8"
             ],
             [
              0.3333333333333333,
              "#9c179e"
             ],
             [
              0.4444444444444444,
              "#bd3786"
             ],
             [
              0.5555555555555556,
              "#d8576b"
             ],
             [
              0.6666666666666666,
              "#ed7953"
             ],
             [
              0.7777777777777778,
              "#fb9f3a"
             ],
             [
              0.8888888888888888,
              "#fdca26"
             ],
             [
              1,
              "#f0f921"
             ]
            ],
            "type": "surface"
           }
          ],
          "table": [
           {
            "cells": {
             "fill": {
              "color": "#EBF0F8"
             },
             "line": {
              "color": "white"
             }
            },
            "header": {
             "fill": {
              "color": "#C8D4E3"
             },
             "line": {
              "color": "white"
             }
            },
            "type": "table"
           }
          ]
         },
         "layout": {
          "annotationdefaults": {
           "arrowcolor": "#2a3f5f",
           "arrowhead": 0,
           "arrowwidth": 1
          },
          "autotypenumbers": "strict",
          "coloraxis": {
           "colorbar": {
            "outlinewidth": 0,
            "ticks": ""
           }
          },
          "colorscale": {
           "diverging": [
            [
             0,
             "#8e0152"
            ],
            [
             0.1,
             "#c51b7d"
            ],
            [
             0.2,
             "#de77ae"
            ],
            [
             0.3,
             "#f1b6da"
            ],
            [
             0.4,
             "#fde0ef"
            ],
            [
             0.5,
             "#f7f7f7"
            ],
            [
             0.6,
             "#e6f5d0"
            ],
            [
             0.7,
             "#b8e186"
            ],
            [
             0.8,
             "#7fbc41"
            ],
            [
             0.9,
             "#4d9221"
            ],
            [
             1,
             "#276419"
            ]
           ],
           "sequential": [
            [
             0,
             "#0d0887"
            ],
            [
             0.1111111111111111,
             "#46039f"
            ],
            [
             0.2222222222222222,
             "#7201a8"
            ],
            [
             0.3333333333333333,
             "#9c179e"
            ],
            [
             0.4444444444444444,
             "#bd3786"
            ],
            [
             0.5555555555555556,
             "#d8576b"
            ],
            [
             0.6666666666666666,
             "#ed7953"
            ],
            [
             0.7777777777777778,
             "#fb9f3a"
            ],
            [
             0.8888888888888888,
             "#fdca26"
            ],
            [
             1,
             "#f0f921"
            ]
           ],
           "sequentialminus": [
            [
             0,
             "#0d0887"
            ],
            [
             0.1111111111111111,
             "#46039f"
            ],
            [
             0.2222222222222222,
             "#7201a8"
            ],
            [
             0.3333333333333333,
             "#9c179e"
            ],
            [
             0.4444444444444444,
             "#bd3786"
            ],
            [
             0.5555555555555556,
             "#d8576b"
            ],
            [
             0.6666666666666666,
             "#ed7953"
            ],
            [
             0.7777777777777778,
             "#fb9f3a"
            ],
            [
             0.8888888888888888,
             "#fdca26"
            ],
            [
             1,
             "#f0f921"
            ]
           ]
          },
          "colorway": [
           "#636efa",
           "#EF553B",
           "#00cc96",
           "#ab63fa",
           "#FFA15A",
           "#19d3f3",
           "#FF6692",
           "#B6E880",
           "#FF97FF",
           "#FECB52"
          ],
          "font": {
           "color": "#2a3f5f"
          },
          "geo": {
           "bgcolor": "white",
           "lakecolor": "white",
           "landcolor": "#E5ECF6",
           "showlakes": true,
           "showland": true,
           "subunitcolor": "white"
          },
          "hoverlabel": {
           "align": "left"
          },
          "hovermode": "closest",
          "mapbox": {
           "style": "light"
          },
          "paper_bgcolor": "white",
          "plot_bgcolor": "#E5ECF6",
          "polar": {
           "angularaxis": {
            "gridcolor": "white",
            "linecolor": "white",
            "ticks": ""
           },
           "bgcolor": "#E5ECF6",
           "radialaxis": {
            "gridcolor": "white",
            "linecolor": "white",
            "ticks": ""
           }
          },
          "scene": {
           "xaxis": {
            "backgroundcolor": "#E5ECF6",
            "gridcolor": "white",
            "gridwidth": 2,
            "linecolor": "white",
            "showbackground": true,
            "ticks": "",
            "zerolinecolor": "white"
           },
           "yaxis": {
            "backgroundcolor": "#E5ECF6",
            "gridcolor": "white",
            "gridwidth": 2,
            "linecolor": "white",
            "showbackground": true,
            "ticks": "",
            "zerolinecolor": "white"
           },
           "zaxis": {
            "backgroundcolor": "#E5ECF6",
            "gridcolor": "white",
            "gridwidth": 2,
            "linecolor": "white",
            "showbackground": true,
            "ticks": "",
            "zerolinecolor": "white"
           }
          },
          "shapedefaults": {
           "line": {
            "color": "#2a3f5f"
           }
          },
          "ternary": {
           "aaxis": {
            "gridcolor": "white",
            "linecolor": "white",
            "ticks": ""
           },
           "baxis": {
            "gridcolor": "white",
            "linecolor": "white",
            "ticks": ""
           },
           "bgcolor": "#E5ECF6",
           "caxis": {
            "gridcolor": "white",
            "linecolor": "white",
            "ticks": ""
           }
          },
          "title": {
           "x": 0.05
          },
          "xaxis": {
           "automargin": true,
           "gridcolor": "white",
           "linecolor": "white",
           "ticks": "",
           "title": {
            "standoff": 15
           },
           "zerolinecolor": "white",
           "zerolinewidth": 2
          },
          "yaxis": {
           "automargin": true,
           "gridcolor": "white",
           "linecolor": "white",
           "ticks": "",
           "title": {
            "standoff": 15
           },
           "zerolinecolor": "white",
           "zerolinewidth": 2
          }
         }
        },
        "updatemenus": [
         {
          "active": 0,
          "buttons": [
           {
            "args": [
             {
              "visible": [
               true,
               false,
               false,
               false,
               false
              ]
             }
            ],
            "label": "Target1",
            "method": "restyle"
           },
           {
            "args": [
             {
              "visible": [
               false,
               true,
               false,
               false,
               false
              ]
             }
            ],
            "label": "Target2",
            "method": "restyle"
           },
           {
            "args": [
             {
              "visible": [
               false,
               false,
               true,
               false,
               false
              ]
             }
            ],
            "label": "Target3",
            "method": "restyle"
           },
           {
            "args": [
             {
              "visible": [
               false,
               false,
               false,
               true,
               false
              ]
             }
            ],
            "label": "Target4",
            "method": "restyle"
           },
           {
            "args": [
             {
              "visible": [
               false,
               false,
               false,
               false,
               true
              ]
             }
            ],
            "label": "Target5",
            "method": "restyle"
           }
          ],
          "x": 1.1,
          "xanchor": "left",
          "y": 1.1,
          "yanchor": "top"
         }
        ],
        "xaxis": {
         "title": {
          "text": "Azimuth"
         }
        },
        "yaxis": {
         "title": {
          "text": "Elevation"
         }
        }
       }
      }
     },
     "metadata": {},
     "output_type": "display_data"
    },
    {
     "data": {
      "application/vnd.plotly.v1+json": {
       "config": {
        "plotlyServerURL": "https://plot.ly"
       },
       "data": [
        {
         "name": "Target1",
         "type": "scatter",
         "x": [
          "28 Mar 2024 17:55:12.296962247",
          "28 Mar 2024 17:56:12.000000000",
          "28 Mar 2024 17:57:12.000000000",
          "28 Mar 2024 17:58:12.000000000",
          "28 Mar 2024 17:59:12.000000000",
          "28 Mar 2024 18:00:12.000000000",
          "28 Mar 2024 18:01:12.000000000",
          "28 Mar 2024 18:02:12.000000000",
          "28 Mar 2024 18:03:12.000000000",
          "28 Mar 2024 18:04:12.000000000",
          "28 Mar 2024 18:05:12.000000000",
          "28 Mar 2024 18:06:12.000000000",
          "28 Mar 2024 18:07:12.000000000",
          "28 Mar 2024 18:08:12.000000000",
          "28 Mar 2024 18:09:12.000000000",
          "28 Mar 2024 18:10:12.000000000",
          "28 Mar 2024 18:11:12.000000000",
          "28 Mar 2024 18:12:12.000000000",
          "28 Mar 2024 18:13:12.000000000",
          "28 Mar 2024 18:14:12.000000000",
          "28 Mar 2024 18:15:12.000000000",
          "28 Mar 2024 18:16:12.000000000",
          "28 Mar 2024 18:17:12.000000000",
          "28 Mar 2024 18:18:12.000000000",
          "28 Mar 2024 18:19:12.000000000",
          "28 Mar 2024 18:20:12.000000000",
          "28 Mar 2024 18:20:33.271240704",
          "28 Mar 2024 19:57:12.848866715",
          "28 Mar 2024 19:58:12.000000000",
          "28 Mar 2024 19:59:12.000000000",
          "28 Mar 2024 20:00:12.000000000",
          "28 Mar 2024 20:01:12.000000000",
          "28 Mar 2024 20:02:12.000000000",
          "28 Mar 2024 20:03:12.000000000",
          "28 Mar 2024 20:04:12.000000000",
          "28 Mar 2024 20:05:12.000000000",
          "28 Mar 2024 20:06:12.000000000",
          "28 Mar 2024 20:07:12.000000000",
          "28 Mar 2024 20:08:12.000000000",
          "28 Mar 2024 20:09:12.000000000",
          "28 Mar 2024 20:10:12.000000000",
          "28 Mar 2024 20:11:12.000000000",
          "28 Mar 2024 20:12:12.000000000",
          "28 Mar 2024 20:13:12.000000000",
          "28 Mar 2024 20:14:12.000000000",
          "28 Mar 2024 20:15:12.000000000",
          "28 Mar 2024 20:16:12.000000000",
          "28 Mar 2024 20:17:12.000000000",
          "28 Mar 2024 20:18:12.000000000",
          "28 Mar 2024 20:19:12.000000000",
          "28 Mar 2024 20:20:12.000000000",
          "28 Mar 2024 20:21:12.000000000",
          "28 Mar 2024 20:21:25.418584476",
          "28 Mar 2024 22:01:21.031011035",
          "28 Mar 2024 22:02:21.000000000",
          "28 Mar 2024 22:03:21.000000000",
          "28 Mar 2024 22:04:21.000000000",
          "28 Mar 2024 22:05:21.000000000",
          "28 Mar 2024 22:06:21.000000000",
          "28 Mar 2024 22:07:21.000000000",
          "28 Mar 2024 22:08:21.000000000",
          "28 Mar 2024 22:09:21.000000000",
          "28 Mar 2024 22:10:21.000000000",
          "28 Mar 2024 22:11:21.000000000",
          "28 Mar 2024 22:12:21.000000000",
          "28 Mar 2024 22:13:21.000000000",
          "28 Mar 2024 22:14:21.000000000",
          "28 Mar 2024 22:15:21.000000000",
          "28 Mar 2024 22:16:21.000000000",
          "28 Mar 2024 22:17:21.000000000",
          "28 Mar 2024 22:18:21.000000000",
          "28 Mar 2024 22:19:21.000000000",
          "28 Mar 2024 22:20:21.000000000",
          "28 Mar 2024 22:21:21.000000000",
          "28 Mar 2024 22:22:00.171873662"
         ],
         "y": [
          0,
          0.30864197530864196,
          0.6172839506172839,
          0.6172839506172839,
          0.6172839506172839,
          0.9259259259259259,
          1.2345679012345678,
          1.2345679012345678,
          1.5432098765432098,
          1.5432098765432098,
          1.8518518518518519,
          2.1604938271604937,
          2.4691358024691357,
          2.7777777777777777,
          3.0864197530864197,
          3.3950617283950617,
          3.7037037037037037,
          4.012345679012346,
          4.320987654320987,
          4.62962962962963,
          4.62962962962963,
          4.938271604938271,
          4.938271604938271,
          5.246913580246914,
          5.555555555555555,
          5.555555555555555,
          5.555555555555555,
          5.555555555555555,
          5.864197530864198,
          5.864197530864198,
          5.864197530864198,
          5.864197530864198,
          6.172839506172839,
          6.172839506172839,
          6.481481481481482,
          6.481481481481482,
          6.790123456790123,
          7.098765432098766,
          7.098765432098766,
          7.407407407407407,
          7.716049382716049,
          8.024691358024691,
          8.024691358024691,
          8.024691358024691,
          8.333333333333334,
          8.333333333333334,
          8.333333333333334,
          8.333333333333334,
          8.641975308641975,
          8.950617283950617,
          9.25925925925926,
          9.25925925925926,
          9.25925925925926,
          9.25925925925926,
          9.567901234567902,
          9.567901234567902,
          9.567901234567902,
          9.876543209876543,
          9.876543209876543,
          10.185185185185185,
          10.493827160493828,
          10.802469135802468,
          10.802469135802468,
          11.11111111111111,
          11.419753086419753,
          11.419753086419753,
          11.419753086419753,
          11.419753086419753,
          11.419753086419753,
          11.419753086419753,
          11.419753086419753,
          11.419753086419753,
          11.419753086419753,
          11.728395061728396,
          11.728395061728396
         ]
        },
        {
         "name": "Target2",
         "type": "scatter",
         "x": [
          "28 Mar 2024 17:48:08.333159866",
          "28 Mar 2024 17:49:08.000000000",
          "28 Mar 2024 17:50:08.000000000",
          "28 Mar 2024 17:51:08.000000000",
          "28 Mar 2024 17:52:08.000000000",
          "28 Mar 2024 17:53:08.000000000",
          "28 Mar 2024 17:54:08.000000000",
          "28 Mar 2024 17:55:08.000000000",
          "28 Mar 2024 17:56:08.000000000",
          "28 Mar 2024 17:57:08.000000000",
          "28 Mar 2024 17:58:08.000000000",
          "28 Mar 2024 17:59:08.000000000",
          "28 Mar 2024 18:00:08.000000000",
          "28 Mar 2024 18:01:08.000000000",
          "28 Mar 2024 18:02:08.000000000",
          "28 Mar 2024 18:03:08.000000000",
          "28 Mar 2024 18:04:08.000000000",
          "28 Mar 2024 18:05:08.000000000",
          "28 Mar 2024 18:06:08.000000000",
          "28 Mar 2024 18:07:08.000000000",
          "28 Mar 2024 18:08:08.000000000",
          "28 Mar 2024 18:09:08.000000000",
          "28 Mar 2024 18:09:42.553915686",
          "28 Mar 2024 20:00:24.751893992",
          "28 Mar 2024 20:01:24.000000000",
          "28 Mar 2024 20:02:24.000000000",
          "28 Mar 2024 20:03:24.000000000",
          "28 Mar 2024 20:04:05.170521721"
         ],
         "y": [
          0,
          0.30864197530864196,
          0.30864197530864196,
          0.6172839506172839,
          0.6172839506172839,
          0.9259259259259259,
          1.2345679012345678,
          1.5432098765432098,
          1.5432098765432098,
          1.8518518518518519,
          2.1604938271604937,
          2.1604938271604937,
          2.4691358024691357,
          2.7777777777777777,
          2.7777777777777777,
          3.0864197530864197,
          3.3950617283950617,
          3.3950617283950617,
          3.7037037037037037,
          3.7037037037037037,
          4.012345679012346,
          4.012345679012346,
          4.012345679012346,
          4.320987654320987,
          4.62962962962963,
          4.938271604938271,
          4.938271604938271,
          5.246913580246914
         ]
        },
        {
         "name": "Target3",
         "type": "scatter",
         "x": [
          "28 Mar 2024 17:44:11.682653193",
          "28 Mar 2024 17:45:11.000000000",
          "28 Mar 2024 17:46:11.000000000",
          "28 Mar 2024 17:47:11.000000000",
          "28 Mar 2024 17:48:11.000000000",
          "28 Mar 2024 17:49:11.000000000",
          "28 Mar 2024 17:50:11.000000000",
          "28 Mar 2024 17:51:11.000000000",
          "28 Mar 2024 17:52:11.000000000",
          "28 Mar 2024 17:53:11.000000000",
          "28 Mar 2024 17:54:11.000000000",
          "28 Mar 2024 17:55:11.000000000",
          "28 Mar 2024 17:56:11.000000000",
          "28 Mar 2024 17:57:11.000000000",
          "28 Mar 2024 17:58:11.000000000",
          "28 Mar 2024 17:59:11.000000000",
          "28 Mar 2024 18:00:11.000000000",
          "28 Mar 2024 18:01:11.000000000",
          "28 Mar 2024 18:02:11.000000000",
          "28 Mar 2024 18:03:11.000000000",
          "28 Mar 2024 18:04:11.000000000",
          "28 Mar 2024 18:05:11.000000000",
          "28 Mar 2024 18:06:11.000000000",
          "28 Mar 2024 18:07:11.000000000",
          "28 Mar 2024 18:08:11.000000000",
          "28 Mar 2024 18:08:38.051091519",
          "28 Mar 2024 19:50:56.868365090",
          "28 Mar 2024 19:51:56.000000000",
          "28 Mar 2024 19:52:56.000000000",
          "28 Mar 2024 19:53:56.000000000",
          "28 Mar 2024 19:54:56.000000000",
          "28 Mar 2024 19:55:56.000000000",
          "28 Mar 2024 19:56:56.000000000",
          "28 Mar 2024 19:57:56.000000000",
          "28 Mar 2024 19:58:56.000000000",
          "28 Mar 2024 19:59:56.000000000",
          "28 Mar 2024 20:00:56.000000000",
          "28 Mar 2024 20:01:56.000000000",
          "28 Mar 2024 20:02:56.000000000",
          "28 Mar 2024 20:03:56.000000000",
          "28 Mar 2024 20:04:56.000000000",
          "28 Mar 2024 20:05:15.844347784"
         ],
         "y": [
          0,
          0.30864197530864196,
          0.30864197530864196,
          0.30864197530864196,
          0.6172839506172839,
          0.9259259259259259,
          1.2345679012345678,
          1.2345679012345678,
          1.5432098765432098,
          1.5432098765432098,
          1.8518518518518519,
          2.1604938271604937,
          2.4691358024691357,
          2.7777777777777777,
          3.0864197530864197,
          3.3950617283950617,
          3.7037037037037037,
          3.7037037037037037,
          4.012345679012346,
          4.320987654320987,
          4.320987654320987,
          4.62962962962963,
          4.938271604938271,
          4.938271604938271,
          5.246913580246914,
          5.246913580246914,
          5.246913580246914,
          5.555555555555555,
          5.864197530864198,
          5.864197530864198,
          6.172839506172839,
          6.172839506172839,
          6.481481481481482,
          6.481481481481482,
          6.790123456790123,
          6.790123456790123,
          7.098765432098766,
          7.098765432098766,
          7.407407407407407,
          7.407407407407407,
          7.716049382716049,
          7.716049382716049
         ]
        }
       ],
       "layout": {
        "template": {
         "data": {
          "bar": [
           {
            "error_x": {
             "color": "#2a3f5f"
            },
            "error_y": {
             "color": "#2a3f5f"
            },
            "marker": {
             "line": {
              "color": "#E5ECF6",
              "width": 0.5
             },
             "pattern": {
              "fillmode": "overlay",
              "size": 10,
              "solidity": 0.2
             }
            },
            "type": "bar"
           }
          ],
          "barpolar": [
           {
            "marker": {
             "line": {
              "color": "#E5ECF6",
              "width": 0.5
             },
             "pattern": {
              "fillmode": "overlay",
              "size": 10,
              "solidity": 0.2
             }
            },
            "type": "barpolar"
           }
          ],
          "carpet": [
           {
            "aaxis": {
             "endlinecolor": "#2a3f5f",
             "gridcolor": "white",
             "linecolor": "white",
             "minorgridcolor": "white",
             "startlinecolor": "#2a3f5f"
            },
            "baxis": {
             "endlinecolor": "#2a3f5f",
             "gridcolor": "white",
             "linecolor": "white",
             "minorgridcolor": "white",
             "startlinecolor": "#2a3f5f"
            },
            "type": "carpet"
           }
          ],
          "choropleth": [
           {
            "colorbar": {
             "outlinewidth": 0,
             "ticks": ""
            },
            "type": "choropleth"
           }
          ],
          "contour": [
           {
            "colorbar": {
             "outlinewidth": 0,
             "ticks": ""
            },
            "colorscale": [
             [
              0,
              "#0d0887"
             ],
             [
              0.1111111111111111,
              "#46039f"
             ],
             [
              0.2222222222222222,
              "#7201a8"
             ],
             [
              0.3333333333333333,
              "#9c179e"
             ],
             [
              0.4444444444444444,
              "#bd3786"
             ],
             [
              0.5555555555555556,
              "#d8576b"
             ],
             [
              0.6666666666666666,
              "#ed7953"
             ],
             [
              0.7777777777777778,
              "#fb9f3a"
             ],
             [
              0.8888888888888888,
              "#fdca26"
             ],
             [
              1,
              "#f0f921"
             ]
            ],
            "type": "contour"
           }
          ],
          "contourcarpet": [
           {
            "colorbar": {
             "outlinewidth": 0,
             "ticks": ""
            },
            "type": "contourcarpet"
           }
          ],
          "heatmap": [
           {
            "colorbar": {
             "outlinewidth": 0,
             "ticks": ""
            },
            "colorscale": [
             [
              0,
              "#0d0887"
             ],
             [
              0.1111111111111111,
              "#46039f"
             ],
             [
              0.2222222222222222,
              "#7201a8"
             ],
             [
              0.3333333333333333,
              "#9c179e"
             ],
             [
              0.4444444444444444,
              "#bd3786"
             ],
             [
              0.5555555555555556,
              "#d8576b"
             ],
             [
              0.6666666666666666,
              "#ed7953"
             ],
             [
              0.7777777777777778,
              "#fb9f3a"
             ],
             [
              0.8888888888888888,
              "#fdca26"
             ],
             [
              1,
              "#f0f921"
             ]
            ],
            "type": "heatmap"
           }
          ],
          "heatmapgl": [
           {
            "colorbar": {
             "outlinewidth": 0,
             "ticks": ""
            },
            "colorscale": [
             [
              0,
              "#0d0887"
             ],
             [
              0.1111111111111111,
              "#46039f"
             ],
             [
              0.2222222222222222,
              "#7201a8"
             ],
             [
              0.3333333333333333,
              "#9c179e"
             ],
             [
              0.4444444444444444,
              "#bd3786"
             ],
             [
              0.5555555555555556,
              "#d8576b"
             ],
             [
              0.6666666666666666,
              "#ed7953"
             ],
             [
              0.7777777777777778,
              "#fb9f3a"
             ],
             [
              0.8888888888888888,
              "#fdca26"
             ],
             [
              1,
              "#f0f921"
             ]
            ],
            "type": "heatmapgl"
           }
          ],
          "histogram": [
           {
            "marker": {
             "pattern": {
              "fillmode": "overlay",
              "size": 10,
              "solidity": 0.2
             }
            },
            "type": "histogram"
           }
          ],
          "histogram2d": [
           {
            "colorbar": {
             "outlinewidth": 0,
             "ticks": ""
            },
            "colorscale": [
             [
              0,
              "#0d0887"
             ],
             [
              0.1111111111111111,
              "#46039f"
             ],
             [
              0.2222222222222222,
              "#7201a8"
             ],
             [
              0.3333333333333333,
              "#9c179e"
             ],
             [
              0.4444444444444444,
              "#bd3786"
             ],
             [
              0.5555555555555556,
              "#d8576b"
             ],
             [
              0.6666666666666666,
              "#ed7953"
             ],
             [
              0.7777777777777778,
              "#fb9f3a"
             ],
             [
              0.8888888888888888,
              "#fdca26"
             ],
             [
              1,
              "#f0f921"
             ]
            ],
            "type": "histogram2d"
           }
          ],
          "histogram2dcontour": [
           {
            "colorbar": {
             "outlinewidth": 0,
             "ticks": ""
            },
            "colorscale": [
             [
              0,
              "#0d0887"
             ],
             [
              0.1111111111111111,
              "#46039f"
             ],
             [
              0.2222222222222222,
              "#7201a8"
             ],
             [
              0.3333333333333333,
              "#9c179e"
             ],
             [
              0.4444444444444444,
              "#bd3786"
             ],
             [
              0.5555555555555556,
              "#d8576b"
             ],
             [
              0.6666666666666666,
              "#ed7953"
             ],
             [
              0.7777777777777778,
              "#fb9f3a"
             ],
             [
              0.8888888888888888,
              "#fdca26"
             ],
             [
              1,
              "#f0f921"
             ]
            ],
            "type": "histogram2dcontour"
           }
          ],
          "mesh3d": [
           {
            "colorbar": {
             "outlinewidth": 0,
             "ticks": ""
            },
            "type": "mesh3d"
           }
          ],
          "parcoords": [
           {
            "line": {
             "colorbar": {
              "outlinewidth": 0,
              "ticks": ""
             }
            },
            "type": "parcoords"
           }
          ],
          "pie": [
           {
            "automargin": true,
            "type": "pie"
           }
          ],
          "scatter": [
           {
            "fillpattern": {
             "fillmode": "overlay",
             "size": 10,
             "solidity": 0.2
            },
            "type": "scatter"
           }
          ],
          "scatter3d": [
           {
            "line": {
             "colorbar": {
              "outlinewidth": 0,
              "ticks": ""
             }
            },
            "marker": {
             "colorbar": {
              "outlinewidth": 0,
              "ticks": ""
             }
            },
            "type": "scatter3d"
           }
          ],
          "scattercarpet": [
           {
            "marker": {
             "colorbar": {
              "outlinewidth": 0,
              "ticks": ""
             }
            },
            "type": "scattercarpet"
           }
          ],
          "scattergeo": [
           {
            "marker": {
             "colorbar": {
              "outlinewidth": 0,
              "ticks": ""
             }
            },
            "type": "scattergeo"
           }
          ],
          "scattergl": [
           {
            "marker": {
             "colorbar": {
              "outlinewidth": 0,
              "ticks": ""
             }
            },
            "type": "scattergl"
           }
          ],
          "scattermapbox": [
           {
            "marker": {
             "colorbar": {
              "outlinewidth": 0,
              "ticks": ""
             }
            },
            "type": "scattermapbox"
           }
          ],
          "scatterpolar": [
           {
            "marker": {
             "colorbar": {
              "outlinewidth": 0,
              "ticks": ""
             }
            },
            "type": "scatterpolar"
           }
          ],
          "scatterpolargl": [
           {
            "marker": {
             "colorbar": {
              "outlinewidth": 0,
              "ticks": ""
             }
            },
            "type": "scatterpolargl"
           }
          ],
          "scatterternary": [
           {
            "marker": {
             "colorbar": {
              "outlinewidth": 0,
              "ticks": ""
             }
            },
            "type": "scatterternary"
           }
          ],
          "surface": [
           {
            "colorbar": {
             "outlinewidth": 0,
             "ticks": ""
            },
            "colorscale": [
             [
              0,
              "#0d0887"
             ],
             [
              0.1111111111111111,
              "#46039f"
             ],
             [
              0.2222222222222222,
              "#7201a8"
             ],
             [
              0.3333333333333333,
              "#9c179e"
             ],
             [
              0.4444444444444444,
              "#bd3786"
             ],
             [
              0.5555555555555556,
              "#d8576b"
             ],
             [
              0.6666666666666666,
              "#ed7953"
             ],
             [
              0.7777777777777778,
              "#fb9f3a"
             ],
             [
              0.8888888888888888,
              "#fdca26"
             ],
             [
              1,
              "#f0f921"
             ]
            ],
            "type": "surface"
           }
          ],
          "table": [
           {
            "cells": {
             "fill": {
              "color": "#EBF0F8"
             },
             "line": {
              "color": "white"
             }
            },
            "header": {
             "fill": {
              "color": "#C8D4E3"
             },
             "line": {
              "color": "white"
             }
            },
            "type": "table"
           }
          ]
         },
         "layout": {
          "annotationdefaults": {
           "arrowcolor": "#2a3f5f",
           "arrowhead": 0,
           "arrowwidth": 1
          },
          "autotypenumbers": "strict",
          "coloraxis": {
           "colorbar": {
            "outlinewidth": 0,
            "ticks": ""
           }
          },
          "colorscale": {
           "diverging": [
            [
             0,
             "#8e0152"
            ],
            [
             0.1,
             "#c51b7d"
            ],
            [
             0.2,
             "#de77ae"
            ],
            [
             0.3,
             "#f1b6da"
            ],
            [
             0.4,
             "#fde0ef"
            ],
            [
             0.5,
             "#f7f7f7"
            ],
            [
             0.6,
             "#e6f5d0"
            ],
            [
             0.7,
             "#b8e186"
            ],
            [
             0.8,
             "#7fbc41"
            ],
            [
             0.9,
             "#4d9221"
            ],
            [
             1,
             "#276419"
            ]
           ],
           "sequential": [
            [
             0,
             "#0d0887"
            ],
            [
             0.1111111111111111,
             "#46039f"
            ],
            [
             0.2222222222222222,
             "#7201a8"
            ],
            [
             0.3333333333333333,
             "#9c179e"
            ],
            [
             0.4444444444444444,
             "#bd3786"
            ],
            [
             0.5555555555555556,
             "#d8576b"
            ],
            [
             0.6666666666666666,
             "#ed7953"
            ],
            [
             0.7777777777777778,
             "#fb9f3a"
            ],
            [
             0.8888888888888888,
             "#fdca26"
            ],
            [
             1,
             "#f0f921"
            ]
           ],
           "sequentialminus": [
            [
             0,
             "#0d0887"
            ],
            [
             0.1111111111111111,
             "#46039f"
            ],
            [
             0.2222222222222222,
             "#7201a8"
            ],
            [
             0.3333333333333333,
             "#9c179e"
            ],
            [
             0.4444444444444444,
             "#bd3786"
            ],
            [
             0.5555555555555556,
             "#d8576b"
            ],
            [
             0.6666666666666666,
             "#ed7953"
            ],
            [
             0.7777777777777778,
             "#fb9f3a"
            ],
            [
             0.8888888888888888,
             "#fdca26"
            ],
            [
             1,
             "#f0f921"
            ]
           ]
          },
          "colorway": [
           "#636efa",
           "#EF553B",
           "#00cc96",
           "#ab63fa",
           "#FFA15A",
           "#19d3f3",
           "#FF6692",
           "#B6E880",
           "#FF97FF",
           "#FECB52"
          ],
          "font": {
           "color": "#2a3f5f"
          },
          "geo": {
           "bgcolor": "white",
           "lakecolor": "white",
           "landcolor": "#E5ECF6",
           "showlakes": true,
           "showland": true,
           "subunitcolor": "white"
          },
          "hoverlabel": {
           "align": "left"
          },
          "hovermode": "closest",
          "mapbox": {
           "style": "light"
          },
          "paper_bgcolor": "white",
          "plot_bgcolor": "#E5ECF6",
          "polar": {
           "angularaxis": {
            "gridcolor": "white",
            "linecolor": "white",
            "ticks": ""
           },
           "bgcolor": "#E5ECF6",
           "radialaxis": {
            "gridcolor": "white",
            "linecolor": "white",
            "ticks": ""
           }
          },
          "scene": {
           "xaxis": {
            "backgroundcolor": "#E5ECF6",
            "gridcolor": "white",
            "gridwidth": 2,
            "linecolor": "white",
            "showbackground": true,
            "ticks": "",
            "zerolinecolor": "white"
           },
           "yaxis": {
            "backgroundcolor": "#E5ECF6",
            "gridcolor": "white",
            "gridwidth": 2,
            "linecolor": "white",
            "showbackground": true,
            "ticks": "",
            "zerolinecolor": "white"
           },
           "zaxis": {
            "backgroundcolor": "#E5ECF6",
            "gridcolor": "white",
            "gridwidth": 2,
            "linecolor": "white",
            "showbackground": true,
            "ticks": "",
            "zerolinecolor": "white"
           }
          },
          "shapedefaults": {
           "line": {
            "color": "#2a3f5f"
           }
          },
          "ternary": {
           "aaxis": {
            "gridcolor": "white",
            "linecolor": "white",
            "ticks": ""
           },
           "baxis": {
            "gridcolor": "white",
            "linecolor": "white",
            "ticks": ""
           },
           "bgcolor": "#E5ECF6",
           "caxis": {
            "gridcolor": "white",
            "linecolor": "white",
            "ticks": ""
           }
          },
          "title": {
           "x": 0.05
          },
          "xaxis": {
           "automargin": true,
           "gridcolor": "white",
           "linecolor": "white",
           "ticks": "",
           "title": {
            "standoff": 15
           },
           "zerolinecolor": "white",
           "zerolinewidth": 2
          },
          "yaxis": {
           "automargin": true,
           "gridcolor": "white",
           "linecolor": "white",
           "ticks": "",
           "title": {
            "standoff": 15
           },
           "zerolinecolor": "white",
           "zerolinewidth": 2
          }
         }
        },
        "xaxis": {
         "title": {
          "text": "Time"
         }
        },
        "yaxis": {
         "title": {
          "text": "% Imaged"
         }
        }
       }
      }
     },
     "metadata": {},
     "output_type": "display_data"
    }
   ],
   "source": [
    "# Visualization of Targets Azimuth and Elevation data (includes all satellites).\n",
    "\n",
    "figs1 = []\n",
    "figs2 = []\n",
    "buttons1 = []\n",
    "buttons2 = []\n",
    "\n",
    "fig3 = go.Figure()\n",
    "\n",
    "for t in range(len(stk_object.targets)):\n",
    "    fig1 = px.imshow(stk_object.Azimuth_vs_Elevation[f\"Target{t+1}\"].transpose(), text_auto=True,\n",
    "                labels=dict(x=\"Azimuth\",y=\"Elevation\", color=\"Total Frames Captured\"),)\n",
    "    figs1.append(fig1.data[0])\n",
    "    for s in range(len(stk_object.sensors)):\n",
    "        df = stk_object.AzEl_data[f'Target{t+1}->Satellite{s+1}']\n",
    "        if type(df) != int:\n",
    "            df['Azimuth'] = df['Azimuth'].astype(float)\n",
    "            df['Elevation'] = df['Elevation'].astype(float)\n",
    "            fig2 = go.Scatter(y=df['Elevation'],x=df['Azimuth'],name=f'{t+1}->{s+1}',mode='lines')\n",
    "            figs2.append(fig2)\n",
    "        else:\n",
    "            figs2.append(go.Scatter(x=[],y=[]))\n",
    "\n",
    "    if type(stk_object.time_sorted_data[f'Target{t+1}']) != int:\n",
    "        df = pd.DataFrame(stk_object.time_sorted_data[f'Target{t+1}'])\n",
    "        fig3.add_trace(go.Scatter(x=df['Time'],y=df['Percent Imaged'],name=f'Target{t+1}'))\n",
    "\n",
    "    z1 = np.zeros(len(stk_object.targets),dtype=bool);z1[t]=1\n",
    "    z2 = np.zeros(len(stk_object.targets)*len(stk_object.sensors),dtype=bool)\n",
    "    z2[len(stk_object.sensors)*t] = 1\n",
    "    for s in range(len(stk_object.sensors)):\n",
    "        z2[len(stk_object.sensors)*t+s]=1\n",
    "    buttons1.append(dict(label=f\"Target{t+1}\",\n",
    "                        method=\"restyle\",\n",
    "                        args=[{\"visible\": z1},]))\n",
    "    buttons2.append(dict(label=f\"Target{t+1}\",\n",
    "                        method=\"restyle\",\n",
    "                        args=[{\"visible\": z2},]))\n",
    "\n",
    "fig1=go.Figure(figs1)\n",
    "fig1.update_layout(xaxis_title=\"Azimuth\", yaxis_title=\"Elevation\",\n",
    "    updatemenus=[\n",
    "        dict(\n",
    "            active=0,\n",
    "            buttons=buttons1,\n",
    "              x=1.1,\n",
    "              xanchor=\"left\",\n",
    "              y=1.1,\n",
    "              yanchor=\"top\")])\n",
    "\n",
    "fig2=go.Figure(figs2)\n",
    "fig2.update_layout(xaxis_title=\"Azimuth\", yaxis_title=\"Elevation\",\n",
    "    updatemenus=[\n",
    "        dict(\n",
    "            active=0,\n",
    "            buttons=buttons2,\n",
    "              x=1.1,\n",
    "              xanchor=\"left\",\n",
    "              y=1.1,\n",
    "              yanchor=\"top\")])\n",
    "\n",
    "fig3.update_layout(xaxis_title=\"Time\", yaxis_title=\"% Imaged\")\n",
    "\n",
    "fig1.show()\n",
    "fig2.show()\n",
    "fig3.show()\n",
    "\n",
    "# f1 = PlotlyViewer(fig1)\n",
    "# f2 = PlotlyViewer(fig2)\n",
    "# f3 = PlotlyViewer(fig3)"
   ]
  },
  {
   "cell_type": "code",
   "execution_count": null,
   "metadata": {},
   "outputs": [],
   "source": [
    "num_total_angles = 0\n",
    "for t in range(len(stk_object.targets)):\n",
    "    num_total_angles += len(np.where(stk_object.Azimuth_vs_Elevation[f\"Target{t+1}\"]>0)[0])\n",
    "print(f\"num_total_angles = {100*num_total_angles/162/len(stk_object.targets)}%\")"
   ]
  },
  {
   "cell_type": "code",
   "execution_count": 34,
   "metadata": {},
   "outputs": [],
   "source": [
    "dt = 60\n",
    "stk_object.Compute_YPR_rates(dt)"
   ]
  },
  {
   "cell_type": "code",
   "execution_count": 46,
   "metadata": {},
   "outputs": [
    {
     "data": {
      "application/vnd.plotly.v1+json": {
       "config": {
        "plotlyServerURL": "https://plot.ly"
       },
       "data": [
        {
         "hovertemplate": "variable=yaw rate<br>Time=%{x}<br>value=%{y}<extra></extra>",
         "legendgroup": "yaw rate",
         "line": {
          "color": "#636efa",
          "dash": "solid"
         },
         "marker": {
          "symbol": "circle"
         },
         "mode": "markers+lines",
         "name": "yaw rate",
         "orientation": "v",
         "showlegend": true,
         "type": "scatter",
         "x": [
          "2024-03-28T17:44:11.699964",
          "2024-03-28T17:45:11",
          "2024-03-28T17:46:11",
          "2024-03-28T17:47:11",
          "2024-03-28T17:48:11",
          "2024-03-28T17:49:11",
          "2024-03-28T17:50:11",
          "2024-03-28T17:51:11",
          "2024-03-28T17:52:11",
          "2024-03-28T17:53:11",
          "2024-03-28T17:54:11",
          "2024-03-28T17:55:11",
          "2024-03-28T17:56:11",
          "2024-03-28T17:57:11",
          "2024-03-28T17:58:11",
          "2024-03-28T17:59:11",
          "2024-03-28T18:00:11",
          "2024-03-28T18:01:11",
          "2024-03-28T18:02:11",
          "2024-03-28T18:03:11",
          "2024-03-28T18:04:11",
          "2024-03-28T18:05:11",
          "2024-03-28T18:06:11",
          "2024-03-28T18:07:11",
          "2024-03-28T18:08:11",
          "2024-03-28T18:09:11",
          "2024-03-28T18:10:11",
          "2024-03-28T18:11:11",
          "2024-03-28T18:12:11",
          "2024-03-28T18:13:11",
          "2024-03-28T18:14:11",
          "2024-03-28T18:15:11",
          "2024-03-28T18:16:11",
          "2024-03-28T18:17:11",
          "2024-03-28T18:18:11",
          "2024-03-28T18:19:11",
          "2024-03-28T18:20:11",
          "2024-03-28T18:20:33.288351",
          "2024-03-28T19:50:56.887207",
          "2024-03-28T19:51:56",
          "2024-03-28T19:52:56",
          "2024-03-28T19:53:56",
          "2024-03-28T19:54:56",
          "2024-03-28T19:55:56",
          "2024-03-28T19:56:56",
          "2024-03-28T19:57:56",
          "2024-03-28T19:58:56",
          "2024-03-28T19:59:56",
          "2024-03-28T20:00:56",
          "2024-03-28T20:01:56",
          "2024-03-28T20:02:56",
          "2024-03-28T20:03:56",
          "2024-03-28T20:04:56",
          "2024-03-28T20:05:56",
          "2024-03-28T20:06:56",
          "2024-03-28T20:07:56",
          "2024-03-28T20:08:56",
          "2024-03-28T20:09:56",
          "2024-03-28T20:10:56",
          "2024-03-28T20:11:56",
          "2024-03-28T20:12:56",
          "2024-03-28T20:13:56",
          "2024-03-28T20:14:56",
          "2024-03-28T20:15:56",
          "2024-03-28T20:16:56",
          "2024-03-28T20:17:56",
          "2024-03-28T20:18:56",
          "2024-03-28T20:19:56",
          "2024-03-28T20:20:56",
          "2024-03-28T20:21:25.435668",
          "2024-03-28T22:01:21.048775",
          "2024-03-28T22:02:21",
          "2024-03-28T22:03:21",
          "2024-03-28T22:04:21",
          "2024-03-28T22:05:21",
          "2024-03-28T22:06:21",
          "2024-03-28T22:07:21",
          "2024-03-28T22:08:21",
          "2024-03-28T22:09:21",
          "2024-03-28T22:10:21",
          "2024-03-28T22:11:21",
          "2024-03-28T22:12:21",
          "2024-03-28T22:13:21",
          "2024-03-28T22:14:21",
          "2024-03-28T22:15:21",
          "2024-03-28T22:16:21",
          "2024-03-28T22:17:21",
          "2024-03-28T22:18:21",
          "2024-03-28T22:19:21",
          "2024-03-28T22:20:21",
          "2024-03-28T22:21:21",
          "2024-03-28T22:22:00.188895"
         ],
         "xaxis": "x",
         "y": [
          0.03533547720781452,
          0.03825057691191863,
          0.041579582749039334,
          0.0454561149253796,
          0.050118931633678664,
          0.055885495963127405,
          0.06313005995495746,
          0.072197166595281,
          0.08319587032952776,
          0.09563493214962616,
          0.10799159364963504,
          0.11761680454569366,
          0.12157606360860566,
          0.1183443691399166,
          0.10891954079404328,
          0.0961029220309151,
          0.08277093513861263,
          0.070762007502549,
          0.06079218262480162,
          0.052857595479306005,
          0.046635797974936846,
          0.04173137070236167,
          0.037788172984366035,
          0.03452481496272558,
          0.03173482934190084,
          0.03668127549614254,
          0.12816338204505553,
          0.10551660276891736,
          0.08580197074396717,
          0.07037509765009207,
          0.05887322429016772,
          0.05040243272214408,
          0.04408941270561735,
          0.03924954543615307,
          0.03539590755109365,
          0.0322003934894651,
          0.02944963351431886,
          0.028512041021021825,
          0.04007639633885766,
          0.04140922935703326,
          0.04269777315809776,
          0.043861972505472434,
          0.04482842322228423,
          0.045519086782841424,
          0.04586423474784341,
          0.045816424271770156,
          0.045361304306211124,
          0.04452151413789318,
          0.043352238126754865,
          0.041930038502242334,
          0.04033877888934583,
          0.03865677401313301,
          0.03694797071967321,
          0.08580471933493918,
          0.09570946392182349,
          0.10370031319602903,
          0.10776784028932715,
          0.10666658203800859,
          0.10068402232642666,
          0.09145909883729166,
          0.08103560730976427,
          0.07100478363666876,
          0.06221497079814359,
          0.05490862818814942,
          0.04898053490653035,
          0.04418487425529999,
          0.04025549950081338,
          0.03696030239951541,
          0.03411772379768868,
          0.032846749472229764,
          0.03911469123246381,
          0.04138715759161034,
          0.0438679761840503,
          0.04657935964911524,
          0.049514244853352804,
          0.05261283525644832,
          0.0557417918084675,
          0.05868438119070151,
          0.06115483296258777,
          0.06284619723636749,
          0.06350603230451403,
          0.06301342899281762,
          0.0614205090210382,
          0.05893574227799284,
          0.05585833253736671,
          0.052497409401353,
          0.0491095749992913,
          0.04586984167839883,
          0.042872034419421105,
          0.0401459928076235,
          0.03767962004764716,
          0.03619292127589165
         ],
         "yaxis": "y"
        },
        {
         "hovertemplate": "variable=pitch rate<br>Time=%{x}<br>value=%{y}<extra></extra>",
         "legendgroup": "pitch rate",
         "line": {
          "color": "#EF553B",
          "dash": "solid"
         },
         "marker": {
          "symbol": "circle"
         },
         "mode": "markers+lines",
         "name": "pitch rate",
         "orientation": "v",
         "showlegend": true,
         "type": "scatter",
         "x": [
          "2024-03-28T17:44:11.699964",
          "2024-03-28T17:45:11",
          "2024-03-28T17:46:11",
          "2024-03-28T17:47:11",
          "2024-03-28T17:48:11",
          "2024-03-28T17:49:11",
          "2024-03-28T17:50:11",
          "2024-03-28T17:51:11",
          "2024-03-28T17:52:11",
          "2024-03-28T17:53:11",
          "2024-03-28T17:54:11",
          "2024-03-28T17:55:11",
          "2024-03-28T17:56:11",
          "2024-03-28T17:57:11",
          "2024-03-28T17:58:11",
          "2024-03-28T17:59:11",
          "2024-03-28T18:00:11",
          "2024-03-28T18:01:11",
          "2024-03-28T18:02:11",
          "2024-03-28T18:03:11",
          "2024-03-28T18:04:11",
          "2024-03-28T18:05:11",
          "2024-03-28T18:06:11",
          "2024-03-28T18:07:11",
          "2024-03-28T18:08:11",
          "2024-03-28T18:09:11",
          "2024-03-28T18:10:11",
          "2024-03-28T18:11:11",
          "2024-03-28T18:12:11",
          "2024-03-28T18:13:11",
          "2024-03-28T18:14:11",
          "2024-03-28T18:15:11",
          "2024-03-28T18:16:11",
          "2024-03-28T18:17:11",
          "2024-03-28T18:18:11",
          "2024-03-28T18:19:11",
          "2024-03-28T18:20:11",
          "2024-03-28T18:20:33.288351",
          "2024-03-28T19:50:56.887207",
          "2024-03-28T19:51:56",
          "2024-03-28T19:52:56",
          "2024-03-28T19:53:56",
          "2024-03-28T19:54:56",
          "2024-03-28T19:55:56",
          "2024-03-28T19:56:56",
          "2024-03-28T19:57:56",
          "2024-03-28T19:58:56",
          "2024-03-28T19:59:56",
          "2024-03-28T20:00:56",
          "2024-03-28T20:01:56",
          "2024-03-28T20:02:56",
          "2024-03-28T20:03:56",
          "2024-03-28T20:04:56",
          "2024-03-28T20:05:56",
          "2024-03-28T20:06:56",
          "2024-03-28T20:07:56",
          "2024-03-28T20:08:56",
          "2024-03-28T20:09:56",
          "2024-03-28T20:10:56",
          "2024-03-28T20:11:56",
          "2024-03-28T20:12:56",
          "2024-03-28T20:13:56",
          "2024-03-28T20:14:56",
          "2024-03-28T20:15:56",
          "2024-03-28T20:16:56",
          "2024-03-28T20:17:56",
          "2024-03-28T20:18:56",
          "2024-03-28T20:19:56",
          "2024-03-28T20:20:56",
          "2024-03-28T20:21:25.435668",
          "2024-03-28T22:01:21.048775",
          "2024-03-28T22:02:21",
          "2024-03-28T22:03:21",
          "2024-03-28T22:04:21",
          "2024-03-28T22:05:21",
          "2024-03-28T22:06:21",
          "2024-03-28T22:07:21",
          "2024-03-28T22:08:21",
          "2024-03-28T22:09:21",
          "2024-03-28T22:10:21",
          "2024-03-28T22:11:21",
          "2024-03-28T22:12:21",
          "2024-03-28T22:13:21",
          "2024-03-28T22:14:21",
          "2024-03-28T22:15:21",
          "2024-03-28T22:16:21",
          "2024-03-28T22:17:21",
          "2024-03-28T22:18:21",
          "2024-03-28T22:19:21",
          "2024-03-28T22:20:21",
          "2024-03-28T22:21:21",
          "2024-03-28T22:22:00.188895"
         ],
         "xaxis": "x",
         "y": [
          -0.013085101097826722,
          -0.017920164519914145,
          -0.023580189451427286,
          -0.030113097548116738,
          -0.03760539581867434,
          -0.046102161606442975,
          -0.05556195834017742,
          -0.06579026266542584,
          -0.07635778931862931,
          -0.08653259948767911,
          -0.09528655363950995,
          -0.10144963515414639,
          -0.10402928611151714,
          -0.10257586635315509,
          -0.09737264850277681,
          -0.08931335335046423,
          -0.07955696409201363,
          -0.06918157859364663,
          -0.0589895344474599,
          -0.04947290455769127,
          -0.040870904709496995,
          -0.03325225574899693,
          -0.02658654284336696,
          -0.02079418994389271,
          -0.015777115535178115,
          -0.027117725958356882,
          -0.10371753916139571,
          -0.0918806684301274,
          -0.07897354041309615,
          -0.06629754636130139,
          -0.05461495051153325,
          -0.04425607188025528,
          -0.03527785151156737,
          -0.02759367536957668,
          -0.021057012500485955,
          -0.015507670841605188,
          -0.010794100361076725,
          -0.009228422994329764,
          -0.03842022562591909,
          -0.04195969234508947,
          -0.0453222145332645,
          -0.04832670325182894,
          -0.05084224131083919,
          -0.0527459865413444,
          -0.053937174768379906,
          -0.05435034227429963,
          -0.05396470687014298,
          -0.05280726138186335,
          -0.05094872413224912,
          -0.04849344622918565,
          -0.045565867386089705,
          -0.042296585816225626,
          -0.038810561093990184,
          -0.08100216577957678,
          -0.08885155247696874,
          -0.09459243119603288,
          -0.09740788030674302,
          -0.09685485244540434,
          -0.0930304936494121,
          -0.08653410219146573,
          -0.07825024236851763,
          -0.06908614399123643,
          -0.0597864412610124,
          -0.05086341095771168,
          -0.04261251463027577,
          -0.03516556386247237,
          -0.028547581301037205,
          -0.02272220302922175,
          -0.017622730429622417,
          -0.015362821885802829,
          -0.027334503271636806,
          -0.0321658119781191,
          -0.03730628415391481,
          -0.04267472987951622,
          -0.04814765486237024,
          -0.053547468403365474,
          -0.05864089283582048,
          -0.06314891918467991,
          -0.0667724031387018,
          -0.06923308800825421,
          -0.07032265696852426,
          -0.0699456433767291,
          -0.06814073428735129,
          -0.0650719524849866,
          -0.06099329017447536,
          -0.05620026033604225,
          -0.050984040909981695,
          -0.045598862711678755,
          -0.04024570833683405,
          -0.03506963776406548,
          -0.03016570590535584,
          -0.027137150837059823
         ],
         "yaxis": "y"
        },
        {
         "hovertemplate": "variable=roll rate<br>Time=%{x}<br>value=%{y}<extra></extra>",
         "legendgroup": "roll rate",
         "line": {
          "color": "#00cc96",
          "dash": "solid"
         },
         "marker": {
          "symbol": "circle"
         },
         "mode": "markers+lines",
         "name": "roll rate",
         "orientation": "v",
         "showlegend": true,
         "type": "scatter",
         "x": [
          "2024-03-28T17:44:11.699964",
          "2024-03-28T17:45:11",
          "2024-03-28T17:46:11",
          "2024-03-28T17:47:11",
          "2024-03-28T17:48:11",
          "2024-03-28T17:49:11",
          "2024-03-28T17:50:11",
          "2024-03-28T17:51:11",
          "2024-03-28T17:52:11",
          "2024-03-28T17:53:11",
          "2024-03-28T17:54:11",
          "2024-03-28T17:55:11",
          "2024-03-28T17:56:11",
          "2024-03-28T17:57:11",
          "2024-03-28T17:58:11",
          "2024-03-28T17:59:11",
          "2024-03-28T18:00:11",
          "2024-03-28T18:01:11",
          "2024-03-28T18:02:11",
          "2024-03-28T18:03:11",
          "2024-03-28T18:04:11",
          "2024-03-28T18:05:11",
          "2024-03-28T18:06:11",
          "2024-03-28T18:07:11",
          "2024-03-28T18:08:11",
          "2024-03-28T18:09:11",
          "2024-03-28T18:10:11",
          "2024-03-28T18:11:11",
          "2024-03-28T18:12:11",
          "2024-03-28T18:13:11",
          "2024-03-28T18:14:11",
          "2024-03-28T18:15:11",
          "2024-03-28T18:16:11",
          "2024-03-28T18:17:11",
          "2024-03-28T18:18:11",
          "2024-03-28T18:19:11",
          "2024-03-28T18:20:11",
          "2024-03-28T18:20:33.288351",
          "2024-03-28T19:50:56.887207",
          "2024-03-28T19:51:56",
          "2024-03-28T19:52:56",
          "2024-03-28T19:53:56",
          "2024-03-28T19:54:56",
          "2024-03-28T19:55:56",
          "2024-03-28T19:56:56",
          "2024-03-28T19:57:56",
          "2024-03-28T19:58:56",
          "2024-03-28T19:59:56",
          "2024-03-28T20:00:56",
          "2024-03-28T20:01:56",
          "2024-03-28T20:02:56",
          "2024-03-28T20:03:56",
          "2024-03-28T20:04:56",
          "2024-03-28T20:05:56",
          "2024-03-28T20:06:56",
          "2024-03-28T20:07:56",
          "2024-03-28T20:08:56",
          "2024-03-28T20:09:56",
          "2024-03-28T20:10:56",
          "2024-03-28T20:11:56",
          "2024-03-28T20:12:56",
          "2024-03-28T20:13:56",
          "2024-03-28T20:14:56",
          "2024-03-28T20:15:56",
          "2024-03-28T20:16:56",
          "2024-03-28T20:17:56",
          "2024-03-28T20:18:56",
          "2024-03-28T20:19:56",
          "2024-03-28T20:20:56",
          "2024-03-28T20:21:25.435668",
          "2024-03-28T22:01:21.048775",
          "2024-03-28T22:02:21",
          "2024-03-28T22:03:21",
          "2024-03-28T22:04:21",
          "2024-03-28T22:05:21",
          "2024-03-28T22:06:21",
          "2024-03-28T22:07:21",
          "2024-03-28T22:08:21",
          "2024-03-28T22:09:21",
          "2024-03-28T22:10:21",
          "2024-03-28T22:11:21",
          "2024-03-28T22:12:21",
          "2024-03-28T22:13:21",
          "2024-03-28T22:14:21",
          "2024-03-28T22:15:21",
          "2024-03-28T22:16:21",
          "2024-03-28T22:17:21",
          "2024-03-28T22:18:21",
          "2024-03-28T22:19:21",
          "2024-03-28T22:20:21",
          "2024-03-28T22:21:21",
          "2024-03-28T22:22:00.188895"
         ],
         "xaxis": "x",
         "y": [
          -0.024543673500907096,
          -0.024949876399993506,
          -0.025050729551350775,
          -0.024784151215197944,
          -0.0241026735296699,
          -0.02297227787169862,
          -0.02137712506319394,
          -0.01932303852455973,
          -0.016839125022600782,
          -0.013977215648251624,
          -0.010809181309926875,
          -0.007422511252727468,
          -0.003914751124848972,
          -0.0003874490127512236,
          0.003059814220252154,
          0.006334863918762158,
          0.009357520086134075,
          0.012063108972454722,
          0.01440473826875603,
          0.016354242844718193,
          0.01790179764646003,
          0.019054310923824334,
          0.019832835028799435,
          0.02026933157014676,
          0.02040317439504112,
          0.019232376040636375,
          0.007370649617909195,
          0.010492409823385174,
          0.013271275513146682,
          0.015643028148575617,
          0.017569025796450716,
          0.019036294161262117,
          0.020055282418627907,
          0.020655795089308166,
          0.02088182926409366,
          0.020786105078518753,
          0.020424978219730213,
          0.02023454434618257,
          -0.015481366631803804,
          -0.013909546961851763,
          -0.012157913683885135,
          -0.01027201902634785,
          -0.008278163615313566,
          -0.006204870343699143,
          -0.004082020937134097,
          -0.0019400221676661269,
          0.0001909730297940836,
          0.002281777661692274,
          0.004304813338097082,
          0.006234684850557569,
          0.00804868719943516,
          0.00972724137942674,
          0.011254249688380456,
          -0.012102453940197403,
          -0.009078707835286885,
          -0.005855493508145811,
          -0.0025151824781997874,
          0.0008549514065118146,
          0.004167249626428093,
          0.007338066760600252,
          0.010291814061913346,
          0.01296443459731951,
          0.015306100763257963,
          0.017282940654788276,
          0.018877651376363328,
          0.020088954706987516,
          0.020929980761869978,
          0.021425797531034463,
          0.02161040282143223,
          0.02159910322400437,
          -0.021512677640284836,
          -0.020613407095334,
          -0.01943505206557094,
          -0.017980602660721608,
          -0.01626110710437972,
          -0.014296171243879819,
          -0.012113344261813047,
          -0.009747090628892034,
          -0.007237462107511664,
          -0.004628591894030912,
          -0.001967119082129125,
          0.0006993760454863445,
          0.003323876057013896,
          0.005861343902998624,
          0.008270039505240462,
          0.010512718778299002,
          0.012557686314448065,
          0.01437965769588515,
          0.015960376826556155,
          0.017288934209866397,
          0.018361746762728826,
          0.018925723520678474
         ],
         "yaxis": "y"
        }
       ],
       "layout": {
        "template": {
         "data": {
          "bar": [
           {
            "error_x": {
             "color": "#2a3f5f"
            },
            "error_y": {
             "color": "#2a3f5f"
            },
            "marker": {
             "line": {
              "color": "#E5ECF6",
              "width": 0.5
             },
             "pattern": {
              "fillmode": "overlay",
              "size": 10,
              "solidity": 0.2
             }
            },
            "type": "bar"
           }
          ],
          "barpolar": [
           {
            "marker": {
             "line": {
              "color": "#E5ECF6",
              "width": 0.5
             },
             "pattern": {
              "fillmode": "overlay",
              "size": 10,
              "solidity": 0.2
             }
            },
            "type": "barpolar"
           }
          ],
          "carpet": [
           {
            "aaxis": {
             "endlinecolor": "#2a3f5f",
             "gridcolor": "white",
             "linecolor": "white",
             "minorgridcolor": "white",
             "startlinecolor": "#2a3f5f"
            },
            "baxis": {
             "endlinecolor": "#2a3f5f",
             "gridcolor": "white",
             "linecolor": "white",
             "minorgridcolor": "white",
             "startlinecolor": "#2a3f5f"
            },
            "type": "carpet"
           }
          ],
          "choropleth": [
           {
            "colorbar": {
             "outlinewidth": 0,
             "ticks": ""
            },
            "type": "choropleth"
           }
          ],
          "contour": [
           {
            "colorbar": {
             "outlinewidth": 0,
             "ticks": ""
            },
            "colorscale": [
             [
              0,
              "#0d0887"
             ],
             [
              0.1111111111111111,
              "#46039f"
             ],
             [
              0.2222222222222222,
              "#7201a8"
             ],
             [
              0.3333333333333333,
              "#9c179e"
             ],
             [
              0.4444444444444444,
              "#bd3786"
             ],
             [
              0.5555555555555556,
              "#d8576b"
             ],
             [
              0.6666666666666666,
              "#ed7953"
             ],
             [
              0.7777777777777778,
              "#fb9f3a"
             ],
             [
              0.8888888888888888,
              "#fdca26"
             ],
             [
              1,
              "#f0f921"
             ]
            ],
            "type": "contour"
           }
          ],
          "contourcarpet": [
           {
            "colorbar": {
             "outlinewidth": 0,
             "ticks": ""
            },
            "type": "contourcarpet"
           }
          ],
          "heatmap": [
           {
            "colorbar": {
             "outlinewidth": 0,
             "ticks": ""
            },
            "colorscale": [
             [
              0,
              "#0d0887"
             ],
             [
              0.1111111111111111,
              "#46039f"
             ],
             [
              0.2222222222222222,
              "#7201a8"
             ],
             [
              0.3333333333333333,
              "#9c179e"
             ],
             [
              0.4444444444444444,
              "#bd3786"
             ],
             [
              0.5555555555555556,
              "#d8576b"
             ],
             [
              0.6666666666666666,
              "#ed7953"
             ],
             [
              0.7777777777777778,
              "#fb9f3a"
             ],
             [
              0.8888888888888888,
              "#fdca26"
             ],
             [
              1,
              "#f0f921"
             ]
            ],
            "type": "heatmap"
           }
          ],
          "heatmapgl": [
           {
            "colorbar": {
             "outlinewidth": 0,
             "ticks": ""
            },
            "colorscale": [
             [
              0,
              "#0d0887"
             ],
             [
              0.1111111111111111,
              "#46039f"
             ],
             [
              0.2222222222222222,
              "#7201a8"
             ],
             [
              0.3333333333333333,
              "#9c179e"
             ],
             [
              0.4444444444444444,
              "#bd3786"
             ],
             [
              0.5555555555555556,
              "#d8576b"
             ],
             [
              0.6666666666666666,
              "#ed7953"
             ],
             [
              0.7777777777777778,
              "#fb9f3a"
             ],
             [
              0.8888888888888888,
              "#fdca26"
             ],
             [
              1,
              "#f0f921"
             ]
            ],
            "type": "heatmapgl"
           }
          ],
          "histogram": [
           {
            "marker": {
             "pattern": {
              "fillmode": "overlay",
              "size": 10,
              "solidity": 0.2
             }
            },
            "type": "histogram"
           }
          ],
          "histogram2d": [
           {
            "colorbar": {
             "outlinewidth": 0,
             "ticks": ""
            },
            "colorscale": [
             [
              0,
              "#0d0887"
             ],
             [
              0.1111111111111111,
              "#46039f"
             ],
             [
              0.2222222222222222,
              "#7201a8"
             ],
             [
              0.3333333333333333,
              "#9c179e"
             ],
             [
              0.4444444444444444,
              "#bd3786"
             ],
             [
              0.5555555555555556,
              "#d8576b"
             ],
             [
              0.6666666666666666,
              "#ed7953"
             ],
             [
              0.7777777777777778,
              "#fb9f3a"
             ],
             [
              0.8888888888888888,
              "#fdca26"
             ],
             [
              1,
              "#f0f921"
             ]
            ],
            "type": "histogram2d"
           }
          ],
          "histogram2dcontour": [
           {
            "colorbar": {
             "outlinewidth": 0,
             "ticks": ""
            },
            "colorscale": [
             [
              0,
              "#0d0887"
             ],
             [
              0.1111111111111111,
              "#46039f"
             ],
             [
              0.2222222222222222,
              "#7201a8"
             ],
             [
              0.3333333333333333,
              "#9c179e"
             ],
             [
              0.4444444444444444,
              "#bd3786"
             ],
             [
              0.5555555555555556,
              "#d8576b"
             ],
             [
              0.6666666666666666,
              "#ed7953"
             ],
             [
              0.7777777777777778,
              "#fb9f3a"
             ],
             [
              0.8888888888888888,
              "#fdca26"
             ],
             [
              1,
              "#f0f921"
             ]
            ],
            "type": "histogram2dcontour"
           }
          ],
          "mesh3d": [
           {
            "colorbar": {
             "outlinewidth": 0,
             "ticks": ""
            },
            "type": "mesh3d"
           }
          ],
          "parcoords": [
           {
            "line": {
             "colorbar": {
              "outlinewidth": 0,
              "ticks": ""
             }
            },
            "type": "parcoords"
           }
          ],
          "pie": [
           {
            "automargin": true,
            "type": "pie"
           }
          ],
          "scatter": [
           {
            "fillpattern": {
             "fillmode": "overlay",
             "size": 10,
             "solidity": 0.2
            },
            "type": "scatter"
           }
          ],
          "scatter3d": [
           {
            "line": {
             "colorbar": {
              "outlinewidth": 0,
              "ticks": ""
             }
            },
            "marker": {
             "colorbar": {
              "outlinewidth": 0,
              "ticks": ""
             }
            },
            "type": "scatter3d"
           }
          ],
          "scattercarpet": [
           {
            "marker": {
             "colorbar": {
              "outlinewidth": 0,
              "ticks": ""
             }
            },
            "type": "scattercarpet"
           }
          ],
          "scattergeo": [
           {
            "marker": {
             "colorbar": {
              "outlinewidth": 0,
              "ticks": ""
             }
            },
            "type": "scattergeo"
           }
          ],
          "scattergl": [
           {
            "marker": {
             "colorbar": {
              "outlinewidth": 0,
              "ticks": ""
             }
            },
            "type": "scattergl"
           }
          ],
          "scattermapbox": [
           {
            "marker": {
             "colorbar": {
              "outlinewidth": 0,
              "ticks": ""
             }
            },
            "type": "scattermapbox"
           }
          ],
          "scatterpolar": [
           {
            "marker": {
             "colorbar": {
              "outlinewidth": 0,
              "ticks": ""
             }
            },
            "type": "scatterpolar"
           }
          ],
          "scatterpolargl": [
           {
            "marker": {
             "colorbar": {
              "outlinewidth": 0,
              "ticks": ""
             }
            },
            "type": "scatterpolargl"
           }
          ],
          "scatterternary": [
           {
            "marker": {
             "colorbar": {
              "outlinewidth": 0,
              "ticks": ""
             }
            },
            "type": "scatterternary"
           }
          ],
          "surface": [
           {
            "colorbar": {
             "outlinewidth": 0,
             "ticks": ""
            },
            "colorscale": [
             [
              0,
              "#0d0887"
             ],
             [
              0.1111111111111111,
              "#46039f"
             ],
             [
              0.2222222222222222,
              "#7201a8"
             ],
             [
              0.3333333333333333,
              "#9c179e"
             ],
             [
              0.4444444444444444,
              "#bd3786"
             ],
             [
              0.5555555555555556,
              "#d8576b"
             ],
             [
              0.6666666666666666,
              "#ed7953"
             ],
             [
              0.7777777777777778,
              "#fb9f3a"
             ],
             [
              0.8888888888888888,
              "#fdca26"
             ],
             [
              1,
              "#f0f921"
             ]
            ],
            "type": "surface"
           }
          ],
          "table": [
           {
            "cells": {
             "fill": {
              "color": "#EBF0F8"
             },
             "line": {
              "color": "white"
             }
            },
            "header": {
             "fill": {
              "color": "#C8D4E3"
             },
             "line": {
              "color": "white"
             }
            },
            "type": "table"
           }
          ]
         },
         "layout": {
          "annotationdefaults": {
           "arrowcolor": "#2a3f5f",
           "arrowhead": 0,
           "arrowwidth": 1
          },
          "autotypenumbers": "strict",
          "coloraxis": {
           "colorbar": {
            "outlinewidth": 0,
            "ticks": ""
           }
          },
          "colorscale": {
           "diverging": [
            [
             0,
             "#8e0152"
            ],
            [
             0.1,
             "#c51b7d"
            ],
            [
             0.2,
             "#de77ae"
            ],
            [
             0.3,
             "#f1b6da"
            ],
            [
             0.4,
             "#fde0ef"
            ],
            [
             0.5,
             "#f7f7f7"
            ],
            [
             0.6,
             "#e6f5d0"
            ],
            [
             0.7,
             "#b8e186"
            ],
            [
             0.8,
             "#7fbc41"
            ],
            [
             0.9,
             "#4d9221"
            ],
            [
             1,
             "#276419"
            ]
           ],
           "sequential": [
            [
             0,
             "#0d0887"
            ],
            [
             0.1111111111111111,
             "#46039f"
            ],
            [
             0.2222222222222222,
             "#7201a8"
            ],
            [
             0.3333333333333333,
             "#9c179e"
            ],
            [
             0.4444444444444444,
             "#bd3786"
            ],
            [
             0.5555555555555556,
             "#d8576b"
            ],
            [
             0.6666666666666666,
             "#ed7953"
            ],
            [
             0.7777777777777778,
             "#fb9f3a"
            ],
            [
             0.8888888888888888,
             "#fdca26"
            ],
            [
             1,
             "#f0f921"
            ]
           ],
           "sequentialminus": [
            [
             0,
             "#0d0887"
            ],
            [
             0.1111111111111111,
             "#46039f"
            ],
            [
             0.2222222222222222,
             "#7201a8"
            ],
            [
             0.3333333333333333,
             "#9c179e"
            ],
            [
             0.4444444444444444,
             "#bd3786"
            ],
            [
             0.5555555555555556,
             "#d8576b"
            ],
            [
             0.6666666666666666,
             "#ed7953"
            ],
            [
             0.7777777777777778,
             "#fb9f3a"
            ],
            [
             0.8888888888888888,
             "#fdca26"
            ],
            [
             1,
             "#f0f921"
            ]
           ]
          },
          "colorway": [
           "#636efa",
           "#EF553B",
           "#00cc96",
           "#ab63fa",
           "#FFA15A",
           "#19d3f3",
           "#FF6692",
           "#B6E880",
           "#FF97FF",
           "#FECB52"
          ],
          "font": {
           "color": "#2a3f5f"
          },
          "geo": {
           "bgcolor": "white",
           "lakecolor": "white",
           "landcolor": "#E5ECF6",
           "showlakes": true,
           "showland": true,
           "subunitcolor": "white"
          },
          "hoverlabel": {
           "align": "left"
          },
          "hovermode": "closest",
          "mapbox": {
           "style": "light"
          },
          "paper_bgcolor": "white",
          "plot_bgcolor": "#E5ECF6",
          "polar": {
           "angularaxis": {
            "gridcolor": "white",
            "linecolor": "white",
            "ticks": ""
           },
           "bgcolor": "#E5ECF6",
           "radialaxis": {
            "gridcolor": "white",
            "linecolor": "white",
            "ticks": ""
           }
          },
          "scene": {
           "xaxis": {
            "backgroundcolor": "#E5ECF6",
            "gridcolor": "white",
            "gridwidth": 2,
            "linecolor": "white",
            "showbackground": true,
            "ticks": "",
            "zerolinecolor": "white"
           },
           "yaxis": {
            "backgroundcolor": "#E5ECF6",
            "gridcolor": "white",
            "gridwidth": 2,
            "linecolor": "white",
            "showbackground": true,
            "ticks": "",
            "zerolinecolor": "white"
           },
           "zaxis": {
            "backgroundcolor": "#E5ECF6",
            "gridcolor": "white",
            "gridwidth": 2,
            "linecolor": "white",
            "showbackground": true,
            "ticks": "",
            "zerolinecolor": "white"
           }
          },
          "shapedefaults": {
           "line": {
            "color": "#2a3f5f"
           }
          },
          "ternary": {
           "aaxis": {
            "gridcolor": "white",
            "linecolor": "white",
            "ticks": ""
           },
           "baxis": {
            "gridcolor": "white",
            "linecolor": "white",
            "ticks": ""
           },
           "bgcolor": "#E5ECF6",
           "caxis": {
            "gridcolor": "white",
            "linecolor": "white",
            "ticks": ""
           }
          },
          "title": {
           "x": 0.05
          },
          "xaxis": {
           "automargin": true,
           "gridcolor": "white",
           "linecolor": "white",
           "ticks": "",
           "title": {
            "standoff": 15
           },
           "zerolinecolor": "white",
           "zerolinewidth": 2
          },
          "yaxis": {
           "automargin": true,
           "gridcolor": "white",
           "linecolor": "white",
           "ticks": "",
           "title": {
            "standoff": 15
           },
           "zerolinecolor": "white",
           "zerolinewidth": 2
          }
         }
        },
        "updatemenus": [
         {
          "active": 0,
          "buttons": [
           {
            "args": [
             {
              "visible": [
               true,
               true,
               true
              ]
             }
            ],
            "label": "Sensor1",
            "method": "restyle"
           }
          ],
          "x": 1.1,
          "xanchor": "center",
          "y": 1.1,
          "yanchor": "top"
         }
        ],
        "xaxis": {
         "title": {
          "text": "Time (s)"
         }
        },
        "yaxis": {
         "title": {
          "text": "rate (deg/s)"
         }
        }
       }
      }
     },
     "metadata": {},
     "output_type": "display_data"
    }
   ],
   "source": [
    "figs = []\n",
    "buttons = []\n",
    "\n",
    "max_yaw_rate = 0\n",
    "max_pitch_rate = 0\n",
    "max_roll_rate = 0\n",
    "\n",
    "for s in range(len(stk_object.sensors)):\n",
    "    df = stk_object.YPR_rates_data[f\"Satellite{s+1}\"]\n",
    "    if max(abs(df['yaw rate'])) > max_yaw_rate:\n",
    "        max_yaw_rate = max(abs(df['yaw rate']))\n",
    "    if max(abs(df['pitch rate'])) > max_pitch_rate:\n",
    "        max_pitch_rate = max(abs(df['pitch rate']))\n",
    "    if max(abs(df['roll rate'])) > max_roll_rate:\n",
    "        max_roll_rate = max(abs(df['roll rate']))\n",
    "    fig = px.line(df, x='Time', y=['yaw rate', 'pitch rate', 'roll rate'],markers=True)\n",
    "    figs.append(fig.data[0])\n",
    "    figs.append(fig.data[1])\n",
    "    figs.append(fig.data[2])\n",
    "    z = np.zeros(3*len(stk_object.sensors),dtype=bool);z[s]=1;z[s+1]=1;z[s+2]=1\n",
    "    buttons.append(dict(label=f\"Sensor{s+1}\",\n",
    "                        method=\"restyle\",\n",
    "                        args=[{\"visible\": z},]))\n",
    "\n",
    "fig=go.Figure(figs)\n",
    "fig.update_layout(xaxis_title=\"Time (s)\", yaxis_title=\"rate (deg/s)\",\n",
    "    updatemenus=[\n",
    "        dict(\n",
    "            active=0,\n",
    "            buttons=buttons,\n",
    "              x=1.1,\n",
    "              xanchor=\"center\",\n",
    "              y=1.1,\n",
    "              yanchor=\"top\")])\n",
    "fig.show()"
   ]
  },
  {
   "cell_type": "code",
   "execution_count": null,
   "metadata": {},
   "outputs": [],
   "source": [
    "print(\"max_yaw_rate =\",max_yaw_rate)\n",
    "print(\"max_pitch_rate =\",max_pitch_rate)\n",
    "print(\"max_roll_rate =\",max_roll_rate)"
   ]
  }
 ],
 "metadata": {
  "kernelspec": {
   "display_name": "Python 3",
   "language": "python",
   "name": "python3"
  },
  "language_info": {
   "codemirror_mode": {
    "name": "ipython",
    "version": 3
   },
   "file_extension": ".py",
   "mimetype": "text/x-python",
   "name": "python",
   "nbconvert_exporter": "python",
   "pygments_lexer": "ipython3",
   "version": "3.12.0"
  }
 },
 "nbformat": 4,
 "nbformat_minor": 2
}
