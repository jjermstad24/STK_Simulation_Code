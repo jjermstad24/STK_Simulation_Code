{
 "cells": [
  {
   "cell_type": "code",
   "execution_count": 1,
   "metadata": {},
   "outputs": [],
   "source": [
    "import math"
   ]
  },
  {
   "cell_type": "markdown",
   "metadata": {},
   "source": [
    "Calculate the satellite temperature for either max (sunlit) or min (eclipse) conditions.\n",
    "\n",
    " Args:\n",
    "    - A: Area\n",
    "    - alpha: Absorptivity\n",
    "    - epsilon: Emissivity\n",
    "    - P_diss: Internal power dissipation (W)\n",
    "    - theta: Angle between the surface normal and Sun's direction\n",
    "    - view_factor: View factor of Earth\n",
    "    - condition: 'max' for sunlit or 'min' for eclipse condition\n",
    "\n",
    "    Returns:\n",
    "    - Temperature (K)\n"
   ]
  },
  {
   "cell_type": "code",
   "execution_count": 2,
   "metadata": {},
   "outputs": [
    {
     "name": "stdout",
     "output_type": "stream",
     "text": [
      "Maximum Temperature (sunlit condition): 546.80 K\n",
      "Minimum Temperature (eclipse condition): 257.91 K\n",
      "\n",
      "--- Input Values ---\n",
      "area: 72.0 m^2\n",
      "absorptivity to emissivity ratio: 3.0\n",
      "emissivity : 0.5\n",
      "absorptivity: 1.5\n",
      "power dissapation: 500.0 W\n",
      "angle: 0.0 degrees\n",
      "F: 0.6\n"
     ]
    }
   ],
   "source": [
    "\n",
    "import math\n",
    "\n",
    "# Constants\n",
    "STEFAN_BOLTZMANN_CONSTANT = 5.67e-8  # W/m^2 K^4\n",
    "SOLAR_CONSTANT = 1361  # W/m^2\n",
    "EARTH_IR_FLUX = 237  # W/m^2\n",
    "EARTH_ALBEDO_COEFFICIENT = 0.3\n",
    "\n",
    "def calculate_temperature(A, ratio, epsilon, P_diss, theta, view_factor, condition='max'):\n",
    "\n",
    "    # Calculate absorptivity based on the ratio\n",
    "    alpha = epsilon * ratio\n",
    "\n",
    "    if condition == 'max':\n",
    "        # Sunlit condition: direct solar, albedo, Earth IR, and internal power\n",
    "        Q_solar = A * alpha * SOLAR_CONSTANT * math.cos(math.radians(theta))\n",
    "        Q_albedo = A * alpha * SOLAR_CONSTANT * EARTH_ALBEDO_COEFFICIENT * view_factor\n",
    "        Q_IR = A * epsilon * EARTH_IR_FLUX\n",
    "        Q_in = Q_solar + Q_albedo + Q_IR + P_diss\n",
    "    elif condition == 'min':\n",
    "        # Eclipse condition: no direct solar, only Earth IR and internal power\n",
    "        Q_IR = A * epsilon * EARTH_IR_FLUX\n",
    "        Q_in = Q_IR + P_diss\n",
    "    else:\n",
    "        raise ValueError(\"Condition must be 'max' or 'min'\")\n",
    "\n",
    "    # Solve for temperature using Q_out = A * epsilon * sigma * T^4\n",
    "    T = (Q_in / (A * epsilon * STEFAN_BOLTZMANN_CONSTANT)) ** 0.25\n",
    "    return T\n",
    "\n",
    "# User inputs\n",
    "A = float(input(\"Enter the area exposed to the Sun (m^2): \"))\n",
    "ratio = float(input(\"Enter the absorptivity to emissivity ratio: \"))\n",
    "epsilon = float(input(\"Enter the emissivity of the satellite surface: \"))\n",
    "P_diss = float(input(\"Enter the internal power dissipation (W): \"))\n",
    "theta = float(input(\"Enter the angle between the surface normal and the Sun's direction (degrees): \"))\n",
    "view_factor = float(input(\"Enter the view factor of Earth: \"))\n",
    "\n",
    "# Calculate temperatures\n",
    "T_max = calculate_temperature(A, ratio, epsilon, P_diss, theta, view_factor, condition='max')\n",
    "T_min = calculate_temperature(A, ratio, epsilon, P_diss, theta, view_factor, condition='min')\n",
    "\n",
    "# Display results\n",
    "print(f\"Maximum Temperature (sunlit condition): {T_max:.2f} K\")\n",
    "print(f\"Minimum Temperature (eclipse condition): {T_min:.2f} K\")\n",
    "\n",
    "# Display input values in a formatted table\n",
    "print(\"\\n--- Input Values ---\")\n",
    "print(f\"area: {A} m^2\")\n",
    "print(f\"absorptivity to emissivity ratio: {ratio}\")\n",
    "print(f\"emissivity : {epsilon}\")\n",
    "print(f\"absorptivity: {epsilon * ratio}\")\n",
    "print(f\"power dissapation: {P_diss} W\")\n",
    "print(f\"angle: {theta} degrees\")\n",
    "print(f\"F: {view_factor}\")\n",
    "\n"
   ]
  }
 ],
 "metadata": {
  "kernelspec": {
   "display_name": "base",
   "language": "python",
   "name": "python3"
  },
  "language_info": {
   "codemirror_mode": {
    "name": "ipython",
    "version": 3
   },
   "file_extension": ".py",
   "mimetype": "text/x-python",
   "name": "python",
   "nbconvert_exporter": "python",
   "pygments_lexer": "ipython3",
   "version": "3.9.12"
  }
 },
 "nbformat": 4,
 "nbformat_minor": 2
}
