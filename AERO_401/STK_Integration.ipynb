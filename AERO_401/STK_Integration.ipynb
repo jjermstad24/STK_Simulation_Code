{
 "cells": [
  {
   "cell_type": "code",
   "execution_count": 1,
   "metadata": {},
   "outputs": [
    {
     "name": "stdout",
     "output_type": "stream",
     "text": [
      "Loading STK...\n",
      "--------------------------------------------------\n",
      "Loaded STK\n",
      "--------------------------------------------------\n",
      "Loading Scenario...\n",
      "--------------------------------------------------\n",
      "Loaded Scenario\n",
      "--------------------------------------------------\n",
      "Loading Targets...\n",
      "--------------------------------------------------\n",
      "Loaded Targets\n",
      "--------------------------------------------------\n"
     ]
    }
   ],
   "source": [
    "from STK_Sim import *\n",
    "import plotly.graph_objects as go\n",
    "from plotly.subplots import make_subplots\n",
    "import numpy as np\n",
    "\n",
    "Filename = 'AERO_401_Initial_Assessment'\n",
    "\n",
    "stk_object = STK_Simulation(GUI=True,Filename)\n",
    "stk_object.Target_Loader(0)"
   ]
  },
  {
   "cell_type": "code",
   "execution_count": 2,
   "metadata": {},
   "outputs": [
    {
     "name": "stdout",
     "output_type": "stream",
     "text": [
      "Loading Satellites...\n",
      "--------------------------------------------------\n",
      "Loaded Satellites\n",
      "--------------------------------------------------\n"
     ]
    }
   ],
   "source": [
    "Satellite_Load_Option=0\n",
    "Num_Satellites=12\n",
    "per_range=(100,1000)\n",
    "ago_range=(100,1000)\n",
    "inc_range=(45,90)\n",
    "aop_range=(45,90)\n",
    "asc_range=(45,90)\n",
    "loc_range=(45,90)\n",
    "stk_object.Satellite_Loader(Satellite_Load_Option,Num_Satellites,per_range,ago_range,inc_range,aop_range,asc_range,loc_range)"
   ]
  }
 ],
 "metadata": {
  "kernelspec": {
   "display_name": "Python 3",
   "language": "python",
   "name": "python3"
  },
  "language_info": {
   "codemirror_mode": {
    "name": "ipython",
    "version": 3
   },
   "file_extension": ".py",
   "mimetype": "text/x-python",
   "name": "python",
   "nbconvert_exporter": "python",
   "pygments_lexer": "ipython3",
   "version": "3.12.0"
  }
 },
 "nbformat": 4,
 "nbformat_minor": 2
}
