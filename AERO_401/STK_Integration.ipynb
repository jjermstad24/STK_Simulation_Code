{
 "cells": [
  {
   "cell_type": "code",
   "execution_count": 1,
   "metadata": {},
   "outputs": [
    {
     "name": "stdout",
     "output_type": "stream",
     "text": [
      "Loading STK...\n",
      "----------------------------------------------------------------------------------------------------\n",
      "Loaded STK\n",
      "----------------------------------------------------------------------------------------------------\n",
      "Loading Scenario...\n",
      "----------------------------------------------------------------------------------------------------\n",
      "Loaded Scenario\n",
      "----------------------------------------------------------------------------------------------------\n"
     ]
    }
   ],
   "source": [
    "from STK_Sim import *\n",
    "\n",
    "Filename = 'AERO_401_Initial_Assessment'\n",
    "\n",
    "stk_object = STK_Simulation(True,Filename)\n",
    "\n",
    "start_time = time_convert(stk_object.root.CurrentScenario.StartTime)\n",
    "dt = datetime.timedelta(days=1, seconds=0, microseconds=0, milliseconds=0, minutes=0, hours=0, weeks=0)\n",
    "stop_time=(start_time+dt).strftime(\"%d %b %Y %H:%M:%S.%f\")\n",
    "stk_object.root.CurrentScenario.StopTime=stop_time"
   ]
  },
  {
   "cell_type": "code",
   "execution_count": 2,
   "metadata": {},
   "outputs": [
    {
     "name": "stdout",
     "output_type": "stream",
     "text": [
      "Loading Targets...\n",
      "----------------------------------------------------------------------------------------------------\n",
      "----------------------------------------------------------------------------------------------------\n",
      "Loaded Targets\n",
      "           LAT      LON\n",
      "TAR##                  \n",
      "1      10.8082  33.8156\n",
      "2       2.1675  43.3405\n",
      "3      41.8441  64.1956\n",
      "4      81.8933  63.1415\n",
      "5      17.4575  15.1535\n",
      "6      89.4669  50.2139\n",
      "7      50.7925  22.4388\n",
      "8      82.9137  51.3838\n",
      "9      62.0530  12.2774\n",
      "10     58.7236   1.8884\n",
      "11     80.5024   9.3503\n",
      "12     37.5831  33.5028\n",
      "13     31.1283   0.1648\n",
      "14     64.9297  22.9369\n",
      "15     43.8052   5.4436\n"
     ]
    }
   ],
   "source": [
    "Target_Load_Option=0\n",
    "Num_Targets=15\n",
    "lon_range=(0,90)\n",
    "lat_range=(0,90) \n",
    "stk_object.Target_Loader(Target_Load_Option,Num_Targets,lon_range,lat_range)\n",
    "print(stk_object.Target_Initial_Data)"
   ]
  },
  {
   "cell_type": "code",
   "execution_count": 3,
   "metadata": {},
   "outputs": [
    {
     "name": "stdout",
     "output_type": "stream",
     "text": [
      "Loading Satellites...\n",
      "----------------------------------------------------------------------------------------------------\n",
      "Loaded Satellites\n",
      "----------------------------------------------------------------------------------------------------\n",
      "             REV          ALT         INC  AOP        ASC  LOC   TAR\n",
      "SAT##                                                               \n",
      "1      10.000000  2722.560987  110.074262  0.0   0.000000  0.0  True\n",
      "2      10.454545  2456.827228  108.024339  0.0   8.181818  0.0  True\n",
      "3      10.909091  2209.678762  106.270358  0.0  16.363636  0.0  True\n",
      "4      11.363636  1979.119505  104.756704  0.0  24.545455  0.0  True\n",
      "5      11.818182  1763.436745  103.440747  0.0  32.727273  0.0  True\n",
      "6      12.272727  1561.151854  102.289200  0.0  40.909091  0.0  True\n",
      "7      12.727273  1370.981024  101.275666  0.0  49.090909  0.0  True\n",
      "8      13.181818  1191.803738  100.378942  0.0  57.272727  0.0  True\n",
      "9      13.636364  1022.637213   99.581804  0.0  65.454545  0.0  True\n",
      "10     14.090909   862.615557   98.870121  0.0  73.636364  0.0  True\n",
      "11     14.545455   710.972627   98.232201  0.0  81.818182  0.0  True\n",
      "12     15.000000   567.027851   97.658295  0.0  90.000000  0.0  True\n"
     ]
    }
   ],
   "source": [
    "Satellite_Load_Option=1\n",
    "Num_Satellites=12\n",
    "Orbit = 'Circular'\n",
    "aop_range=(0,0)    #Shifts the satellite left and right in its same path\n",
    "asc_range=(0,90)    #Shifts the path left and right\n",
    "loc_range=(0,0)      #Shifts the satellite left and right in its same path\n",
    "targeting = True\n",
    "if Orbit == 'Circular':\n",
    "    rev_range=(10,15)\n",
    "    stk_object.Circular_Satellite_Loader(Satellite_Load_Option,Num_Satellites,rev_range,aop_range,asc_range,loc_range,targeting)\n",
    "else:\n",
    "    per_range=(600,600)\n",
    "    apo_range=(2000,2000)\n",
    "    inc_range=(75,75)\n",
    "    stk_object.Elliptical_Satellite_Loader(Satellite_Load_Option,Num_Satellites,per_range,apo_range,inc_range,aop_range,asc_range,loc_range,targeting)\n",
    "print(stk_object.Satellite_Initial_Data)"
   ]
  },
  {
   "cell_type": "code",
   "execution_count": 4,
   "metadata": {},
   "outputs": [
    {
     "name": "stdout",
     "output_type": "stream",
     "text": [
      "Computing Lifetimes...\n",
      "----------------------------------------------------------------------------------------------------\n",
      "Computed Lifetimes\n",
      "----------------------------------------------------------------------------------------------------\n",
      "        Orbits        Time\n",
      "SAT##                     \n",
      "1       >99999     -------\n",
      "2       >99999     -------\n",
      "3       >99999     -------\n",
      "4       >99999     -------\n",
      "5       >99999     -------\n",
      "6       >99999     -------\n",
      "7       >99999     -------\n",
      "8       >99999     -------\n",
      "9       >99999     -------\n",
      "0       >99999     -------\n",
      "1       >99999     -------\n",
      "2      66376.0  12.0 years\n"
     ]
    }
   ],
   "source": [
    "Cd=2.2\n",
    "Cr=1.0\n",
    "DragArea=13.65\n",
    "SunArea=15.43\n",
    "Mass=1000.0\n",
    "stk_object.Compute_Lifetime(Cd,Cr,DragArea,SunArea,Mass)\n",
    "print(stk_object.Lifetimes)"
   ]
  },
  {
   "cell_type": "markdown",
   "metadata": {},
   "source": [
    "Plotting Ground Track"
   ]
  },
  {
   "cell_type": "code",
   "execution_count": 5,
   "metadata": {},
   "outputs": [],
   "source": [
    "# dt = 60\n",
    "# stk_object.Plot(dt)"
   ]
  },
  {
   "cell_type": "code",
   "execution_count": 6,
   "metadata": {},
   "outputs": [
    {
     "name": "stdout",
     "output_type": "stream",
     "text": [
      "Computing AzEl\n",
      "----------------------------------------------------------------------------------------------------\n",
      "Computed Access\n",
      "----------------------------------------------------------------------------------------------------\n"
     ]
    }
   ],
   "source": [
    "dt = 60\n",
    "stk_object.Compute_AzEl(dt)"
   ]
  },
  {
   "cell_type": "code",
   "execution_count": 9,
   "metadata": {},
   "outputs": [],
   "source": [
    "fig=go.Figure()\n",
    "fig.update_layout(showlegend=False,scene=dict(\n",
    "                                                xaxis_title='Target Access',\n",
    "                                                yaxis_title='Azimuth (Increments of 10°)',\n",
    "                                                zaxis_title='Count',\n",
    "                                            ),)\n",
    "\n",
    "for j in stk_object.targets:\n",
    "    x=list(stk_object.targets.keys()).index(j)\n",
    "    y_list = []\n",
    "    z_list = []\n",
    "    for i in stk_object.satellites:\n",
    "        if f'{j}->{i}' in list(stk_object.AzEl_data.keys()):\n",
    "            df = stk_object.AzEl_data[f'{j}->{i}']\n",
    "            df = pd.DataFrame(df)\n",
    "            y=np.linspace(0,90,10)\n",
    "            z=np.histogram(df['Azimuth'].astype(float), bins=y, density=False)[0].tolist()\n",
    "            z=np.repeat(z,2).tolist()\n",
    "            z.insert(0,0)\n",
    "            z.pop()\n",
    "            y_list.extend(y)\n",
    "            z_list.extend(z)\n",
    "\n",
    "    fig.add_traces(go.Scatter3d(x=[x]*len(z), y=np.repeat(y,2), z=z,mode='lines',name=j))\n",
    "fig.update_traces(line={'width': 30})\n",
    "fig.show(renderer='browser')"
   ]
  },
  {
   "cell_type": "code",
   "execution_count": 10,
   "metadata": {},
   "outputs": [],
   "source": [
    "fig=go.Figure()\n",
    "fig.update_layout(showlegend=False,scene=dict(\n",
    "                                                xaxis_title='Target Access',\n",
    "                                                yaxis_title='Elevation (Increments of 10°)',\n",
    "                                                zaxis_title='Count',\n",
    "                                            ),)\n",
    "\n",
    "for j in stk_object.targets:\n",
    "    x=list(stk_object.targets.keys()).index(j)\n",
    "    y_list = []\n",
    "    z_list = []\n",
    "    for i in stk_object.satellites:\n",
    "        if f'{j}->{i}' in list(stk_object.AzEl_data.keys()):\n",
    "            df = stk_object.AzEl_data[f'{j}->{i}']\n",
    "            df = pd.DataFrame(df)\n",
    "            y=np.linspace(0,180,10)\n",
    "            z=np.histogram(df['Elevation'].astype(float), bins=y, density=False)[0].tolist()\n",
    "            z=np.repeat(z,2).tolist()\n",
    "            z.insert(0,0)\n",
    "            z.pop()\n",
    "            y_list.extend(y)\n",
    "            z_list.extend(z)\n",
    "\n",
    "    fig.add_traces(go.Scatter3d(x=[x]*len(z), y=np.repeat(y,2), z=z,mode='lines',name=j))\n",
    "fig.update_traces(line={'width': 30})\n",
    "fig.show(renderer='browser')"
   ]
  }
 ],
 "metadata": {
  "kernelspec": {
   "display_name": "Python 3",
   "language": "python",
   "name": "python3"
  },
  "language_info": {
   "codemirror_mode": {
    "name": "ipython",
    "version": 3
   },
   "file_extension": ".py",
   "mimetype": "text/x-python",
   "name": "python",
   "nbconvert_exporter": "python",
   "pygments_lexer": "ipython3",
   "version": "3.12.0"
  }
 },
 "nbformat": 4,
 "nbformat_minor": 2
}
