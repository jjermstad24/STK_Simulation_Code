{
 "cells": [
  {
   "cell_type": "code",
   "execution_count": 1,
   "metadata": {},
   "outputs": [
    {
     "name": "stdout",
     "output_type": "stream",
     "text": [
      "Loading STK...\n",
      "Loading Scenario...\n"
     ]
    }
   ],
   "source": [
    "from STK_Sim import *\n",
    "\n",
    "Filename = 'AERO_401_Initial_Assessment'\n",
    "\n",
    "stk_object = STK_Simulation(False,Filename)\n",
    "\n",
    "start_time = time_convert(stk_object.root.CurrentScenario.StartTime)\n",
    "dt = datetime.timedelta(days=1, seconds=0, microseconds=0, milliseconds=0, minutes=0, hours=0, weeks=0)\n",
    "stop_time=(start_time+dt).strftime(\"%d %b %Y %H:%M:%S.%f\")\n",
    "stk_object.root.CurrentScenario.StopTime=stop_time"
   ]
  },
  {
   "cell_type": "code",
   "execution_count": 2,
   "metadata": {},
   "outputs": [
    {
     "name": "stdout",
     "output_type": "stream",
     "text": [
      "Loading Targets...\n"
     ]
    }
   ],
   "source": [
    "stk_object.Target_Loader('Targets_File.txt')"
   ]
  },
  {
   "cell_type": "code",
   "execution_count": 3,
   "metadata": {},
   "outputs": [
    {
     "name": "stdout",
     "output_type": "stream",
     "text": [
      "Loading Satellites...\n"
     ]
    }
   ],
   "source": [
    "stk_object.Satellite_Loader('Satellites_File.txt')"
   ]
  },
  {
   "cell_type": "code",
   "execution_count": null,
   "metadata": {},
   "outputs": [],
   "source": [
    "Cd=2.2\n",
    "Cr=1.0\n",
    "DragArea=13.65\n",
    "SunArea=15.43\n",
    "Mass=100.0\n",
    "stk_object.Compute_Lifetime(Cd,Cr,DragArea,SunArea,Mass)\n",
    "print(stk_object.Lifetimes)"
   ]
  },
  {
   "cell_type": "markdown",
   "metadata": {},
   "source": [
    "Plotting Ground Track"
   ]
  },
  {
   "cell_type": "code",
   "execution_count": null,
   "metadata": {},
   "outputs": [],
   "source": [
    "# dt = 60\n",
    "# stk_object.Plot(dt)"
   ]
  },
  {
   "cell_type": "code",
   "execution_count": null,
   "metadata": {},
   "outputs": [],
   "source": [
    "dt = 60\n",
    "stk_object.Compute_AzEl(dt)"
   ]
  },
  {
   "cell_type": "code",
   "execution_count": null,
   "metadata": {},
   "outputs": [],
   "source": [
    "fig=go.Figure()\n",
    "fig.update_layout(showlegend=False,scene=dict(\n",
    "                                                xaxis_title='Target Access',\n",
    "                                                yaxis_title='Azimuth (Increments of 10°)',\n",
    "                                                zaxis_title='Count',\n",
    "                                            ),)\n",
    "\n",
    "for j in stk_object.targets:\n",
    "    x=list(stk_object.targets.keys()).index(j)\n",
    "    y_list = []\n",
    "    z_list = []\n",
    "    for i in stk_object.satellites:\n",
    "        if f'{j}->{i}' in list(stk_object.AzEl_data.keys()):\n",
    "            df = stk_object.AzEl_data[f'{j}->{i}']\n",
    "            df = pd.DataFrame(df)\n",
    "            y=np.linspace(0,90,10)\n",
    "            z=np.histogram(df['Azimuth'].astype(float), bins=y, density=False)[0].tolist()\n",
    "            z=np.repeat(z,2).tolist()\n",
    "            z.insert(0,0)\n",
    "            z.pop()\n",
    "            y_list.extend(y)\n",
    "            z_list.extend(z)\n",
    "\n",
    "    fig.add_traces(go.Scatter3d(x=[x]*len(z), y=np.repeat(y,2), z=z,mode='lines',name=j))\n",
    "fig.update_traces(line={'width': 5})\n",
    "fig.show(renderer='browser')"
   ]
  },
  {
   "cell_type": "code",
   "execution_count": null,
   "metadata": {},
   "outputs": [],
   "source": [
    "fig=go.Figure()\n",
    "fig.update_layout(showlegend=False,scene=dict(\n",
    "                                                xaxis_title='Target Access',\n",
    "                                                yaxis_title='Elevation (Increments of 10°)',\n",
    "                                                zaxis_title='Count',\n",
    "                                            ),)\n",
    "\n",
    "for j in stk_object.targets:\n",
    "    x=list(stk_object.targets.keys()).index(j)\n",
    "    y_list = []\n",
    "    z_list = []\n",
    "    for i in stk_object.satellites:\n",
    "        if f'{j}->{i}' in list(stk_object.AzEl_data.keys()):\n",
    "            df = stk_object.AzEl_data[f'{j}->{i}']\n",
    "            df = pd.DataFrame(df)\n",
    "            y=np.linspace(0,180,10)\n",
    "            z=np.histogram(df['Elevation'].astype(float), bins=y, density=False)[0].tolist()\n",
    "            z=np.repeat(z,2).tolist()\n",
    "            z.insert(0,0)\n",
    "            z.pop()\n",
    "            y_list.extend(y)\n",
    "            z_list.extend(z)\n",
    "\n",
    "    fig.add_traces(go.Scatter3d(x=[x]*len(z), y=np.repeat(y,2), z=z,mode='lines',name=j))\n",
    "fig.update_traces(line={'width': 5})\n",
    "fig.show(renderer='browser')"
   ]
  }
 ],
 "metadata": {
  "kernelspec": {
   "display_name": "Python 3",
   "language": "python",
   "name": "python3"
  },
  "language_info": {
   "codemirror_mode": {
    "name": "ipython",
    "version": 3
   },
   "file_extension": ".py",
   "mimetype": "text/x-python",
   "name": "python",
   "nbconvert_exporter": "python",
   "pygments_lexer": "ipython3",
   "version": "3.12.0"
  }
 },
 "nbformat": 4,
 "nbformat_minor": 2
}
