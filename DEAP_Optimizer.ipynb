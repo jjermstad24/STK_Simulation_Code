{
 "cells": [
  {
   "cell_type": "code",
   "execution_count": 1,
   "metadata": {},
   "outputs": [],
   "source": [
    "from STK_Sim import *\n",
    "\n",
    "Filename = 'AERO_402_Further_Assessment'\n",
    "\n",
    "stk_object = STK_Simulation(False,Filename)"
   ]
  },
  {
   "cell_type": "code",
   "execution_count": 39,
   "metadata": {},
   "outputs": [
    {
     "name": "stderr",
     "output_type": "stream",
     "text": [
      "c:\\Users\\jjfoo\\AppData\\Local\\Programs\\Python\\Python312\\Lib\\site-packages\\deap\\creator.py:185: RuntimeWarning:\n",
      "\n",
      "A class named 'FitnessMax' has already been created and it will be overwritten. Consider deleting previous creation of that class or rename it.\n",
      "\n",
      "c:\\Users\\jjfoo\\AppData\\Local\\Programs\\Python\\Python312\\Lib\\site-packages\\deap\\creator.py:185: RuntimeWarning:\n",
      "\n",
      "A class named 'Satellite' has already been created and it will be overwritten. Consider deleting previous creation of that class or rename it.\n",
      "\n"
     ]
    }
   ],
   "source": [
    "# Setting scenario time variables\n",
    "stk_object.root.UnitPreferences.SetCurrentUnit(\"DateFormat\", \"UTCG\")\n",
    "start_time = time_convert(stk_object.root.CurrentScenario.StartTime)\n",
    "duration = datetime.timedelta(days=1, seconds=0, microseconds=0, milliseconds=0, minutes=0, hours=0, weeks=0)\n",
    "stop_time=(start_time+duration).strftime(\"%d %b %Y %H:%M:%S.%f\")\n",
    "stk_object.root.CurrentScenario.StopTime=stop_time\n",
    "stk_object.root.UnitPreferences.SetCurrentUnit(\"DateFormat\", \"EpSec\")\n",
    "\n",
    "# All of these variables substantially change calculation time\n",
    "stk_object.dt = 30\n",
    "n_targets = 15\n",
    "n_sats = 12\n",
    "n_pop = 10\n",
    "n_gen = 5\n",
    "\n",
    "Opt = Optimizer(stk_object,n_pop,n_gen,n_sats)"
   ]
  },
  {
   "cell_type": "code",
   "execution_count": 8,
   "metadata": {},
   "outputs": [],
   "source": [
    "# Generating Targets\n",
    "\n",
    "# Generating a polygon to bound the lat/lon coordinates, you can create your polygon, in the same format as Targets_Polygon.txt.\n",
    "poly = Create_Poly('Input_Files/Targets_Polygon.txt')\n",
    "\n",
    "# Writing random points within the polygon to a target file.\n",
    "targets_filename = 'Input_Files/Targets_File.txt'\n",
    "polygon_random_points(poly,n_targets,targets_filename)\n",
    "\n",
    "# Loading targets into stk from file.\n",
    "stk_object.Target_Loader(targets_filename)\n",
    "\n",
    "# # Plotting the polygon and generated targets on the map.\n",
    "# plot_targets_and_polygon(poly,targets_filename)"
   ]
  },
  {
   "cell_type": "code",
   "execution_count": 40,
   "metadata": {},
   "outputs": [
    {
     "name": "stdout",
     "output_type": "stream",
     "text": [
      "-- Generation 0 --\n",
      "------------------------------------------------------------------------\n",
      "- Computing_AzEl [==========] 45/45 [100%] in 0.7s (65.32/s)                    \n",
      "------------------------------------------------------------------------\n",
      "- Computing_AzEl [==========] 75/75 [100%] in 0.7s (98.62/s)                    \n",
      "------------------------------------------------------------------------\n",
      "- Computing_AzEl [==========] 180/180 [100%] in 1.9s (89.98/s)                  \n",
      "------------------------------------------------------------------------\n",
      "- Computing_AzEl [==========] 120/120 [100%] in 2.9s (41.99/s)                  \n",
      "------------------------------------------------------------------------\n",
      "- Computing_AzEl [==========] 45/45 [100%] in 0.5s (97.17/s)                    \n",
      "------------------------------------------------------------------------\n",
      "- Computing_AzEl [==========] 165/165 [100%] in 3.8s (43.62/s)                   ▅▃▁ 147/165 [89%] in 3s (~0s, 43.7/s) \n",
      "         avg        std  min        max\n",
      "0  56.940329  46.499975  0.0  96.255144\n",
      "1   8.155719   6.350154  1.0  14.795536\n",
      "2   9.000000   3.714835  3.0  12.000000\n",
      "-- Generation 1 --\n",
      "------------------------------------------------------------------------\n",
      "- Computing_AzEl [==========] 45/45 [100%] in 0.6s (67.74/s)                    \n",
      "------------------------------------------------------------------------\n",
      "- Computing_AzEl [==========] 120/120 [100%] in 3.3s (37.40/s)                  \n",
      "------------------------------------------------------------------------\n",
      "- Computing_AzEl [==========] 180/180 [100%] in 2.1s (81.58/s)                  \n",
      "------------------------------------------------------------------------\n",
      "- Computing_AzEl [==========] 45/45 [100%] in 0.5s (91.10/s)                    \n",
      "------------------------------------------------------------------------\n",
      "- Computing_AzEl [==========] 165/165 [100%] in 3.4s (48.98/s)                  \n",
      "------------------------------------------------------------------------\n",
      "- Computing_AzEl [==========] 120/120 [100%] in 2.7s (45.91/s)                  ▃▅▇ 95/120 [79%] in 2s (~1s, 47.7/s) [==========] ▄▂▂ 117/120 [98%] in 3s (~0s, 46.5/s) \n",
      "------------------------------------------------------------------------\n",
      "- Computing_AzEl [==========] 90/90 [100%] in 1.0s (84.01/s)                    \n",
      "         avg       std        min        max\n",
      "0  96.384774  0.332042  95.925926  97.016461\n",
      "1   6.636741  2.343898   5.834093  13.668243\n",
      "2   7.600000  3.469870   3.000000  12.000000\n",
      "-- Generation 2 --\n",
      "------------------------------------------------------------------------\n",
      "- Computing_AzEl [==========] 120/120 [100%] in 2.5s (48.71/s)                  ▇▅▃ 27/120 [22%] in 1s (~2s, 45.6/s) [==>       ] ▄▂▂ 36/120 [30%] in 1s (~2s, 46.3/s) \n",
      "------------------------------------------------------------------------\n",
      "- Computing_AzEl [==========] 120/120 [100%] in 3.1s (39.01/s)                  [====>     ] ▄▆█ 50/120 [42%] in 1s (~2s, 40.8/s) [=========>] ▁▃▅ 113/120 [94%] in 3s (~0s, 39.8/s) \n",
      "------------------------------------------------------------------------\n",
      "- Computing_AzEl [==========] 120/120 [100%] in 2.9s (41.89/s)                  \n",
      "------------------------------------------------------------------------\n",
      "- Computing_AzEl [==========] 165/165 [100%] in 3.5s (47.34/s)                  ▄▆█ 51/165 [31%] in 1s (~3s, 45.4/s) [=======>  ] ▂▂▄ 125/165 [76%] in 3s (~1s, 47.6/s) \n",
      "------------------------------------------------------------------------\n",
      "- Computing_AzEl [==========] 45/45 [100%] in 0.6s (67.53/s)                    \n",
      "------------------------------------------------------------------------\n",
      "- Computing_AzEl [==========] 150/150 [100%] in 3.0s (50.13/s)                  \n",
      "------------------------------------------------------------------------\n",
      "- Computing_AzEl [==========] 165/165 [100%] in 3.7s (43.99/s)                  ▁▃▅ 45/165 [27%] in 1s (~3s, 45.9/s) [==>       ] ▃▅▇ 49/165 [30%] in 1s (~3s, 46.4/s) [===>      ] ▆█▆ 55/165 [33%] in 1s (~2s, 44.9/s) [======>   ] ▇▇▅ 100/165 [61%] in 2s (~2s, 44.6/s) \n",
      "------------------------------------------------------------------------\n",
      "- Computing_AzEl [==========] 180/180 [100%] in 2.0s (86.13/s)                  \n",
      "         avg        std  min        max\n",
      "0  77.676955  38.838505  0.0  97.160494\n",
      "1   3.956239   1.600479  1.0   5.883673\n",
      "2   9.500000   2.692582  3.0  12.000000\n",
      "-- Generation 3 --\n",
      "------------------------------------------------------------------------\n",
      "- Computing_AzEl [==========] 120/120 [100%] in 2.8s (43.46/s)                  ▃▁▃ 38/120 [32%] in 1s (~2s, 42.7/s) [===>      ] ▂▂▄ 41/120 [34%] in 1s (~2s, 43.4/s) [=====>    ] █▆▄ 67/120 [56%] in 1s (~1s, 46.2/s) [========> ] ▃▅▇ 94/120 [78%] in 2s (~1s, 46.1/s) \n",
      "------------------------------------------------------------------------\n",
      "- Computing_AzEl [==========] 120/120 [100%] in 2.9s (42.31/s)                  \n",
      "------------------------------------------------------------------------\n",
      "- Computing_AzEl [==========] 165/165 [100%] in 4.4s (38.30/s)                  \n",
      "------------------------------------------------------------------------\n",
      "- Computing_AzEl [==========] 45/45 [100%] in 1.0s (47.05/s)                    \n",
      "------------------------------------------------------------------------\n",
      "- Computing_AzEl [==========] 120/120 [100%] in 3.1s (39.62/s)                  ▆█▆ 55/120 [46%] in 1s (~2s, 38.4/s) \n",
      "------------------------------------------------------------------------\n",
      "- Computing_AzEl [==========] 180/180 [100%] in 2.0s (88.21/s)                  \n",
      "         avg        std  min        max\n",
      "0  87.923868  29.313895  0.0  98.477366\n",
      "1   3.950413   0.983796  1.0   4.307721\n",
      "2   8.600000   3.168596  3.0  12.000000\n",
      "-- Generation 4 --\n",
      "------------------------------------------------------------------------\n",
      "- Computing_AzEl [==========] 90/90 [100%] in 2.1s (42.90/s)                    \n",
      "------------------------------------------------------------------------\n",
      "- Computing_AzEl [==========] 165/165 [100%] in 4.5s (37.35/s)                  \n",
      "------------------------------------------------------------------------\n",
      "- Computing_AzEl [==========] 165/165 [100%] in 3.6s (45.06/s)                  \n",
      "------------------------------------------------------------------------\n",
      "- Computing_AzEl [==========] 165/165 [100%] in 4.0s (41.62/s)                   ▇▅▃ 138/165 [84%] in 3s (~1s, 43.0/s) \n",
      "------------------------------------------------------------------------\n",
      "- Computing_AzEl [==========] 165/165 [100%] in 2.5s (62.25/s)                  \n",
      "------------------------------------------------------------------------\n",
      "- Computing_AzEl [==========] 120/120 [100%] in 3.0s (41.41/s)                  \n",
      "------------------------------------------------------------------------\n",
      "- Computing_AzEl [==========] 120/120 [100%] in 2.9s (41.56/s)                  █▆▄ 59/120 [49%] in 1s (~2s, 40.6/s) \n",
      "------------------------------------------------------------------------\n",
      "- Computing_AzEl [==========] 120/120 [100%] in 2.8s (43.53/s)                  \n",
      "------------------------------------------------------------------------\n",
      "- Computing_AzEl [==========] 45/45 [100%] in 2.4s (20.01/s)                    \n",
      "------------------------------------------------------------------------\n",
      "- Computing_AzEl [==========] 165/165 [100%] in 1.8s (82.85/s)                  \n",
      "         avg       std        min        max\n",
      "0  99.397119  0.321284  98.477366  99.588477\n",
      "1   3.120360  0.380469   2.982156   4.260788\n",
      "2   8.800000  2.600000   3.000000  11.000000\n",
      "-- Generation 5 --\n",
      "------------------------------------------------------------------------\n",
      "- Computing_AzEl [==========] 165/165 [100%] in 2.6s (59.17/s)                  \n",
      "------------------------------------------------------------------------\n",
      "- Computing_AzEl [==========] 150/150 [100%] in 3.4s (44.79/s)                  ▇▇▅ 60/150 [40%] in 1s (~2s, 42.1/s) [========> ] ▃▁▃ 127/150 [85%] in 3s (~1s, 45.9/s) \n",
      "------------------------------------------------------------------------\n",
      "- Computing_AzEl [==========] 120/120 [100%] in 2.8s (43.09/s)                  \n",
      "------------------------------------------------------------------------\n",
      "- Computing_AzEl [==========] 165/165 [100%] in 1.7s (94.15/s)                   ▃▁▃ 75/165 [45%] in 1s (~1s, 147.1/s) \n",
      "------------------------------------------------------------------------\n",
      "- Computing_AzEl [==========] 165/165 [100%] in 2.9s (55.89/s)                  [======>   ] ▃▅▇ 103/165 [62%] in 2s (~1s, 55.0/s) [=======>  ] █▆▄ 115/165 [70%] in 2s (~1s, 53.6/s) \n",
      "------------------------------------------------------------------------\n",
      "- Computing_AzEl [==========] 165/165 [100%] in 4.3s (37.55/s)                  \n",
      "------------------------------------------------------------------------\n",
      "- Computing_AzEl [==========] 30/30 [100%] in 0.7s (43.55/s)                    \n",
      "------------------------------------------------------------------------\n",
      "- Computing_AzEl [==========] 45/45 [100%] in 1.0s (44.06/s)                    \n",
      "------------------------------------------------------------------------\n",
      "- Computing_AzEl [==========] 45/45 [100%] in 1.0s (44.98/s)                    \n",
      "         avg        std  min        max\n",
      "0  89.711934  29.904021  0.0  99.753086\n",
      "1   2.843782   0.614927  1.0   3.059713\n",
      "2   8.200000   3.762978  2.0  12.000000\n",
      "------------------------------------------------------------------------\n",
      "------------------------------------------------------------------------\n",
      "- Computing_AzEl [==========] 30/30 [100%] in 0.8s (38.13/s)                    \n",
      "   Gen        avg        std        min        max\n",
      "0    0  56.940329  46.499975   0.000000  96.255144\n",
      "1    1  96.384774   0.332042  95.925926  97.016461\n",
      "2    2  77.676955  38.838505   0.000000  97.160494\n",
      "3    3  87.923868  29.313895   0.000000  98.477366\n",
      "4    4  99.397119   0.321284  98.477366  99.588477\n",
      "5    5  89.711934  29.904021   0.000000  99.753086\n"
     ]
    }
   ],
   "source": [
    "# Calling optimizer object and running optimization\n",
    "\n",
    "stk_object.dt = 30\n",
    "stk_object.Interpolate = True\n",
    "hof,percent,times,sats = Opt.run()\n",
    "Opt.cost_function(hof[0])\n",
    "print(pd.DataFrame(percent))"
   ]
  },
  {
   "cell_type": "code",
   "execution_count": 57,
   "metadata": {},
   "outputs": [
    {
     "name": "stdout",
     "output_type": "stream",
     "text": [
      "[551, 114.06693387905179, 155, 2.489980685706235, 1.7096504479575423]\n",
      "------------------------------------------------------------------------\n",
      "- Computing_AzEl [==========] 30/30 [100%] in 0.8s (37.43/s)                    \n",
      "Satellite_0 decay is estimated to be on 21 Nov 2025 10:57:35.191 after 6844 orbits.The lifetime is 1.2 years.\n",
      "Satellite_1 decay is estimated to be on 21 Nov 2025 10:57:35.192 after 6844 orbits.The lifetime is 1.2 years.\n",
      "[582.0239235695132, 72.29799544275846, 94.1719377761291, 3.590134616506697, 3.938285747848024]\n",
      "------------------------------------------------------------------------\n",
      "- Computing_AzEl [==========] 45/45 [100%] in 1.2s (39.63/s)                    ▃▅ 41/45 [91%] in 1s (~0s, 40.1/s) \n",
      "Satellite_0 decay is estimated to be on 16 Nov 2026 23:42:04.491 after 12277 orbits.The lifetime is 2.2 years.\n",
      "Satellite_1 decay is estimated to be on 19 Nov 2026 19:20:14.425 after 12319 orbits.The lifetime is 2.2 years.\n",
      "Satellite_2 decay is estimated to be on 18 Nov 2026 10:55:13.969 after 12299 orbits.The lifetime is 2.2 years.\n",
      "[565.2716022610289, 72.29799544275846, 94.1719377761291, 8, 1.4470668914028058]\n",
      "------------------------------------------------------------------------\n",
      "- Computing_AzEl [==========] 120/120 [100%] in 3.1s (39.47/s)                  \n",
      "Satellite_0 decay is estimated to be on 22 Apr 2026 08:35:22.363 after 9133 orbits.The lifetime is 1.6 years.\n",
      "Satellite_1 decay is estimated to be on 22 Apr 2026 08:17:48.078 after 9133 orbits.The lifetime is 1.6 years.\n",
      "Satellite_2 decay is estimated to be on 22 Apr 2026 08:04:05.269 after 9133 orbits.The lifetime is 1.6 years.\n",
      "Satellite_3 decay is estimated to be on 22 Apr 2026 13:57:36.522 after 9137 orbits.The lifetime is 1.6 years.\n",
      "Satellite_4 decay is estimated to be on 22 Apr 2026 09:12:48.007 after 9134 orbits.The lifetime is 1.6 years.\n",
      "Satellite_5 decay is estimated to be on 22 Apr 2026 08:57:50.803 after 9134 orbits.The lifetime is 1.6 years.\n",
      "Satellite_6 decay is estimated to be on 22 Apr 2026 10:17:39.912 after 9134 orbits.The lifetime is 1.6 years.\n",
      "Satellite_7 decay is estimated to be on 22 Apr 2026 08:35:21.772 after 9133 orbits.The lifetime is 1.6 years.\n",
      "[539.4146977359081, 83.32154200037131, 101.22100952343203, 10.80928212011828, 2.955648625317151]\n",
      "------------------------------------------------------------------------\n",
      "- Computing_AzEl [==========] 150/150 [100%] in 3.6s (42.26/s)                  \n",
      "Satellite_0 decay is estimated to be on 2 Nov 2025 06:08:44.596 after 6569 orbits.The lifetime is 1.2 years.\n",
      "Satellite_1 decay is estimated to be on 2 Nov 2025 07:19:16.872 after 6570 orbits.The lifetime is 1.2 years.\n",
      "Satellite_2 decay is estimated to be on 2 Nov 2025 07:05:29.291 after 6570 orbits.The lifetime is 1.2 years.\n",
      "Satellite_3 decay is estimated to be on 2 Nov 2025 06:24:29.778 after 6569 orbits.The lifetime is 1.2 years.\n",
      "Satellite_4 decay is estimated to be on 2 Nov 2025 06:08:44.596 after 6569 orbits.The lifetime is 1.2 years.\n",
      "Satellite_5 decay is estimated to be on 1 Nov 2025 20:02:03.894 after 6563 orbits.The lifetime is 1.2 years.\n",
      "Satellite_6 decay is estimated to be on 1 Nov 2025 19:43:46.827 after 6563 orbits.The lifetime is 1.2 years.\n",
      "Satellite_7 decay is estimated to be on 1 Nov 2025 22:31:14.772 after 6565 orbits.The lifetime is 1.2 years.\n",
      "Satellite_8 decay is estimated to be on 1 Nov 2025 18:48:07.168 after 6562 orbits.The lifetime is 1.2 years.\n",
      "Satellite_9 decay is estimated to be on 1 Nov 2025 18:30:44.147 after 6562 orbits.The lifetime is 1.2 years.\n",
      "[582.0239235695132, 123.51831645277774, 94.1719377761291, 11.626971314306926, 3.938285747848024]\n",
      "------------------------------------------------------------------------\n",
      "- Computing_AzEl [==========] 165/165 [100%] in 3.9s (42.52/s)                  ▇▇▅ 99/165 [60%] in 2s (~2s, 42.1/s) [========> ] ▇▅▃ 142/165 [86%] in 3s (~1s, 42.9/s) \n",
      "Satellite_0 decay is estimated to be on 27 May 2026 14:44:54.951 after 9637 orbits.The lifetime is 1.7 years.\n",
      "Satellite_1 decay is estimated to be on 27 May 2026 14:27:56.853 after 9637 orbits.The lifetime is 1.7 years.\n",
      "Satellite_2 decay is estimated to be on 27 May 2026 15:31:04.602 after 9638 orbits.The lifetime is 1.7 years.\n",
      "Satellite_3 decay is estimated to be on 27 May 2026 14:47:22.243 after 9637 orbits.The lifetime is 1.7 years.\n",
      "Satellite_4 decay is estimated to be on 27 May 2026 01:26:06.280 after 9629 orbits.The lifetime is 1.7 years.\n",
      "Satellite_5 decay is estimated to be on 26 May 2026 21:48:26.511 after 9627 orbits.The lifetime is 1.7 years.\n",
      "Satellite_6 decay is estimated to be on 26 May 2026 21:08:44.371 after 9627 orbits.The lifetime is 1.7 years.\n",
      "Satellite_7 decay is estimated to be on 27 May 2026 01:26:06.280 after 9629 orbits.The lifetime is 1.7 years.\n",
      "Satellite_8 decay is estimated to be on 30 May 2026 10:35:32.156 after 9680 orbits.The lifetime is 1.7 years.\n",
      "Satellite_9 decay is estimated to be on 30 May 2026 04:49:56.694 after 9677 orbits.The lifetime is 1.7 years.\n",
      "Satellite_10 decay is estimated to be on 30 May 2026 10:35:32.156 after 9680 orbits.The lifetime is 1.7 years.\n"
     ]
    }
   ],
   "source": [
    "from requirements.OCD_1_1 import Check_Lifetime\n",
    "\n",
    "for h in hof:\n",
    "    print(h)\n",
    "    Opt.cost_function(h)\n",
    "    Check_Lifetime(stk_object).run()"
   ]
  },
  {
   "cell_type": "code",
   "execution_count": 56,
   "metadata": {},
   "outputs": [
    {
     "name": "stdout",
     "output_type": "stream",
     "text": [
      "Satellite_0 decay is estimated to be on 16 Nov 2026 23:42:04.491 after 12277 orbits.The lifetime is 2.2 years.\n",
      "Satellite_1 decay is estimated to be on 19 Nov 2026 19:20:14.425 after 12319 orbits.The lifetime is 2.2 years.\n",
      "Satellite_2 decay is estimated to be on 18 Nov 2026 10:55:13.969 after 12299 orbits.The lifetime is 2.2 years.\n"
     ]
    }
   ],
   "source": []
  },
  {
   "cell_type": "code",
   "execution_count": 10,
   "metadata": {},
   "outputs": [
    {
     "name": "stdout",
     "output_type": "stream",
     "text": [
      "------------------------------------------------------------------------\n",
      "- Computing_AzEl [==========] 30/30 [100%] in 15.7s (1.87/s)                    [=====>    ] ▅▃▁ 15/30 [50%] in 9s (~9s, 1.7/s) \n"
     ]
    }
   ],
   "source": [
    "# Comparing high data rate w/ no interpolation to low data rate w/ interpolation data\n",
    "\n",
    "stk_object.root.UnitPreferences.SetCurrentUnit(\"DateFormat\", \"UTCG\")\n",
    "start_time = time_convert(stk_object.root.CurrentScenario.StartTime)\n",
    "duration = datetime.timedelta(days=30, seconds=0, microseconds=0, milliseconds=0, minutes=0, hours=0, weeks=0)\n",
    "stop_time=(start_time+duration).strftime(\"%d %b %Y %H:%M:%S.%f\")\n",
    "stk_object.root.CurrentScenario.StopTime=stop_time\n",
    "stk_object.root.UnitPreferences.SetCurrentUnit(\"DateFormat\", \"EpSec\")\n",
    "\n",
    "t_interp = time.time()\n",
    "\n",
    "stk_object.dt = 30\n",
    "stk_object.Interpolate = True\n",
    "p1,t1,s1=Opt.cost_function(write=False)\n",
    "\n",
    "interpolated_target_bins = stk_object.target_bins.copy()\n",
    "\n",
    "t_interp = time.time()-t_interp\n",
    "\n",
    "# t_sim = time.time()\n",
    "# stk_object.dt = 2.5\n",
    "# stk_object.Interpolate = False\n",
    "# p2,t2,s2=Opt.cost_function(write=False)\n",
    "\n",
    "# t_sim = time.time()-t_sim\n",
    "\n",
    "# target_bins = stk_object.target_bins.copy()"
   ]
  },
  {
   "cell_type": "code",
   "execution_count": 28,
   "metadata": {},
   "outputs": [
    {
     "data": {
      "application/vnd.plotly.v1+json": {
       "config": {
        "plotlyServerURL": "https://plot.ly"
       },
       "data": [
        {
         "coloraxis": "coloraxis",
         "hovertemplate": "x: %{x}<br>y: %{y}<br>color: %{z}<extra></extra>",
         "name": "0",
         "type": "heatmap",
         "xaxis": "x",
         "yaxis": "y",
         "z": [
          [
           0,
           0,
           0,
           0,
           0,
           0,
           10,
           12,
           12,
           12,
           12,
           12,
           12,
           12,
           12,
           0,
           0,
           0,
           0,
           0,
           0,
           0,
           0,
           0,
           0,
           0,
           0,
           0,
           0,
           0,
           0,
           0,
           0,
           0,
           0,
           0
          ],
          [
           3,
           3,
           15,
           13,
           13,
           13,
           3,
           1,
           1,
           1,
           0,
           0,
           0,
           0,
           0,
           12,
           12,
           12,
           0,
           0,
           0,
           0,
           0,
           0,
           0,
           0,
           2,
           2,
           2,
           2,
           2,
           2,
           2,
           2,
           3,
           3
          ],
          [
           0,
           0,
           14,
           2,
           0,
           0,
           0,
           0,
           0,
           2,
           2,
           1,
           1,
           1,
           1,
           1,
           1,
           5,
           13,
           0,
           0,
           0,
           10,
           10,
           10,
           12,
           12,
           10,
           10,
           10,
           0,
           0,
           1,
           1,
           0,
           0
          ],
          [
           3,
           14,
           14,
           4,
           16,
           14,
           14,
           13,
           13,
           4,
           1,
           1,
           0,
           0,
           0,
           0,
           0,
           0,
           13,
           3,
           12,
           12,
           12,
           2,
           4,
           4,
           2,
           10,
           10,
           20,
           21,
           21,
           2,
           1,
           1,
           3
          ],
          [
           1,
           14,
           13,
           12,
           14,
           0,
           3,
           3,
           2,
           12,
           12,
           13,
           0,
           2,
           4,
           11,
           16,
           24,
           36,
           28,
           17,
           6,
           2,
           0,
           12,
           10,
           12,
           12,
           3,
           1,
           0,
           21,
           20,
           14,
           4,
           2
          ],
          [
           18,
           30,
           7,
           4,
           5,
           22,
           21,
           10,
           12,
           14,
           12,
           29,
           39,
           28,
           36,
           34,
           37,
           30,
           51,
           48,
           31,
           33,
           25,
           24,
           27,
           13,
           14,
           13,
           15,
           14,
           14,
           3,
           15,
           28,
           14,
           16
          ],
          [
           22,
           22,
           11,
           24,
           28,
           24,
           13,
           13,
           12,
           14,
           19,
           36,
           62,
           134,
           161,
           173,
           184,
           192,
           206,
           187,
           168,
           157,
           134,
           66,
           46,
           11,
           2,
           13,
           15,
           16,
           27,
           31,
           30,
           25,
           2,
           22
          ],
          [
           44,
           34,
           32,
           44,
           40,
           30,
           29,
           30,
           26,
           47,
           133,
           222,
           256,
           258,
           219,
           190,
           170,
           173,
           191,
           156,
           185,
           215,
           253,
           224,
           219,
           129,
           57,
           34,
           26,
           22,
           29,
           38,
           34,
           54,
           32,
           44
          ],
          [
           110,
           132,
           96,
           68,
           61,
           56,
           51,
           46,
           170,
           281,
           315,
           281,
           253,
           232,
           232,
           232,
           206,
           206,
           232,
           230,
           235,
           223,
           224,
           247,
           299,
           310,
           264,
           166,
           45,
           50,
           55,
           72,
           64,
           90,
           132,
           110
          ]
         ]
        }
       ],
       "frames": [
        {
         "data": [
          {
           "coloraxis": "coloraxis",
           "name": "0",
           "type": "heatmap",
           "z": [
            [
             0,
             0,
             0,
             0,
             0,
             0,
             10,
             12,
             12,
             12,
             12,
             12,
             12,
             12,
             12,
             0,
             0,
             0,
             0,
             0,
             0,
             0,
             0,
             0,
             0,
             0,
             0,
             0,
             0,
             0,
             0,
             0,
             0,
             0,
             0,
             0
            ],
            [
             3,
             3,
             15,
             13,
             13,
             13,
             3,
             1,
             1,
             1,
             0,
             0,
             0,
             0,
             0,
             12,
             12,
             12,
             0,
             0,
             0,
             0,
             0,
             0,
             0,
             0,
             2,
             2,
             2,
             2,
             2,
             2,
             2,
             2,
             3,
             3
            ],
            [
             0,
             0,
             14,
             2,
             0,
             0,
             0,
             0,
             0,
             2,
             2,
             1,
             1,
             1,
             1,
             1,
             1,
             5,
             13,
             0,
             0,
             0,
             10,
             10,
             10,
             12,
             12,
             10,
             10,
             10,
             0,
             0,
             1,
             1,
             0,
             0
            ],
            [
             3,
             14,
             14,
             4,
             16,
             14,
             14,
             13,
             13,
             4,
             1,
             1,
             0,
             0,
             0,
             0,
             0,
             0,
             13,
             3,
             12,
             12,
             12,
             2,
             4,
             4,
             2,
             10,
             10,
             20,
             21,
             21,
             2,
             1,
             1,
             3
            ],
            [
             1,
             14,
             13,
             12,
             14,
             0,
             3,
             3,
             2,
             12,
             12,
             13,
             0,
             2,
             4,
             11,
             16,
             24,
             36,
             28,
             17,
             6,
             2,
             0,
             12,
             10,
             12,
             12,
             3,
             1,
             0,
             21,
             20,
             14,
             4,
             2
            ],
            [
             18,
             30,
             7,
             4,
             5,
             22,
             21,
             10,
             12,
             14,
             12,
             29,
             39,
             28,
             36,
             34,
             37,
             30,
             51,
             48,
             31,
             33,
             25,
             24,
             27,
             13,
             14,
             13,
             15,
             14,
             14,
             3,
             15,
             28,
             14,
             16
            ],
            [
             22,
             22,
             11,
             24,
             28,
             24,
             13,
             13,
             12,
             14,
             19,
             36,
             62,
             134,
             161,
             173,
             184,
             192,
             206,
             187,
             168,
             157,
             134,
             66,
             46,
             11,
             2,
             13,
             15,
             16,
             27,
             31,
             30,
             25,
             2,
             22
            ],
            [
             44,
             34,
             32,
             44,
             40,
             30,
             29,
             30,
             26,
             47,
             133,
             222,
             256,
             258,
             219,
             190,
             170,
             173,
             191,
             156,
             185,
             215,
             253,
             224,
             219,
             129,
             57,
             34,
             26,
             22,
             29,
             38,
             34,
             54,
             32,
             44
            ],
            [
             110,
             132,
             96,
             68,
             61,
             56,
             51,
             46,
             170,
             281,
             315,
             281,
             253,
             232,
             232,
             232,
             206,
             206,
             232,
             230,
             235,
             223,
             224,
             247,
             299,
             310,
             264,
             166,
             45,
             50,
             55,
             72,
             64,
             90,
             132,
             110
            ]
           ]
          }
         ],
         "layout": {
          "coloraxis": {
           "cmax": 1,
           "cmin": 0,
           "colorscale": [
            [
             0,
             "rgb(255,255,255)"
            ],
            [
             0.125,
             "rgb(240,240,240)"
            ],
            [
             0.25,
             "rgb(217,217,217)"
            ],
            [
             0.375,
             "rgb(189,189,189)"
            ],
            [
             0.5,
             "rgb(150,150,150)"
            ],
            [
             0.625,
             "rgb(115,115,115)"
            ],
            [
             0.75,
             "rgb(82,82,82)"
            ],
            [
             0.875,
             "rgb(37,37,37)"
            ],
            [
             1,
             "rgb(0,0,0)"
            ]
           ]
          },
          "margin": {
           "t": 60
          },
          "xaxis": {
           "constrain": "domain",
           "scaleanchor": "y"
          },
          "yaxis": {
           "autorange": "reversed",
           "constrain": "domain"
          }
         },
         "name": "0"
        },
        {
         "data": [
          {
           "coloraxis": "coloraxis",
           "name": "1",
           "type": "heatmap",
           "z": [
            [
             2,
             2,
             0,
             2,
             0,
             2,
             2,
             0,
             2,
             0,
             0,
             2,
             2,
             4,
             2,
             4,
             2,
             4,
             2,
             9,
             5,
             9,
             7,
             5,
             7,
             5,
             7,
             10,
             16,
             4,
             2,
             2,
             2,
             4,
             4,
             2
            ],
            [
             15,
             10,
             8,
             8,
             10,
             10,
             10,
             12,
             10,
             12,
             12,
             10,
             8,
             6,
             11,
             15,
             17,
             22,
             31,
             24,
             22,
             34,
             36,
             34,
             34,
             34,
             39,
             30,
             30,
             33,
             32,
             28,
             30,
             28,
             18,
             18
            ],
            [
             24,
             22,
             19,
             14,
             12,
             10,
             11,
             13,
             16,
             14,
             16,
             14,
             12,
             15,
             21,
             20,
             26,
             23,
             15,
             10,
             22,
             16,
             4,
             4,
             11,
             13,
             22,
             28,
             31,
             30,
             24,
             17,
             17,
             27,
             27,
             19
            ],
            [
             26,
             30,
             27,
             20,
             15,
             14,
             18,
             16,
             15,
             14,
             12,
             14,
             12,
             15,
             14,
             28,
             27,
             15,
             15,
             23,
             22,
             15,
             11,
             28,
             26,
             30,
             35,
             30,
             28,
             32,
             35,
             10,
             10,
             14,
             24,
             37
            ],
            [
             27,
             37,
             35,
             33,
             31,
             39,
             43,
             37,
             25,
             37,
             44,
             38,
             28,
             31,
             28,
             38,
             26,
             19,
             22,
             40,
             24,
             35,
             28,
             33,
             27,
             35,
             25,
             15,
             18,
             22,
             48,
             43,
             35,
             27,
             34,
             45
            ],
            [
             57,
             52,
             62,
             54,
             48,
             45,
             39,
             52,
             58,
             51,
             33,
             38,
             36,
             41,
             25,
             26,
             25,
             39,
             40,
             49,
             44,
             39,
             26,
             33,
             37,
             31,
             25,
             35,
             37,
             28,
             31,
             40,
             50,
             53,
             60,
             73
            ],
            [
             113,
             101,
             86,
             63,
             47,
             50,
             51,
             74,
             76,
             69,
             62,
             41,
             37,
             52,
             65,
             48,
             47,
             42,
             51,
             74,
             52,
             41,
             37,
             46,
             61,
             69,
             65,
             63,
             71,
             76,
             72,
             79,
             74,
             105,
             111,
             117
            ],
            [
             193,
             175,
             155,
             147,
             123,
             122,
             127,
             110,
             82,
             74,
             93,
             84,
             66,
             57,
             68,
             57,
             60,
             66,
             87,
             80,
             64,
             59,
             70,
             64,
             63,
             77,
             95,
             113,
             104,
             94,
             88,
             129,
             141,
             192,
             174,
             177
            ],
            [
             250,
             242,
             305,
             327,
             241,
             223,
             192,
             188,
             164,
             143,
             125,
             111,
             112,
             88,
             112,
             122,
             103,
             93,
             120,
             85,
             89,
             105,
             109,
             90,
             106,
             135,
             142,
             148,
             172,
             203,
             227,
             233,
             321,
             296,
             260,
             252
            ]
           ]
          }
         ],
         "layout": {
          "coloraxis": {
           "cmax": 1,
           "cmin": 0,
           "colorscale": [
            [
             0,
             "rgb(255,255,255)"
            ],
            [
             0.125,
             "rgb(240,240,240)"
            ],
            [
             0.25,
             "rgb(217,217,217)"
            ],
            [
             0.375,
             "rgb(189,189,189)"
            ],
            [
             0.5,
             "rgb(150,150,150)"
            ],
            [
             0.625,
             "rgb(115,115,115)"
            ],
            [
             0.75,
             "rgb(82,82,82)"
            ],
            [
             0.875,
             "rgb(37,37,37)"
            ],
            [
             1,
             "rgb(0,0,0)"
            ]
           ]
          },
          "margin": {
           "t": 60
          },
          "xaxis": {
           "constrain": "domain",
           "scaleanchor": "y"
          },
          "yaxis": {
           "autorange": "reversed",
           "constrain": "domain"
          }
         },
         "name": "1"
        },
        {
         "data": [
          {
           "coloraxis": "coloraxis",
           "name": "2",
           "type": "heatmap",
           "z": [
            [
             4,
             4,
             4,
             16,
             14,
             16,
             16,
             12,
             12,
             12,
             16,
             4,
             6,
             8,
             6,
             8,
             8,
             6,
             4,
             4,
             2,
             6,
             2,
             4,
             2,
             6,
             4,
             2,
             4,
             4,
             2,
             2,
             2,
             0,
             4,
             4
            ],
            [
             8,
             24,
             29,
             27,
             15,
             17,
             17,
             21,
             27,
             23,
             19,
             29,
             25,
             30,
             28,
             29,
             17,
             16,
             19,
             19,
             15,
             11,
             9,
             9,
             9,
             9,
             9,
             10,
             11,
             9,
             11,
             9,
             13,
             15,
             15,
             17
            ],
            [
             40,
             28,
             18,
             18,
             18,
             24,
             27,
             32,
             32,
             30,
             25,
             18,
             14,
             11,
             11,
             29,
             26,
             18,
             18,
             22,
             17,
             17,
             13,
             11,
             11,
             16,
             16,
             18,
             17,
             13,
             12,
             14,
             14,
             18,
             17,
             24
            ],
            [
             39,
             22,
             17,
             10,
             12,
             31,
             31,
             34,
             39,
             39,
             36,
             31,
             22,
             20,
             8,
             20,
             27,
             17,
             15,
             19,
             18,
             20,
             18,
             10,
             19,
             15,
             14,
             16,
             17,
             18,
             20,
             12,
             16,
             19,
             27,
             28
            ],
            [
             42,
             30,
             33,
             38,
             35,
             37,
             30,
             26,
             20,
             16,
             22,
             32,
             21,
             25,
             28,
             21,
             28,
             27,
             28,
             22,
             28,
             23,
             20,
             27,
             27,
             30,
             32,
             26,
             38,
             44,
             48,
             33,
             43,
             49,
             48,
             42
            ],
            [
             67,
             57,
             65,
             64,
             42,
             47,
             52,
             34,
             33,
             26,
             41,
             41,
             41,
             25,
             37,
             48,
             45,
             44,
             24,
             31,
             31,
             29,
             34,
             45,
             48,
             47,
             52,
             50,
             46,
             36,
             43,
             46,
             41,
             54,
             51,
             69
            ],
            [
             104,
             116,
             99,
             73,
             75,
             65,
             73,
             71,
             80,
             65,
             64,
             51,
             48,
             35,
             37,
             59,
             60,
             65,
             49,
             52,
             57,
             57,
             47,
             48,
             35,
             45,
             83,
             78,
             77,
             47,
             51,
             59,
             71,
             103,
             95,
             107
            ],
            [
             176,
             188,
             177,
             152,
             137,
             100,
             90,
             102,
             106,
             96,
             88,
             76,
             67,
             71,
             66,
             58,
             67,
             100,
             74,
             67,
             60,
             63,
             58,
             69,
             73,
             91,
             97,
             76,
             109,
             113,
             105,
             123,
             154,
             160,
             170,
             204
            ],
            [
             229,
             254,
             289,
             303,
             246,
             216,
             197,
             184,
             145,
             141,
             142,
             107,
             87,
             115,
             102,
             78,
             91,
             122,
             77,
             99,
             117,
             107,
             91,
             107,
             113,
             127,
             136,
             150,
             180,
             207,
             228,
             248,
             327,
             299,
             238,
             232
            ]
           ]
          }
         ],
         "layout": {
          "coloraxis": {
           "cmax": 1,
           "cmin": 0,
           "colorscale": [
            [
             0,
             "rgb(255,255,255)"
            ],
            [
             0.125,
             "rgb(240,240,240)"
            ],
            [
             0.25,
             "rgb(217,217,217)"
            ],
            [
             0.375,
             "rgb(189,189,189)"
            ],
            [
             0.5,
             "rgb(150,150,150)"
            ],
            [
             0.625,
             "rgb(115,115,115)"
            ],
            [
             0.75,
             "rgb(82,82,82)"
            ],
            [
             0.875,
             "rgb(37,37,37)"
            ],
            [
             1,
             "rgb(0,0,0)"
            ]
           ]
          },
          "margin": {
           "t": 60
          },
          "xaxis": {
           "constrain": "domain",
           "scaleanchor": "y"
          },
          "yaxis": {
           "autorange": "reversed",
           "constrain": "domain"
          }
         },
         "name": "2"
        },
        {
         "data": [
          {
           "coloraxis": "coloraxis",
           "name": "3",
           "type": "heatmap",
           "z": [
            [
             2,
             2,
             0,
             2,
             2,
             2,
             0,
             0,
             0,
             0,
             0,
             0,
             0,
             0,
             0,
             0,
             0,
             0,
             0,
             0,
             0,
             0,
             0,
             0,
             0,
             0,
             0,
             0,
             0,
             0,
             0,
             0,
             0,
             2,
             2,
             2
            ],
            [
             1,
             1,
             0,
             0,
             0,
             0,
             0,
             2,
             10,
             12,
             12,
             12,
             0,
             0,
             0,
             0,
             0,
             0,
             0,
             0,
             12,
             12,
             12,
             12,
             12,
             12,
             12,
             13,
             13,
             13,
             13,
             13,
             3,
             3,
             1,
             1
            ],
            [
             0,
             1,
             1,
             0,
             10,
             10,
             10,
             10,
             10,
             0,
             0,
             12,
             10,
             10,
             10,
             10,
             0,
             0,
             0,
             12,
             12,
             0,
             0,
             0,
             0,
             1,
             1,
             1,
             0,
             0,
             0,
             14,
             12,
             0,
             0,
             0
            ],
            [
             3,
             1,
             1,
             22,
             21,
             11,
             11,
             10,
             10,
             12,
             12,
             4,
             4,
             2,
             2,
             12,
             12,
             2,
             12,
             0,
             1,
             1,
             1,
             1,
             1,
             2,
             0,
             0,
             0,
             0,
             2,
             4,
             14,
             14,
             3,
             3
            ],
            [
             4,
             14,
             24,
             23,
             1,
             0,
             0,
             3,
             3,
             2,
             10,
             10,
             12,
             0,
             4,
             6,
             17,
             40,
             28,
             10,
             4,
             2,
             2,
             0,
             1,
             14,
             13,
             13,
             14,
             14,
             12,
             14,
             12,
             25,
             1,
             2
            ],
            [
             14,
             14,
             16,
             7,
             14,
             24,
             26,
             24,
             13,
             14,
             13,
             15,
             34,
             35,
             35,
             35,
             41,
             58,
             35,
             42,
             37,
             32,
             26,
             23,
             17,
             24,
             12,
             12,
             11,
             11,
             1,
             5,
             6,
             31,
             30,
             6
            ],
            [
             22,
             22,
             23,
             29,
             31,
             17,
             8,
             15,
             13,
             9,
             11,
             34,
             58,
             144,
             174,
             169,
             185,
             202,
             193,
             178,
             169,
             151,
             141,
             66,
             45,
             10,
             14,
             12,
             13,
             22,
             24,
             28,
             14,
             11,
             34,
             22
            ],
            [
             44,
             44,
             34,
             44,
             38,
             40,
             24,
             25,
             24,
             48,
             125,
             215,
             221,
             247,
             214,
             191,
             160,
             185,
             185,
             170,
             188,
             221,
             272,
             239,
             222,
             130,
             59,
             14,
             30,
             29,
             32,
             48,
             44,
             32,
             44,
             44
            ],
            [
             110,
             132,
             86,
             64,
             50,
             54,
             52,
             44,
             160,
             266,
             312,
             298,
             243,
             231,
             217,
             240,
             219,
             214,
             213,
             198,
             221,
             245,
             232,
             251,
             295,
             320,
             276,
             164,
             42,
             51,
             56,
             59,
             58,
             98,
             132,
             100
            ]
           ]
          }
         ],
         "layout": {
          "coloraxis": {
           "cmax": 1,
           "cmin": 0,
           "colorscale": [
            [
             0,
             "rgb(255,255,255)"
            ],
            [
             0.125,
             "rgb(240,240,240)"
            ],
            [
             0.25,
             "rgb(217,217,217)"
            ],
            [
             0.375,
             "rgb(189,189,189)"
            ],
            [
             0.5,
             "rgb(150,150,150)"
            ],
            [
             0.625,
             "rgb(115,115,115)"
            ],
            [
             0.75,
             "rgb(82,82,82)"
            ],
            [
             0.875,
             "rgb(37,37,37)"
            ],
            [
             1,
             "rgb(0,0,0)"
            ]
           ]
          },
          "margin": {
           "t": 60
          },
          "xaxis": {
           "constrain": "domain",
           "scaleanchor": "y"
          },
          "yaxis": {
           "autorange": "reversed",
           "constrain": "domain"
          }
         },
         "name": "3"
        },
        {
         "data": [
          {
           "coloraxis": "coloraxis",
           "name": "4",
           "type": "heatmap",
           "z": [
            [
             6,
             8,
             8,
             8,
             10,
             8,
             6,
             2,
             4,
             2,
             4,
             2,
             4,
             4,
             4,
             4,
             8,
             6,
             6,
             6,
             4,
             4,
             2,
             6,
             4,
             4,
             4,
             4,
             7,
             7,
             7,
             7,
             7,
             7,
             5,
             10
            ],
            [
             15,
             15,
             11,
             6,
             6,
             8,
             18,
             18,
             16,
             20,
             16,
             16,
             10,
             6,
             10,
             12,
             12,
             12,
             10,
             16,
             14,
             22,
             24,
             20,
             27,
             31,
             25,
             25,
             25,
             16,
             16,
             14,
             20,
             26,
             16,
             19
            ],
            [
             10,
             10,
             15,
             15,
             13,
             13,
             11,
             9,
             10,
             10,
             16,
             16,
             10,
             10,
             12,
             12,
             18,
             18,
             22,
             16,
             24,
             28,
             18,
             19,
             23,
             26,
             20,
             20,
             20,
             10,
             7,
             9,
             14,
             16,
             16,
             6
            ],
            [
             18,
             16,
             18,
             19,
             18,
             13,
             11,
             17,
             21,
             25,
             23,
             26,
             28,
             20,
             20,
             22,
             21,
             19,
             22,
             28,
             24,
             12,
             11,
             14,
             10,
             14,
             16,
             20,
             34,
             34,
             24,
             36,
             34,
             24,
             30,
             28
            ],
            [
             46,
             29,
             20,
             23,
             20,
             18,
             31,
             40,
             43,
             44,
             31,
             18,
             22,
             13,
             17,
             26,
             25,
             30,
             24,
             36,
             21,
             21,
             20,
             22,
             19,
             25,
             29,
             28,
             34,
             48,
             40,
             34,
             20,
             32,
             36,
             60
            ],
            [
             45,
             61,
             45,
             56,
             45,
             45,
             52,
             64,
             44,
             38,
             47,
             39,
             40,
             23,
             28,
             33,
             33,
             37,
             30,
             39,
             24,
             19,
             24,
             29,
             39,
             35,
             50,
             51,
             43,
             40,
             53,
             29,
             29,
             37,
             34,
             53
            ],
            [
             82,
             101,
             93,
             72,
             70,
             65,
             61,
             60,
             57,
             56,
             68,
             65,
             67,
             63,
             60,
             49,
             48,
             46,
             43,
             46,
             36,
             44,
             53,
             56,
             49,
             57,
             66,
             49,
             43,
             50,
             76,
             67,
             55,
             61,
             66,
             90
            ],
            [
             203,
             161,
             154,
             134,
             136,
             101,
             100,
             103,
             89,
             94,
             85,
             70,
             60,
             61,
             74,
             90,
             59,
             54,
             84,
             83,
             87,
             68,
             56,
             55,
             75,
             98,
             96,
             114,
             104,
             122,
             106,
             122,
             136,
             150,
             154,
             177
            ],
            [
             310,
             318,
             314,
             284,
             231,
             180,
             167,
             161,
             139,
             123,
             120,
             110,
             115,
             83,
             80,
             116,
             104,
             95,
             121,
             103,
             95,
             77,
             110,
             104,
             117,
             129,
             132,
             142,
             149,
             168,
             192,
             238,
             303,
             330,
             319,
             279
            ]
           ]
          }
         ],
         "layout": {
          "coloraxis": {
           "cmax": 1,
           "cmin": 0,
           "colorscale": [
            [
             0,
             "rgb(255,255,255)"
            ],
            [
             0.125,
             "rgb(240,240,240)"
            ],
            [
             0.25,
             "rgb(217,217,217)"
            ],
            [
             0.375,
             "rgb(189,189,189)"
            ],
            [
             0.5,
             "rgb(150,150,150)"
            ],
            [
             0.625,
             "rgb(115,115,115)"
            ],
            [
             0.75,
             "rgb(82,82,82)"
            ],
            [
             0.875,
             "rgb(37,37,37)"
            ],
            [
             1,
             "rgb(0,0,0)"
            ]
           ]
          },
          "margin": {
           "t": 60
          },
          "xaxis": {
           "constrain": "domain",
           "scaleanchor": "y"
          },
          "yaxis": {
           "autorange": "reversed",
           "constrain": "domain"
          }
         },
         "name": "4"
        },
        {
         "data": [
          {
           "coloraxis": "coloraxis",
           "name": "5",
           "type": "heatmap",
           "z": [
            [
             75,
             51,
             31,
             20,
             8,
             2,
             0,
             2,
             2,
             0,
             0,
             0,
             2,
             6,
             16,
             26,
             33,
             30,
             41,
             39,
             35,
             35,
             33,
             39,
             33,
             26,
             24,
             16,
             17,
             21,
             28,
             42,
             48,
             71,
             83,
             77
            ],
            [
             21,
             35,
             48,
             62,
             74,
             79,
             72,
             32,
             25,
             25,
             35,
             42,
             46,
             65,
             61,
             53,
             49,
             51,
             46,
             40,
             52,
             47,
             45,
             38,
             50,
             52,
             64,
             54,
             56,
             88,
             84,
             74,
             44,
             24,
             2,
             2
            ],
            [
             14,
             8,
             8,
             13,
             9,
             17,
             54,
             68,
             31,
             24,
             40,
             37,
             44,
             52,
             33,
             29,
             33,
             35,
             36,
             48,
             49,
             36,
             43,
             39,
             45,
             41,
             40,
             33,
             76,
             46,
             2,
             10,
             32,
             40,
             20,
             18
            ],
            [
             33,
             31,
             21,
             17,
             4,
             7,
             11,
             71,
             50,
             49,
             50,
             38,
             48,
             38,
             40,
             39,
             35,
             37,
             46,
             44,
             27,
             43,
             51,
             31,
             34,
             35,
             44,
             55,
             68,
             20,
             12,
             20,
             20,
             28,
             28,
             36
            ],
            [
             4,
             13,
             19,
             33,
             40,
             38,
             32,
             82,
             116,
             93,
             68,
             59,
             64,
             48,
             41,
             43,
             46,
             51,
             69,
             59,
             77,
             71,
             57,
             58,
             54,
             42,
             52,
             73,
             66,
             24,
             18,
             27,
             24,
             36,
             29,
             17
            ],
            [
             12,
             4,
             14,
             29,
             48,
             46,
             22,
             58,
             110,
             68,
             58,
             64,
             85,
             74,
             67,
             54,
             62,
             74,
             79,
             62,
             72,
             64,
             52,
             58,
             70,
             57,
             75,
             104,
             62,
             22,
             32,
             16,
             4,
             3,
             13,
             12
            ],
            [
             22,
             12,
             24,
             13,
             2,
             24,
             50,
             90,
             129,
             93,
             77,
             95,
             103,
             85,
             103,
             113,
             101,
             113,
             95,
             99,
             96,
             98,
             93,
             88,
             117,
             97,
             113,
             158,
             107,
             63,
             51,
             15,
             13,
             2,
             15,
             3
            ],
            [
             30,
             19,
             29,
             16,
             25,
             31,
             72,
             161,
             190,
             149,
             142,
             135,
             117,
             115,
             111,
             131,
             113,
             115,
             111,
             120,
             85,
             97,
             114,
             123,
             138,
             126,
             150,
             176,
             171,
             72,
             43,
             24,
             36,
             18,
             34,
             20
            ],
            [
             47,
             52,
             53,
             54,
             50,
             40,
             83,
             243,
             238,
             189,
             188,
             180,
             158,
             138,
             153,
             144,
             145,
             163,
             126,
             146,
             141,
             159,
             148,
             159,
             182,
             194,
             212,
             229,
             249,
             73,
             38,
             41,
             56,
             52,
             62,
             47
            ]
           ]
          }
         ],
         "layout": {
          "coloraxis": {
           "cmax": 1,
           "cmin": 0,
           "colorscale": [
            [
             0,
             "rgb(255,255,255)"
            ],
            [
             0.125,
             "rgb(240,240,240)"
            ],
            [
             0.25,
             "rgb(217,217,217)"
            ],
            [
             0.375,
             "rgb(189,189,189)"
            ],
            [
             0.5,
             "rgb(150,150,150)"
            ],
            [
             0.625,
             "rgb(115,115,115)"
            ],
            [
             0.75,
             "rgb(82,82,82)"
            ],
            [
             0.875,
             "rgb(37,37,37)"
            ],
            [
             1,
             "rgb(0,0,0)"
            ]
           ]
          },
          "margin": {
           "t": 60
          },
          "xaxis": {
           "constrain": "domain",
           "scaleanchor": "y"
          },
          "yaxis": {
           "autorange": "reversed",
           "constrain": "domain"
          }
         },
         "name": "5"
        },
        {
         "data": [
          {
           "coloraxis": "coloraxis",
           "name": "6",
           "type": "heatmap",
           "z": [
            [
             9,
             6,
             8,
             8,
             8,
             10,
             18,
             16,
             14,
             12,
             14,
             14,
             18,
             10,
             8,
             10,
             8,
             4,
             4,
             4,
             4,
             2,
             2,
             2,
             2,
             5,
             5,
             5,
             5,
             5,
             5,
             5,
             7,
             3,
             5,
             9
            ],
            [
             11,
             21,
             23,
             16,
             20,
             12,
             18,
             26,
             30,
             28,
             26,
             24,
             20,
             24,
             24,
             22,
             28,
             20,
             12,
             12,
             6,
             6,
             7,
             9,
             9,
             6,
             8,
             11,
             11,
             11,
             7,
             7,
             9,
             10,
             12,
             14
            ],
            [
             18,
             16,
             7,
             4,
             8,
             12,
             18,
             14,
             8,
             14,
             10,
             10,
             10,
             8,
             8,
             8,
             18,
             6,
             14,
             20,
             10,
             7,
             6,
             5,
             10,
             10,
             14,
             9,
             4,
             11,
             13,
             6,
             5,
             17,
             13,
             13
            ],
            [
             21,
             6,
             10,
             9,
             12,
             16,
             18,
             18,
             16,
             20,
             22,
             26,
             12,
             14,
             12,
             8,
             20,
             8,
             8,
             17,
             21,
             12,
             9,
             15,
             15,
             17,
             20,
             18,
             20,
             13,
             14,
             19,
             25,
             27,
             15,
             13
            ],
            [
             38,
             17,
             14,
             21,
             42,
             39,
             28,
             18,
             18,
             16,
             12,
             22,
             20,
             24,
             20,
             8,
             20,
             20,
             15,
             15,
             35,
             24,
             22,
             28,
             30,
             34,
             23,
             20,
             12,
             11,
             11,
             10,
             22,
             12,
             25,
             21
            ],
            [
             50,
             30,
             24,
             46,
             55,
             33,
             35,
             35,
             38,
             37,
             23,
             15,
             17,
             21,
             62,
             154,
             220,
             259,
             241,
             220,
             209,
             69,
             28,
             28,
             20,
             23,
             28,
             27,
             35,
             22,
             17,
             13,
             24,
             14,
             14,
             26
            ],
            [
             59,
             58,
             55,
             38,
             32,
             23,
             31,
             31,
             37,
             52,
             60,
             53,
             147,
             300,
             376,
             386,
             312,
             259,
             277,
             284,
             349,
             387,
             306,
             185,
             36,
             52,
             55,
             58,
             62,
             71,
             41,
             27,
             37,
             27,
             33,
             50
            ],
            [
             64,
             69,
             68,
             49,
             59,
             77,
             87,
             93,
             83,
             78,
             74,
             347,
             486,
             420,
             360,
             314,
             345,
             349,
             297,
             317,
             336,
             327,
             419,
             495,
             344,
             91,
             71,
             56,
             57,
             68,
             91,
             84,
             78,
             61,
             70,
             87
            ],
            [
             137,
             124,
             125,
             114,
             115,
             121,
             93,
             113,
             120,
             108,
             435,
             598,
             537,
             558,
             682,
             658,
             633,
             581,
             578,
             592,
             696,
             729,
             506,
             520,
             648,
             391,
             115,
             130,
             138,
             122,
             106,
             110,
             132,
             130,
             126,
             149
            ]
           ]
          }
         ],
         "layout": {
          "coloraxis": {
           "cmax": 1,
           "cmin": 0,
           "colorscale": [
            [
             0,
             "rgb(255,255,255)"
            ],
            [
             0.125,
             "rgb(240,240,240)"
            ],
            [
             0.25,
             "rgb(217,217,217)"
            ],
            [
             0.375,
             "rgb(189,189,189)"
            ],
            [
             0.5,
             "rgb(150,150,150)"
            ],
            [
             0.625,
             "rgb(115,115,115)"
            ],
            [
             0.75,
             "rgb(82,82,82)"
            ],
            [
             0.875,
             "rgb(37,37,37)"
            ],
            [
             1,
             "rgb(0,0,0)"
            ]
           ]
          },
          "margin": {
           "t": 60
          },
          "xaxis": {
           "constrain": "domain",
           "scaleanchor": "y"
          },
          "yaxis": {
           "autorange": "reversed",
           "constrain": "domain"
          }
         },
         "name": "6"
        },
        {
         "data": [
          {
           "coloraxis": "coloraxis",
           "name": "7",
           "type": "heatmap",
           "z": [
            [
             2,
             0,
             2,
             2,
             0,
             2,
             0,
             2,
             2,
             0,
             2,
             0,
             2,
             2,
             4,
             0,
             2,
             2,
             2,
             2,
             4,
             4,
             0,
             2,
             2,
             2,
             4,
             8,
             8,
             6,
             6,
             6,
             8,
             8,
             4,
             4
            ],
            [
             14,
             10,
             14,
             10,
             12,
             12,
             12,
             8,
             6,
             6,
             10,
             10,
             11,
             8,
             4,
             8,
             8,
             6,
             8,
             6,
             6,
             8,
             6,
             11,
             13,
             21,
             20,
             18,
             16,
             18,
             18,
             16,
             16,
             12,
             16,
             18
            ],
            [
             16,
             22,
             16,
             10,
             8,
             8,
             10,
             17,
             17,
             17,
             15,
             9,
             4,
             9,
             9,
             9,
             13,
             11,
             12,
             13,
             11,
             11,
             13,
             17,
             20,
             22,
             19,
             19,
             9,
             9,
             6,
             2,
             6,
             8,
             8,
             16
            ],
            [
             17,
             18,
             20,
             19,
             17,
             15,
             20,
             17,
             16,
             12,
             19,
             17,
             11,
             11,
             9,
             13,
             18,
             21,
             16,
             11,
             8,
             8,
             14,
             16,
             30,
             24,
             20,
             20,
             24,
             26,
             21,
             7,
             6,
             6,
             14,
             12
            ],
            [
             21,
             25,
             25,
             17,
             15,
             22,
             32,
             35,
             32,
             34,
             24,
             16,
             16,
             8,
             8,
             16,
             21,
             18,
             18,
             17,
             18,
             20,
             52,
             50,
             48,
             30,
             28,
             29,
             27,
             31,
             51,
             32,
             30,
             20,
             18,
             18
            ],
            [
             32,
             32,
             38,
             42,
             42,
             40,
             40,
             37,
             32,
             44,
             51,
             46,
             41,
             35,
             29,
             26,
             21,
             17,
             25,
             39,
             36,
             49,
             55,
             25,
             23,
             26,
             32,
             48,
             40,
             32,
             44,
             36,
             62,
             53,
             42,
             37
            ],
            [
             61,
             56,
             53,
             47,
             34,
             44,
             51,
             50,
             50,
             61,
             58,
             61,
             51,
             36,
             50,
             44,
             32,
             33,
             44,
             37,
             57,
             51,
             31,
             28,
             26,
             41,
             44,
             45,
             46,
             55,
             44,
             42,
             55,
             59,
             51,
             56
            ],
            [
             81,
             106,
             95,
             73,
             78,
             81,
             77,
             86,
             76,
             57,
             56,
             67,
             78,
             61,
             79,
             64,
             69,
             73,
             52,
             62,
             70,
             54,
             52,
             50,
             73,
             85,
             85,
             83,
             76,
             75,
             82,
             81,
             73,
             90,
             107,
             106
            ],
            [
             208,
             197,
             159,
             151,
             143,
             140,
             143,
             144,
             140,
             130,
             122,
             97,
             112,
             364,
             510,
             601,
             667,
             674,
             705,
             655,
             595,
             528,
             364,
             108,
             116,
             101,
             109,
             120,
             121,
             131,
             134,
             147,
             124,
             164,
             217,
             230
            ]
           ]
          }
         ],
         "layout": {
          "coloraxis": {
           "cmax": 1,
           "cmin": 0,
           "colorscale": [
            [
             0,
             "rgb(255,255,255)"
            ],
            [
             0.125,
             "rgb(240,240,240)"
            ],
            [
             0.25,
             "rgb(217,217,217)"
            ],
            [
             0.375,
             "rgb(189,189,189)"
            ],
            [
             0.5,
             "rgb(150,150,150)"
            ],
            [
             0.625,
             "rgb(115,115,115)"
            ],
            [
             0.75,
             "rgb(82,82,82)"
            ],
            [
             0.875,
             "rgb(37,37,37)"
            ],
            [
             1,
             "rgb(0,0,0)"
            ]
           ]
          },
          "margin": {
           "t": 60
          },
          "xaxis": {
           "constrain": "domain",
           "scaleanchor": "y"
          },
          "yaxis": {
           "autorange": "reversed",
           "constrain": "domain"
          }
         },
         "name": "7"
        },
        {
         "data": [
          {
           "coloraxis": "coloraxis",
           "name": "8",
           "type": "heatmap",
           "z": [
            [
             0,
             0,
             0,
             0,
             0,
             0,
             0,
             0,
             0,
             0,
             0,
             0,
             0,
             0,
             0,
             0,
             0,
             0,
             0,
             0,
             0,
             22,
             22,
             10,
             22,
             14,
             22,
             12,
             14,
             22,
             12,
             22,
             2,
             8,
             0,
             0
            ],
            [
             10,
             10,
             10,
             0,
             0,
             0,
             0,
             0,
             0,
             0,
             0,
             0,
             0,
             0,
             0,
             0,
             12,
             12,
             12,
             4,
             18,
             10,
             0,
             0,
             0,
             0,
             0,
             0,
             0,
             0,
             0,
             12,
             12,
             0,
             10,
             0
            ],
            [
             0,
             10,
             20,
             10,
             10,
             10,
             10,
             22,
             22,
             22,
             22,
             12,
             12,
             12,
             0,
             0,
             12,
             0,
             0,
             0,
             10,
             0,
             0,
             0,
             0,
             0,
             0,
             0,
             0,
             0,
             0,
             0,
             12,
             12,
             0,
             0
            ],
            [
             10,
             10,
             10,
             0,
             0,
             12,
             12,
             4,
             0,
             0,
             10,
             10,
             0,
             12,
             12,
             13,
             13,
             3,
             3,
             3,
             13,
             0,
             0,
             0,
             0,
             0,
             0,
             4,
             12,
             12,
             12,
             12,
             12,
             24,
             0,
             10
            ],
            [
             2,
             10,
             22,
             12,
             24,
             24,
             12,
             10,
             10,
             0,
             0,
             10,
             13,
             4,
             6,
             17,
             30,
             6,
             4,
             3,
             16,
             14,
             14,
             13,
             10,
             22,
             22,
             22,
             10,
             10,
             20,
             10,
             10,
             32,
             22,
             22
            ],
            [
             44,
             24,
             22,
             22,
             10,
             20,
             22,
             12,
             22,
             22,
             23,
             14,
             28,
             14,
             5,
             3,
             27,
             14,
             3,
             3,
             25,
             14,
             5,
             6,
             30,
             25,
             12,
             22,
             22,
             22,
             20,
             10,
             0,
             22,
             20,
             32
            ],
            [
             76,
             78,
             68,
             44,
             44,
             34,
             34,
             22,
             22,
             20,
             31,
             28,
             15,
             22,
             12,
             3,
             17,
             15,
             15,
             13,
             22,
             4,
             17,
             29,
             32,
             18,
             14,
             20,
             22,
             32,
             34,
             44,
             56,
             66,
             88,
             78
            ],
            [
             0,
             24,
             100,
             66,
             66,
             44,
             44,
             39,
             41,
             30,
             16,
             29,
             26,
             26,
             26,
             18,
             26,
             19,
             45,
             30,
             33,
             18,
             26,
             25,
             24,
             26,
             31,
             41,
             38,
             32,
             44,
             44,
             88,
             98,
             34,
             0
            ],
            [
             96,
             98,
             124,
             100,
             60,
             50,
             53,
             42,
             41,
             40,
             63,
             128,
             213,
             254,
             296,
             311,
             338,
             317,
             337,
             317,
             326,
             281,
             264,
             221,
             133,
             66,
             46,
             54,
             56,
             53,
             58,
             76,
             90,
             132,
             110,
             100
            ]
           ]
          }
         ],
         "layout": {
          "coloraxis": {
           "cmax": 1,
           "cmin": 0,
           "colorscale": [
            [
             0,
             "rgb(255,255,255)"
            ],
            [
             0.125,
             "rgb(240,240,240)"
            ],
            [
             0.25,
             "rgb(217,217,217)"
            ],
            [
             0.375,
             "rgb(189,189,189)"
            ],
            [
             0.5,
             "rgb(150,150,150)"
            ],
            [
             0.625,
             "rgb(115,115,115)"
            ],
            [
             0.75,
             "rgb(82,82,82)"
            ],
            [
             0.875,
             "rgb(37,37,37)"
            ],
            [
             1,
             "rgb(0,0,0)"
            ]
           ]
          },
          "margin": {
           "t": 60
          },
          "xaxis": {
           "constrain": "domain",
           "scaleanchor": "y"
          },
          "yaxis": {
           "autorange": "reversed",
           "constrain": "domain"
          }
         },
         "name": "8"
        },
        {
         "data": [
          {
           "coloraxis": "coloraxis",
           "name": "9",
           "type": "heatmap",
           "z": [
            [
             2,
             4,
             4,
             4,
             9,
             5,
             7,
             7,
             3,
             5,
             5,
             2,
             6,
             4,
             6,
             6,
             4,
             0,
             2,
             6,
             8,
             0,
             8,
             4,
             8,
             10,
             6,
             4,
             6,
             10,
             2,
             4,
             0,
             2,
             0,
             4
            ],
            [
             8,
             6,
             4,
             19,
             14,
             14,
             16,
             16,
             18,
             23,
             21,
             21,
             17,
             15,
             7,
             13,
             10,
             17,
             9,
             9,
             9,
             4,
             6,
             4,
             4,
             13,
             17,
             15,
             17,
             17,
             21,
             23,
             15,
             17,
             13,
             11
            ],
            [
             13,
             16,
             14,
             17,
             4,
             6,
             9,
             7,
             11,
             11,
             12,
             14,
             14,
             12,
             28,
             19,
             11,
             9,
             8,
             10,
             13,
             6,
             8,
             15,
             19,
             12,
             14,
             8,
             6,
             4,
             8,
             14,
             6,
             12,
             12,
             17
            ],
            [
             25,
             29,
             14,
             15,
             10,
             15,
             15,
             20,
             28,
             26,
             20,
             16,
             16,
             14,
             20,
             30,
             34,
             26,
             13,
             9,
             10,
             5,
             14,
             18,
             9,
             9,
             9,
             11,
             15,
             10,
             8,
             12,
             10,
             12,
             10,
             10
            ],
            [
             32,
             35,
             19,
             22,
             18,
             30,
             39,
             41,
             35,
             32,
             28,
             20,
             20,
             22,
             18,
             16,
             24,
             24,
             25,
             22,
             16,
             14,
             23,
             16,
             14,
             16,
             18,
             14,
             12,
             13,
             11,
             14,
             12,
             8,
             10,
             18
            ],
            [
             33,
             41,
             39,
             45,
             41,
             46,
             46,
             30,
             35,
             37,
             29,
             20,
             14,
             24,
             30,
             16,
             24,
             21,
             25,
             40,
             33,
             33,
             31,
             26,
             28,
             30,
             33,
             34,
             36,
             23,
             16,
             20,
             21,
             17,
             21,
             29
            ],
            [
             53,
             44,
             45,
             41,
             23,
             34,
             25,
             27,
             33,
             34,
             46,
             54,
             33,
             21,
             158,
             267,
             285,
             310,
             309,
             316,
             255,
             186,
             22,
             34,
             50,
             56,
             61,
             65,
             77,
             82,
             73,
             42,
             42,
             41,
             42,
             43
            ],
            [
             78,
             71,
             72,
             66,
             65,
             77,
             89,
             95,
             98,
             83,
             82,
             71,
             327,
             450,
             494,
             485,
             402,
             385,
             361,
             367,
             408,
             523,
             422,
             330,
             75,
             69,
             68,
             53,
             46,
             63,
             88,
             73,
             76,
             84,
             82,
             86
            ],
            [
             143,
             150,
             120,
             115,
             113,
             116,
             112,
             100,
             105,
             106,
             226,
             500,
             669,
             554,
             526,
             655,
             694,
             686,
             668,
             724,
             671,
             609,
             550,
             672,
             506,
             214,
             129,
             146,
             138,
             132,
             106,
             109,
             109,
             136,
             146,
             156
            ]
           ]
          }
         ],
         "layout": {
          "coloraxis": {
           "cmax": 1,
           "cmin": 0,
           "colorscale": [
            [
             0,
             "rgb(255,255,255)"
            ],
            [
             0.125,
             "rgb(240,240,240)"
            ],
            [
             0.25,
             "rgb(217,217,217)"
            ],
            [
             0.375,
             "rgb(189,189,189)"
            ],
            [
             0.5,
             "rgb(150,150,150)"
            ],
            [
             0.625,
             "rgb(115,115,115)"
            ],
            [
             0.75,
             "rgb(82,82,82)"
            ],
            [
             0.875,
             "rgb(37,37,37)"
            ],
            [
             1,
             "rgb(0,0,0)"
            ]
           ]
          },
          "margin": {
           "t": 60
          },
          "xaxis": {
           "constrain": "domain",
           "scaleanchor": "y"
          },
          "yaxis": {
           "autorange": "reversed",
           "constrain": "domain"
          }
         },
         "name": "9"
        },
        {
         "data": [
          {
           "coloraxis": "coloraxis",
           "name": "10",
           "type": "heatmap",
           "z": [
            [
             4,
             4,
             2,
             2,
             2,
             2,
             0,
             2,
             2,
             2,
             4,
             2,
             4,
             4,
             4,
             4,
             6,
             4,
             6,
             2,
             4,
             4,
             2,
             2,
             2,
             7,
             5,
             7,
             7,
             9,
             5,
             7,
             7,
             3,
             9,
             7
            ],
            [
             14,
             21,
             23,
             20,
             16,
             28,
             28,
             28,
             32,
             30,
             19,
             19,
             4,
             4,
             6,
             6,
             6,
             11,
             13,
             11,
             15,
             11,
             14,
             16,
             18,
             20,
             17,
             13,
             17,
             10,
             10,
             10,
             8,
             10,
             10,
             15
            ],
            [
             15,
             14,
             23,
             27,
             22,
             24,
             10,
             10,
             8,
             10,
             15,
             30,
             26,
             19,
             20,
             8,
             11,
             15,
             14,
             10,
             10,
             8,
             11,
             8,
             10,
             16,
             24,
             20,
             19,
             25,
             17,
             16,
             14,
             16,
             19,
             26
            ],
            [
             20,
             24,
             22,
             13,
             10,
             8,
             8,
             12,
             15,
             19,
             13,
             13,
             23,
             16,
             19,
             26,
             20,
             19,
             10,
             14,
             14,
             14,
             15,
             14,
             24,
             28,
             22,
             12,
             12,
             14,
             13,
             8,
             8,
             13,
             26,
             29
            ],
            [
             27,
             33,
             17,
             18,
             21,
             15,
             17,
             20,
             18,
             12,
             16,
             16,
             21,
             28,
             14,
             29,
             10,
             19,
             21,
             23,
             10,
             14,
             11,
             22,
             26,
             14,
             18,
             18,
             18,
             14,
             21,
             13,
             12,
             24,
             23,
             16
            ],
            [
             45,
             40,
             29,
             24,
             27,
             35,
             40,
             44,
             38,
             43,
             43,
             42,
             40,
             44,
             37,
             46,
             41,
             22,
             14,
             27,
             23,
             23,
             26,
             37,
             37,
             35,
             49,
             58,
             50,
             51,
             47,
             44,
             29,
             44,
             41,
             39
            ],
            [
             71,
             73,
             55,
             55,
             56,
             57,
             58,
             59,
             53,
             51,
             38,
             36,
             31,
             55,
             56,
             32,
             52,
             41,
             40,
             31,
             32,
             35,
             70,
             69,
             60,
             64,
             61,
             67,
             56,
             56,
             52,
             60,
             42,
             65,
             45,
             55
            ],
            [
             107,
             100,
             98,
             75,
             76,
             81,
             94,
             105,
             95,
             99,
             94,
             52,
             39,
             48,
             70,
             69,
             78,
             76,
             58,
             54,
             69,
             76,
             67,
             40,
             52,
             61,
             76,
             87,
             94,
             87,
             77,
             82,
             93,
             115,
             107,
             122
            ],
            [
             240,
             234,
             218,
             189,
             168,
             153,
             149,
             144,
             121,
             108,
             115,
             113,
             104,
             86,
             333,
             436,
             490,
             527,
             528,
             474,
             439,
             342,
             86,
             98,
             123,
             122,
             131,
             122,
             134,
             149,
             153,
             143,
             154,
             204,
             248,
             276
            ]
           ]
          }
         ],
         "layout": {
          "coloraxis": {
           "cmax": 1,
           "cmin": 0,
           "colorscale": [
            [
             0,
             "rgb(255,255,255)"
            ],
            [
             0.125,
             "rgb(240,240,240)"
            ],
            [
             0.25,
             "rgb(217,217,217)"
            ],
            [
             0.375,
             "rgb(189,189,189)"
            ],
            [
             0.5,
             "rgb(150,150,150)"
            ],
            [
             0.625,
             "rgb(115,115,115)"
            ],
            [
             0.75,
             "rgb(82,82,82)"
            ],
            [
             0.875,
             "rgb(37,37,37)"
            ],
            [
             1,
             "rgb(0,0,0)"
            ]
           ]
          },
          "margin": {
           "t": 60
          },
          "xaxis": {
           "constrain": "domain",
           "scaleanchor": "y"
          },
          "yaxis": {
           "autorange": "reversed",
           "constrain": "domain"
          }
         },
         "name": "10"
        },
        {
         "data": [
          {
           "coloraxis": "coloraxis",
           "name": "11",
           "type": "heatmap",
           "z": [
            [
             11,
             17,
             8,
             12,
             4,
             8,
             8,
             2,
             2,
             2,
             0,
             2,
             4,
             6,
             8,
             6,
             15,
             15,
             16,
             13,
             11,
             17,
             6,
             17,
             11,
             15,
             15,
             11,
             12,
             6,
             17,
             19,
             27,
             14,
             21,
             14
            ],
            [
             43,
             44,
             56,
             51,
             44,
             27,
             31,
             39,
             36,
             26,
             36,
             33,
             29,
             25,
             33,
             16,
             20,
             18,
             16,
             18,
             14,
             12,
             10,
             8,
             16,
             22,
             28,
             35,
             37,
             43,
             38,
             41,
             41,
             41,
             47,
             45
            ],
            [
             25,
             35,
             38,
             30,
             30,
             23,
             23,
             25,
             17,
             13,
             8,
             19,
             22,
             22,
             38,
             32,
             20,
             26,
             30,
             32,
             32,
             44,
             40,
             28,
             22,
             29,
             27,
             26,
             21,
             22,
             28,
             32,
             46,
             44,
             26,
             24
            ],
            [
             57,
             45,
             44,
             36,
             36,
             23,
             27,
             30,
             14,
             21,
             21,
             35,
             40,
             32,
             32,
             60,
             42,
             47,
             41,
             34,
             35,
             33,
             35,
             39,
             34,
             46,
             39,
             30,
             24,
             30,
             44,
             36,
             34,
             38,
             52,
             46
            ],
            [
             121,
             93,
             86,
             78,
             63,
             58,
             29,
             47,
             43,
             53,
             65,
             54,
             48,
             48,
             56,
             69,
             49,
             39,
             35,
             44,
             48,
             39,
             34,
             36,
             53,
             68,
             35,
             38,
             50,
             38,
             54,
             54,
             63,
             80,
             88,
             117
            ],
            [
             92,
             102,
             122,
             140,
             126,
             92,
             80,
             99,
             72,
             55,
             60,
             48,
             52,
             66,
             51,
             45,
             64,
             58,
             60,
             61,
             47,
             40,
             35,
             42,
             47,
             64,
             51,
             64,
             68,
             53,
             74,
             113,
             138,
             122,
             92,
             101
            ],
            [
             53,
             40,
             58,
             100,
             160,
             180,
             84,
             101,
             91,
             91,
             80,
             73,
             70,
             74,
             67,
             64,
             72,
             66,
             65,
             81,
             54,
             46,
             46,
             62,
             68,
             76,
             86,
             110,
             118,
             113,
             199,
             150,
             82,
             55,
             47,
             61
            ],
            [
             24,
             16,
             44,
             58,
             60,
             179,
             193,
             146,
             137,
             133,
             92,
             73,
             92,
             91,
             67,
             94,
             111,
             84,
             83,
             101,
             99,
             102,
             96,
             112,
             105,
             127,
             158,
             128,
             140,
             190,
             172,
             72,
             69,
             43,
             16,
             16
            ],
            [
             30,
             36,
             57,
             38,
             76,
             169,
             297,
             229,
             205,
             190,
             171,
             136,
             121,
             126,
             122,
             123,
             130,
             139,
             114,
             113,
             115,
             124,
             131,
             130,
             126,
             148,
             155,
             184,
             224,
             287,
             152,
             64,
             42,
             43,
             44,
             46
            ]
           ]
          }
         ],
         "layout": {
          "coloraxis": {
           "cmax": 1,
           "cmin": 0,
           "colorscale": [
            [
             0,
             "rgb(255,255,255)"
            ],
            [
             0.125,
             "rgb(240,240,240)"
            ],
            [
             0.25,
             "rgb(217,217,217)"
            ],
            [
             0.375,
             "rgb(189,189,189)"
            ],
            [
             0.5,
             "rgb(150,150,150)"
            ],
            [
             0.625,
             "rgb(115,115,115)"
            ],
            [
             0.75,
             "rgb(82,82,82)"
            ],
            [
             0.875,
             "rgb(37,37,37)"
            ],
            [
             1,
             "rgb(0,0,0)"
            ]
           ]
          },
          "margin": {
           "t": 60
          },
          "xaxis": {
           "constrain": "domain",
           "scaleanchor": "y"
          },
          "yaxis": {
           "autorange": "reversed",
           "constrain": "domain"
          }
         },
         "name": "11"
        },
        {
         "data": [
          {
           "coloraxis": "coloraxis",
           "name": "12",
           "type": "heatmap",
           "z": [
            [
             46,
             51,
             39,
             20,
             6,
             0,
             0,
             0,
             0,
             0,
             2,
             2,
             4,
             8,
             16,
             25,
             26,
             27,
             24,
             31,
             22,
             23,
             22,
             19,
             16,
             13,
             15,
             20,
             23,
             23,
             31,
             31,
             50,
             57,
             52,
             61
            ],
            [
             46,
             52,
             58,
             69,
             85,
             94,
             61,
             49,
             29,
             25,
             30,
             34,
             36,
             47,
             36,
             39,
             39,
             43,
             37,
             39,
             39,
             39,
             34,
             30,
             24,
             24,
             30,
             39,
             37,
             48,
             74,
             68,
             52,
             44,
             38,
             40
            ],
            [
             12,
             12,
             15,
             20,
             20,
             31,
             56,
             52,
             37,
             32,
             35,
             24,
             28,
             31,
             38,
             41,
             33,
             31,
             31,
             33,
             31,
             31,
             30,
             42,
             37,
             34,
             53,
             60,
             65,
             67,
             20,
             2,
             6,
             10,
             12,
             16
            ],
            [
             16,
             18,
             18,
             10,
             14,
             9,
             30,
             78,
             56,
             44,
             40,
             39,
             41,
             50,
             44,
             37,
             43,
             49,
             49,
             46,
             37,
             43,
             43,
             50,
             53,
             45,
             68,
             62,
             87,
             46,
             30,
             34,
             30,
             18,
             24,
             22
            ],
            [
             16,
             16,
             17,
             32,
             28,
             18,
             0,
             82,
             92,
             69,
             52,
             58,
             48,
             55,
             43,
             52,
             54,
             52,
             60,
             82,
             79,
             57,
             62,
             61,
             56,
             55,
             59,
             55,
             79,
             11,
             14,
             43,
             47,
             40,
             32,
             14
            ],
            [
             1,
             0,
             3,
             22,
             51,
             59,
             34,
             101,
             105,
             91,
             68,
             84,
             86,
             80,
             66,
             77,
             85,
             74,
             71,
             65,
             65,
             70,
             62,
             53,
             49,
             67,
             81,
             101,
             83,
             14,
             30,
             31,
             15,
             17,
             13,
             13
            ],
            [
             2,
             14,
             15,
             14,
             14,
             36,
             36,
             92,
             116,
             105,
             82,
             86,
             90,
             96,
             88,
             101,
             71,
             69,
             99,
             81,
             97,
             103,
             86,
             96,
             101,
             114,
             105,
             146,
             111,
             63,
             54,
             29,
             14,
             24,
             12,
             15
            ],
            [
             34,
             31,
             26,
             35,
             26,
             30,
             70,
             177,
             179,
             156,
             145,
             130,
             147,
             133,
             131,
             123,
             107,
             100,
             112,
             114,
             125,
             131,
             137,
             135,
             128,
             156,
             131,
             148,
             149,
             67,
             18,
             26,
             17,
             26,
             27,
             33
            ],
            [
             59,
             46,
             53,
             56,
             38,
             38,
             104,
             267,
             222,
             211,
             160,
             142,
             155,
             128,
             146,
             138,
             150,
             139,
             140,
             145,
             149,
             142,
             149,
             157,
             143,
             191,
             229,
             236,
             278,
             114,
             40,
             52,
             44,
             51,
             50,
             49
            ]
           ]
          }
         ],
         "layout": {
          "coloraxis": {
           "cmax": 1,
           "cmin": 0,
           "colorscale": [
            [
             0,
             "rgb(255,255,255)"
            ],
            [
             0.125,
             "rgb(240,240,240)"
            ],
            [
             0.25,
             "rgb(217,217,217)"
            ],
            [
             0.375,
             "rgb(189,189,189)"
            ],
            [
             0.5,
             "rgb(150,150,150)"
            ],
            [
             0.625,
             "rgb(115,115,115)"
            ],
            [
             0.75,
             "rgb(82,82,82)"
            ],
            [
             0.875,
             "rgb(37,37,37)"
            ],
            [
             1,
             "rgb(0,0,0)"
            ]
           ]
          },
          "margin": {
           "t": 60
          },
          "xaxis": {
           "constrain": "domain",
           "scaleanchor": "y"
          },
          "yaxis": {
           "autorange": "reversed",
           "constrain": "domain"
          }
         },
         "name": "12"
        },
        {
         "data": [
          {
           "coloraxis": "coloraxis",
           "name": "13",
           "type": "heatmap",
           "z": [
            [
             24,
             16,
             9,
             11,
             2,
             6,
             0,
             0,
             0,
             0,
             0,
             0,
             4,
             6,
             6,
             8,
             10,
             12,
             12,
             12,
             12,
             12,
             10,
             10,
             6,
             8,
             10,
             11,
             12,
             13,
             17,
             20,
             23,
             22,
             24,
             24
            ],
            [
             47,
             48,
             48,
             45,
             48,
             42,
             39,
             31,
             39,
             30,
             18,
             14,
             19,
             21,
             21,
             33,
             31,
             31,
             31,
             25,
             25,
             25,
             19,
             12,
             9,
             15,
             21,
             19,
             19,
             16,
             22,
             23,
             35,
             44,
             46,
             48
            ],
            [
             58,
             54,
             52,
             38,
             40,
             39,
             33,
             34,
             42,
             29,
             29,
             33,
             45,
             42,
             42,
             18,
             20,
             20,
             18,
             25,
             25,
             25,
             33,
             23,
             22,
             25,
             18,
             18,
             20,
             28,
             29,
             46,
             57,
             57,
             49,
             54
            ],
            [
             98,
             102,
             109,
             98,
             87,
             50,
             42,
             33,
             41,
             53,
             59,
             52,
             35,
             25,
             44,
             46,
             37,
             40,
             39,
             33,
             27,
             23,
             44,
             45,
             44,
             51,
             34,
             38,
             42,
             53,
             61,
             62,
             75,
             90,
             98,
             93
            ],
            [
             16,
             14,
             78,
             111,
             130,
             85,
             56,
             43,
             35,
             56,
             64,
             66,
             43,
             53,
             45,
             56,
             72,
             57,
             55,
             50,
             64,
             52,
             51,
             39,
             55,
             69,
             58,
             54,
             54,
             65,
             106,
             146,
             110,
             65,
             27,
             22
            ],
            [
             35,
             54,
             64,
             22,
             71,
             122,
             93,
             65,
             62,
             63,
             52,
             54,
             44,
             61,
             60,
             45,
             63,
             78,
             70,
             81,
             77,
             57,
             72,
             65,
             70,
             58,
             65,
             64,
             61,
             93,
             122,
             78,
             44,
             61,
             33,
             34
            ],
            [
             16,
             29,
             28,
             34,
             50,
             90,
             157,
             109,
             106,
             94,
             89,
             89,
             76,
             66,
             75,
             87,
             78,
             87,
             62,
             87,
             78,
             79,
             79,
             63,
             90,
             86,
             94,
             91,
             92,
             157,
             87,
             46,
             36,
             49,
             17,
             18
            ],
            [
             14,
             18,
             16,
             27,
             55,
             72,
             182,
             166,
             127,
             137,
             137,
             118,
             88,
             87,
             93,
             113,
             81,
             109,
             99,
             104,
             89,
             91,
             79,
             80,
             101,
             112,
             156,
             153,
             181,
             189,
             70,
             51,
             15,
             26,
             15,
             26
            ],
            [
             41,
             45,
             42,
             53,
             42,
             74,
             238,
             252,
             220,
             190,
             178,
             150,
             147,
             130,
             142,
             125,
             134,
             134,
             143,
             129,
             124,
             141,
             141,
             148,
             163,
             178,
             199,
             209,
             237,
             233,
             74,
             40,
             43,
             46,
             45,
             41
            ]
           ]
          }
         ],
         "layout": {
          "coloraxis": {
           "cmax": 1,
           "cmin": 0,
           "colorscale": [
            [
             0,
             "rgb(255,255,255)"
            ],
            [
             0.125,
             "rgb(240,240,240)"
            ],
            [
             0.25,
             "rgb(217,217,217)"
            ],
            [
             0.375,
             "rgb(189,189,189)"
            ],
            [
             0.5,
             "rgb(150,150,150)"
            ],
            [
             0.625,
             "rgb(115,115,115)"
            ],
            [
             0.75,
             "rgb(82,82,82)"
            ],
            [
             0.875,
             "rgb(37,37,37)"
            ],
            [
             1,
             "rgb(0,0,0)"
            ]
           ]
          },
          "margin": {
           "t": 60
          },
          "xaxis": {
           "constrain": "domain",
           "scaleanchor": "y"
          },
          "yaxis": {
           "autorange": "reversed",
           "constrain": "domain"
          }
         },
         "name": "13"
        },
        {
         "data": [
          {
           "coloraxis": "coloraxis",
           "name": "14",
           "type": "heatmap",
           "z": [
            [
             0,
             0,
             0,
             0,
             0,
             0,
             0,
             0,
             0,
             0,
             2,
             0,
             2,
             0,
             2,
             0,
             3,
             0,
             3,
             1,
             2,
             3,
             2,
             3,
             1,
             1,
             1,
             1,
             1,
             0,
             0,
             0,
             0,
             0,
             0,
             0
            ],
            [
             2,
             2,
             2,
             2,
             2,
             0,
             2,
             2,
             0,
             2,
             0,
             0,
             1,
             1,
             1,
             1,
             0,
             0,
             0,
             0,
             0,
             0,
             0,
             2,
             14,
             12,
             12,
             12,
             1,
             0,
             0,
             0,
             0,
             0,
             2,
             2
            ],
            [
             4,
             4,
             14,
             11,
             12,
             12,
             18,
             22,
             20,
             21,
             21,
             21,
             12,
             3,
             1,
             1,
             1,
             1,
             1,
             2,
             14,
             14,
             14,
             14,
             8,
             0,
             0,
             12,
             24,
             25,
             25,
             13,
             5,
             5,
             6,
             4
            ],
            [
             10,
             10,
             2,
             4,
             14,
             11,
             12,
             2,
             3,
             1,
             0,
             10,
             11,
             20,
             10,
             10,
             2,
             2,
             2,
             15,
             13,
             0,
             0,
             0,
             16,
             14,
             14,
             12,
             9,
             2,
             14,
             29,
             27,
             13,
             13,
             0
            ],
            [
             10,
             0,
             0,
             10,
             13,
             14,
             13,
             1,
             3,
             0,
             0,
             0,
             1,
             10,
             0,
             12,
             12,
             0,
             12,
             12,
             1,
             1,
             0,
             12,
             14,
             0,
             2,
             3,
             1,
             3,
             5,
             1,
             12,
             12,
             12,
             22
            ],
            [
             12,
             10,
             22,
             22,
             12,
             27,
             30,
             26,
             26,
             26,
             24,
             15,
             15,
             12,
             14,
             4,
             12,
             12,
             12,
             1,
             1,
             2,
             13,
             13,
             13,
             11,
             21,
             21,
             24,
             26,
             13,
             10,
             10,
             22,
             10,
             22
            ],
            [
             34,
             22,
             22,
             22,
             22,
             22,
             16,
             15,
             6,
             5,
             13,
             12,
             13,
             17,
             49,
             35,
             37,
             65,
             59,
             37,
             34,
             37,
             29,
             12,
             24,
             12,
             14,
             16,
             17,
             28,
             22,
             22,
             14,
             24,
             20,
             30
            ],
            [
             112,
             76,
             56,
             44,
             34,
             35,
             41,
             51,
             36,
             24,
             20,
             57,
             126,
             175,
             236,
             241,
             238,
             261,
             248,
             231,
             227,
             233,
             179,
             125,
             60,
             17,
             26,
             29,
             39,
             43,
             22,
             22,
             44,
             58,
             78,
             100
            ],
            [
             44,
             118,
             122,
             78,
             66,
             51,
             55,
             39,
             64,
             181,
             260,
             312,
             328,
             303,
             265,
             261,
             260,
             245,
             250,
             255,
             256,
             299,
             309,
             335,
             316,
             266,
             180,
             63,
             49,
             46,
             62,
             66,
             88,
             112,
             124,
             44
            ]
           ]
          }
         ],
         "layout": {
          "coloraxis": {
           "cmax": 1,
           "cmin": 0,
           "colorscale": [
            [
             0,
             "rgb(255,255,255)"
            ],
            [
             0.125,
             "rgb(240,240,240)"
            ],
            [
             0.25,
             "rgb(217,217,217)"
            ],
            [
             0.375,
             "rgb(189,189,189)"
            ],
            [
             0.5,
             "rgb(150,150,150)"
            ],
            [
             0.625,
             "rgb(115,115,115)"
            ],
            [
             0.75,
             "rgb(82,82,82)"
            ],
            [
             0.875,
             "rgb(37,37,37)"
            ],
            [
             1,
             "rgb(0,0,0)"
            ]
           ]
          },
          "margin": {
           "t": 60
          },
          "xaxis": {
           "constrain": "domain",
           "scaleanchor": "y"
          },
          "yaxis": {
           "autorange": "reversed",
           "constrain": "domain"
          }
         },
         "name": "14"
        }
       ],
       "layout": {
        "coloraxis": {
         "cmax": 1,
         "cmin": 0,
         "colorscale": [
          [
           0,
           "rgb(255,255,255)"
          ],
          [
           0.125,
           "rgb(240,240,240)"
          ],
          [
           0.25,
           "rgb(217,217,217)"
          ],
          [
           0.375,
           "rgb(189,189,189)"
          ],
          [
           0.5,
           "rgb(150,150,150)"
          ],
          [
           0.625,
           "rgb(115,115,115)"
          ],
          [
           0.75,
           "rgb(82,82,82)"
          ],
          [
           0.875,
           "rgb(37,37,37)"
          ],
          [
           1,
           "rgb(0,0,0)"
          ]
         ]
        },
        "margin": {
         "t": 60
        },
        "sliders": [
         {
          "active": 0,
          "currentvalue": {
           "prefix": "animation_frame="
          },
          "len": 0.9,
          "pad": {
           "b": 10,
           "t": 60
          },
          "steps": [
           {
            "args": [
             [
              "0"
             ],
             {
              "frame": {
               "duration": 0,
               "redraw": true
              },
              "fromcurrent": true,
              "mode": "immediate",
              "transition": {
               "duration": 0,
               "easing": "linear"
              }
             }
            ],
            "label": "0",
            "method": "animate"
           },
           {
            "args": [
             [
              "1"
             ],
             {
              "frame": {
               "duration": 0,
               "redraw": true
              },
              "fromcurrent": true,
              "mode": "immediate",
              "transition": {
               "duration": 0,
               "easing": "linear"
              }
             }
            ],
            "label": "1",
            "method": "animate"
           },
           {
            "args": [
             [
              "2"
             ],
             {
              "frame": {
               "duration": 0,
               "redraw": true
              },
              "fromcurrent": true,
              "mode": "immediate",
              "transition": {
               "duration": 0,
               "easing": "linear"
              }
             }
            ],
            "label": "2",
            "method": "animate"
           },
           {
            "args": [
             [
              "3"
             ],
             {
              "frame": {
               "duration": 0,
               "redraw": true
              },
              "fromcurrent": true,
              "mode": "immediate",
              "transition": {
               "duration": 0,
               "easing": "linear"
              }
             }
            ],
            "label": "3",
            "method": "animate"
           },
           {
            "args": [
             [
              "4"
             ],
             {
              "frame": {
               "duration": 0,
               "redraw": true
              },
              "fromcurrent": true,
              "mode": "immediate",
              "transition": {
               "duration": 0,
               "easing": "linear"
              }
             }
            ],
            "label": "4",
            "method": "animate"
           },
           {
            "args": [
             [
              "5"
             ],
             {
              "frame": {
               "duration": 0,
               "redraw": true
              },
              "fromcurrent": true,
              "mode": "immediate",
              "transition": {
               "duration": 0,
               "easing": "linear"
              }
             }
            ],
            "label": "5",
            "method": "animate"
           },
           {
            "args": [
             [
              "6"
             ],
             {
              "frame": {
               "duration": 0,
               "redraw": true
              },
              "fromcurrent": true,
              "mode": "immediate",
              "transition": {
               "duration": 0,
               "easing": "linear"
              }
             }
            ],
            "label": "6",
            "method": "animate"
           },
           {
            "args": [
             [
              "7"
             ],
             {
              "frame": {
               "duration": 0,
               "redraw": true
              },
              "fromcurrent": true,
              "mode": "immediate",
              "transition": {
               "duration": 0,
               "easing": "linear"
              }
             }
            ],
            "label": "7",
            "method": "animate"
           },
           {
            "args": [
             [
              "8"
             ],
             {
              "frame": {
               "duration": 0,
               "redraw": true
              },
              "fromcurrent": true,
              "mode": "immediate",
              "transition": {
               "duration": 0,
               "easing": "linear"
              }
             }
            ],
            "label": "8",
            "method": "animate"
           },
           {
            "args": [
             [
              "9"
             ],
             {
              "frame": {
               "duration": 0,
               "redraw": true
              },
              "fromcurrent": true,
              "mode": "immediate",
              "transition": {
               "duration": 0,
               "easing": "linear"
              }
             }
            ],
            "label": "9",
            "method": "animate"
           },
           {
            "args": [
             [
              "10"
             ],
             {
              "frame": {
               "duration": 0,
               "redraw": true
              },
              "fromcurrent": true,
              "mode": "immediate",
              "transition": {
               "duration": 0,
               "easing": "linear"
              }
             }
            ],
            "label": "10",
            "method": "animate"
           },
           {
            "args": [
             [
              "11"
             ],
             {
              "frame": {
               "duration": 0,
               "redraw": true
              },
              "fromcurrent": true,
              "mode": "immediate",
              "transition": {
               "duration": 0,
               "easing": "linear"
              }
             }
            ],
            "label": "11",
            "method": "animate"
           },
           {
            "args": [
             [
              "12"
             ],
             {
              "frame": {
               "duration": 0,
               "redraw": true
              },
              "fromcurrent": true,
              "mode": "immediate",
              "transition": {
               "duration": 0,
               "easing": "linear"
              }
             }
            ],
            "label": "12",
            "method": "animate"
           },
           {
            "args": [
             [
              "13"
             ],
             {
              "frame": {
               "duration": 0,
               "redraw": true
              },
              "fromcurrent": true,
              "mode": "immediate",
              "transition": {
               "duration": 0,
               "easing": "linear"
              }
             }
            ],
            "label": "13",
            "method": "animate"
           },
           {
            "args": [
             [
              "14"
             ],
             {
              "frame": {
               "duration": 0,
               "redraw": true
              },
              "fromcurrent": true,
              "mode": "immediate",
              "transition": {
               "duration": 0,
               "easing": "linear"
              }
             }
            ],
            "label": "14",
            "method": "animate"
           }
          ],
          "x": 0.1,
          "xanchor": "left",
          "y": 0,
          "yanchor": "top"
         }
        ],
        "template": {
         "data": {
          "bar": [
           {
            "error_x": {
             "color": "#2a3f5f"
            },
            "error_y": {
             "color": "#2a3f5f"
            },
            "marker": {
             "line": {
              "color": "#E5ECF6",
              "width": 0.5
             },
             "pattern": {
              "fillmode": "overlay",
              "size": 10,
              "solidity": 0.2
             }
            },
            "type": "bar"
           }
          ],
          "barpolar": [
           {
            "marker": {
             "line": {
              "color": "#E5ECF6",
              "width": 0.5
             },
             "pattern": {
              "fillmode": "overlay",
              "size": 10,
              "solidity": 0.2
             }
            },
            "type": "barpolar"
           }
          ],
          "carpet": [
           {
            "aaxis": {
             "endlinecolor": "#2a3f5f",
             "gridcolor": "white",
             "linecolor": "white",
             "minorgridcolor": "white",
             "startlinecolor": "#2a3f5f"
            },
            "baxis": {
             "endlinecolor": "#2a3f5f",
             "gridcolor": "white",
             "linecolor": "white",
             "minorgridcolor": "white",
             "startlinecolor": "#2a3f5f"
            },
            "type": "carpet"
           }
          ],
          "choropleth": [
           {
            "colorbar": {
             "outlinewidth": 0,
             "ticks": ""
            },
            "type": "choropleth"
           }
          ],
          "contour": [
           {
            "colorbar": {
             "outlinewidth": 0,
             "ticks": ""
            },
            "colorscale": [
             [
              0,
              "#0d0887"
             ],
             [
              0.1111111111111111,
              "#46039f"
             ],
             [
              0.2222222222222222,
              "#7201a8"
             ],
             [
              0.3333333333333333,
              "#9c179e"
             ],
             [
              0.4444444444444444,
              "#bd3786"
             ],
             [
              0.5555555555555556,
              "#d8576b"
             ],
             [
              0.6666666666666666,
              "#ed7953"
             ],
             [
              0.7777777777777778,
              "#fb9f3a"
             ],
             [
              0.8888888888888888,
              "#fdca26"
             ],
             [
              1,
              "#f0f921"
             ]
            ],
            "type": "contour"
           }
          ],
          "contourcarpet": [
           {
            "colorbar": {
             "outlinewidth": 0,
             "ticks": ""
            },
            "type": "contourcarpet"
           }
          ],
          "heatmap": [
           {
            "colorbar": {
             "outlinewidth": 0,
             "ticks": ""
            },
            "colorscale": [
             [
              0,
              "#0d0887"
             ],
             [
              0.1111111111111111,
              "#46039f"
             ],
             [
              0.2222222222222222,
              "#7201a8"
             ],
             [
              0.3333333333333333,
              "#9c179e"
             ],
             [
              0.4444444444444444,
              "#bd3786"
             ],
             [
              0.5555555555555556,
              "#d8576b"
             ],
             [
              0.6666666666666666,
              "#ed7953"
             ],
             [
              0.7777777777777778,
              "#fb9f3a"
             ],
             [
              0.8888888888888888,
              "#fdca26"
             ],
             [
              1,
              "#f0f921"
             ]
            ],
            "type": "heatmap"
           }
          ],
          "heatmapgl": [
           {
            "colorbar": {
             "outlinewidth": 0,
             "ticks": ""
            },
            "colorscale": [
             [
              0,
              "#0d0887"
             ],
             [
              0.1111111111111111,
              "#46039f"
             ],
             [
              0.2222222222222222,
              "#7201a8"
             ],
             [
              0.3333333333333333,
              "#9c179e"
             ],
             [
              0.4444444444444444,
              "#bd3786"
             ],
             [
              0.5555555555555556,
              "#d8576b"
             ],
             [
              0.6666666666666666,
              "#ed7953"
             ],
             [
              0.7777777777777778,
              "#fb9f3a"
             ],
             [
              0.8888888888888888,
              "#fdca26"
             ],
             [
              1,
              "#f0f921"
             ]
            ],
            "type": "heatmapgl"
           }
          ],
          "histogram": [
           {
            "marker": {
             "pattern": {
              "fillmode": "overlay",
              "size": 10,
              "solidity": 0.2
             }
            },
            "type": "histogram"
           }
          ],
          "histogram2d": [
           {
            "colorbar": {
             "outlinewidth": 0,
             "ticks": ""
            },
            "colorscale": [
             [
              0,
              "#0d0887"
             ],
             [
              0.1111111111111111,
              "#46039f"
             ],
             [
              0.2222222222222222,
              "#7201a8"
             ],
             [
              0.3333333333333333,
              "#9c179e"
             ],
             [
              0.4444444444444444,
              "#bd3786"
             ],
             [
              0.5555555555555556,
              "#d8576b"
             ],
             [
              0.6666666666666666,
              "#ed7953"
             ],
             [
              0.7777777777777778,
              "#fb9f3a"
             ],
             [
              0.8888888888888888,
              "#fdca26"
             ],
             [
              1,
              "#f0f921"
             ]
            ],
            "type": "histogram2d"
           }
          ],
          "histogram2dcontour": [
           {
            "colorbar": {
             "outlinewidth": 0,
             "ticks": ""
            },
            "colorscale": [
             [
              0,
              "#0d0887"
             ],
             [
              0.1111111111111111,
              "#46039f"
             ],
             [
              0.2222222222222222,
              "#7201a8"
             ],
             [
              0.3333333333333333,
              "#9c179e"
             ],
             [
              0.4444444444444444,
              "#bd3786"
             ],
             [
              0.5555555555555556,
              "#d8576b"
             ],
             [
              0.6666666666666666,
              "#ed7953"
             ],
             [
              0.7777777777777778,
              "#fb9f3a"
             ],
             [
              0.8888888888888888,
              "#fdca26"
             ],
             [
              1,
              "#f0f921"
             ]
            ],
            "type": "histogram2dcontour"
           }
          ],
          "mesh3d": [
           {
            "colorbar": {
             "outlinewidth": 0,
             "ticks": ""
            },
            "type": "mesh3d"
           }
          ],
          "parcoords": [
           {
            "line": {
             "colorbar": {
              "outlinewidth": 0,
              "ticks": ""
             }
            },
            "type": "parcoords"
           }
          ],
          "pie": [
           {
            "automargin": true,
            "type": "pie"
           }
          ],
          "scatter": [
           {
            "fillpattern": {
             "fillmode": "overlay",
             "size": 10,
             "solidity": 0.2
            },
            "type": "scatter"
           }
          ],
          "scatter3d": [
           {
            "line": {
             "colorbar": {
              "outlinewidth": 0,
              "ticks": ""
             }
            },
            "marker": {
             "colorbar": {
              "outlinewidth": 0,
              "ticks": ""
             }
            },
            "type": "scatter3d"
           }
          ],
          "scattercarpet": [
           {
            "marker": {
             "colorbar": {
              "outlinewidth": 0,
              "ticks": ""
             }
            },
            "type": "scattercarpet"
           }
          ],
          "scattergeo": [
           {
            "marker": {
             "colorbar": {
              "outlinewidth": 0,
              "ticks": ""
             }
            },
            "type": "scattergeo"
           }
          ],
          "scattergl": [
           {
            "marker": {
             "colorbar": {
              "outlinewidth": 0,
              "ticks": ""
             }
            },
            "type": "scattergl"
           }
          ],
          "scattermapbox": [
           {
            "marker": {
             "colorbar": {
              "outlinewidth": 0,
              "ticks": ""
             }
            },
            "type": "scattermapbox"
           }
          ],
          "scatterpolar": [
           {
            "marker": {
             "colorbar": {
              "outlinewidth": 0,
              "ticks": ""
             }
            },
            "type": "scatterpolar"
           }
          ],
          "scatterpolargl": [
           {
            "marker": {
             "colorbar": {
              "outlinewidth": 0,
              "ticks": ""
             }
            },
            "type": "scatterpolargl"
           }
          ],
          "scatterternary": [
           {
            "marker": {
             "colorbar": {
              "outlinewidth": 0,
              "ticks": ""
             }
            },
            "type": "scatterternary"
           }
          ],
          "surface": [
           {
            "colorbar": {
             "outlinewidth": 0,
             "ticks": ""
            },
            "colorscale": [
             [
              0,
              "#0d0887"
             ],
             [
              0.1111111111111111,
              "#46039f"
             ],
             [
              0.2222222222222222,
              "#7201a8"
             ],
             [
              0.3333333333333333,
              "#9c179e"
             ],
             [
              0.4444444444444444,
              "#bd3786"
             ],
             [
              0.5555555555555556,
              "#d8576b"
             ],
             [
              0.6666666666666666,
              "#ed7953"
             ],
             [
              0.7777777777777778,
              "#fb9f3a"
             ],
             [
              0.8888888888888888,
              "#fdca26"
             ],
             [
              1,
              "#f0f921"
             ]
            ],
            "type": "surface"
           }
          ],
          "table": [
           {
            "cells": {
             "fill": {
              "color": "#EBF0F8"
             },
             "line": {
              "color": "white"
             }
            },
            "header": {
             "fill": {
              "color": "#C8D4E3"
             },
             "line": {
              "color": "white"
             }
            },
            "type": "table"
           }
          ]
         },
         "layout": {
          "annotationdefaults": {
           "arrowcolor": "#2a3f5f",
           "arrowhead": 0,
           "arrowwidth": 1
          },
          "autotypenumbers": "strict",
          "coloraxis": {
           "colorbar": {
            "outlinewidth": 0,
            "ticks": ""
           }
          },
          "colorscale": {
           "diverging": [
            [
             0,
             "#8e0152"
            ],
            [
             0.1,
             "#c51b7d"
            ],
            [
             0.2,
             "#de77ae"
            ],
            [
             0.3,
             "#f1b6da"
            ],
            [
             0.4,
             "#fde0ef"
            ],
            [
             0.5,
             "#f7f7f7"
            ],
            [
             0.6,
             "#e6f5d0"
            ],
            [
             0.7,
             "#b8e186"
            ],
            [
             0.8,
             "#7fbc41"
            ],
            [
             0.9,
             "#4d9221"
            ],
            [
             1,
             "#276419"
            ]
           ],
           "sequential": [
            [
             0,
             "#0d0887"
            ],
            [
             0.1111111111111111,
             "#46039f"
            ],
            [
             0.2222222222222222,
             "#7201a8"
            ],
            [
             0.3333333333333333,
             "#9c179e"
            ],
            [
             0.4444444444444444,
             "#bd3786"
            ],
            [
             0.5555555555555556,
             "#d8576b"
            ],
            [
             0.6666666666666666,
             "#ed7953"
            ],
            [
             0.7777777777777778,
             "#fb9f3a"
            ],
            [
             0.8888888888888888,
             "#fdca26"
            ],
            [
             1,
             "#f0f921"
            ]
           ],
           "sequentialminus": [
            [
             0,
             "#0d0887"
            ],
            [
             0.1111111111111111,
             "#46039f"
            ],
            [
             0.2222222222222222,
             "#7201a8"
            ],
            [
             0.3333333333333333,
             "#9c179e"
            ],
            [
             0.4444444444444444,
             "#bd3786"
            ],
            [
             0.5555555555555556,
             "#d8576b"
            ],
            [
             0.6666666666666666,
             "#ed7953"
            ],
            [
             0.7777777777777778,
             "#fb9f3a"
            ],
            [
             0.8888888888888888,
             "#fdca26"
            ],
            [
             1,
             "#f0f921"
            ]
           ]
          },
          "colorway": [
           "#636efa",
           "#EF553B",
           "#00cc96",
           "#ab63fa",
           "#FFA15A",
           "#19d3f3",
           "#FF6692",
           "#B6E880",
           "#FF97FF",
           "#FECB52"
          ],
          "font": {
           "color": "#2a3f5f"
          },
          "geo": {
           "bgcolor": "white",
           "lakecolor": "white",
           "landcolor": "#E5ECF6",
           "showlakes": true,
           "showland": true,
           "subunitcolor": "white"
          },
          "hoverlabel": {
           "align": "left"
          },
          "hovermode": "closest",
          "mapbox": {
           "style": "light"
          },
          "paper_bgcolor": "white",
          "plot_bgcolor": "#E5ECF6",
          "polar": {
           "angularaxis": {
            "gridcolor": "white",
            "linecolor": "white",
            "ticks": ""
           },
           "bgcolor": "#E5ECF6",
           "radialaxis": {
            "gridcolor": "white",
            "linecolor": "white",
            "ticks": ""
           }
          },
          "scene": {
           "xaxis": {
            "backgroundcolor": "#E5ECF6",
            "gridcolor": "white",
            "gridwidth": 2,
            "linecolor": "white",
            "showbackground": true,
            "ticks": "",
            "zerolinecolor": "white"
           },
           "yaxis": {
            "backgroundcolor": "#E5ECF6",
            "gridcolor": "white",
            "gridwidth": 2,
            "linecolor": "white",
            "showbackground": true,
            "ticks": "",
            "zerolinecolor": "white"
           },
           "zaxis": {
            "backgroundcolor": "#E5ECF6",
            "gridcolor": "white",
            "gridwidth": 2,
            "linecolor": "white",
            "showbackground": true,
            "ticks": "",
            "zerolinecolor": "white"
           }
          },
          "shapedefaults": {
           "line": {
            "color": "#2a3f5f"
           }
          },
          "ternary": {
           "aaxis": {
            "gridcolor": "white",
            "linecolor": "white",
            "ticks": ""
           },
           "baxis": {
            "gridcolor": "white",
            "linecolor": "white",
            "ticks": ""
           },
           "bgcolor": "#E5ECF6",
           "caxis": {
            "gridcolor": "white",
            "linecolor": "white",
            "ticks": ""
           }
          },
          "title": {
           "x": 0.05
          },
          "xaxis": {
           "automargin": true,
           "gridcolor": "white",
           "linecolor": "white",
           "ticks": "",
           "title": {
            "standoff": 15
           },
           "zerolinecolor": "white",
           "zerolinewidth": 2
          },
          "yaxis": {
           "automargin": true,
           "gridcolor": "white",
           "linecolor": "white",
           "ticks": "",
           "title": {
            "standoff": 15
           },
           "zerolinecolor": "white",
           "zerolinewidth": 2
          }
         }
        },
        "title": {
         "text": "Interpolated Data-(comp time=15.80s,p=93.77%,t=14.7955 days,sats=2)"
        },
        "updatemenus": [
         {
          "buttons": [
           {
            "args": [
             null,
             {
              "frame": {
               "duration": 500,
               "redraw": true
              },
              "fromcurrent": true,
              "mode": "immediate",
              "transition": {
               "duration": 500,
               "easing": "linear"
              }
             }
            ],
            "label": "&#9654;",
            "method": "animate"
           },
           {
            "args": [
             [
              null
             ],
             {
              "frame": {
               "duration": 0,
               "redraw": true
              },
              "fromcurrent": true,
              "mode": "immediate",
              "transition": {
               "duration": 0,
               "easing": "linear"
              }
             }
            ],
            "label": "&#9724;",
            "method": "animate"
           }
          ],
          "direction": "left",
          "pad": {
           "r": 10,
           "t": 70
          },
          "showactive": false,
          "type": "buttons",
          "x": 0.1,
          "xanchor": "right",
          "y": 0,
          "yanchor": "top"
         }
        ],
        "xaxis": {
         "anchor": "y",
         "constrain": "domain",
         "domain": [
          0,
          1
         ],
         "scaleanchor": "y",
         "title": {
          "text": "Azimuth"
         }
        },
        "yaxis": {
         "anchor": "x",
         "autorange": "reversed",
         "constrain": "domain",
         "domain": [
          0,
          1
         ],
         "title": {
          "text": "Elevation"
         }
        }
       }
      }
     },
     "metadata": {},
     "output_type": "display_data"
    }
   ],
   "source": [
    "fig = px.imshow(np.array([bin.T[::-1] for bin in interpolated_target_bins]),animation_frame=0,zmax=1,zmin=0, color_continuous_scale='Greys')\n",
    "fig.update_layout({\"title\":f\"Interpolated Data-(comp time={t_interp:.2f}s,p={p1:.2f}%,t={t1:.4f} days,sats={s1})\",\n",
    "                   \"xaxis_title\":\"Azimuth\",\n",
    "                   \"yaxis_title\":\"Elevation\"})\n",
    "fig.show()\n",
    "\n",
    "# fig = px.imshow(np.array([bin.T[::-1] for bin in target_bins]),animation_frame=0)\n",
    "# fig.update_layout({\"title\":f\"Simulated Data-(comp time={t_sim:.2f}s,p={p2:.2f}%,t={t2:.4f} days,sats={s2})\",\n",
    "#                    \"xaxis_title\":\"Azimuth\",\n",
    "#                    \"yaxis_title\":\"Elevation\"})\n",
    "# fig.show()"
   ]
  },
  {
   "cell_type": "code",
   "execution_count": 38,
   "metadata": {},
   "outputs": [],
   "source": [
    "import matplotlib.pyplot as plt\n",
    "%matplotlib tk\n",
    "\n",
    "N = len(stk_object.satellites)\n",
    "fig,axes = plt.subplots(N//2,2)\n",
    "for interval in stk_object.Intervals:\n",
    "    tar = interval.target_number\n",
    "    sat = interval.satellite_number\n",
    "    axes[sat].plot([interval.start,interval.stop],[tar,tar],marker=\"|\")"
   ]
  }
 ],
 "metadata": {
  "kernelspec": {
   "display_name": "Python 3",
   "language": "python",
   "name": "python3"
  },
  "language_info": {
   "codemirror_mode": {
    "name": "ipython",
    "version": 3
   },
   "file_extension": ".py",
   "mimetype": "text/x-python",
   "name": "python",
   "nbconvert_exporter": "python",
   "pygments_lexer": "ipython3",
   "version": "3.12.0"
  }
 },
 "nbformat": 4,
 "nbformat_minor": 2
}
