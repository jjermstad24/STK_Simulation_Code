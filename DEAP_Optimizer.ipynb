{
 "cells": [
  {
   "cell_type": "code",
   "execution_count": null,
   "metadata": {},
   "outputs": [],
   "source": [
    "from STK_Sim import *\n",
    "\n",
    "Filename = 'AERO_402_Further_Assessment'\n",
    "\n",
    "stk_object = STK_Simulation(False,Filename)"
   ]
  },
  {
   "cell_type": "code",
   "execution_count": null,
   "metadata": {},
   "outputs": [],
   "source": [
    "# Setting scenario time variables\n",
    "stk_object.root.UnitPreferences.SetCurrentUnit(\"DateFormat\", \"UTCG\")\n",
    "start_time = time_convert(stk_object.root.CurrentScenario.StartTime)\n",
    "duration = datetime.timedelta(days=1, seconds=0, microseconds=0, milliseconds=0, minutes=0, hours=0, weeks=0)\n",
    "stop_time=(start_time+duration).strftime(\"%d %b %Y %H:%M:%S.%f\")\n",
    "stk_object.root.CurrentScenario.StopTime=stop_time\n",
    "stk_object.root.UnitPreferences.SetCurrentUnit(\"DateFormat\", \"EpSec\")\n",
    "\n",
    "# All of these variables substantially change calculation time\n",
    "stk_object.dt = 30\n",
    "n_targets = 15\n",
    "n_sats = 12\n",
    "n_pop = 10\n",
    "n_gen = 5\n",
    "\n",
    "Opt = Optimizer(stk_object,n_pop,n_gen,n_sats)"
   ]
  },
  {
   "cell_type": "code",
   "execution_count": null,
   "metadata": {},
   "outputs": [],
   "source": [
    "# Generating Targets\n",
    "\n",
    "# Generating a polygon to bound the lat/lon coordinates, you can create your polygon, in the same format as Targets_Polygon.txt.\n",
    "poly = Create_Poly('Input_Files/Targets_Polygon.txt')\n",
    "\n",
    "# Writing random points within the polygon to a target file.\n",
    "targets_filename = 'Input_Files/Targets_File.txt'\n",
    "polygon_random_points(poly,n_targets,targets_filename)\n",
    "\n",
    "# Loading targets into stk from file.\n",
    "stk_object.Target_Loader(targets_filename)\n",
    "\n",
    "# # Plotting the polygon and generated targets on the map.\n",
    "# plot_targets_and_polygon(poly,targets_filename)"
   ]
  },
  {
   "cell_type": "code",
   "execution_count": null,
   "metadata": {},
   "outputs": [],
   "source": [
    "# Calling optimizer object and running optimization\n",
    "\n",
    "stk_object.dt = 30\n",
    "stk_object.Interpolate = True\n",
    "hof,percent,times,sats = Opt.run()\n",
    "Opt.cost_function(hof[0])\n",
    "print(pd.DataFrame(percent))"
   ]
  },
  {
   "cell_type": "code",
   "execution_count": null,
   "metadata": {},
   "outputs": [],
   "source": [
    "from requirements.OCD_1_1 import Check_Lifetime\n",
    "\n",
    "for h in hof:\n",
    "    print(h)\n",
    "    Opt.cost_function(h)\n",
    "    Check_Lifetime(stk_object).run()"
   ]
  },
  {
   "cell_type": "code",
   "execution_count": null,
   "metadata": {},
   "outputs": [],
   "source": []
  },
  {
   "cell_type": "code",
   "execution_count": null,
   "metadata": {},
   "outputs": [],
   "source": [
    "# Comparing high data rate w/ no interpolation to low data rate w/ interpolation data\n",
    "\n",
    "stk_object.root.UnitPreferences.SetCurrentUnit(\"DateFormat\", \"UTCG\")\n",
    "start_time = time_convert(stk_object.root.CurrentScenario.StartTime)\n",
    "duration = datetime.timedelta(days=30, seconds=0, microseconds=0, milliseconds=0, minutes=0, hours=0, weeks=0)\n",
    "stop_time=(start_time+duration).strftime(\"%d %b %Y %H:%M:%S.%f\")\n",
    "stk_object.root.CurrentScenario.StopTime=stop_time\n",
    "stk_object.root.UnitPreferences.SetCurrentUnit(\"DateFormat\", \"EpSec\")\n",
    "\n",
    "t_interp = time.time()\n",
    "\n",
    "stk_object.dt = 30\n",
    "stk_object.Interpolate = True\n",
    "p1,t1,s1=Opt.cost_function(write=False)\n",
    "\n",
    "interpolated_target_bins = stk_object.target_bins.copy()\n",
    "\n",
    "t_interp = time.time()-t_interp\n",
    "\n",
    "# t_sim = time.time()\n",
    "# stk_object.dt = 2.5\n",
    "# stk_object.Interpolate = False\n",
    "# p2,t2,s2=Opt.cost_function(write=False)\n",
    "\n",
    "# t_sim = time.time()-t_sim\n",
    "\n",
    "# target_bins = stk_object.target_bins.copy()"
   ]
  },
  {
   "cell_type": "code",
   "execution_count": null,
   "metadata": {},
   "outputs": [],
   "source": [
    "fig = px.imshow(np.array([bin.T[::-1] for bin in interpolated_target_bins]),animation_frame=0,zmax=1,zmin=0, color_continuous_scale='Greys')\n",
    "fig.update_layout({\"title\":f\"Interpolated Data-(comp time={t_interp:.2f}s,p={p1:.2f}%,t={t1:.4f} days,sats={s1})\",\n",
    "                   \"xaxis_title\":\"Azimuth\",\n",
    "                   \"yaxis_title\":\"Elevation\"})\n",
    "fig.show()\n",
    "\n",
    "# fig = px.imshow(np.array([bin.T[::-1] for bin in target_bins]),animation_frame=0)\n",
    "# fig.update_layout({\"title\":f\"Simulated Data-(comp time={t_sim:.2f}s,p={p2:.2f}%,t={t2:.4f} days,sats={s2})\",\n",
    "#                    \"xaxis_title\":\"Azimuth\",\n",
    "#                    \"yaxis_title\":\"Elevation\"})\n",
    "# fig.show()"
   ]
  },
  {
   "cell_type": "code",
   "execution_count": null,
   "metadata": {},
   "outputs": [],
   "source": [
    "import matplotlib.pyplot as plt\n",
    "%matplotlib tk\n",
    "\n",
    "N = len(stk_object.satellites)\n",
    "fig,axes = plt.subplots(N//2,2)\n",
    "for interval in stk_object.Intervals:\n",
    "    tar = interval.target_number\n",
    "    sat = interval.satellite_number\n",
    "    axes[sat].plot([interval.start,interval.stop],[tar,tar],marker=\"|\")"
   ]
  }
 ],
 "metadata": {
  "kernelspec": {
   "display_name": "Python 3",
   "language": "python",
   "name": "python3"
  },
  "language_info": {
   "codemirror_mode": {
    "name": "ipython",
    "version": 3
   },
   "file_extension": ".py",
   "mimetype": "text/x-python",
   "name": "python",
   "nbconvert_exporter": "python",
   "pygments_lexer": "ipython3",
   "version": "3.12.0"
  }
 },
 "nbformat": 4,
 "nbformat_minor": 2
}
