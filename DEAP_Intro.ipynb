{
 "cells": [
  {
   "cell_type": "code",
   "execution_count": 1,
   "metadata": {},
   "outputs": [],
   "source": [
    "from IPython.display import clear_output\n",
    "\n",
    "from deap import base\n",
    "from deap import creator\n",
    "from deap import tools\n",
    "\n",
    "from STK_Sim import *\n",
    "\n",
    "Filename = 'AERO_401_Initial_Assessment'\n",
    "\n",
    "stk_object = STK_Simulation(False,Filename)"
   ]
  },
  {
   "cell_type": "code",
   "execution_count": 2,
   "metadata": {},
   "outputs": [],
   "source": [
    "# Setting scenario time variables\n",
    "stk_object.root.UnitPreferences.SetCurrentUnit(\"DateFormat\", \"UTCG\")\n",
    "start_time = time_convert(stk_object.root.CurrentScenario.StartTime)\n",
    "dt = datetime.timedelta(days=1, seconds=0, microseconds=0, milliseconds=0, minutes=0, hours=0, weeks=0)\n",
    "stop_time=(start_time+dt).strftime(\"%d %b %Y %H:%M:%S.%f\")\n",
    "stk_object.root.CurrentScenario.StopTime=stop_time\n",
    "stk_object.root.UnitPreferences.SetCurrentUnit(\"DateFormat\", \"EpSec\")\n",
    "dt = 60 # Computation interval\n",
    "n_targets = 2\n",
    "n_sats = 2\n",
    "n_pop = 10\n",
    "n_gen = 5"
   ]
  },
  {
   "cell_type": "code",
   "execution_count": 3,
   "metadata": {},
   "outputs": [],
   "source": [
    "# Generating Targets\n",
    "\n",
    "# Generating a polygon to bound the lat/lon coordinates, you can create your polygon, in the same format as Targets_Polygon.txt.\n",
    "poly = Create_Poly('Input_Files/Targets_Polygon.txt')\n",
    "\n",
    "# Writing random points within the polygon to a target file.\n",
    "targets_filename = 'Input_Files/Targets_File.txt'\n",
    "polygon_random_points(poly,n_targets).to_csv(targets_filename,index=False)\n",
    "\n",
    "# Loading targets into stk from file.\n",
    "targets_filename = 'Input_Files/Targets_File.txt'\n",
    "stk_object.Target_Loader(targets_filename)"
   ]
  },
  {
   "cell_type": "code",
   "execution_count": 4,
   "metadata": {},
   "outputs": [
    {
     "name": "stdout",
     "output_type": "stream",
     "text": [
      "-- Generation 5 --\n",
      "[========================================] 2/2 [100%] in 0.2s (8.11/s)          \n",
      "[========================================] 2/2 [100%] in 0.2s (10.74/s)         \n",
      "[========================================] 2/2 [100%] in 0.1s (27.68/s)         \n",
      "[========================================] 2/2 [100%] in 0.2s (8.30/s)          \n",
      "[========================================] 2/2 [100%] in 0.1s (14.19/s)         \n",
      "[========================================] 2/2 [100%] in 0.2s (10.72/s)         \n",
      "[========================================] 2/2 [100%] in 0.2s (11.10/s)         \n",
      "[========================================] 2/2 [100%] in 0.1s (14.86/s)         \n",
      "[========================================] 2/2 [100%] in 0.6s (3.58/s)          \n"
     ]
    }
   ],
   "source": [
    "# Running Optimization\n",
    "\n",
    "# Creating DEAP optimization model (positive weights to maximize, negative weights to minimize)\n",
    "creator.create(\"FitnessMax\", base.Fitness, weights=(1.0,))\n",
    "# Creating satellite for the model\n",
    "creator.create(\"Satellite\", list, fitness=creator.FitnessMax)\n",
    "\n",
    "# DEAP Cost Function\n",
    "def satellite_performance(Individual):\n",
    "    file = open(\"Input_Files/Satellites_File.txt\",\"w\")\n",
    "    file.write(\"Per,Apo,Inc,AoP,Asc,Loc,Tar,Aft\\n\")\n",
    "    nvars = 5\n",
    "    for n in range(len(Individual)//nvars):\n",
    "        Alt = Individual[nvars*n]\n",
    "        Inc = Individual[nvars*n+1]\n",
    "        AoP = Individual[nvars*n+2]\n",
    "        Asc = Individual[nvars*n+3]\n",
    "        Loc = Individual[nvars*n+4]\n",
    "        Tar = 1\n",
    "        file.write(f\"{Alt},{Alt},{Inc},{AoP},{Asc},{Loc},{Tar}\\n\")\n",
    "    file.close()\n",
    "    satellites_filename = 'Input_Files/Satellites_File.txt'\n",
    "    stk_object.Satellite_Loader(satellites_filename)\n",
    "    stk_object.Compute_AzEl(dt)\n",
    "    num_total_angles = 0\n",
    "    for t in range(len(stk_object.targets)):\n",
    "        num_total_angles += len(np.where(stk_object.Azimuth_vs_Elevation[f\"Target{t+1}\"]>0)[0])\n",
    "    return 100*num_total_angles/324/len(stk_object.targets)\n",
    "\n",
    "# Lower and Upper Bounds of Variables\n",
    "lower = [500,0,0,0,0]\n",
    "upper = [615,180,180,180,180]\n",
    "\n",
    "# Registering variables to the satellite\n",
    "toolbox = base.Toolbox()\n",
    "toolbox.register(\"attr_alt\", random.uniform, lower[0], upper[0])\n",
    "toolbox.register(\"attr_inc\", random.uniform, lower[1], upper[1])\n",
    "toolbox.register(\"attr_aop\", random.uniform, lower[2], upper[2])\n",
    "toolbox.register(\"attr_asc\", random.uniform, lower[3], upper[3])\n",
    "toolbox.register(\"attr_loc\", random.uniform, lower[4], upper[4])\n",
    "\n",
    "# Registering satellite to the model\n",
    "toolbox.register(\"satellite\", tools.initCycle, creator.Satellite,\n",
    "                 (toolbox.attr_alt,\n",
    "                  toolbox.attr_inc,\n",
    "                  toolbox.attr_aop,\n",
    "                  toolbox.attr_asc,\n",
    "                  toolbox.attr_loc), n=n_sats)\n",
    "\n",
    "# Registering tools for the algorithm\n",
    "toolbox.register(\"population\", tools.initRepeat, list, toolbox.satellite)\n",
    "toolbox.register(\"evaluate\", satellite_performance)\n",
    "# toolbox.register(\"mate\", tools.cxBlend, alpha=0.1)\n",
    "toolbox.register(\"mate\", tools.cxSimulatedBinaryBounded,eta=0.25,low=n_sats*lower,up=n_sats*upper)\n",
    "# toolbox.register(\"mutate\", gp.mutEphemeral,mode=\"one\")\n",
    "toolbox.register(\"mutate\", tools.mutPolynomialBounded,eta=0.25,low=n_sats*lower,up=n_sats*upper,indpb=0.5)\n",
    "toolbox.register(\"select\", tools.selTournament, tournsize=3)\n",
    "\n",
    "clear_output(wait=True)\n",
    "\n",
    "g = 0\n",
    "\n",
    "# Creating a population to evolve\n",
    "pop = toolbox.population(n=n_pop)\n",
    "print(\"-- Generation %i --\" % g)\n",
    "fitnesses = list(map(toolbox.evaluate, pop))\n",
    "for ind, fit in zip(pop, fitnesses):\n",
    "    ind.fitness.values += (fit,)\n",
    "CXPB, MUTPB = 0.6, 0.3\n",
    "fits = [ind.fitness.values[0] for ind in pop]\n",
    "hof = tools.HallOfFame(5)\n",
    "\n",
    "# Begin the evolution\n",
    "while max(fits) < 100 and g < n_gen:\n",
    "    clear_output(wait=True)\n",
    "    g = g + 1\n",
    "    print(\"-- Generation %i --\" % g)\n",
    "    # A new generation\n",
    "    # Select the next generation individuals\n",
    "    offspring = toolbox.select(pop, len(pop))\n",
    "    # Clone the selected individuals\n",
    "    offspring = list(map(toolbox.clone, offspring))\n",
    "    # Apply crossover and mutation on the offspring\n",
    "    for child1, child2 in zip(offspring[::2], offspring[1::2]):\n",
    "        if random.random() < CXPB:\n",
    "            toolbox.mate(child1, child2)\n",
    "            del child1.fitness.values\n",
    "            del child2.fitness.values\n",
    "\n",
    "    for mutant in offspring:\n",
    "        if random.random() < MUTPB:\n",
    "            toolbox.mutate(mutant)\n",
    "            del mutant.fitness.values\n",
    "    # Evaluate the individuals with an invalid fitness\n",
    "    invalid_ind = [ind for ind in offspring if not ind.fitness.valid]\n",
    "    fitnesses = map(toolbox.evaluate, invalid_ind)\n",
    "\n",
    "    for ind, fit in zip(invalid_ind, fitnesses):\n",
    "        ind.fitness.values += (fit,)\n",
    "    pop[:] = offspring\n",
    "    # Gather all the fitnesses in one list and print the stats\n",
    "    fits = [ind.fitness.values[0] for ind in pop]\n",
    "\n",
    "    hof.update(pop)"
   ]
  },
  {
   "cell_type": "code",
   "execution_count": 5,
   "metadata": {},
   "outputs": [
    {
     "name": "stdout",
     "output_type": "stream",
     "text": [
      "     Satellite1  Satellite2\n",
      "Alt  556.509974  514.821799\n",
      "Inc  103.033154   80.361119\n",
      "AoP   81.275030  146.090895\n",
      "Asc  148.553976   55.660414\n",
      "Loc  121.684739  142.676358\n",
      "\n",
      "fitness= 29.012345679012345\n",
      "[========================================] 2/2 [100%] in 0.4s (5.44/s)          \n",
      "[========================================] 2/2 [100%] in 0.8s (2.16/s)          \n"
     ]
    }
   ],
   "source": [
    "# Picking the best run to find specifics\n",
    "\n",
    "Individual = hof[0]\n",
    "file = open(\"Input_Files/Satellites_File.txt\",\"w\")\n",
    "file.write(\"Per,Apo,Inc,AoP,Asc,Loc,Tar\\n\")\n",
    "nvars = 5\n",
    "for n in range(len(Individual)//nvars):\n",
    "    Alt = Individual[nvars*n]\n",
    "    Inc = Individual[nvars*n+1]\n",
    "    AoP = Individual[nvars*n+2]\n",
    "    Asc = Individual[nvars*n+3]\n",
    "    Loc = Individual[nvars*n+4]\n",
    "    Tar = 1\n",
    "    file.write(f\"{Alt},{Alt},{Inc},{AoP},{Asc},{Loc},{Tar}\\n\")\n",
    "file.close()\n",
    "\n",
    "labels = \"Alt,Inc,AoP,Asc,Loc\".split(\",\")\n",
    "df = {}\n",
    "for s in range(n_sats):\n",
    "    df[f'Satellite{s+1}'] = hof[0][5*s:5*(s+1)]\n",
    "df = pd.DataFrame(df)\n",
    "df.index = \"Alt,Inc,AoP,Asc,Loc\".split(\",\")\n",
    "print(df)\n",
    "print(\"\\nfitness=\",hof[0].fitness.values[0])\n",
    "\n",
    "stk_object.Satellite_Loader(\"Input_Files/Satellites_File.txt\")\n",
    "\n",
    "stk_object.Compute_AzEl(dt)\n",
    "stk_object.Compute_Time_Sorted_Data()"
   ]
  },
  {
   "cell_type": "code",
   "execution_count": 7,
   "metadata": {},
   "outputs": [
    {
     "data": {
      "application/vnd.plotly.v1+json": {
       "config": {
        "plotlyServerURL": "https://plot.ly"
       },
       "data": [
        {
         "coloraxis": "coloraxis",
         "hovertemplate": "Azimuth: %{x}<br>Elevation: %{y}<br>Total Frames Captured: %{z}<extra></extra>",
         "name": "0",
         "texttemplate": "%{z}",
         "type": "heatmap",
         "x": [
          "0-10",
          "10-20",
          "20-30",
          "30-40",
          "40-50",
          "50-60",
          "60-70",
          "70-80",
          "80-90",
          "90-100",
          "100-110",
          "110-120",
          "120-130",
          "130-140",
          "140-150",
          "150-160",
          "160-170",
          "170-180",
          "180-190",
          "190-200",
          "200-210",
          "210-220",
          "220-230",
          "230-240",
          "240-250",
          "250-260",
          "260-270",
          "270-280",
          "280-290",
          "290-300",
          "300-310",
          "310-320",
          "320-330",
          "330-340",
          "340-350",
          "350-360"
         ],
         "xaxis": "x",
         "y": [
          "0-10",
          "10-20",
          "20-30",
          "30-40",
          "40-50",
          "50-60",
          "60-70",
          "70-80",
          "80-90"
         ],
         "yaxis": "y",
         "z": [
          [
           4,
           5,
           8,
           10,
           10,
           11,
           5,
           8,
           2,
           8,
           3,
           1,
           8,
           1,
           4,
           5,
           2,
           1,
           5,
           6,
           2,
           4,
           5,
           2,
           5,
           2,
           5,
           1,
           5,
           2,
           9,
           11,
           10,
           8,
           5,
           5
          ],
          [
           0,
           0,
           0,
           0,
           2,
           2,
           4,
           3,
           3,
           2,
           2,
           1,
           3,
           1,
           0,
           1,
           3,
           0,
           1,
           0,
           2,
           2,
           1,
           1,
           1,
           1,
           4,
           2,
           5,
           3,
           4,
           1,
           0,
           0,
           0,
           0
          ],
          [
           0,
           0,
           0,
           0,
           0,
           2,
           0,
           2,
           2,
           2,
           2,
           1,
           1,
           1,
           1,
           0,
           0,
           3,
           0,
           1,
           0,
           0,
           1,
           2,
           0,
           2,
           1,
           2,
           2,
           0,
           1,
           0,
           0,
           0,
           0,
           0
          ],
          [
           0,
           0,
           0,
           0,
           0,
           0,
           1,
           1,
           0,
           1,
           0,
           0,
           0,
           0,
           0,
           1,
           0,
           1,
           0,
           2,
           0,
           0,
           2,
           0,
           0,
           1,
           2,
           0,
           1,
           1,
           0,
           0,
           0,
           0,
           0,
           0
          ],
          [
           0,
           0,
           0,
           0,
           0,
           0,
           1,
           0,
           0,
           1,
           0,
           2,
           0,
           2,
           1,
           0,
           0,
           0,
           0,
           0,
           1,
           1,
           0,
           1,
           0,
           1,
           0,
           0,
           0,
           1,
           0,
           0,
           0,
           0,
           0,
           0
          ],
          [
           0,
           0,
           0,
           0,
           0,
           0,
           0,
           0,
           1,
           0,
           0,
           0,
           0,
           0,
           0,
           0,
           0,
           0,
           0,
           1,
           0,
           0,
           0,
           0,
           1,
           0,
           0,
           0,
           0,
           1,
           0,
           0,
           0,
           0,
           0,
           0
          ],
          [
           0,
           0,
           0,
           0,
           1,
           0,
           0,
           0,
           0,
           0,
           0,
           0,
           0,
           0,
           1,
           0,
           1,
           0,
           0,
           0,
           0,
           0,
           0,
           0,
           0,
           0,
           0,
           0,
           1,
           0,
           0,
           0,
           0,
           0,
           0,
           0
          ],
          [
           0,
           0,
           0,
           0,
           0,
           0,
           0,
           0,
           0,
           0,
           0,
           0,
           0,
           0,
           2,
           0,
           0,
           0,
           0,
           0,
           0,
           0,
           0,
           0,
           0,
           0,
           0,
           0,
           0,
           0,
           0,
           0,
           0,
           0,
           0,
           1
          ],
          [
           0,
           0,
           0,
           0,
           0,
           0,
           0,
           0,
           0,
           0,
           0,
           0,
           0,
           0,
           0,
           0,
           0,
           0,
           0,
           0,
           0,
           0,
           0,
           0,
           0,
           0,
           0,
           0,
           0,
           0,
           0,
           0,
           0,
           0,
           0,
           0
          ]
         ]
        },
        {
         "coloraxis": "coloraxis",
         "hovertemplate": "Azimuth: %{x}<br>Elevation: %{y}<br>Total Frames Captured: %{z}<extra></extra>",
         "name": "0",
         "texttemplate": "%{z}",
         "type": "heatmap",
         "x": [
          "0-10",
          "10-20",
          "20-30",
          "30-40",
          "40-50",
          "50-60",
          "60-70",
          "70-80",
          "80-90",
          "90-100",
          "100-110",
          "110-120",
          "120-130",
          "130-140",
          "140-150",
          "150-160",
          "160-170",
          "170-180",
          "180-190",
          "190-200",
          "200-210",
          "210-220",
          "220-230",
          "230-240",
          "240-250",
          "250-260",
          "260-270",
          "270-280",
          "280-290",
          "290-300",
          "300-310",
          "310-320",
          "320-330",
          "330-340",
          "340-350",
          "350-360"
         ],
         "xaxis": "x",
         "y": [
          "0-10",
          "10-20",
          "20-30",
          "30-40",
          "40-50",
          "50-60",
          "60-70",
          "70-80",
          "80-90"
         ],
         "yaxis": "y",
         "z": [
          [
           3,
           5,
           1,
           4,
           2,
           3,
           3,
           4,
           2,
           3,
           1,
           2,
           5,
           3,
           0,
           3,
           0,
           1,
           4,
           4,
           1,
           2,
           1,
           1,
           3,
           3,
           2,
           2,
           1,
           3,
           2,
           2,
           4,
           4,
           6,
           4
          ],
          [
           1,
           1,
           0,
           2,
           0,
           0,
           1,
           0,
           1,
           1,
           0,
           1,
           0,
           0,
           1,
           0,
           0,
           0,
           1,
           2,
           0,
           0,
           0,
           0,
           1,
           2,
           0,
           2,
           0,
           2,
           2,
           1,
           1,
           0,
           0,
           3
          ],
          [
           1,
           1,
           1,
           0,
           1,
           0,
           0,
           0,
           1,
           0,
           1,
           0,
           0,
           1,
           0,
           0,
           0,
           1,
           0,
           1,
           1,
           0,
           0,
           0,
           0,
           0,
           0,
           0,
           1,
           1,
           1,
           1,
           0,
           1,
           0,
           0
          ],
          [
           0,
           0,
           1,
           0,
           0,
           1,
           0,
           0,
           0,
           0,
           0,
           0,
           0,
           0,
           0,
           1,
           0,
           0,
           0,
           0,
           0,
           0,
           1,
           0,
           0,
           1,
           0,
           0,
           0,
           0,
           0,
           0,
           0,
           0,
           0,
           0
          ],
          [
           1,
           0,
           0,
           0,
           0,
           0,
           1,
           0,
           0,
           0,
           0,
           2,
           0,
           0,
           0,
           0,
           0,
           0,
           0,
           0,
           1,
           0,
           0,
           0,
           0,
           0,
           0,
           0,
           0,
           0,
           0,
           0,
           0,
           0,
           0,
           0
          ],
          [
           0,
           0,
           0,
           0,
           0,
           0,
           1,
           0,
           0,
           0,
           0,
           0,
           0,
           0,
           0,
           0,
           0,
           0,
           0,
           0,
           0,
           0,
           0,
           0,
           0,
           0,
           0,
           0,
           0,
           0,
           0,
           0,
           0,
           0,
           0,
           0
          ],
          [
           0,
           0,
           0,
           0,
           0,
           0,
           0,
           0,
           0,
           0,
           0,
           0,
           0,
           0,
           0,
           0,
           0,
           0,
           0,
           0,
           0,
           0,
           0,
           0,
           0,
           0,
           0,
           0,
           0,
           0,
           0,
           0,
           0,
           0,
           0,
           0
          ],
          [
           0,
           0,
           0,
           0,
           0,
           0,
           0,
           0,
           0,
           0,
           0,
           0,
           0,
           0,
           0,
           0,
           0,
           0,
           0,
           0,
           0,
           0,
           0,
           0,
           0,
           0,
           0,
           0,
           0,
           0,
           0,
           0,
           0,
           0,
           0,
           0
          ],
          [
           0,
           0,
           0,
           0,
           0,
           0,
           0,
           0,
           0,
           0,
           0,
           0,
           0,
           0,
           0,
           0,
           0,
           0,
           0,
           0,
           0,
           0,
           0,
           0,
           0,
           0,
           0,
           0,
           0,
           1,
           0,
           0,
           0,
           0,
           0,
           0
          ]
         ]
        }
       ],
       "layout": {
        "template": {
         "data": {
          "bar": [
           {
            "error_x": {
             "color": "#2a3f5f"
            },
            "error_y": {
             "color": "#2a3f5f"
            },
            "marker": {
             "line": {
              "color": "#E5ECF6",
              "width": 0.5
             },
             "pattern": {
              "fillmode": "overlay",
              "size": 10,
              "solidity": 0.2
             }
            },
            "type": "bar"
           }
          ],
          "barpolar": [
           {
            "marker": {
             "line": {
              "color": "#E5ECF6",
              "width": 0.5
             },
             "pattern": {
              "fillmode": "overlay",
              "size": 10,
              "solidity": 0.2
             }
            },
            "type": "barpolar"
           }
          ],
          "carpet": [
           {
            "aaxis": {
             "endlinecolor": "#2a3f5f",
             "gridcolor": "white",
             "linecolor": "white",
             "minorgridcolor": "white",
             "startlinecolor": "#2a3f5f"
            },
            "baxis": {
             "endlinecolor": "#2a3f5f",
             "gridcolor": "white",
             "linecolor": "white",
             "minorgridcolor": "white",
             "startlinecolor": "#2a3f5f"
            },
            "type": "carpet"
           }
          ],
          "choropleth": [
           {
            "colorbar": {
             "outlinewidth": 0,
             "ticks": ""
            },
            "type": "choropleth"
           }
          ],
          "contour": [
           {
            "colorbar": {
             "outlinewidth": 0,
             "ticks": ""
            },
            "colorscale": [
             [
              0,
              "#0d0887"
             ],
             [
              0.1111111111111111,
              "#46039f"
             ],
             [
              0.2222222222222222,
              "#7201a8"
             ],
             [
              0.3333333333333333,
              "#9c179e"
             ],
             [
              0.4444444444444444,
              "#bd3786"
             ],
             [
              0.5555555555555556,
              "#d8576b"
             ],
             [
              0.6666666666666666,
              "#ed7953"
             ],
             [
              0.7777777777777778,
              "#fb9f3a"
             ],
             [
              0.8888888888888888,
              "#fdca26"
             ],
             [
              1,
              "#f0f921"
             ]
            ],
            "type": "contour"
           }
          ],
          "contourcarpet": [
           {
            "colorbar": {
             "outlinewidth": 0,
             "ticks": ""
            },
            "type": "contourcarpet"
           }
          ],
          "heatmap": [
           {
            "colorbar": {
             "outlinewidth": 0,
             "ticks": ""
            },
            "colorscale": [
             [
              0,
              "#0d0887"
             ],
             [
              0.1111111111111111,
              "#46039f"
             ],
             [
              0.2222222222222222,
              "#7201a8"
             ],
             [
              0.3333333333333333,
              "#9c179e"
             ],
             [
              0.4444444444444444,
              "#bd3786"
             ],
             [
              0.5555555555555556,
              "#d8576b"
             ],
             [
              0.6666666666666666,
              "#ed7953"
             ],
             [
              0.7777777777777778,
              "#fb9f3a"
             ],
             [
              0.8888888888888888,
              "#fdca26"
             ],
             [
              1,
              "#f0f921"
             ]
            ],
            "type": "heatmap"
           }
          ],
          "heatmapgl": [
           {
            "colorbar": {
             "outlinewidth": 0,
             "ticks": ""
            },
            "colorscale": [
             [
              0,
              "#0d0887"
             ],
             [
              0.1111111111111111,
              "#46039f"
             ],
             [
              0.2222222222222222,
              "#7201a8"
             ],
             [
              0.3333333333333333,
              "#9c179e"
             ],
             [
              0.4444444444444444,
              "#bd3786"
             ],
             [
              0.5555555555555556,
              "#d8576b"
             ],
             [
              0.6666666666666666,
              "#ed7953"
             ],
             [
              0.7777777777777778,
              "#fb9f3a"
             ],
             [
              0.8888888888888888,
              "#fdca26"
             ],
             [
              1,
              "#f0f921"
             ]
            ],
            "type": "heatmapgl"
           }
          ],
          "histogram": [
           {
            "marker": {
             "pattern": {
              "fillmode": "overlay",
              "size": 10,
              "solidity": 0.2
             }
            },
            "type": "histogram"
           }
          ],
          "histogram2d": [
           {
            "colorbar": {
             "outlinewidth": 0,
             "ticks": ""
            },
            "colorscale": [
             [
              0,
              "#0d0887"
             ],
             [
              0.1111111111111111,
              "#46039f"
             ],
             [
              0.2222222222222222,
              "#7201a8"
             ],
             [
              0.3333333333333333,
              "#9c179e"
             ],
             [
              0.4444444444444444,
              "#bd3786"
             ],
             [
              0.5555555555555556,
              "#d8576b"
             ],
             [
              0.6666666666666666,
              "#ed7953"
             ],
             [
              0.7777777777777778,
              "#fb9f3a"
             ],
             [
              0.8888888888888888,
              "#fdca26"
             ],
             [
              1,
              "#f0f921"
             ]
            ],
            "type": "histogram2d"
           }
          ],
          "histogram2dcontour": [
           {
            "colorbar": {
             "outlinewidth": 0,
             "ticks": ""
            },
            "colorscale": [
             [
              0,
              "#0d0887"
             ],
             [
              0.1111111111111111,
              "#46039f"
             ],
             [
              0.2222222222222222,
              "#7201a8"
             ],
             [
              0.3333333333333333,
              "#9c179e"
             ],
             [
              0.4444444444444444,
              "#bd3786"
             ],
             [
              0.5555555555555556,
              "#d8576b"
             ],
             [
              0.6666666666666666,
              "#ed7953"
             ],
             [
              0.7777777777777778,
              "#fb9f3a"
             ],
             [
              0.8888888888888888,
              "#fdca26"
             ],
             [
              1,
              "#f0f921"
             ]
            ],
            "type": "histogram2dcontour"
           }
          ],
          "mesh3d": [
           {
            "colorbar": {
             "outlinewidth": 0,
             "ticks": ""
            },
            "type": "mesh3d"
           }
          ],
          "parcoords": [
           {
            "line": {
             "colorbar": {
              "outlinewidth": 0,
              "ticks": ""
             }
            },
            "type": "parcoords"
           }
          ],
          "pie": [
           {
            "automargin": true,
            "type": "pie"
           }
          ],
          "scatter": [
           {
            "fillpattern": {
             "fillmode": "overlay",
             "size": 10,
             "solidity": 0.2
            },
            "type": "scatter"
           }
          ],
          "scatter3d": [
           {
            "line": {
             "colorbar": {
              "outlinewidth": 0,
              "ticks": ""
             }
            },
            "marker": {
             "colorbar": {
              "outlinewidth": 0,
              "ticks": ""
             }
            },
            "type": "scatter3d"
           }
          ],
          "scattercarpet": [
           {
            "marker": {
             "colorbar": {
              "outlinewidth": 0,
              "ticks": ""
             }
            },
            "type": "scattercarpet"
           }
          ],
          "scattergeo": [
           {
            "marker": {
             "colorbar": {
              "outlinewidth": 0,
              "ticks": ""
             }
            },
            "type": "scattergeo"
           }
          ],
          "scattergl": [
           {
            "marker": {
             "colorbar": {
              "outlinewidth": 0,
              "ticks": ""
             }
            },
            "type": "scattergl"
           }
          ],
          "scattermapbox": [
           {
            "marker": {
             "colorbar": {
              "outlinewidth": 0,
              "ticks": ""
             }
            },
            "type": "scattermapbox"
           }
          ],
          "scatterpolar": [
           {
            "marker": {
             "colorbar": {
              "outlinewidth": 0,
              "ticks": ""
             }
            },
            "type": "scatterpolar"
           }
          ],
          "scatterpolargl": [
           {
            "marker": {
             "colorbar": {
              "outlinewidth": 0,
              "ticks": ""
             }
            },
            "type": "scatterpolargl"
           }
          ],
          "scatterternary": [
           {
            "marker": {
             "colorbar": {
              "outlinewidth": 0,
              "ticks": ""
             }
            },
            "type": "scatterternary"
           }
          ],
          "surface": [
           {
            "colorbar": {
             "outlinewidth": 0,
             "ticks": ""
            },
            "colorscale": [
             [
              0,
              "#0d0887"
             ],
             [
              0.1111111111111111,
              "#46039f"
             ],
             [
              0.2222222222222222,
              "#7201a8"
             ],
             [
              0.3333333333333333,
              "#9c179e"
             ],
             [
              0.4444444444444444,
              "#bd3786"
             ],
             [
              0.5555555555555556,
              "#d8576b"
             ],
             [
              0.6666666666666666,
              "#ed7953"
             ],
             [
              0.7777777777777778,
              "#fb9f3a"
             ],
             [
              0.8888888888888888,
              "#fdca26"
             ],
             [
              1,
              "#f0f921"
             ]
            ],
            "type": "surface"
           }
          ],
          "table": [
           {
            "cells": {
             "fill": {
              "color": "#EBF0F8"
             },
             "line": {
              "color": "white"
             }
            },
            "header": {
             "fill": {
              "color": "#C8D4E3"
             },
             "line": {
              "color": "white"
             }
            },
            "type": "table"
           }
          ]
         },
         "layout": {
          "annotationdefaults": {
           "arrowcolor": "#2a3f5f",
           "arrowhead": 0,
           "arrowwidth": 1
          },
          "autotypenumbers": "strict",
          "coloraxis": {
           "colorbar": {
            "outlinewidth": 0,
            "ticks": ""
           }
          },
          "colorscale": {
           "diverging": [
            [
             0,
             "#8e0152"
            ],
            [
             0.1,
             "#c51b7d"
            ],
            [
             0.2,
             "#de77ae"
            ],
            [
             0.3,
             "#f1b6da"
            ],
            [
             0.4,
             "#fde0ef"
            ],
            [
             0.5,
             "#f7f7f7"
            ],
            [
             0.6,
             "#e6f5d0"
            ],
            [
             0.7,
             "#b8e186"
            ],
            [
             0.8,
             "#7fbc41"
            ],
            [
             0.9,
             "#4d9221"
            ],
            [
             1,
             "#276419"
            ]
           ],
           "sequential": [
            [
             0,
             "#0d0887"
            ],
            [
             0.1111111111111111,
             "#46039f"
            ],
            [
             0.2222222222222222,
             "#7201a8"
            ],
            [
             0.3333333333333333,
             "#9c179e"
            ],
            [
             0.4444444444444444,
             "#bd3786"
            ],
            [
             0.5555555555555556,
             "#d8576b"
            ],
            [
             0.6666666666666666,
             "#ed7953"
            ],
            [
             0.7777777777777778,
             "#fb9f3a"
            ],
            [
             0.8888888888888888,
             "#fdca26"
            ],
            [
             1,
             "#f0f921"
            ]
           ],
           "sequentialminus": [
            [
             0,
             "#0d0887"
            ],
            [
             0.1111111111111111,
             "#46039f"
            ],
            [
             0.2222222222222222,
             "#7201a8"
            ],
            [
             0.3333333333333333,
             "#9c179e"
            ],
            [
             0.4444444444444444,
             "#bd3786"
            ],
            [
             0.5555555555555556,
             "#d8576b"
            ],
            [
             0.6666666666666666,
             "#ed7953"
            ],
            [
             0.7777777777777778,
             "#fb9f3a"
            ],
            [
             0.8888888888888888,
             "#fdca26"
            ],
            [
             1,
             "#f0f921"
            ]
           ]
          },
          "colorway": [
           "#636efa",
           "#EF553B",
           "#00cc96",
           "#ab63fa",
           "#FFA15A",
           "#19d3f3",
           "#FF6692",
           "#B6E880",
           "#FF97FF",
           "#FECB52"
          ],
          "font": {
           "color": "#2a3f5f"
          },
          "geo": {
           "bgcolor": "white",
           "lakecolor": "white",
           "landcolor": "#E5ECF6",
           "showlakes": true,
           "showland": true,
           "subunitcolor": "white"
          },
          "hoverlabel": {
           "align": "left"
          },
          "hovermode": "closest",
          "mapbox": {
           "style": "light"
          },
          "paper_bgcolor": "white",
          "plot_bgcolor": "#E5ECF6",
          "polar": {
           "angularaxis": {
            "gridcolor": "white",
            "linecolor": "white",
            "ticks": ""
           },
           "bgcolor": "#E5ECF6",
           "radialaxis": {
            "gridcolor": "white",
            "linecolor": "white",
            "ticks": ""
           }
          },
          "scene": {
           "xaxis": {
            "backgroundcolor": "#E5ECF6",
            "gridcolor": "white",
            "gridwidth": 2,
            "linecolor": "white",
            "showbackground": true,
            "ticks": "",
            "zerolinecolor": "white"
           },
           "yaxis": {
            "backgroundcolor": "#E5ECF6",
            "gridcolor": "white",
            "gridwidth": 2,
            "linecolor": "white",
            "showbackground": true,
            "ticks": "",
            "zerolinecolor": "white"
           },
           "zaxis": {
            "backgroundcolor": "#E5ECF6",
            "gridcolor": "white",
            "gridwidth": 2,
            "linecolor": "white",
            "showbackground": true,
            "ticks": "",
            "zerolinecolor": "white"
           }
          },
          "shapedefaults": {
           "line": {
            "color": "#2a3f5f"
           }
          },
          "ternary": {
           "aaxis": {
            "gridcolor": "white",
            "linecolor": "white",
            "ticks": ""
           },
           "baxis": {
            "gridcolor": "white",
            "linecolor": "white",
            "ticks": ""
           },
           "bgcolor": "#E5ECF6",
           "caxis": {
            "gridcolor": "white",
            "linecolor": "white",
            "ticks": ""
           }
          },
          "title": {
           "x": 0.05
          },
          "xaxis": {
           "automargin": true,
           "gridcolor": "white",
           "linecolor": "white",
           "ticks": "",
           "title": {
            "standoff": 15
           },
           "zerolinecolor": "white",
           "zerolinewidth": 2
          },
          "yaxis": {
           "automargin": true,
           "gridcolor": "white",
           "linecolor": "white",
           "ticks": "",
           "title": {
            "standoff": 15
           },
           "zerolinecolor": "white",
           "zerolinewidth": 2
          }
         }
        },
        "updatemenus": [
         {
          "active": 0,
          "buttons": [
           {
            "args": [
             {
              "visible": [
               true,
               false
              ]
             }
            ],
            "label": "Target1",
            "method": "restyle"
           },
           {
            "args": [
             {
              "visible": [
               false,
               true
              ]
             }
            ],
            "label": "Target2",
            "method": "restyle"
           }
          ],
          "x": 1.1,
          "xanchor": "left",
          "y": 1.1,
          "yanchor": "top"
         }
        ],
        "xaxis": {
         "title": {
          "text": "Azimuth"
         }
        },
        "yaxis": {
         "title": {
          "text": "Elevation"
         }
        }
       }
      }
     },
     "metadata": {},
     "output_type": "display_data"
    },
    {
     "data": {
      "application/vnd.plotly.v1+json": {
       "config": {
        "plotlyServerURL": "https://plot.ly"
       },
       "data": [
        {
         "mode": "lines",
         "name": "1->1",
         "type": "scatter",
         "x": [
          182.646394501356,
          187.49493890421712,
          194.09856402606283,
          203.39456646204712,
          216.79828151019507,
          235.44959147122884,
          257.64685940507974,
          278.1195236657344,
          293.49234194711227,
          304.1937068218568,
          311.70683983003846,
          317.1838221255879,
          319.04440964253143,
          218.87980715713746,
          225.7286207195469,
          234.4375469035128,
          245.4464994224108,
          258.8659327055234,
          273.95935442918324,
          289.0686791977648,
          302.52706192066336,
          313.582755620942,
          322.33752635186625,
          329.2365260093776,
          329.5948181589309,
          310.25242636927766,
          321.13563606569306,
          330.80041064048953,
          338.13536852051385,
          315.54161069710153,
          325.5572950712861,
          335.4722558897129,
          344.21330692335505,
          16.66348605671649,
          25.90738951854304,
          35.91225984623214,
          46.20663273437025,
          56.27728072371695,
          65.67727674148618,
          66.5465931486718,
          23.41810621578522,
          31.425991743202832,
          41.077592274754224,
          52.188797455681005,
          64.30964717451467,
          76.6110890449703,
          88.18551716111477,
          98.41882874279001,
          107.11374690847153,
          109.62681270831168,
          32.342593447662644,
          38.67287548880901,
          46.91689772494492,
          57.58065960449998,
          71.03600576619777,
          86.79546098188455,
          103.08391095972993,
          117.75281595541774,
          129.70094900778207,
          138.9925725413305,
          146.17031565135684,
          148.63112810856686,
          43.34460332525801,
          47.799722360187715,
          53.87324786440016,
          62.547730605277565,
          75.45361736415853,
          94.42634655497443,
          118.44721983051515,
          141.10546754519112,
          157.6872597454635,
          168.78741321965623,
          176.33301168868857,
          181.70622816347912,
          184.19651349925928,
          57.009040515509746,
          59.714449270818896,
          63.48294070897871,
          69.17338535144619,
          78.80700790736662,
          97.4926774450506,
          133.2778700209707,
          171.52992739598605,
          192.5152100436718,
          203.13679036604947,
          209.27055319527992,
          213.26055733473078,
          216.09371206570003,
          216.4064592844491,
          74.09507199173319,
          75.60605835364503,
          77.710679746016,
          80.90591880120314,
          86.57579020801829,
          99.76473004994226,
          145.53157133325294,
          209.91178123253405,
          229.3747232282082,
          236.66313542062946,
          240.4680584156347,
          242.85939761996858,
          244.545385774739,
          244.9841468097861,
          95.2309722621364,
          96.40610118094445,
          98.00916209329384,
          100.42659017061487,
          104.73605804207028,
          115.22763941988475,
          163.88032158515435,
          241.6363172417066,
          257.63312869386584,
          263.1681648937616,
          266.03282124251103,
          267.8465621168773,
          269.1426096483642,
          269.49902700052337,
          120.61701770084898,
          122.30750637943362,
          124.67756441931722,
          128.29630252446157,
          134.7214222519539,
          149.39803574461968,
          194.58876859473907,
          252.58372338338162,
          272.61981159505893,
          280.55367652012836,
          284.7632417566393,
          287.4233537486379,
          289.30183815962187,
          289.76199303533036,
          149.98289742017735,
          152.98571567967804,
          157.21615607090231,
          163.5793004763657,
          174.16343990571468,
          193.6226248171721,
          226.950823790648,
          260.883351238153,
          281.01187764817297,
          291.9290147403297,
          298.4602955869232,
          302.7887500755093,
          305.89619426434325,
          306.0782231683115
         ],
         "y": [
          4.534515853564869e-7,
          3.6018220149297466,
          7.710603228171216,
          12.348866513725861,
          17.23884896645707,
          21.158569377335755,
          21.94947691446812,
          19.026464814318526,
          14.322973785450946,
          9.54139815877143,
          5.241170880103211,
          1.4497990711682183,
          0.0001505307931598658,
          0.000004759178011929324,
          3.010559930218828,
          6.0624349282428,
          8.906127996449628,
          11.057007421652383,
          11.89859841351778,
          11.117602398430183,
          9.014594094392061,
          6.203365578761246,
          3.172627145779251,
          0.1731056691416309,
          0.00007009203191695643,
          4.896120766496145,
          3.659354602890786,
          1.8579906543179232,
          0.00012064599687896572,
          1.1413451916000952,
          1.322938690628427,
          0.8936827478550221,
          0.0000024787919892762127,
          0.00011162776182956691,
          1.1942819353789302,
          1.8614778400230199,
          1.896096740137502,
          1.2916368559462716,
          0.13705318365939043,
          0.00011112247955796957,
          0.0001857205638991025,
          2.2628162560226883,
          4.282255595793521,
          5.760818302169856,
          6.419224423557712,
          6.101035525758532,
          4.8810348572138125,
          3.0115856457814654,
          0.7724403226693709,
          0.00018187397266145134,
          0.00002213828119313562,
          3.0960321800421045,
          6.363906596985218,
          9.563064278875821,
          12.209726221303551,
          13.54496111279924,
          13.014768027955874,
          10.846811673846743,
          7.796487311078901,
          4.500284513199238,
          1.2731774072273012,
          0.0002193713448114651,
          0.00027337609681790177,
          3.6820234059834998,
          7.922991365473586,
          12.84536236471572,
          18.324263719690773,
          23.19815891627362,
          24.71150033103538,
          21.566682017823645,
          16.18797496681697,
          10.837779588491124,
          6.162216694142926,
          2.1316714163199717,
          0.00019482192239928407,
          0.0002563196108993345,
          3.973331436431268,
          8.780703208605308,
          14.920437039250638,
          23.209527427429,
          34.02484918893371,
          41.76664633148166,
          35.78343362672869,
          24.74823725860166,
          16.011427185625386,
          9.576807491391,
          4.589899860898566,
          0.48958408290249716,
          0.0002853812826708609,
          0.0002917252647166197,
          4.032207750592279,
          9.052682393067876,
          15.702101070463558,
          25.46555225128041,
          41.241411607663125,
          60.02321540591162,
          48.39288281838698,
          30.007437286409626,
          18.55892706812792,
          11.060887562685501,
          5.582462023905145,
          1.2205939170643558,
          5.118360257515438e-7,
          0.00027477123628084156,
          4.108803522822232,
          9.194377753720016,
          15.987903854297596,
          26.150451921011772,
          43.38516986907878,
          67.0184000109432,
          51.49016414911759,
          30.85158780942733,
          18.87795600302253,
          11.218637661883754,
          5.67624713984755,
          1.2836178679264976,
          0.000004981871001800866,
          0.000004490023062551761,
          4.038534651552723,
          9.05551806913368,
          15.682417521597966,
          25.33376243569814,
          40.50481689680529,
          56.86203029939373,
          46.13000724275731,
          29.139730062271145,
          18.163472672622742,
          10.847503313064085,
          5.45393423890212,
          1.138013466820026,
          0.0000013389905843424037,
          0.00019512489176218148,
          3.908476084930034,
          8.656283291161595,
          14.642078867440134,
          22.484653549945598,
          32.0112622558056,
          37.8260457146077,
          32.54346569777159,
          23.03241748437596,
          15.09462409152855,
          9.03612271742265,
          4.242166309171853,
          0.25175455470130303,
          0.000011599217701787206
         ]
        },
        {
         "mode": "lines",
         "name": "1->2",
         "type": "scatter",
         "x": [
          259.5237077361795,
          260.9122319170797,
          263.20378032516163,
          268.1380836403559,
          289.0986772897037,
          45.848473005500416,
          65.64283461260632,
          70.45189163984965,
          72.71010050050033,
          74.09481713928946,
          75.07871678687383,
          75.52283353457594,
          284.39703670172895,
          286.15060895535834,
          289.30980982165175,
          297.4094883778046,
          353.5069273804396,
          80.59651791294225,
          91.34940181965588,
          95.04270353693532,
          96.99840343660577,
          98.27036507346735,
          99.20424222757802,
          99.33499936651735,
          301.9576959507863,
          301.7299494410327,
          301.15494900303406,
          299.62245306519316,
          293.08027607020443,
          149.3416652415001,
          131.23823362261118,
          128.8177895571838,
          127.99360605652414,
          127.65651555726039,
          127.53089027004376,
          127.51199838688753,
          317.68070016843205,
          315.93352212752615,
          313.2647424428754,
          308.84768494018925,
          300.52969464175203,
          281.5365179229745,
          236.61330668395573,
          193.4635143961537,
          175.5790431959959,
          167.6317970485413,
          163.35962158722668,
          160.7525690068499,
          159.16986382566154,
          330.38011379663897,
          326.4977041578381,
          320.8557423165583,
          312.35152321348255,
          298.9955937605211,
          278.51354690714703,
          252.75840821963473,
          230.0897945459207,
          214.74055433556313,
          204.9995521773975,
          198.6238552477932,
          194.2339408024142,
          193.33256933607214,
          341.27034893087307,
          335.20822628950583,
          327.0059250561638,
          316.05279725350965,
          301.9545079603304,
          285.48884349408837,
          268.9761518587322,
          254.7716866910302,
          243.70676274591867,
          235.41001573884645,
          229.26846788029357,
          351.5853268697647,
          343.75706268151896,
          334.03322877355794,
          322.55869140509617,
          309.89950041880627,
          297.13878780327303,
          285.40950792135754,
          275.37575165394634,
          267.1476621913586,
          266.2427891842862,
          3.262718599495484,
          354.3460720031601,
          344.1327978344015,
          333.1903257697227,
          322.2248770735367,
          311.9510229016172,
          302.8413727260617,
          302.5886119525345,
          20.853084728911202,
          11.588736583618978,
          1.390909168886398,
          350.94096772851344,
          340.86670737124916,
          333.60470516318156,
          49.62802218601921,
          40.559616382224625,
          30.321234026017482,
          19.53176457561823,
          8.87935962485477,
          359.0025561658318,
          353.5048374153887,
          85.33686098460882,
          77.12996451309706,
          67.16775968592503,
          55.7249522778317,
          43.46324021522712,
          31.39778203389486,
          20.45406449896482,
          11.111262594460964,
          5.980691339389544,
          122.38024353465194,
          115.80212922680394,
          107.06910283268358,
          95.75899844259737,
          81.81056900880573,
          66.2601965796686,
          51.152885090467535,
          38.230159920019,
          28.023028942752465,
          20.209296270496342,
          16.38432163612926,
          158.62938396786998,
          154.14880859382188,
          147.75202334314727,
          138.35319357475342,
          124.27911408077755,
          104.35892578388714,
          81.31368132062599,
          61.409637344919574,
          47.356260033365025,
          37.978563392264846,
          31.60416641028011,
          27.10043948491981,
          27.026199767221094,
          193.2515392657887,
          191.00704657214538,
          187.61372877164055,
          182.105370889226,
          172.0745079800012,
          151.17882707642704,
          111.43076253948298,
          75.3433806562217,
          57.638448905878015,
          48.92755648162608,
          44.01731937764481,
          40.941016130052645,
          39.21287356289177,
          225.55732182299047,
          225.1820328127813,
          224.5192526986837,
          223.28574221541453,
          220.6532514231539,
          212.79571252478138,
          145.7264033644416,
          67.85753000572441,
          59.233375072385584,
          56.45301765272524,
          55.17406811152855,
          54.49811222094557,
          54.12413142595294,
          54.10065611117158
         ],
         "y": [
          6.8636223477324325,
          12.808206695179036,
          21.508392362359604,
          36.280364509622096,
          63.912803134039585,
          63.0174773522367,
          35.77186788634302,
          21.245732236533478,
          12.650965204699228,
          6.724386696180788,
          2.163687486849629,
          0.00026701792969701884,
          8.979152877700521,
          15.705701425612144,
          26.111556359822764,
          44.81459256919296,
          73.5124537700998,
          50.48629939936078,
          29.07043867207937,
          17.45767776978958,
          10.12789342157517,
          4.8270061588687065,
          0.6142475384648769,
          0.0002585797594225928,
          5.861122551408987,
          11.494465265306102,
          19.52548604368021,
          32.84300120761506,
          58.95028593571902,
          73.93526352263603,
          40.60802926237095,
          23.64073701909082,
          14.097093253102923,
          7.733220429396772,
          2.939686262346633,
          0.0002478135764241324,
          0.000004864314062377864,
          4.010148056080957,
          8.941669300759909,
          15.448214771624121,
          24.798629291422642,
          38.39936333180559,
          48.13418666004271,
          37.36094714030119,
          23.978604297925195,
          14.852024037798099,
          8.47115185744093,
          3.610478875015185,
          0.00026254489601782436,
          0.000003637137781721657,
          3.689764421609906,
          8.044420540418962,
          13.196196227969661,
          19.039504239524796,
          24.112417781491743,
          24.95867199597752,
          20.74140503784759,
          14.842326669986198,
          9.419183833213344,
          4.828268019860281,
          0.9131342935484129,
          0.0002113254149380712,
          0.000004313523540237473,
          3.163755582671414,
          6.526818700395386,
          9.808158192771417,
          12.41904965540326,
          13.467491654845286,
          12.451413627364133,
          9.850181307729152,
          6.559539873123987,
          3.1808745352846683,
          0.00024796826945477067,
          0.00016394048359684956,
          2.424561653946945,
          4.607626124329937,
          6.19667816380588,
          6.839900796181538,
          6.35658713449538,
          4.882091685380765,
          2.7577123530934586,
          0.3140886328029667,
          0.00018612785160712536,
          0.00014699407557316354,
          1.651959474813036,
          2.7988971442121873,
          3.221534245580538,
          2.8346797209851298,
          1.7156994239163115,
          0.05586349852839505,
          0.000007178001783014159,
          0.00001832849569482564,
          1.2130260363794712,
          1.8476944540472526,
          1.7735326724287457,
          1.0038203635939167,
          0.0000037725621039979737,
          0.000010506849063804518,
          1.5042938564894648,
          2.473059161584915,
          2.7170672577730235,
          2.1893740222302123,
          0.989523363422956,
          0.00011015427733240304,
          0.00018104401413175422,
          2.251438745488065,
          4.174990288064006,
          5.44358748796362,
          5.77872796231312,
          5.094595013142423,
          3.56364866343939,
          1.4895800057576842,
          0.0000014863111016948611,
          0.0002104242560744822,
          3.0199029411256664,
          6.1313582275725755,
          8.99799876179414,
          11.045299860928552,
          11.58701787060814,
          10.396356816709776,
          7.954530944145329,
          4.953436382732601,
          1.8499143619370313,
          0.00023607369453112058,
          0.00018397872744603544,
          3.6264424774970068,
          7.818985334034952,
          12.60096268820802,
          17.6310413873146,
          21.374053997700553,
          21.39125360684811,
          17.68083263708318,
          12.67650066289043,
          7.9117581593647595,
          3.7299726784353178,
          0.06724999633721869,
          0.00017178039770759376,
          0.00026476422716871663,
          3.9580006556535006,
          8.833860581003297,
          15.171381484933015,
          23.92998164372797,
          35.354254448428364,
          41.488000698953506,
          32.89859055835474,
          21.883060402322027,
          13.750867623903757,
          7.8029205238272485,
          3.15735463778047,
          0.00002305954074983996,
          0.000011929298593383594,
          4.1053548440788585,
          9.219054263028534,
          16.18606743146775,
          27.009277091740984,
          46.76403640395028,
          75.15953677197105,
          48.58426814455062,
          28.000611022982962,
          16.81502491759257,
          9.684647249388444,
          4.487092501603155,
          0.33301558493748845,
          0.00029360539542495694
         ]
        },
        {
         "mode": "lines",
         "name": "2->1",
         "type": "scatter",
         "x": [
          78.82178818413641,
          70.98705122195206,
          61.34792170194264,
          50.01213557792283,
          37.51433599234316,
          24.883630075099028,
          13.215744409187613,
          3.1778874993519497,
          354.9060322084158,
          352.9547723638461,
          128.89533133881793,
          125.68429593082165,
          120.9986077658451,
          113.75790937339045,
          101.6956755124875,
          80.838275127263,
          50.38124820998309,
          22.677165946444624,
          5.519719114341947,
          355.59851406421717,
          349.5038549876307,
          345.483276297765,
          343.4201337412228,
          178.99303674584016,
          182.38865030528245,
          187.17237430307205,
          194.4024772717079,
          206.30714040246588,
          227.09692261171716,
          258.65244846719196,
          288.204929403696,
          306.453266562654,
          316.9821267951778,
          323.5363399747101,
          327.9831434341499,
          330.8242023190825,
          245.75865668564947,
          255.0488375923915,
          265.22069877802375,
          275.82226610705965,
          286.280717494821,
          296.0717482930667,
          301.6470800027967,
          54.46984723665114,
          63.63724505288647,
          74.353065066478,
          86.11351103607416,
          98.17490599030869,
          109.66666063778719,
          119.94356932861758,
          128.7473405649433,
          130.3718723893328,
          32.55840240660739,
          37.67997416859899,
          47.118351599691586,
          68.34531132997887,
          115.5718308711582,
          156.19943519465676,
          173.13037663383537,
          181.06332820765383,
          185.5798524560079,
          188.51398796280648,
          190.39396310216026,
          1.7263193574813216,
          351.65804977814,
          336.1658000327517,
          314.3780536572112,
          290.4418514402092,
          271.16529490062464,
          258.1318266215179,
          249.55636117837858,
          243.72138219042014,
          239.921007434341,
          345.49715210973136,
          334.25160944359806,
          322.4948853730729,
          311.1440917211799,
          300.9261393107419,
          292.17680392934346,
          290.656886243635
         ],
         "y": [
          0.00012063677508035226,
          2.4890222260897854,
          4.726567440773234,
          6.375861674999249,
          7.087296944441498,
          6.671844168646445,
          5.247161509337619,
          3.1426546871960443,
          0.6902101681932211,
          0.00018285673720449028,
          0.00027534602192551055,
          3.925995895164539,
          8.644662912477743,
          14.483610765073259,
          21.75097073889593,
          29.39846108850941,
          32.21519998511988,
          26.936416485882496,
          19.15653849344557,
          12.446407195639557,
          7.0808105970551125,
          2.6821245934041826,
          0.00026678876159174817,
          0.0002906581285849452,
          3.9501880231891424,
          8.672389438235548,
          14.553790954591562,
          21.9962126674015,
          30.184308250896258,
          33.77517657794784,
          28.50662011229438,
          20.326318289081872,
          13.322740953516556,
          7.791981529285,
          3.304147644458118,
          0.00016063478702071462,
          0.00002201963265990672,
          1.4053683204987588,
          2.280180477611185,
          2.492113431003249,
          2.009474736007079,
          0.9163422328691043,
          0.0001358740826512721,
          1.4360458257498512,
          3.382093817091207,
          4.868455838954864,
          5.601866397491829,
          5.415306046570148,
          4.345679417841364,
          2.608656165949614,
          0.46841785890233295,
          0.00009203389027707613,
          10.34886530338607,
          17.154839299686103,
          27.049604243464536,
          40.98106016458878,
          48.901761438141726,
          37.06528297298853,
          23.9201168422954,
          14.896407229323218,
          8.511334018455631,
          3.609725460494663,
          0.00002006036292088729,
          9.974619493775597,
          15.155456445418812,
          20.55416821858237,
          24.032579964209113,
          22.950491050188322,
          18.221236409198216,
          12.699494779223583,
          7.701931998346344,
          3.3967181005140707,
          0.000025565411945337095,
          4.091347408022938,
          5.034198128215917,
          5.06189790604939,
          4.163506215426491,
          2.532034646920293,
          0.4379740038183704,
          0.00002471774555846959
         ]
        },
        {
         "mode": "lines",
         "name": "2->2",
         "type": "scatter",
         "x": [
          138.70322157425431,
          131.9424637002311,
          123.00220091914893,
          111.46282453856539,
          97.31091292014503,
          81.66234096018086,
          66.59317383658352,
          53.78658268592198,
          43.702464770347085,
          35.9873790457874,
          32.61115907936375,
          195.39717579006307,
          195.9242894087461,
          196.64026027373782,
          197.71871813211143,
          199.69506515643647,
          205.23498987625683,
          291.2274453666455,
          4.781023870695653,
          10.024830552582491,
          11.973483120546696,
          13.076385542323617,
          13.841474641327947,
          14.440225827514253,
          14.463495506852848,
          250.66850116298718,
          257.6908963338783,
          266.7148286769311,
          278.1739299583049,
          292.1076874652286,
          307.583939520893,
          322.76001986536227,
          335.9934330963754,
          346.6953759419863,
          355.09465916793954,
          0.39830537465822136,
          35.526757638163815,
          48.7533896576143,
          62.26609854324929,
          74.7442106236854,
          85.45544236169508,
          94.27318615313297,
          98.16450761276475,
          349.9263954839746,
          352.51567496146066,
          356.54906505014844,
          3.7858198347065657,
          20.364960134226592,
          67.14032222519549,
          119.06481498632046,
          138.0741752659639,
          146.010560711521,
          150.289244311178,
          152.9910529729709,
          154.8737951677526,
          331.6704977284441,
          326.3377700133494,
          318.9202449683198,
          308.5465515952949,
          294.23718033995993,
          276.1114884236889,
          256.8778622270023,
          240.2735672366151,
          227.77990857415284,
          218.811641500178,
          212.33483022807266,
          209.97826060004132
         ],
         "y": [
          0.00010353217652751974,
          3.018641116749576,
          6.1172249350837795,
          8.952151666117574,
          10.936389340519616,
          11.394262829747886,
          10.139883013238416,
          7.680093368556525,
          4.695713526220759,
          1.6230280527563563,
          0.00024276456319967773,
          0.00022117303188283987,
          4.09523212908105,
          9.265163705510533,
          16.36987867761073,
          27.5878824039522,
          48.74777946099393,
          80.9942502472814,
          47.681438950229,
          27.2463823266494,
          16.323938806387428,
          9.351379241736545,
          4.250494422399827,
          0.1602513981764284,
          0.0002621666372265605,
          0.00002148267285287282,
          2.964258019611057,
          5.968833448422102,
          8.731028587707574,
          10.727982432778974,
          11.337595103314452,
          10.32681995385301,
          8.093645496765774,
          5.267285143068275,
          2.2946351663185713,
          0.0001226321483679341,
          7.28268315425222,
          7.997834176155668,
          7.543330241498971,
          6.0389760219309165,
          3.852529055658759,
          1.3441406486600076,
          0.000004092217702207163,
          3.860402695450066,
          8.659654967909738,
          15.088547045764303,
          24.479435251203896,
          39.12036133946739,
          53.00112375060671,
          41.39922682184155,
          25.87164089775426,
          15.85225633407427,
          9.096501236408011,
          4.058460142471297,
          0.00019250123607536185,
          0.00026224129438821836,
          3.365828153204278,
          7.1006188251579685,
          11.040427885286409,
          14.642307471384102,
          16.678021400653112,
          15.990870843779852,
          12.98982470105253,
          9.069129379300488,
          5.15112709947273,
          1.5360630989755633,
          0.000011804107362507242
         ]
        }
       ],
       "layout": {
        "template": {
         "data": {
          "bar": [
           {
            "error_x": {
             "color": "#2a3f5f"
            },
            "error_y": {
             "color": "#2a3f5f"
            },
            "marker": {
             "line": {
              "color": "#E5ECF6",
              "width": 0.5
             },
             "pattern": {
              "fillmode": "overlay",
              "size": 10,
              "solidity": 0.2
             }
            },
            "type": "bar"
           }
          ],
          "barpolar": [
           {
            "marker": {
             "line": {
              "color": "#E5ECF6",
              "width": 0.5
             },
             "pattern": {
              "fillmode": "overlay",
              "size": 10,
              "solidity": 0.2
             }
            },
            "type": "barpolar"
           }
          ],
          "carpet": [
           {
            "aaxis": {
             "endlinecolor": "#2a3f5f",
             "gridcolor": "white",
             "linecolor": "white",
             "minorgridcolor": "white",
             "startlinecolor": "#2a3f5f"
            },
            "baxis": {
             "endlinecolor": "#2a3f5f",
             "gridcolor": "white",
             "linecolor": "white",
             "minorgridcolor": "white",
             "startlinecolor": "#2a3f5f"
            },
            "type": "carpet"
           }
          ],
          "choropleth": [
           {
            "colorbar": {
             "outlinewidth": 0,
             "ticks": ""
            },
            "type": "choropleth"
           }
          ],
          "contour": [
           {
            "colorbar": {
             "outlinewidth": 0,
             "ticks": ""
            },
            "colorscale": [
             [
              0,
              "#0d0887"
             ],
             [
              0.1111111111111111,
              "#46039f"
             ],
             [
              0.2222222222222222,
              "#7201a8"
             ],
             [
              0.3333333333333333,
              "#9c179e"
             ],
             [
              0.4444444444444444,
              "#bd3786"
             ],
             [
              0.5555555555555556,
              "#d8576b"
             ],
             [
              0.6666666666666666,
              "#ed7953"
             ],
             [
              0.7777777777777778,
              "#fb9f3a"
             ],
             [
              0.8888888888888888,
              "#fdca26"
             ],
             [
              1,
              "#f0f921"
             ]
            ],
            "type": "contour"
           }
          ],
          "contourcarpet": [
           {
            "colorbar": {
             "outlinewidth": 0,
             "ticks": ""
            },
            "type": "contourcarpet"
           }
          ],
          "heatmap": [
           {
            "colorbar": {
             "outlinewidth": 0,
             "ticks": ""
            },
            "colorscale": [
             [
              0,
              "#0d0887"
             ],
             [
              0.1111111111111111,
              "#46039f"
             ],
             [
              0.2222222222222222,
              "#7201a8"
             ],
             [
              0.3333333333333333,
              "#9c179e"
             ],
             [
              0.4444444444444444,
              "#bd3786"
             ],
             [
              0.5555555555555556,
              "#d8576b"
             ],
             [
              0.6666666666666666,
              "#ed7953"
             ],
             [
              0.7777777777777778,
              "#fb9f3a"
             ],
             [
              0.8888888888888888,
              "#fdca26"
             ],
             [
              1,
              "#f0f921"
             ]
            ],
            "type": "heatmap"
           }
          ],
          "heatmapgl": [
           {
            "colorbar": {
             "outlinewidth": 0,
             "ticks": ""
            },
            "colorscale": [
             [
              0,
              "#0d0887"
             ],
             [
              0.1111111111111111,
              "#46039f"
             ],
             [
              0.2222222222222222,
              "#7201a8"
             ],
             [
              0.3333333333333333,
              "#9c179e"
             ],
             [
              0.4444444444444444,
              "#bd3786"
             ],
             [
              0.5555555555555556,
              "#d8576b"
             ],
             [
              0.6666666666666666,
              "#ed7953"
             ],
             [
              0.7777777777777778,
              "#fb9f3a"
             ],
             [
              0.8888888888888888,
              "#fdca26"
             ],
             [
              1,
              "#f0f921"
             ]
            ],
            "type": "heatmapgl"
           }
          ],
          "histogram": [
           {
            "marker": {
             "pattern": {
              "fillmode": "overlay",
              "size": 10,
              "solidity": 0.2
             }
            },
            "type": "histogram"
           }
          ],
          "histogram2d": [
           {
            "colorbar": {
             "outlinewidth": 0,
             "ticks": ""
            },
            "colorscale": [
             [
              0,
              "#0d0887"
             ],
             [
              0.1111111111111111,
              "#46039f"
             ],
             [
              0.2222222222222222,
              "#7201a8"
             ],
             [
              0.3333333333333333,
              "#9c179e"
             ],
             [
              0.4444444444444444,
              "#bd3786"
             ],
             [
              0.5555555555555556,
              "#d8576b"
             ],
             [
              0.6666666666666666,
              "#ed7953"
             ],
             [
              0.7777777777777778,
              "#fb9f3a"
             ],
             [
              0.8888888888888888,
              "#fdca26"
             ],
             [
              1,
              "#f0f921"
             ]
            ],
            "type": "histogram2d"
           }
          ],
          "histogram2dcontour": [
           {
            "colorbar": {
             "outlinewidth": 0,
             "ticks": ""
            },
            "colorscale": [
             [
              0,
              "#0d0887"
             ],
             [
              0.1111111111111111,
              "#46039f"
             ],
             [
              0.2222222222222222,
              "#7201a8"
             ],
             [
              0.3333333333333333,
              "#9c179e"
             ],
             [
              0.4444444444444444,
              "#bd3786"
             ],
             [
              0.5555555555555556,
              "#d8576b"
             ],
             [
              0.6666666666666666,
              "#ed7953"
             ],
             [
              0.7777777777777778,
              "#fb9f3a"
             ],
             [
              0.8888888888888888,
              "#fdca26"
             ],
             [
              1,
              "#f0f921"
             ]
            ],
            "type": "histogram2dcontour"
           }
          ],
          "mesh3d": [
           {
            "colorbar": {
             "outlinewidth": 0,
             "ticks": ""
            },
            "type": "mesh3d"
           }
          ],
          "parcoords": [
           {
            "line": {
             "colorbar": {
              "outlinewidth": 0,
              "ticks": ""
             }
            },
            "type": "parcoords"
           }
          ],
          "pie": [
           {
            "automargin": true,
            "type": "pie"
           }
          ],
          "scatter": [
           {
            "fillpattern": {
             "fillmode": "overlay",
             "size": 10,
             "solidity": 0.2
            },
            "type": "scatter"
           }
          ],
          "scatter3d": [
           {
            "line": {
             "colorbar": {
              "outlinewidth": 0,
              "ticks": ""
             }
            },
            "marker": {
             "colorbar": {
              "outlinewidth": 0,
              "ticks": ""
             }
            },
            "type": "scatter3d"
           }
          ],
          "scattercarpet": [
           {
            "marker": {
             "colorbar": {
              "outlinewidth": 0,
              "ticks": ""
             }
            },
            "type": "scattercarpet"
           }
          ],
          "scattergeo": [
           {
            "marker": {
             "colorbar": {
              "outlinewidth": 0,
              "ticks": ""
             }
            },
            "type": "scattergeo"
           }
          ],
          "scattergl": [
           {
            "marker": {
             "colorbar": {
              "outlinewidth": 0,
              "ticks": ""
             }
            },
            "type": "scattergl"
           }
          ],
          "scattermapbox": [
           {
            "marker": {
             "colorbar": {
              "outlinewidth": 0,
              "ticks": ""
             }
            },
            "type": "scattermapbox"
           }
          ],
          "scatterpolar": [
           {
            "marker": {
             "colorbar": {
              "outlinewidth": 0,
              "ticks": ""
             }
            },
            "type": "scatterpolar"
           }
          ],
          "scatterpolargl": [
           {
            "marker": {
             "colorbar": {
              "outlinewidth": 0,
              "ticks": ""
             }
            },
            "type": "scatterpolargl"
           }
          ],
          "scatterternary": [
           {
            "marker": {
             "colorbar": {
              "outlinewidth": 0,
              "ticks": ""
             }
            },
            "type": "scatterternary"
           }
          ],
          "surface": [
           {
            "colorbar": {
             "outlinewidth": 0,
             "ticks": ""
            },
            "colorscale": [
             [
              0,
              "#0d0887"
             ],
             [
              0.1111111111111111,
              "#46039f"
             ],
             [
              0.2222222222222222,
              "#7201a8"
             ],
             [
              0.3333333333333333,
              "#9c179e"
             ],
             [
              0.4444444444444444,
              "#bd3786"
             ],
             [
              0.5555555555555556,
              "#d8576b"
             ],
             [
              0.6666666666666666,
              "#ed7953"
             ],
             [
              0.7777777777777778,
              "#fb9f3a"
             ],
             [
              0.8888888888888888,
              "#fdca26"
             ],
             [
              1,
              "#f0f921"
             ]
            ],
            "type": "surface"
           }
          ],
          "table": [
           {
            "cells": {
             "fill": {
              "color": "#EBF0F8"
             },
             "line": {
              "color": "white"
             }
            },
            "header": {
             "fill": {
              "color": "#C8D4E3"
             },
             "line": {
              "color": "white"
             }
            },
            "type": "table"
           }
          ]
         },
         "layout": {
          "annotationdefaults": {
           "arrowcolor": "#2a3f5f",
           "arrowhead": 0,
           "arrowwidth": 1
          },
          "autotypenumbers": "strict",
          "coloraxis": {
           "colorbar": {
            "outlinewidth": 0,
            "ticks": ""
           }
          },
          "colorscale": {
           "diverging": [
            [
             0,
             "#8e0152"
            ],
            [
             0.1,
             "#c51b7d"
            ],
            [
             0.2,
             "#de77ae"
            ],
            [
             0.3,
             "#f1b6da"
            ],
            [
             0.4,
             "#fde0ef"
            ],
            [
             0.5,
             "#f7f7f7"
            ],
            [
             0.6,
             "#e6f5d0"
            ],
            [
             0.7,
             "#b8e186"
            ],
            [
             0.8,
             "#7fbc41"
            ],
            [
             0.9,
             "#4d9221"
            ],
            [
             1,
             "#276419"
            ]
           ],
           "sequential": [
            [
             0,
             "#0d0887"
            ],
            [
             0.1111111111111111,
             "#46039f"
            ],
            [
             0.2222222222222222,
             "#7201a8"
            ],
            [
             0.3333333333333333,
             "#9c179e"
            ],
            [
             0.4444444444444444,
             "#bd3786"
            ],
            [
             0.5555555555555556,
             "#d8576b"
            ],
            [
             0.6666666666666666,
             "#ed7953"
            ],
            [
             0.7777777777777778,
             "#fb9f3a"
            ],
            [
             0.8888888888888888,
             "#fdca26"
            ],
            [
             1,
             "#f0f921"
            ]
           ],
           "sequentialminus": [
            [
             0,
             "#0d0887"
            ],
            [
             0.1111111111111111,
             "#46039f"
            ],
            [
             0.2222222222222222,
             "#7201a8"
            ],
            [
             0.3333333333333333,
             "#9c179e"
            ],
            [
             0.4444444444444444,
             "#bd3786"
            ],
            [
             0.5555555555555556,
             "#d8576b"
            ],
            [
             0.6666666666666666,
             "#ed7953"
            ],
            [
             0.7777777777777778,
             "#fb9f3a"
            ],
            [
             0.8888888888888888,
             "#fdca26"
            ],
            [
             1,
             "#f0f921"
            ]
           ]
          },
          "colorway": [
           "#636efa",
           "#EF553B",
           "#00cc96",
           "#ab63fa",
           "#FFA15A",
           "#19d3f3",
           "#FF6692",
           "#B6E880",
           "#FF97FF",
           "#FECB52"
          ],
          "font": {
           "color": "#2a3f5f"
          },
          "geo": {
           "bgcolor": "white",
           "lakecolor": "white",
           "landcolor": "#E5ECF6",
           "showlakes": true,
           "showland": true,
           "subunitcolor": "white"
          },
          "hoverlabel": {
           "align": "left"
          },
          "hovermode": "closest",
          "mapbox": {
           "style": "light"
          },
          "paper_bgcolor": "white",
          "plot_bgcolor": "#E5ECF6",
          "polar": {
           "angularaxis": {
            "gridcolor": "white",
            "linecolor": "white",
            "ticks": ""
           },
           "bgcolor": "#E5ECF6",
           "radialaxis": {
            "gridcolor": "white",
            "linecolor": "white",
            "ticks": ""
           }
          },
          "scene": {
           "xaxis": {
            "backgroundcolor": "#E5ECF6",
            "gridcolor": "white",
            "gridwidth": 2,
            "linecolor": "white",
            "showbackground": true,
            "ticks": "",
            "zerolinecolor": "white"
           },
           "yaxis": {
            "backgroundcolor": "#E5ECF6",
            "gridcolor": "white",
            "gridwidth": 2,
            "linecolor": "white",
            "showbackground": true,
            "ticks": "",
            "zerolinecolor": "white"
           },
           "zaxis": {
            "backgroundcolor": "#E5ECF6",
            "gridcolor": "white",
            "gridwidth": 2,
            "linecolor": "white",
            "showbackground": true,
            "ticks": "",
            "zerolinecolor": "white"
           }
          },
          "shapedefaults": {
           "line": {
            "color": "#2a3f5f"
           }
          },
          "ternary": {
           "aaxis": {
            "gridcolor": "white",
            "linecolor": "white",
            "ticks": ""
           },
           "baxis": {
            "gridcolor": "white",
            "linecolor": "white",
            "ticks": ""
           },
           "bgcolor": "#E5ECF6",
           "caxis": {
            "gridcolor": "white",
            "linecolor": "white",
            "ticks": ""
           }
          },
          "title": {
           "x": 0.05
          },
          "xaxis": {
           "automargin": true,
           "gridcolor": "white",
           "linecolor": "white",
           "ticks": "",
           "title": {
            "standoff": 15
           },
           "zerolinecolor": "white",
           "zerolinewidth": 2
          },
          "yaxis": {
           "automargin": true,
           "gridcolor": "white",
           "linecolor": "white",
           "ticks": "",
           "title": {
            "standoff": 15
           },
           "zerolinecolor": "white",
           "zerolinewidth": 2
          }
         }
        },
        "updatemenus": [
         {
          "active": 0,
          "buttons": [
           {
            "args": [
             {
              "visible": [
               true,
               true,
               false,
               false
              ]
             }
            ],
            "label": "Target1",
            "method": "restyle"
           },
           {
            "args": [
             {
              "visible": [
               false,
               false,
               true,
               true
              ]
             }
            ],
            "label": "Target2",
            "method": "restyle"
           }
          ],
          "x": 1.1,
          "xanchor": "left",
          "y": 1.1,
          "yanchor": "top"
         }
        ],
        "xaxis": {
         "title": {
          "text": "Azimuth"
         }
        },
        "yaxis": {
         "title": {
          "text": "Elevation"
         }
        }
       }
      }
     },
     "metadata": {},
     "output_type": "display_data"
    },
    {
     "data": {
      "application/vnd.plotly.v1+json": {
       "config": {
        "plotlyServerURL": "https://plot.ly"
       },
       "data": [
        {
         "name": "Target1",
         "type": "scatter",
         "x": [
          2242.385036,
          2302,
          2362,
          2422,
          2482,
          2542,
          2602,
          2662,
          2722,
          2782,
          2842,
          2875.171923,
          3428.502487,
          3488,
          3548,
          3608,
          3668,
          3728,
          3788,
          3848,
          3908,
          3968,
          4028,
          4088,
          4112.947501,
          8034.586616,
          8094,
          8154,
          8214,
          8274,
          8334,
          8394,
          8454,
          8514,
          8574,
          8634,
          8643.719697,
          9206.069655,
          9266,
          9326,
          9386,
          9446,
          9506,
          9566,
          9626,
          9686,
          9746,
          9806,
          9809.529913,
          13762.112273,
          13822,
          13882,
          13942,
          14002,
          14062,
          14122,
          14182,
          14242,
          14302,
          14362,
          14406.05287,
          15337.209227,
          15397,
          15457,
          15509.687047,
          19431.169964,
          19491,
          19551,
          19611,
          19671,
          19731,
          19791,
          19851,
          19911,
          19971,
          20031,
          20091,
          20145.019568,
          21029.015752,
          21089,
          21149,
          21204.781709,
          25170.932821,
          25230,
          25290,
          25350,
          25410,
          25470,
          25530,
          25590,
          25650,
          25710,
          25770,
          25830,
          25845.277014,
          30899.922721,
          30959,
          31019,
          31079,
          31139,
          31199,
          31259,
          31319,
          31379,
          31439,
          31498.122793,
          36617.89763,
          36677,
          36737,
          36797,
          36857,
          36917,
          36977,
          37037,
          37097,
          37104.453951469,
          38398.30011,
          38458,
          38518,
          38578,
          38638,
          38698,
          38703.853824,
          42318.809601,
          42378,
          42438,
          42498,
          42558,
          42618,
          42678,
          42679.798757,
          44095.987394,
          44155,
          44215,
          44275,
          44335,
          44395,
          44455,
          44515,
          44575,
          44594.55668,
          47979.936191,
          48039,
          48099,
          48159,
          48219,
          48265.778796,
          49795.811321,
          49855,
          49915,
          49975,
          50035,
          50095,
          50155,
          50215,
          50275,
          50335,
          50395,
          50419.555008,
          53576.849005,
          53636,
          53696,
          53756,
          53816,
          53876,
          53912.823083,
          55491.218534,
          55551,
          55611,
          55671,
          55731,
          55791,
          55851,
          55911,
          55971,
          56031,
          56091,
          56151,
          56186.291018,
          59149.752737,
          59209,
          59269,
          59329,
          59389,
          59449,
          59509,
          59569,
          59607.56876,
          61179.232706,
          61239,
          61299,
          61359,
          61419,
          61479,
          61539,
          61599,
          61659,
          61719,
          61779,
          61839,
          61899,
          61906.843579,
          64746.968582,
          64806,
          64866,
          64926,
          64986,
          65046,
          65106,
          65166,
          65226,
          65286,
          65322.550408,
          66858.96609,
          66918,
          66978,
          67038,
          67098,
          67158,
          67218,
          67278,
          67338,
          67398,
          67458,
          67518,
          67578,
          67596.892454224,
          70388.747613,
          70448,
          70508,
          70568,
          70628,
          70688,
          70748,
          70808,
          70868,
          70928,
          70988,
          71048,
          71049.169216,
          72533.297917,
          72593,
          72653,
          72713,
          72773,
          72833,
          72893,
          72953,
          73013,
          73073,
          73133,
          73193,
          73253,
          73272.78726614,
          76078.689961,
          76138,
          76198,
          76258,
          76318,
          76378,
          76438,
          76498,
          76558,
          76618,
          76678,
          76738,
          76786.388271,
          78210.87493,
          78270,
          78330,
          78390,
          78450,
          78510,
          78570,
          78630,
          78690,
          78750,
          78810,
          78870,
          78930,
          78947.736626868,
          81810.014765,
          81870,
          81930,
          81990,
          82050,
          82110,
          82170,
          82230,
          82290,
          82350,
          82410,
          82470,
          82530,
          82535.297348,
          83905.869087,
          83965,
          84025,
          84085,
          84145,
          84205,
          84265,
          84325,
          84385,
          84445,
          84505,
          84565,
          84625,
          84629.108856
         ],
         "y": [
          0,
          0.30864197530864196,
          0.6172839506172839,
          0.9259259259259259,
          1.2345679012345678,
          1.5432098765432098,
          1.8518518518518519,
          2.1604938271604937,
          2.4691358024691357,
          2.7777777777777777,
          3.0864197530864197,
          3.0864197530864197,
          3.0864197530864197,
          3.3950617283950617,
          3.3950617283950617,
          3.7037037037037037,
          4.012345679012346,
          4.320987654320987,
          4.62962962962963,
          4.938271604938271,
          5.246913580246914,
          5.555555555555555,
          5.864197530864198,
          6.172839506172839,
          6.172839506172839,
          6.172839506172839,
          6.481481481481482,
          6.790123456790123,
          7.098765432098766,
          7.407407407407407,
          7.716049382716049,
          8.024691358024691,
          8.333333333333334,
          8.641975308641975,
          8.641975308641975,
          8.950617283950617,
          8.950617283950617,
          8.950617283950617,
          9.25925925925926,
          9.567901234567902,
          9.876543209876543,
          10.185185185185185,
          10.493827160493828,
          10.493827160493828,
          10.493827160493828,
          10.493827160493828,
          10.493827160493828,
          10.802469135802468,
          10.802469135802468,
          10.802469135802468,
          10.802469135802468,
          11.11111111111111,
          11.11111111111111,
          11.419753086419753,
          11.728395061728396,
          12.037037037037036,
          12.345679012345679,
          12.654320987654321,
          12.962962962962964,
          13.271604938271604,
          13.271604938271604,
          13.271604938271604,
          13.271604938271604,
          13.271604938271604,
          13.580246913580247,
          13.580246913580247,
          13.580246913580247,
          13.580246913580247,
          13.580246913580247,
          13.580246913580247,
          13.88888888888889,
          14.197530864197532,
          14.506172839506172,
          14.814814814814815,
          15.123456790123457,
          15.432098765432098,
          15.74074074074074,
          15.74074074074074,
          16.049382716049383,
          16.049382716049383,
          16.049382716049383,
          16.049382716049383,
          16.358024691358025,
          16.358024691358025,
          16.358024691358025,
          16.358024691358025,
          16.666666666666668,
          16.666666666666668,
          16.97530864197531,
          16.97530864197531,
          16.97530864197531,
          16.97530864197531,
          17.28395061728395,
          17.28395061728395,
          17.28395061728395,
          17.28395061728395,
          17.28395061728395,
          17.28395061728395,
          17.28395061728395,
          17.28395061728395,
          17.28395061728395,
          17.28395061728395,
          17.28395061728395,
          17.28395061728395,
          17.28395061728395,
          17.28395061728395,
          17.28395061728395,
          17.59259259259259,
          17.59259259259259,
          17.59259259259259,
          17.59259259259259,
          17.59259259259259,
          17.901234567901234,
          17.901234567901234,
          18.209876543209877,
          18.51851851851852,
          18.51851851851852,
          18.82716049382716,
          19.135802469135804,
          19.444444444444443,
          19.753086419753085,
          20.061728395061728,
          20.37037037037037,
          20.37037037037037,
          20.679012345679013,
          20.679012345679013,
          20.679012345679013,
          20.679012345679013,
          20.679012345679013,
          20.679012345679013,
          20.679012345679013,
          20.679012345679013,
          20.679012345679013,
          20.679012345679013,
          20.679012345679013,
          20.679012345679013,
          20.679012345679013,
          20.679012345679013,
          20.987654320987655,
          20.987654320987655,
          21.296296296296298,
          21.296296296296298,
          21.296296296296298,
          21.296296296296298,
          21.296296296296298,
          21.296296296296298,
          21.296296296296298,
          21.296296296296298,
          21.296296296296298,
          21.296296296296298,
          21.296296296296298,
          21.296296296296298,
          21.296296296296298,
          21.604938271604937,
          21.91358024691358,
          22.22222222222222,
          22.22222222222222,
          22.530864197530864,
          22.839506172839506,
          22.839506172839506,
          22.839506172839506,
          22.839506172839506,
          22.839506172839506,
          22.839506172839506,
          22.839506172839506,
          22.839506172839506,
          22.839506172839506,
          22.839506172839506,
          22.839506172839506,
          22.839506172839506,
          23.14814814814815,
          23.14814814814815,
          23.14814814814815,
          23.45679012345679,
          23.765432098765434,
          24.074074074074073,
          24.074074074074073,
          24.382716049382715,
          24.382716049382715,
          24.382716049382715,
          24.382716049382715,
          24.382716049382715,
          24.382716049382715,
          24.382716049382715,
          24.382716049382715,
          24.382716049382715,
          24.382716049382715,
          24.382716049382715,
          24.382716049382715,
          24.382716049382715,
          24.382716049382715,
          24.382716049382715,
          24.382716049382715,
          24.382716049382715,
          24.691358024691358,
          24.691358024691358,
          25,
          25.308641975308642,
          25.308641975308642,
          25.308641975308642,
          25.308641975308642,
          25.308641975308642,
          25.308641975308642,
          25.308641975308642,
          25.617283950617285,
          25.617283950617285,
          25.617283950617285,
          25.617283950617285,
          25.617283950617285,
          25.925925925925927,
          25.925925925925927,
          25.925925925925927,
          25.925925925925927,
          25.925925925925927,
          25.925925925925927,
          25.925925925925927,
          25.925925925925927,
          25.925925925925927,
          26.234567901234566,
          26.54320987654321,
          26.85185185185185,
          27.160493827160494,
          27.469135802469136,
          27.77777777777778,
          28.08641975308642,
          28.08641975308642,
          28.08641975308642,
          28.08641975308642,
          28.08641975308642,
          28.08641975308642,
          28.08641975308642,
          28.395061728395063,
          28.395061728395063,
          28.703703703703702,
          28.703703703703702,
          28.703703703703702,
          29.012345679012345,
          29.012345679012345,
          29.012345679012345,
          29.012345679012345,
          29.012345679012345,
          29.012345679012345,
          29.012345679012345,
          29.012345679012345,
          29.012345679012345,
          29.012345679012345,
          29.320987654320987,
          29.62962962962963,
          29.938271604938272,
          30.246913580246915,
          30.246913580246915,
          30.246913580246915,
          30.246913580246915,
          30.246913580246915,
          30.246913580246915,
          30.246913580246915,
          30.246913580246915,
          30.246913580246915,
          30.555555555555557,
          30.555555555555557,
          30.864197530864196,
          30.864197530864196,
          31.17283950617284,
          31.48148148148148,
          31.48148148148148,
          31.48148148148148,
          31.48148148148148,
          31.48148148148148,
          31.48148148148148,
          31.48148148148148,
          31.48148148148148,
          31.48148148148148,
          31.790123456790123,
          32.098765432098766,
          32.407407407407405,
          32.71604938271605,
          32.71604938271605,
          32.71604938271605,
          32.71604938271605,
          32.71604938271605,
          32.71604938271605,
          32.71604938271605,
          32.71604938271605,
          32.71604938271605,
          32.71604938271605,
          33.02469135802469,
          33.333333333333336,
          33.641975308641975,
          33.641975308641975,
          33.95061728395062,
          33.95061728395062,
          33.95061728395062,
          33.95061728395062,
          33.95061728395062,
          33.95061728395062,
          33.95061728395062,
          33.95061728395062,
          33.95061728395062,
          33.95061728395062,
          33.95061728395062,
          33.95061728395062,
          33.95061728395062,
          33.95061728395062,
          33.95061728395062,
          33.95061728395062,
          33.95061728395062,
          33.95061728395062,
          33.95061728395062,
          33.95061728395062
         ]
        },
        {
         "name": "Target2",
         "type": "scatter",
         "x": [
          1670.873183,
          1730,
          1790,
          1850,
          1910,
          1970,
          2030,
          2090,
          2150,
          2210,
          2242.367721858,
          7312.577445,
          7372,
          7432,
          7492,
          7552,
          7612,
          7672,
          7732,
          7792,
          7852,
          7912,
          7972,
          8032,
          8034.573898,
          13175.247637,
          13235,
          13295,
          13355,
          13415,
          13475,
          13535,
          13595,
          13655,
          13715,
          13762.107867,
          14841.599519,
          14901,
          14961,
          15021,
          15081,
          15141,
          15201,
          15261,
          15321,
          15337.201299807,
          20327.645117,
          20387,
          20447,
          20507,
          20567,
          20627,
          20687,
          20747,
          20807,
          20867,
          20927,
          20987,
          21029.012847,
          25975.118906,
          26035,
          26095,
          26155,
          26215,
          26275,
          26335,
          26395,
          26455,
          26515,
          26575,
          26635,
          26686.662644,
          31884.074991,
          31944,
          32004,
          32064,
          32124,
          32184,
          32221.161793,
          37104.461998,
          37164,
          37224,
          37284,
          37344,
          37404,
          37435.076508,
          42679.805086,
          42739,
          42799,
          42859,
          42919,
          42979,
          43039,
          43099,
          43159,
          43219,
          43279,
          43338.803034,
          48397.884206,
          48457,
          48517,
          48577,
          48637,
          48697,
          48757,
          48817,
          48877,
          48937,
          48997,
          49024.33026,
          67596.897871,
          67656,
          67716,
          67776,
          67836,
          67896,
          67956,
          68016,
          68028.308135,
          73272.78863,
          73332,
          73392,
          73452,
          73512,
          73572,
          73632,
          73692,
          73752,
          73812,
          73865.282533,
          78947.738205,
          79007,
          79067,
          79127,
          79187,
          79247,
          79307,
          79367,
          79427,
          79481.085877,
          84629.112762,
          84689,
          84749,
          84809,
          84869,
          84929,
          84940.610276
         ],
         "y": [
          0,
          0.30864197530864196,
          0.30864197530864196,
          0.6172839506172839,
          0.9259259259259259,
          1.2345679012345678,
          1.5432098765432098,
          1.8518518518518519,
          2.1604938271604937,
          2.4691358024691357,
          2.7777777777777777,
          2.7777777777777777,
          3.0864197530864197,
          3.0864197530864197,
          3.0864197530864197,
          3.3950617283950617,
          3.7037037037037037,
          4.012345679012346,
          4.320987654320987,
          4.62962962962963,
          4.938271604938271,
          5.246913580246914,
          5.555555555555555,
          5.555555555555555,
          5.555555555555555,
          5.555555555555555,
          5.864197530864198,
          5.864197530864198,
          6.172839506172839,
          6.481481481481482,
          6.790123456790123,
          7.098765432098766,
          7.407407407407407,
          7.716049382716049,
          8.024691358024691,
          8.333333333333334,
          8.641975308641975,
          8.950617283950617,
          8.950617283950617,
          9.25925925925926,
          9.25925925925926,
          9.25925925925926,
          9.567901234567902,
          9.567901234567902,
          9.567901234567902,
          9.567901234567902,
          9.567901234567902,
          9.567901234567902,
          9.567901234567902,
          9.567901234567902,
          9.876543209876543,
          10.185185185185185,
          10.493827160493828,
          10.802469135802468,
          11.11111111111111,
          11.419753086419753,
          11.728395061728396,
          11.728395061728396,
          11.728395061728396,
          11.728395061728396,
          12.037037037037036,
          12.345679012345679,
          12.345679012345679,
          12.345679012345679,
          12.654320987654321,
          12.962962962962964,
          13.271604938271604,
          13.580246913580247,
          13.88888888888889,
          14.197530864197532,
          14.506172839506172,
          14.506172839506172,
          14.506172839506172,
          14.814814814814815,
          14.814814814814815,
          14.814814814814815,
          14.814814814814815,
          15.123456790123457,
          15.432098765432098,
          15.74074074074074,
          15.74074074074074,
          15.74074074074074,
          15.74074074074074,
          15.74074074074074,
          16.049382716049383,
          16.358024691358025,
          16.358024691358025,
          16.358024691358025,
          16.358024691358025,
          16.358024691358025,
          16.666666666666668,
          16.97530864197531,
          17.28395061728395,
          17.59259259259259,
          17.901234567901234,
          18.209876543209877,
          18.51851851851852,
          18.51851851851852,
          18.51851851851852,
          18.51851851851852,
          18.51851851851852,
          18.82716049382716,
          18.82716049382716,
          18.82716049382716,
          19.135802469135804,
          19.444444444444443,
          19.753086419753085,
          20.061728395061728,
          20.37037037037037,
          20.37037037037037,
          20.679012345679013,
          20.679012345679013,
          20.679012345679013,
          20.679012345679013,
          20.679012345679013,
          20.679012345679013,
          20.987654320987655,
          20.987654320987655,
          20.987654320987655,
          20.987654320987655,
          21.296296296296298,
          21.296296296296298,
          21.604938271604937,
          21.91358024691358,
          21.91358024691358,
          22.22222222222222,
          22.530864197530864,
          22.839506172839506,
          22.839506172839506,
          22.839506172839506,
          22.839506172839506,
          22.839506172839506,
          22.839506172839506,
          23.14814814814815,
          23.45679012345679,
          23.765432098765434,
          23.765432098765434,
          23.765432098765434,
          23.765432098765434,
          23.765432098765434,
          24.074074074074073,
          24.074074074074073,
          24.074074074074073,
          24.074074074074073,
          24.074074074074073,
          24.074074074074073,
          24.074074074074073
         ]
        }
       ],
       "layout": {
        "template": {
         "data": {
          "bar": [
           {
            "error_x": {
             "color": "#2a3f5f"
            },
            "error_y": {
             "color": "#2a3f5f"
            },
            "marker": {
             "line": {
              "color": "#E5ECF6",
              "width": 0.5
             },
             "pattern": {
              "fillmode": "overlay",
              "size": 10,
              "solidity": 0.2
             }
            },
            "type": "bar"
           }
          ],
          "barpolar": [
           {
            "marker": {
             "line": {
              "color": "#E5ECF6",
              "width": 0.5
             },
             "pattern": {
              "fillmode": "overlay",
              "size": 10,
              "solidity": 0.2
             }
            },
            "type": "barpolar"
           }
          ],
          "carpet": [
           {
            "aaxis": {
             "endlinecolor": "#2a3f5f",
             "gridcolor": "white",
             "linecolor": "white",
             "minorgridcolor": "white",
             "startlinecolor": "#2a3f5f"
            },
            "baxis": {
             "endlinecolor": "#2a3f5f",
             "gridcolor": "white",
             "linecolor": "white",
             "minorgridcolor": "white",
             "startlinecolor": "#2a3f5f"
            },
            "type": "carpet"
           }
          ],
          "choropleth": [
           {
            "colorbar": {
             "outlinewidth": 0,
             "ticks": ""
            },
            "type": "choropleth"
           }
          ],
          "contour": [
           {
            "colorbar": {
             "outlinewidth": 0,
             "ticks": ""
            },
            "colorscale": [
             [
              0,
              "#0d0887"
             ],
             [
              0.1111111111111111,
              "#46039f"
             ],
             [
              0.2222222222222222,
              "#7201a8"
             ],
             [
              0.3333333333333333,
              "#9c179e"
             ],
             [
              0.4444444444444444,
              "#bd3786"
             ],
             [
              0.5555555555555556,
              "#d8576b"
             ],
             [
              0.6666666666666666,
              "#ed7953"
             ],
             [
              0.7777777777777778,
              "#fb9f3a"
             ],
             [
              0.8888888888888888,
              "#fdca26"
             ],
             [
              1,
              "#f0f921"
             ]
            ],
            "type": "contour"
           }
          ],
          "contourcarpet": [
           {
            "colorbar": {
             "outlinewidth": 0,
             "ticks": ""
            },
            "type": "contourcarpet"
           }
          ],
          "heatmap": [
           {
            "colorbar": {
             "outlinewidth": 0,
             "ticks": ""
            },
            "colorscale": [
             [
              0,
              "#0d0887"
             ],
             [
              0.1111111111111111,
              "#46039f"
             ],
             [
              0.2222222222222222,
              "#7201a8"
             ],
             [
              0.3333333333333333,
              "#9c179e"
             ],
             [
              0.4444444444444444,
              "#bd3786"
             ],
             [
              0.5555555555555556,
              "#d8576b"
             ],
             [
              0.6666666666666666,
              "#ed7953"
             ],
             [
              0.7777777777777778,
              "#fb9f3a"
             ],
             [
              0.8888888888888888,
              "#fdca26"
             ],
             [
              1,
              "#f0f921"
             ]
            ],
            "type": "heatmap"
           }
          ],
          "heatmapgl": [
           {
            "colorbar": {
             "outlinewidth": 0,
             "ticks": ""
            },
            "colorscale": [
             [
              0,
              "#0d0887"
             ],
             [
              0.1111111111111111,
              "#46039f"
             ],
             [
              0.2222222222222222,
              "#7201a8"
             ],
             [
              0.3333333333333333,
              "#9c179e"
             ],
             [
              0.4444444444444444,
              "#bd3786"
             ],
             [
              0.5555555555555556,
              "#d8576b"
             ],
             [
              0.6666666666666666,
              "#ed7953"
             ],
             [
              0.7777777777777778,
              "#fb9f3a"
             ],
             [
              0.8888888888888888,
              "#fdca26"
             ],
             [
              1,
              "#f0f921"
             ]
            ],
            "type": "heatmapgl"
           }
          ],
          "histogram": [
           {
            "marker": {
             "pattern": {
              "fillmode": "overlay",
              "size": 10,
              "solidity": 0.2
             }
            },
            "type": "histogram"
           }
          ],
          "histogram2d": [
           {
            "colorbar": {
             "outlinewidth": 0,
             "ticks": ""
            },
            "colorscale": [
             [
              0,
              "#0d0887"
             ],
             [
              0.1111111111111111,
              "#46039f"
             ],
             [
              0.2222222222222222,
              "#7201a8"
             ],
             [
              0.3333333333333333,
              "#9c179e"
             ],
             [
              0.4444444444444444,
              "#bd3786"
             ],
             [
              0.5555555555555556,
              "#d8576b"
             ],
             [
              0.6666666666666666,
              "#ed7953"
             ],
             [
              0.7777777777777778,
              "#fb9f3a"
             ],
             [
              0.8888888888888888,
              "#fdca26"
             ],
             [
              1,
              "#f0f921"
             ]
            ],
            "type": "histogram2d"
           }
          ],
          "histogram2dcontour": [
           {
            "colorbar": {
             "outlinewidth": 0,
             "ticks": ""
            },
            "colorscale": [
             [
              0,
              "#0d0887"
             ],
             [
              0.1111111111111111,
              "#46039f"
             ],
             [
              0.2222222222222222,
              "#7201a8"
             ],
             [
              0.3333333333333333,
              "#9c179e"
             ],
             [
              0.4444444444444444,
              "#bd3786"
             ],
             [
              0.5555555555555556,
              "#d8576b"
             ],
             [
              0.6666666666666666,
              "#ed7953"
             ],
             [
              0.7777777777777778,
              "#fb9f3a"
             ],
             [
              0.8888888888888888,
              "#fdca26"
             ],
             [
              1,
              "#f0f921"
             ]
            ],
            "type": "histogram2dcontour"
           }
          ],
          "mesh3d": [
           {
            "colorbar": {
             "outlinewidth": 0,
             "ticks": ""
            },
            "type": "mesh3d"
           }
          ],
          "parcoords": [
           {
            "line": {
             "colorbar": {
              "outlinewidth": 0,
              "ticks": ""
             }
            },
            "type": "parcoords"
           }
          ],
          "pie": [
           {
            "automargin": true,
            "type": "pie"
           }
          ],
          "scatter": [
           {
            "fillpattern": {
             "fillmode": "overlay",
             "size": 10,
             "solidity": 0.2
            },
            "type": "scatter"
           }
          ],
          "scatter3d": [
           {
            "line": {
             "colorbar": {
              "outlinewidth": 0,
              "ticks": ""
             }
            },
            "marker": {
             "colorbar": {
              "outlinewidth": 0,
              "ticks": ""
             }
            },
            "type": "scatter3d"
           }
          ],
          "scattercarpet": [
           {
            "marker": {
             "colorbar": {
              "outlinewidth": 0,
              "ticks": ""
             }
            },
            "type": "scattercarpet"
           }
          ],
          "scattergeo": [
           {
            "marker": {
             "colorbar": {
              "outlinewidth": 0,
              "ticks": ""
             }
            },
            "type": "scattergeo"
           }
          ],
          "scattergl": [
           {
            "marker": {
             "colorbar": {
              "outlinewidth": 0,
              "ticks": ""
             }
            },
            "type": "scattergl"
           }
          ],
          "scattermapbox": [
           {
            "marker": {
             "colorbar": {
              "outlinewidth": 0,
              "ticks": ""
             }
            },
            "type": "scattermapbox"
           }
          ],
          "scatterpolar": [
           {
            "marker": {
             "colorbar": {
              "outlinewidth": 0,
              "ticks": ""
             }
            },
            "type": "scatterpolar"
           }
          ],
          "scatterpolargl": [
           {
            "marker": {
             "colorbar": {
              "outlinewidth": 0,
              "ticks": ""
             }
            },
            "type": "scatterpolargl"
           }
          ],
          "scatterternary": [
           {
            "marker": {
             "colorbar": {
              "outlinewidth": 0,
              "ticks": ""
             }
            },
            "type": "scatterternary"
           }
          ],
          "surface": [
           {
            "colorbar": {
             "outlinewidth": 0,
             "ticks": ""
            },
            "colorscale": [
             [
              0,
              "#0d0887"
             ],
             [
              0.1111111111111111,
              "#46039f"
             ],
             [
              0.2222222222222222,
              "#7201a8"
             ],
             [
              0.3333333333333333,
              "#9c179e"
             ],
             [
              0.4444444444444444,
              "#bd3786"
             ],
             [
              0.5555555555555556,
              "#d8576b"
             ],
             [
              0.6666666666666666,
              "#ed7953"
             ],
             [
              0.7777777777777778,
              "#fb9f3a"
             ],
             [
              0.8888888888888888,
              "#fdca26"
             ],
             [
              1,
              "#f0f921"
             ]
            ],
            "type": "surface"
           }
          ],
          "table": [
           {
            "cells": {
             "fill": {
              "color": "#EBF0F8"
             },
             "line": {
              "color": "white"
             }
            },
            "header": {
             "fill": {
              "color": "#C8D4E3"
             },
             "line": {
              "color": "white"
             }
            },
            "type": "table"
           }
          ]
         },
         "layout": {
          "annotationdefaults": {
           "arrowcolor": "#2a3f5f",
           "arrowhead": 0,
           "arrowwidth": 1
          },
          "autotypenumbers": "strict",
          "coloraxis": {
           "colorbar": {
            "outlinewidth": 0,
            "ticks": ""
           }
          },
          "colorscale": {
           "diverging": [
            [
             0,
             "#8e0152"
            ],
            [
             0.1,
             "#c51b7d"
            ],
            [
             0.2,
             "#de77ae"
            ],
            [
             0.3,
             "#f1b6da"
            ],
            [
             0.4,
             "#fde0ef"
            ],
            [
             0.5,
             "#f7f7f7"
            ],
            [
             0.6,
             "#e6f5d0"
            ],
            [
             0.7,
             "#b8e186"
            ],
            [
             0.8,
             "#7fbc41"
            ],
            [
             0.9,
             "#4d9221"
            ],
            [
             1,
             "#276419"
            ]
           ],
           "sequential": [
            [
             0,
             "#0d0887"
            ],
            [
             0.1111111111111111,
             "#46039f"
            ],
            [
             0.2222222222222222,
             "#7201a8"
            ],
            [
             0.3333333333333333,
             "#9c179e"
            ],
            [
             0.4444444444444444,
             "#bd3786"
            ],
            [
             0.5555555555555556,
             "#d8576b"
            ],
            [
             0.6666666666666666,
             "#ed7953"
            ],
            [
             0.7777777777777778,
             "#fb9f3a"
            ],
            [
             0.8888888888888888,
             "#fdca26"
            ],
            [
             1,
             "#f0f921"
            ]
           ],
           "sequentialminus": [
            [
             0,
             "#0d0887"
            ],
            [
             0.1111111111111111,
             "#46039f"
            ],
            [
             0.2222222222222222,
             "#7201a8"
            ],
            [
             0.3333333333333333,
             "#9c179e"
            ],
            [
             0.4444444444444444,
             "#bd3786"
            ],
            [
             0.5555555555555556,
             "#d8576b"
            ],
            [
             0.6666666666666666,
             "#ed7953"
            ],
            [
             0.7777777777777778,
             "#fb9f3a"
            ],
            [
             0.8888888888888888,
             "#fdca26"
            ],
            [
             1,
             "#f0f921"
            ]
           ]
          },
          "colorway": [
           "#636efa",
           "#EF553B",
           "#00cc96",
           "#ab63fa",
           "#FFA15A",
           "#19d3f3",
           "#FF6692",
           "#B6E880",
           "#FF97FF",
           "#FECB52"
          ],
          "font": {
           "color": "#2a3f5f"
          },
          "geo": {
           "bgcolor": "white",
           "lakecolor": "white",
           "landcolor": "#E5ECF6",
           "showlakes": true,
           "showland": true,
           "subunitcolor": "white"
          },
          "hoverlabel": {
           "align": "left"
          },
          "hovermode": "closest",
          "mapbox": {
           "style": "light"
          },
          "paper_bgcolor": "white",
          "plot_bgcolor": "#E5ECF6",
          "polar": {
           "angularaxis": {
            "gridcolor": "white",
            "linecolor": "white",
            "ticks": ""
           },
           "bgcolor": "#E5ECF6",
           "radialaxis": {
            "gridcolor": "white",
            "linecolor": "white",
            "ticks": ""
           }
          },
          "scene": {
           "xaxis": {
            "backgroundcolor": "#E5ECF6",
            "gridcolor": "white",
            "gridwidth": 2,
            "linecolor": "white",
            "showbackground": true,
            "ticks": "",
            "zerolinecolor": "white"
           },
           "yaxis": {
            "backgroundcolor": "#E5ECF6",
            "gridcolor": "white",
            "gridwidth": 2,
            "linecolor": "white",
            "showbackground": true,
            "ticks": "",
            "zerolinecolor": "white"
           },
           "zaxis": {
            "backgroundcolor": "#E5ECF6",
            "gridcolor": "white",
            "gridwidth": 2,
            "linecolor": "white",
            "showbackground": true,
            "ticks": "",
            "zerolinecolor": "white"
           }
          },
          "shapedefaults": {
           "line": {
            "color": "#2a3f5f"
           }
          },
          "ternary": {
           "aaxis": {
            "gridcolor": "white",
            "linecolor": "white",
            "ticks": ""
           },
           "baxis": {
            "gridcolor": "white",
            "linecolor": "white",
            "ticks": ""
           },
           "bgcolor": "#E5ECF6",
           "caxis": {
            "gridcolor": "white",
            "linecolor": "white",
            "ticks": ""
           }
          },
          "title": {
           "x": 0.05
          },
          "xaxis": {
           "automargin": true,
           "gridcolor": "white",
           "linecolor": "white",
           "ticks": "",
           "title": {
            "standoff": 15
           },
           "zerolinecolor": "white",
           "zerolinewidth": 2
          },
          "yaxis": {
           "automargin": true,
           "gridcolor": "white",
           "linecolor": "white",
           "ticks": "",
           "title": {
            "standoff": 15
           },
           "zerolinecolor": "white",
           "zerolinewidth": 2
          }
         }
        },
        "xaxis": {
         "title": {
          "text": "Time"
         }
        },
        "yaxis": {
         "title": {
          "text": "% Imaged"
         }
        }
       }
      }
     },
     "metadata": {},
     "output_type": "display_data"
    }
   ],
   "source": [
    "# Visualization of Targets Azimuth and Elevation data (includes all satellites).\n",
    "\n",
    "figs1 = []\n",
    "figs2 = []\n",
    "buttons1 = []\n",
    "buttons2 = []\n",
    "\n",
    "fig3 = go.Figure()\n",
    "\n",
    "for t in range(len(stk_object.targets)):\n",
    "    fig1 = px.imshow(stk_object.Azimuth_vs_Elevation[f\"Target{t+1}\"].transpose(), text_auto=True,\n",
    "                labels=dict(x=\"Azimuth\",y=\"Elevation\", color=\"Total Frames Captured\"),)\n",
    "    figs1.append(fig1.data[0])\n",
    "    for s in range(len(stk_object.sensors)):\n",
    "        df = stk_object.AzEl_data[f'Target{t+1}->Satellite{s+1}']\n",
    "        if type(df) != int:\n",
    "            df['Azimuth'] = df['Azimuth'].astype(float)\n",
    "            df['Elevation'] = df['Elevation'].astype(float)\n",
    "            fig2 = go.Scatter(y=df['Elevation'],x=df['Azimuth'],name=f'{t+1}->{s+1}',mode='lines')\n",
    "            figs2.append(fig2)\n",
    "        else:\n",
    "            figs2.append(go.Scatter(x=[],y=[]))\n",
    "\n",
    "    if type(stk_object.time_sorted_data[f'Target{t+1}']) != int:\n",
    "        df = pd.DataFrame(stk_object.time_sorted_data[f'Target{t+1}'])\n",
    "        fig3.add_trace(go.Scatter(x=df['Time'],y=df['Percent Imaged'],name=f'Target{t+1}'))\n",
    "\n",
    "    z1 = np.zeros(len(stk_object.targets),dtype=bool);z1[t]=1\n",
    "    z2 = np.zeros(len(stk_object.targets)*len(stk_object.sensors),dtype=bool)\n",
    "    z2[len(stk_object.sensors)*t] = 1\n",
    "    for s in range(len(stk_object.sensors)):\n",
    "        z2[len(stk_object.sensors)*t+s]=1\n",
    "    buttons1.append(dict(label=f\"Target{t+1}\",\n",
    "                        method=\"restyle\",\n",
    "                        args=[{\"visible\": z1},]))\n",
    "    buttons2.append(dict(label=f\"Target{t+1}\",\n",
    "                        method=\"restyle\",\n",
    "                        args=[{\"visible\": z2},]))\n",
    "\n",
    "fig1=go.Figure(figs1)\n",
    "fig1.update_layout(xaxis_title=\"Azimuth\", yaxis_title=\"Elevation\",\n",
    "    updatemenus=[\n",
    "        dict(\n",
    "            active=0,\n",
    "            buttons=buttons1,\n",
    "              x=1.1,\n",
    "              xanchor=\"left\",\n",
    "              y=1.1,\n",
    "              yanchor=\"top\")])\n",
    "\n",
    "fig2=go.Figure(figs2)\n",
    "fig2.update_layout(xaxis_title=\"Azimuth\", yaxis_title=\"Elevation\",\n",
    "    updatemenus=[\n",
    "        dict(\n",
    "            active=0,\n",
    "            buttons=buttons2,\n",
    "              x=1.1,\n",
    "              xanchor=\"left\",\n",
    "              y=1.1,\n",
    "              yanchor=\"top\")])\n",
    "\n",
    "fig3.update_layout(xaxis_title=\"Time\", yaxis_title=\"% Imaged\")\n",
    "\n",
    "fig1.show()\n",
    "fig2.show()\n",
    "fig3.show()\n",
    "\n",
    "# f1 = PlotlyViewer(fig1)\n",
    "# f2 = PlotlyViewer(fig2)\n",
    "# f3 = PlotlyViewer(fig3)"
   ]
  }
 ],
 "metadata": {
  "kernelspec": {
   "display_name": "Python 3",
   "language": "python",
   "name": "python3"
  },
  "language_info": {
   "codemirror_mode": {
    "name": "ipython",
    "version": 3
   },
   "file_extension": ".py",
   "mimetype": "text/x-python",
   "name": "python",
   "nbconvert_exporter": "python",
   "pygments_lexer": "ipython3",
   "version": "3.12.0"
  }
 },
 "nbformat": 4,
 "nbformat_minor": 2
}
