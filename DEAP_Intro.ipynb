{
 "cells": [
  {
   "cell_type": "code",
   "execution_count": 1,
   "metadata": {},
   "outputs": [],
   "source": [
    "from IPython.display import clear_output\n",
    "\n",
    "from deap import base\n",
    "from deap import creator\n",
    "from deap import tools\n",
    "\n",
    "from STK_Sim import *\n",
    "\n",
    "Filename = 'AERO_401_Initial_Assessment'\n",
    "\n",
    "stk_object = STK_Simulation(False,Filename)"
   ]
  },
  {
   "cell_type": "code",
   "execution_count": 2,
   "metadata": {},
   "outputs": [],
   "source": [
    "# Setting scenario time variables\n",
    "stk_object.root.UnitPreferences.SetCurrentUnit(\"DateFormat\", \"UTCG\")\n",
    "start_time = time_convert(stk_object.root.CurrentScenario.StartTime)\n",
    "dt = datetime.timedelta(days=5, seconds=0, microseconds=0, milliseconds=0, minutes=0, hours=0, weeks=0)\n",
    "stop_time=(start_time+dt).strftime(\"%d %b %Y %H:%M:%S.%f\")\n",
    "stk_object.root.CurrentScenario.StopTime=stop_time\n",
    "stk_object.root.UnitPreferences.SetCurrentUnit(\"DateFormat\", \"EpSec\")\n",
    "\n",
    "# All of these variables substantially change calculation time\n",
    "dt = 60\n",
    "n_targets = 15\n",
    "n_sats = 12\n",
    "n_pop = 5\n",
    "n_gen = 2"
   ]
  },
  {
   "cell_type": "code",
   "execution_count": 3,
   "metadata": {},
   "outputs": [
    {
     "data": {
      "application/vnd.plotly.v1+json": {
       "config": {
        "plotlyServerURL": "https://plot.ly"
       },
       "data": [
        {
         "lat": [
          49.30137568237424,
          73.68984155650281,
          23.595609748807423,
          67.15146913425622,
          68.46631560576287,
          56.33938838819919,
          10.042364783385214,
          82.55363006926261,
          54.63546375724612,
          43.28940837212154,
          41.31186599355225,
          43.012265680311415,
          53.02394269084392,
          71.81647945484863,
          62.2607684526542
         ],
         "lon": [
          47.13728341963875,
          140.67593844339297,
          75.69184341802675,
          142.21477275427944,
          157.25889556194713,
          31.12186750412653,
          76.09105214357909,
          98.8864750150697,
          110.64260461223364,
          80.23733090597624,
          31.521253839213948,
          34.78853997632144,
          38.13242164477856,
          134.52812924275676,
          58.89849793906721
         ],
         "marker": {
          "size": 10
         },
         "mode": "markers",
         "type": "scattermapbox"
        },
        {
         "lat": [
          36,
          36.580645161290334,
          39.48387096774195,
          42.38709677419354,
          45.87096774193549,
          45.87096774193549,
          46.451612903225794,
          48.7741935483871,
          51.096774193548384,
          52.83870967741936,
          55.16129032258064,
          55.741935483870975,
          58.64516129032259,
          59.2258064516129,
          59.2258064516129,
          62.70967741935485,
          66.19354838709677,
          66.7741935483871,
          67.93548387096774,
          71.41935483870967,
          72,
          72,
          71.41935483870967,
          69.67741935483869,
          69.09677419354838,
          69.09677419354838,
          70.25806451612902,
          70.25806451612902,
          72,
          74.32258064516128,
          74.32258064516128,
          74.32258064516128,
          75.48387096774192,
          77.8064516129032,
          77.8064516129032,
          79.54838709677418,
          83.03225806451613,
          84.19354838709677,
          83.61290322580646,
          81.29032258064515,
          79.54838709677418,
          78.38709677419354,
          77.8064516129032,
          76.06451612903226,
          76.06451612903226,
          74.32258064516128,
          72.5806451612903,
          72.5806451612903,
          72,
          72,
          65.61290322580643,
          63.87096774193549,
          62.12903225806451,
          60.96774193548387,
          56.903225806451616,
          52.83870967741936,
          52.83870967741936,
          58.64516129032259,
          62.70967741935485,
          62.70967741935485,
          60.96774193548387,
          59.80645161290323,
          58.064516129032256,
          55.741935483870975,
          51.096774193548384,
          44.70967741935485,
          41.80645161290323,
          38.903225806451616,
          35.419354838709694,
          34.258064516129025,
          34.83870967741936,
          38.903225806451616,
          38.903225806451616,
          40.064516129032256,
          46.451612903225794,
          49.35483870967741,
          47.03225806451613,
          44.70967741935485,
          39.48387096774195,
          38.32258064516128,
          38.32258064516128,
          40.064516129032256,
          41.80645161290323,
          38.32258064516128,
          34.83870967741936,
          31.935483870967744,
          29.032258064516128,
          26.129032258064512,
          24.38709677419357,
          22.64516129032259,
          18.58064516129033,
          15.67741935483872,
          14.516129032258078,
          13.935483870967744,
          13.935483870967744,
          8.12903225806454,
          7.548387096774206,
          6.967741935483872,
          9.29032258064518,
          15.096774193548384,
          16.258064516129053,
          19.16129032258064,
          20.32258064516131,
          11.612903225806464,
          9.870967741935488,
          9.870967741935488,
          13.354838709677438,
          18.58064516129033,
          22.064516129032256,
          23.80645161290323,
          27.29032258064518,
          29.032258064516128,
          24.967741935483872,
          20.903225806451616,
          16.83870967741936,
          15.67741935483872,
          13.935483870967744,
          15.67741935483872,
          18,
          22.064516129032256,
          26.129032258064512,
          30.19354838709677,
          34.83870967741936,
          36.580645161290334,
          37.741935483870975,
          38.903225806451616,
          39.48387096774195,
          38.32258064516128,
          41.80645161290323,
          41.80645161290323,
          40.64516129032259,
          37.741935483870975,
          37.16129032258064,
          36
         ],
         "lon": [
          -5.225806451612897,
          -7.548387096774178,
          -9.290322580645151,
          -9.290322580645151,
          -8.129032258064512,
          -5.225806451612897,
          -0.5806451612903061,
          -2.322580645161281,
          -1.7419354838709469,
          1.741935483870975,
          8.709677419354847,
          11.032258064516157,
          11.032258064516157,
          8.709677419354847,
          5.806451612903231,
          5.806451612903231,
          6.9677419354839,
          12.193548387096795,
          13.935483870967772,
          20.903225806451644,
          30.77419354838713,
          33.67741935483872,
          39.48387096774195,
          43.548387096774206,
          50.51612903225811,
          56.32258064516134,
          62.70967741935488,
          70.25806451612908,
          68.5161290322581,
          70.83870967741939,
          75.48387096774195,
          83.61290322580646,
          90,
          96.3870967741936,
          98.12903225806453,
          92.90322580645164,
          92.32258064516134,
          95.80645161290325,
          98.12903225806453,
          105.0967741935484,
          112.64516129032262,
          121.93548387096774,
          128.90322580645164,
          140.5161290322581,
          155.03225806451616,
          154.45161290322585,
          168.3870967741936,
          171.8709677419355,
          178.25806451612908,
          180,
          178.25806451612908,
          175.93548387096774,
          170.12903225806457,
          161.4193548387097,
          162.00000000000006,
          160.25806451612908,
          156.19354838709685,
          156.19354838709685,
          159.67741935483872,
          157.35483870967744,
          149.22580645161293,
          144,
          138.77419354838713,
          141.67741935483872,
          143.4193548387097,
          144,
          144,
          142.25806451612908,
          135.8709677419355,
          131.22580645161293,
          127.74193548387098,
          128.90322580645164,
          134.12903225806457,
          138.19354838709685,
          139.93548387096774,
          140.5161290322581,
          137.03225806451616,
          132.9677419354839,
          131.80645161290323,
          131.22580645161293,
          128.32258064516134,
          125.4193548387097,
          123.0967741935484,
          120.19354838709684,
          120.77419354838712,
          121.35483870967744,
          117.87096774193547,
          113.80645161290325,
          111.48387096774196,
          109.16129032258068,
          106.8387096774194,
          108,
          107.4193548387097,
          102.19354838709684,
          101.61290322580646,
          101.61290322580646,
          103.35483870967744,
          102.19354838709684,
          98.70967741935488,
          95.80645161290325,
          95.80645161290325,
          92.90322580645164,
          88.25806451612908,
          81.87096774193549,
          80.12903225806451,
          74.32258064516134,
          72.58064516129036,
          71.4193548387097,
          65.03225806451616,
          58.64516129032262,
          52.83870967741939,
          51.09677419354841,
          54,
          58.064516129032256,
          54,
          50.51612903225811,
          45.87096774193549,
          42.3870967741936,
          40.064516129032256,
          37.741935483870975,
          34.258064516129025,
          31.935483870967744,
          32.51612903225811,
          29.612903225806463,
          23.225806451612925,
          19.74193548387097,
          16.838709677419388,
          13.935483870967772,
          8.12903225806454,
          4.645161290322591,
          0.5806451612903345,
          -2.9032258064515872,
          -8.709677419354819,
          -5.225806451612897
         ],
         "marker": {
          "size": 10
         },
         "mode": "lines",
         "type": "scattermapbox"
        }
       ],
       "layout": {
        "mapbox": {
         "center": {
          "lat": 0,
          "lon": 0
         },
         "style": "open-street-map",
         "zoom": 0
        },
        "margin": {
         "b": 0,
         "l": 0,
         "r": 0,
         "t": 0
        },
        "template": {
         "data": {
          "bar": [
           {
            "error_x": {
             "color": "#2a3f5f"
            },
            "error_y": {
             "color": "#2a3f5f"
            },
            "marker": {
             "line": {
              "color": "#E5ECF6",
              "width": 0.5
             },
             "pattern": {
              "fillmode": "overlay",
              "size": 10,
              "solidity": 0.2
             }
            },
            "type": "bar"
           }
          ],
          "barpolar": [
           {
            "marker": {
             "line": {
              "color": "#E5ECF6",
              "width": 0.5
             },
             "pattern": {
              "fillmode": "overlay",
              "size": 10,
              "solidity": 0.2
             }
            },
            "type": "barpolar"
           }
          ],
          "carpet": [
           {
            "aaxis": {
             "endlinecolor": "#2a3f5f",
             "gridcolor": "white",
             "linecolor": "white",
             "minorgridcolor": "white",
             "startlinecolor": "#2a3f5f"
            },
            "baxis": {
             "endlinecolor": "#2a3f5f",
             "gridcolor": "white",
             "linecolor": "white",
             "minorgridcolor": "white",
             "startlinecolor": "#2a3f5f"
            },
            "type": "carpet"
           }
          ],
          "choropleth": [
           {
            "colorbar": {
             "outlinewidth": 0,
             "ticks": ""
            },
            "type": "choropleth"
           }
          ],
          "contour": [
           {
            "colorbar": {
             "outlinewidth": 0,
             "ticks": ""
            },
            "colorscale": [
             [
              0,
              "#0d0887"
             ],
             [
              0.1111111111111111,
              "#46039f"
             ],
             [
              0.2222222222222222,
              "#7201a8"
             ],
             [
              0.3333333333333333,
              "#9c179e"
             ],
             [
              0.4444444444444444,
              "#bd3786"
             ],
             [
              0.5555555555555556,
              "#d8576b"
             ],
             [
              0.6666666666666666,
              "#ed7953"
             ],
             [
              0.7777777777777778,
              "#fb9f3a"
             ],
             [
              0.8888888888888888,
              "#fdca26"
             ],
             [
              1,
              "#f0f921"
             ]
            ],
            "type": "contour"
           }
          ],
          "contourcarpet": [
           {
            "colorbar": {
             "outlinewidth": 0,
             "ticks": ""
            },
            "type": "contourcarpet"
           }
          ],
          "heatmap": [
           {
            "colorbar": {
             "outlinewidth": 0,
             "ticks": ""
            },
            "colorscale": [
             [
              0,
              "#0d0887"
             ],
             [
              0.1111111111111111,
              "#46039f"
             ],
             [
              0.2222222222222222,
              "#7201a8"
             ],
             [
              0.3333333333333333,
              "#9c179e"
             ],
             [
              0.4444444444444444,
              "#bd3786"
             ],
             [
              0.5555555555555556,
              "#d8576b"
             ],
             [
              0.6666666666666666,
              "#ed7953"
             ],
             [
              0.7777777777777778,
              "#fb9f3a"
             ],
             [
              0.8888888888888888,
              "#fdca26"
             ],
             [
              1,
              "#f0f921"
             ]
            ],
            "type": "heatmap"
           }
          ],
          "heatmapgl": [
           {
            "colorbar": {
             "outlinewidth": 0,
             "ticks": ""
            },
            "colorscale": [
             [
              0,
              "#0d0887"
             ],
             [
              0.1111111111111111,
              "#46039f"
             ],
             [
              0.2222222222222222,
              "#7201a8"
             ],
             [
              0.3333333333333333,
              "#9c179e"
             ],
             [
              0.4444444444444444,
              "#bd3786"
             ],
             [
              0.5555555555555556,
              "#d8576b"
             ],
             [
              0.6666666666666666,
              "#ed7953"
             ],
             [
              0.7777777777777778,
              "#fb9f3a"
             ],
             [
              0.8888888888888888,
              "#fdca26"
             ],
             [
              1,
              "#f0f921"
             ]
            ],
            "type": "heatmapgl"
           }
          ],
          "histogram": [
           {
            "marker": {
             "pattern": {
              "fillmode": "overlay",
              "size": 10,
              "solidity": 0.2
             }
            },
            "type": "histogram"
           }
          ],
          "histogram2d": [
           {
            "colorbar": {
             "outlinewidth": 0,
             "ticks": ""
            },
            "colorscale": [
             [
              0,
              "#0d0887"
             ],
             [
              0.1111111111111111,
              "#46039f"
             ],
             [
              0.2222222222222222,
              "#7201a8"
             ],
             [
              0.3333333333333333,
              "#9c179e"
             ],
             [
              0.4444444444444444,
              "#bd3786"
             ],
             [
              0.5555555555555556,
              "#d8576b"
             ],
             [
              0.6666666666666666,
              "#ed7953"
             ],
             [
              0.7777777777777778,
              "#fb9f3a"
             ],
             [
              0.8888888888888888,
              "#fdca26"
             ],
             [
              1,
              "#f0f921"
             ]
            ],
            "type": "histogram2d"
           }
          ],
          "histogram2dcontour": [
           {
            "colorbar": {
             "outlinewidth": 0,
             "ticks": ""
            },
            "colorscale": [
             [
              0,
              "#0d0887"
             ],
             [
              0.1111111111111111,
              "#46039f"
             ],
             [
              0.2222222222222222,
              "#7201a8"
             ],
             [
              0.3333333333333333,
              "#9c179e"
             ],
             [
              0.4444444444444444,
              "#bd3786"
             ],
             [
              0.5555555555555556,
              "#d8576b"
             ],
             [
              0.6666666666666666,
              "#ed7953"
             ],
             [
              0.7777777777777778,
              "#fb9f3a"
             ],
             [
              0.8888888888888888,
              "#fdca26"
             ],
             [
              1,
              "#f0f921"
             ]
            ],
            "type": "histogram2dcontour"
           }
          ],
          "mesh3d": [
           {
            "colorbar": {
             "outlinewidth": 0,
             "ticks": ""
            },
            "type": "mesh3d"
           }
          ],
          "parcoords": [
           {
            "line": {
             "colorbar": {
              "outlinewidth": 0,
              "ticks": ""
             }
            },
            "type": "parcoords"
           }
          ],
          "pie": [
           {
            "automargin": true,
            "type": "pie"
           }
          ],
          "scatter": [
           {
            "fillpattern": {
             "fillmode": "overlay",
             "size": 10,
             "solidity": 0.2
            },
            "type": "scatter"
           }
          ],
          "scatter3d": [
           {
            "line": {
             "colorbar": {
              "outlinewidth": 0,
              "ticks": ""
             }
            },
            "marker": {
             "colorbar": {
              "outlinewidth": 0,
              "ticks": ""
             }
            },
            "type": "scatter3d"
           }
          ],
          "scattercarpet": [
           {
            "marker": {
             "colorbar": {
              "outlinewidth": 0,
              "ticks": ""
             }
            },
            "type": "scattercarpet"
           }
          ],
          "scattergeo": [
           {
            "marker": {
             "colorbar": {
              "outlinewidth": 0,
              "ticks": ""
             }
            },
            "type": "scattergeo"
           }
          ],
          "scattergl": [
           {
            "marker": {
             "colorbar": {
              "outlinewidth": 0,
              "ticks": ""
             }
            },
            "type": "scattergl"
           }
          ],
          "scattermapbox": [
           {
            "marker": {
             "colorbar": {
              "outlinewidth": 0,
              "ticks": ""
             }
            },
            "type": "scattermapbox"
           }
          ],
          "scatterpolar": [
           {
            "marker": {
             "colorbar": {
              "outlinewidth": 0,
              "ticks": ""
             }
            },
            "type": "scatterpolar"
           }
          ],
          "scatterpolargl": [
           {
            "marker": {
             "colorbar": {
              "outlinewidth": 0,
              "ticks": ""
             }
            },
            "type": "scatterpolargl"
           }
          ],
          "scatterternary": [
           {
            "marker": {
             "colorbar": {
              "outlinewidth": 0,
              "ticks": ""
             }
            },
            "type": "scatterternary"
           }
          ],
          "surface": [
           {
            "colorbar": {
             "outlinewidth": 0,
             "ticks": ""
            },
            "colorscale": [
             [
              0,
              "#0d0887"
             ],
             [
              0.1111111111111111,
              "#46039f"
             ],
             [
              0.2222222222222222,
              "#7201a8"
             ],
             [
              0.3333333333333333,
              "#9c179e"
             ],
             [
              0.4444444444444444,
              "#bd3786"
             ],
             [
              0.5555555555555556,
              "#d8576b"
             ],
             [
              0.6666666666666666,
              "#ed7953"
             ],
             [
              0.7777777777777778,
              "#fb9f3a"
             ],
             [
              0.8888888888888888,
              "#fdca26"
             ],
             [
              1,
              "#f0f921"
             ]
            ],
            "type": "surface"
           }
          ],
          "table": [
           {
            "cells": {
             "fill": {
              "color": "#EBF0F8"
             },
             "line": {
              "color": "white"
             }
            },
            "header": {
             "fill": {
              "color": "#C8D4E3"
             },
             "line": {
              "color": "white"
             }
            },
            "type": "table"
           }
          ]
         },
         "layout": {
          "annotationdefaults": {
           "arrowcolor": "#2a3f5f",
           "arrowhead": 0,
           "arrowwidth": 1
          },
          "autotypenumbers": "strict",
          "coloraxis": {
           "colorbar": {
            "outlinewidth": 0,
            "ticks": ""
           }
          },
          "colorscale": {
           "diverging": [
            [
             0,
             "#8e0152"
            ],
            [
             0.1,
             "#c51b7d"
            ],
            [
             0.2,
             "#de77ae"
            ],
            [
             0.3,
             "#f1b6da"
            ],
            [
             0.4,
             "#fde0ef"
            ],
            [
             0.5,
             "#f7f7f7"
            ],
            [
             0.6,
             "#e6f5d0"
            ],
            [
             0.7,
             "#b8e186"
            ],
            [
             0.8,
             "#7fbc41"
            ],
            [
             0.9,
             "#4d9221"
            ],
            [
             1,
             "#276419"
            ]
           ],
           "sequential": [
            [
             0,
             "#0d0887"
            ],
            [
             0.1111111111111111,
             "#46039f"
            ],
            [
             0.2222222222222222,
             "#7201a8"
            ],
            [
             0.3333333333333333,
             "#9c179e"
            ],
            [
             0.4444444444444444,
             "#bd3786"
            ],
            [
             0.5555555555555556,
             "#d8576b"
            ],
            [
             0.6666666666666666,
             "#ed7953"
            ],
            [
             0.7777777777777778,
             "#fb9f3a"
            ],
            [
             0.8888888888888888,
             "#fdca26"
            ],
            [
             1,
             "#f0f921"
            ]
           ],
           "sequentialminus": [
            [
             0,
             "#0d0887"
            ],
            [
             0.1111111111111111,
             "#46039f"
            ],
            [
             0.2222222222222222,
             "#7201a8"
            ],
            [
             0.3333333333333333,
             "#9c179e"
            ],
            [
             0.4444444444444444,
             "#bd3786"
            ],
            [
             0.5555555555555556,
             "#d8576b"
            ],
            [
             0.6666666666666666,
             "#ed7953"
            ],
            [
             0.7777777777777778,
             "#fb9f3a"
            ],
            [
             0.8888888888888888,
             "#fdca26"
            ],
            [
             1,
             "#f0f921"
            ]
           ]
          },
          "colorway": [
           "#636efa",
           "#EF553B",
           "#00cc96",
           "#ab63fa",
           "#FFA15A",
           "#19d3f3",
           "#FF6692",
           "#B6E880",
           "#FF97FF",
           "#FECB52"
          ],
          "font": {
           "color": "#2a3f5f"
          },
          "geo": {
           "bgcolor": "white",
           "lakecolor": "white",
           "landcolor": "#E5ECF6",
           "showlakes": true,
           "showland": true,
           "subunitcolor": "white"
          },
          "hoverlabel": {
           "align": "left"
          },
          "hovermode": "closest",
          "mapbox": {
           "style": "light"
          },
          "paper_bgcolor": "white",
          "plot_bgcolor": "#E5ECF6",
          "polar": {
           "angularaxis": {
            "gridcolor": "white",
            "linecolor": "white",
            "ticks": ""
           },
           "bgcolor": "#E5ECF6",
           "radialaxis": {
            "gridcolor": "white",
            "linecolor": "white",
            "ticks": ""
           }
          },
          "scene": {
           "xaxis": {
            "backgroundcolor": "#E5ECF6",
            "gridcolor": "white",
            "gridwidth": 2,
            "linecolor": "white",
            "showbackground": true,
            "ticks": "",
            "zerolinecolor": "white"
           },
           "yaxis": {
            "backgroundcolor": "#E5ECF6",
            "gridcolor": "white",
            "gridwidth": 2,
            "linecolor": "white",
            "showbackground": true,
            "ticks": "",
            "zerolinecolor": "white"
           },
           "zaxis": {
            "backgroundcolor": "#E5ECF6",
            "gridcolor": "white",
            "gridwidth": 2,
            "linecolor": "white",
            "showbackground": true,
            "ticks": "",
            "zerolinecolor": "white"
           }
          },
          "shapedefaults": {
           "line": {
            "color": "#2a3f5f"
           }
          },
          "ternary": {
           "aaxis": {
            "gridcolor": "white",
            "linecolor": "white",
            "ticks": ""
           },
           "baxis": {
            "gridcolor": "white",
            "linecolor": "white",
            "ticks": ""
           },
           "bgcolor": "#E5ECF6",
           "caxis": {
            "gridcolor": "white",
            "linecolor": "white",
            "ticks": ""
           }
          },
          "title": {
           "x": 0.05
          },
          "xaxis": {
           "automargin": true,
           "gridcolor": "white",
           "linecolor": "white",
           "ticks": "",
           "title": {
            "standoff": 15
           },
           "zerolinecolor": "white",
           "zerolinewidth": 2
          },
          "yaxis": {
           "automargin": true,
           "gridcolor": "white",
           "linecolor": "white",
           "ticks": "",
           "title": {
            "standoff": 15
           },
           "zerolinecolor": "white",
           "zerolinewidth": 2
          }
         }
        }
       }
      }
     },
     "metadata": {},
     "output_type": "display_data"
    }
   ],
   "source": [
    "# Generating Targets\n",
    "\n",
    "# Generating a polygon to bound the lat/lon coordinates, you can create your polygon, in the same format as Targets_Polygon.txt.\n",
    "poly = Create_Poly('Input_Files/Targets_Polygon.txt')\n",
    "\n",
    "# Writing random points within the polygon to a target file.\n",
    "targets_filename = 'Input_Files/Targets_File.txt'\n",
    "# polygon_random_points(poly,n_targets).to_csv(targets_filename,index=False)\n",
    "\n",
    "# Loading targets into stk from file.\n",
    "targets_filename = 'Input_Files/Targets_File.txt'\n",
    "stk_object.Target_Loader(targets_filename)\n",
    "\n",
    "# Plotting the polygon and generated targets on the map.\n",
    "plot_targets_and_polygon(poly,targets_filename)"
   ]
  },
  {
   "cell_type": "code",
   "execution_count": 4,
   "metadata": {},
   "outputs": [],
   "source": [
    "def satellite_cost(Individual):\n",
    "    file = open(\"Input_Files/Satellites_File.txt\",\"w\")\n",
    "    file.write(\"Per,Apo,Inc,AoP,Asc,Loc,Tar,Aft\\n\")\n",
    "    nvars = 5\n",
    "    for n in range(len(Individual)//nvars):\n",
    "        Alt = Individual[nvars*n]\n",
    "        Inc = Individual[nvars*n+1]\n",
    "        AoP = Individual[nvars*n+2]\n",
    "        Asc = Individual[nvars*n+3]\n",
    "        Loc = Individual[nvars*n+4]\n",
    "        Tar = 1\n",
    "        file.write(f\"{Alt},{Alt},{Inc},{AoP},{Asc},{Loc},{Tar}\\n\")\n",
    "    file.close()\n",
    "    satellites_filename = 'Input_Files/Satellites_File.txt'\n",
    "    stk_object.Satellite_Loader(satellites_filename)\n",
    "    stk_object.Compute_AzEl(dt)\n",
    "    num_total_angles = 0\n",
    "    for t in range(len(stk_object.targets)):\n",
    "        num_total_angles += len(np.where(stk_object.Azimuth_vs_Elevation[f\"Target{t+1}\"]>0)[0])\n",
    "    stk_object.Compute_Time_Sorted_Data()\n",
    "    times = []\n",
    "    for tar in stk_object.targets:\n",
    "        df = stk_object.time_sorted_data[tar]\n",
    "        index = df['Percent Imaged'].values==df['Percent Imaged'].values[-1]\n",
    "        times.append(df['Time'].values[index][0])\n",
    "    return 100*num_total_angles/324/len(stk_object.targets),max(times),len(Individual)//nvars"
   ]
  },
  {
   "cell_type": "code",
   "execution_count": 5,
   "metadata": {},
   "outputs": [
    {
     "name": "stdout",
     "output_type": "stream",
     "text": [
      "-- Generation 1 --\n",
      "[========================================] 15/15 [100%] in 4.6s (3.15/s)        \n",
      "[========================================] 15/15 [100%] in 0.9s (17.62/s)       \n"
     ]
    },
    {
     "ename": "AssertionError",
     "evalue": "Assigned values have not the same length than fitness weights",
     "output_type": "error",
     "traceback": [
      "\u001b[1;31m---------------------------------------------------------------------------\u001b[0m",
      "\u001b[1;31mAssertionError\u001b[0m                            Traceback (most recent call last)",
      "Cell \u001b[1;32mIn[5], line 77\u001b[0m\n\u001b[0;32m     74\u001b[0m fitnesses \u001b[38;5;241m=\u001b[39m \u001b[38;5;28mmap\u001b[39m(toolbox\u001b[38;5;241m.\u001b[39mevaluate, invalid_ind)\n\u001b[0;32m     76\u001b[0m \u001b[38;5;28;01mfor\u001b[39;00m ind, fit \u001b[38;5;129;01min\u001b[39;00m \u001b[38;5;28mzip\u001b[39m(invalid_ind, fitnesses):\n\u001b[1;32m---> 77\u001b[0m     \u001b[43mind\u001b[49m\u001b[38;5;241;43m.\u001b[39;49m\u001b[43mfitness\u001b[49m\u001b[38;5;241;43m.\u001b[39;49m\u001b[43mvalues\u001b[49m \u001b[38;5;241m+\u001b[39m\u001b[38;5;241m=\u001b[39m (fit,)\n\u001b[0;32m     78\u001b[0m pop[:] \u001b[38;5;241m=\u001b[39m offspring\n\u001b[0;32m     79\u001b[0m hof\u001b[38;5;241m.\u001b[39mupdate(pop)\n",
      "File \u001b[1;32mc:\\Users\\jjfoo\\AppData\\Local\\Programs\\Python\\Python312\\Lib\\site-packages\\deap\\base.py:188\u001b[0m, in \u001b[0;36mFitness.setValues\u001b[1;34m(self, values)\u001b[0m\n\u001b[0;32m    187\u001b[0m \u001b[38;5;28;01mdef\u001b[39;00m \u001b[38;5;21msetValues\u001b[39m(\u001b[38;5;28mself\u001b[39m, values):\n\u001b[1;32m--> 188\u001b[0m     \u001b[38;5;28;01massert\u001b[39;00m \u001b[38;5;28mlen\u001b[39m(values) \u001b[38;5;241m==\u001b[39m \u001b[38;5;28mlen\u001b[39m(\u001b[38;5;28mself\u001b[39m\u001b[38;5;241m.\u001b[39mweights), \u001b[38;5;124m\"\u001b[39m\u001b[38;5;124mAssigned values have not the same length than fitness weights\u001b[39m\u001b[38;5;124m\"\u001b[39m\n\u001b[0;32m    189\u001b[0m     \u001b[38;5;28;01mtry\u001b[39;00m:\n\u001b[0;32m    190\u001b[0m         \u001b[38;5;28mself\u001b[39m\u001b[38;5;241m.\u001b[39mwvalues \u001b[38;5;241m=\u001b[39m \u001b[38;5;28mtuple\u001b[39m(\u001b[38;5;28mmap\u001b[39m(mul, values, \u001b[38;5;28mself\u001b[39m\u001b[38;5;241m.\u001b[39mweights))\n",
      "\u001b[1;31mAssertionError\u001b[0m: Assigned values have not the same length than fitness weights"
     ]
    }
   ],
   "source": [
    "# Running Optimization\n",
    "\n",
    "# Creating DEAP optimization model (positive weights to maximize, negative weights to minimize)\n",
    "creator.create(\"FitnessMax\", base.Fitness, weights=(10.0,-1.0,-1.0))\n",
    "# Creating satellite for the model\n",
    "creator.create(\"Satellite\", list, fitness=creator.FitnessMax)\n",
    "\n",
    "# Lower and Upper Bounds of Variables\n",
    "lower = [500,0,0,0,0]\n",
    "upper = [615,180,180,180,180]\n",
    "\n",
    "# Registering variables to the satellite\n",
    "toolbox = base.Toolbox()\n",
    "toolbox.register(\"attr_alt\", random.uniform, lower[0], upper[0])\n",
    "toolbox.register(\"attr_inc\", random.uniform, lower[1], upper[1])\n",
    "toolbox.register(\"attr_aop\", random.uniform, lower[2], upper[2])\n",
    "toolbox.register(\"attr_asc\", random.uniform, lower[3], upper[3])\n",
    "toolbox.register(\"attr_loc\", random.uniform, lower[4], upper[4])\n",
    "\n",
    "# Registering satellite to the model\n",
    "toolbox.register(\"satellite\", tools.initCycle, creator.Satellite,\n",
    "                 (toolbox.attr_alt,\n",
    "                  toolbox.attr_inc,\n",
    "                  toolbox.attr_aop,\n",
    "                  toolbox.attr_asc,\n",
    "                  toolbox.attr_loc), n=n_sats)\n",
    "\n",
    "# Registering tools for the algorithm\n",
    "toolbox.register(\"population\", tools.initRepeat, list, toolbox.satellite)\n",
    "toolbox.register(\"evaluate\", satellite_cost)\n",
    "# toolbox.register(\"mate\", tools.cxBlend, alpha=0.1)\n",
    "toolbox.register(\"mate\", tools.cxSimulatedBinaryBounded,eta=0.25,low=n_sats*lower,up=n_sats*upper)\n",
    "# toolbox.register(\"mutate\", gp.mutEphemeral,mode=\"one\")\n",
    "toolbox.register(\"mutate\", tools.mutPolynomialBounded,eta=0.25,low=n_sats*lower,up=n_sats*upper,indpb=0.5)\n",
    "toolbox.register(\"select\", tools.selTournament, tournsize=3)\n",
    "\n",
    "clear_output(wait=True)\n",
    "\n",
    "g = 0\n",
    "\n",
    "# Creating a population to evolve\n",
    "pop = toolbox.population(n=n_pop)\n",
    "print(\"-- Generation %i --\" % g)\n",
    "fitnesses = list(map(toolbox.evaluate, pop))\n",
    "for ind, fit in zip(pop, fitnesses):\n",
    "    ind.fitness.values = fit\n",
    "CXPB, MUTPB = 0.6, 0.3\n",
    "fits = [ind.fitness.values[0] for ind in pop]\n",
    "hof = tools.HallOfFame(5)\n",
    "\n",
    "# Begin the evolution\n",
    "while max(fits) < 100 and g < n_gen:\n",
    "    clear_output(wait=True)\n",
    "    g = g + 1\n",
    "    print(\"-- Generation %i --\" % g)\n",
    "    # A new generation\n",
    "    # Select the next generation individuals\n",
    "    offspring = toolbox.select(pop, len(pop))\n",
    "    # Clone the selected individuals\n",
    "    offspring = list(map(toolbox.clone, offspring))\n",
    "    # Apply crossover and mutation on the offspring\n",
    "    for child1, child2 in zip(offspring[::2], offspring[1::2]):\n",
    "        if random.random() < CXPB:\n",
    "            toolbox.mate(child1, child2)\n",
    "            del child1.fitness.values\n",
    "            del child2.fitness.values\n",
    "\n",
    "    for mutant in offspring:\n",
    "        if random.random() < MUTPB:\n",
    "            toolbox.mutate(mutant)\n",
    "            del mutant.fitness.values\n",
    "    # Evaluate the individuals with an invalid fitness\n",
    "    invalid_ind = [ind for ind in offspring if not ind.fitness.valid]\n",
    "    fitnesses = map(toolbox.evaluate, invalid_ind)\n",
    "\n",
    "    for ind, fit in zip(invalid_ind, fitnesses):\n",
    "        ind.fitness.values += (fit,)\n",
    "    pop[:] = offspring\n",
    "    hof.update(pop)"
   ]
  },
  {
   "cell_type": "code",
   "execution_count": null,
   "metadata": {},
   "outputs": [],
   "source": [
    "# Picking the best run to find specifics\n",
    "\n",
    "Individual = hof[0]\n",
    "file = open(\"Input_Files/Satellites_File.txt\",\"w\")\n",
    "file.write(\"Per,Apo,Inc,AoP,Asc,Loc,Tar\\n\")\n",
    "nvars = 5\n",
    "for n in range(len(Individual)//nvars):\n",
    "    Alt = Individual[nvars*n]\n",
    "    Inc = Individual[nvars*n+1]\n",
    "    AoP = Individual[nvars*n+2]\n",
    "    Asc = Individual[nvars*n+3]\n",
    "    Loc = Individual[nvars*n+4]\n",
    "    Tar = 1\n",
    "    file.write(f\"{Alt},{Alt},{Inc},{AoP},{Asc},{Loc},{Tar}\\n\")\n",
    "\n",
    "file.close()\n",
    "\n",
    "labels = \"Alt,Inc,AoP,Asc,Loc\".split(\",\")\n",
    "df = {}\n",
    "for s in range(n_sats):\n",
    "    df[f'Satellite{s+1}'] = hof[0][5*s:5*(s+1)]\n",
    "df = pd.DataFrame(df)\n",
    "df.index = \"Alt,Inc,AoP,Asc,Loc\".split(\",\")\n",
    "print(df)\n",
    "print(\"\\nfitness=\",hof[0].fitness.values)\n",
    "\n",
    "stk_object.Satellite_Loader(\"Input_Files/Satellites_File.txt\")\n",
    "\n",
    "stk_object.Compute_AzEl(dt)\n",
    "stk_object.Compute_Time_Sorted_Data()\n",
    "\n",
    "num_angles = 0\n",
    "for t in stk_object.targets:\n",
    "    c = len(np.where(stk_object.Azimuth_vs_Elevation[t]>0)[0])\n",
    "    num_angles+=c\n",
    "    print(f\"{t}: {100*c/324:.4f}\")\n",
    "print(f\"Average: {100*num_angles/324/n_targets:.4f}\")"
   ]
  },
  {
   "cell_type": "code",
   "execution_count": null,
   "metadata": {},
   "outputs": [],
   "source": [
    "# Visualization of Targets Azimuth and Elevation data (includes all satellites).\n",
    "\n",
    "figs1 = []\n",
    "figs2 = []\n",
    "buttons1 = []\n",
    "buttons2 = []\n",
    "\n",
    "fig3 = go.Figure()\n",
    "\n",
    "for t in range(len(stk_object.targets)):\n",
    "    fig1 = px.imshow(stk_object.Azimuth_vs_Elevation[f\"Target{t+1}\"].transpose(), text_auto=True,\n",
    "                labels=dict(x=\"Azimuth\",y=\"Elevation\", color=\"Total Frames Captured\"),)\n",
    "    figs1.append(fig1.data[0])\n",
    "    for s in range(len(stk_object.satellites)):\n",
    "        df = stk_object.AzEl_data[f'Target{t+1}->Satellite{s+1}']\n",
    "        if type(df) != int:\n",
    "            df['Azimuth'] = df['Azimuth'].astype(float)\n",
    "            df['Elevation'] = df['Elevation'].astype(float)\n",
    "            fig2 = go.Scatter(y=df['Elevation'],x=df['Azimuth'],name=f'{t+1}->{s+1}',mode='lines')\n",
    "            figs2.append(fig2)\n",
    "        else:\n",
    "            figs2.append(go.Scatter(x=[],y=[]))\n",
    "\n",
    "    if type(stk_object.time_sorted_data[f'Target{t+1}']) != int:\n",
    "        df = pd.DataFrame(stk_object.time_sorted_data[f'Target{t+1}'])\n",
    "        fig3.add_trace(go.Scatter(x=df['Time'],y=df['Percent Imaged'],name=f'Target{t+1}'))\n",
    "\n",
    "    z1 = np.zeros(len(stk_object.targets),dtype=bool);z1[t]=1\n",
    "    z2 = np.zeros(len(stk_object.targets)*len(stk_object.satellites),dtype=bool)\n",
    "    for s in range(len(stk_object.satellites)):\n",
    "        z2[len(stk_object.satellites)*t+s]=1\n",
    "    buttons1.append(dict(label=f\"Target{t+1}\",\n",
    "                        method=\"restyle\",\n",
    "                        args=[{\"visible\": z1},]))\n",
    "    buttons2.append(dict(label=f\"Target{t+1}\",\n",
    "                        method=\"restyle\",\n",
    "                        args=[{\"visible\": z2},]))\n",
    "\n",
    "fig1=go.Figure(figs1)\n",
    "fig1.update_layout(xaxis_title=\"Azimuth\", yaxis_title=\"Elevation\",\n",
    "    updatemenus=[\n",
    "        dict(\n",
    "            active=0,\n",
    "            buttons=buttons1,\n",
    "              x=1.1,\n",
    "              xanchor=\"left\",\n",
    "              y=1.1,\n",
    "              yanchor=\"top\")])\n",
    "\n",
    "fig2=go.Figure(figs2)\n",
    "fig2.update_layout(xaxis_title=\"Azimuth\", yaxis_title=\"Elevation\",\n",
    "    updatemenus=[\n",
    "        dict(\n",
    "            active=0,\n",
    "            buttons=buttons2,\n",
    "              x=1.1,\n",
    "              xanchor=\"left\",\n",
    "              y=1.1,\n",
    "              yanchor=\"top\")])\n",
    "\n",
    "fig3.update_layout(xaxis_title=\"Time (s)\", yaxis_title=\"% Imaged\")\n",
    "\n",
    "fig1.show()\n",
    "fig2.show()\n",
    "fig3.show()"
   ]
  }
 ],
 "metadata": {
  "kernelspec": {
   "display_name": "Python 3",
   "language": "python",
   "name": "python3"
  },
  "language_info": {
   "codemirror_mode": {
    "name": "ipython",
    "version": 3
   },
   "file_extension": ".py",
   "mimetype": "text/x-python",
   "name": "python",
   "nbconvert_exporter": "python",
   "pygments_lexer": "ipython3",
   "version": "3.12.0"
  }
 },
 "nbformat": 4,
 "nbformat_minor": 2
}
