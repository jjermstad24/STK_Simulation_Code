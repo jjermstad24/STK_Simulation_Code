{
 "cells": [
  {
   "cell_type": "code",
   "execution_count": null,
   "metadata": {},
   "outputs": [],
   "source": [
    "# Constants\n",
    "Re = 6378\n",
    "mu = 3.986004354360959*10**5"
   ]
  },
  {
   "cell_type": "code",
   "execution_count": null,
   "metadata": {},
   "outputs": [],
   "source": [
    "# Torque Calculations\n",
    "r = Re + 2000\n",
    "theta = \n",
    "Tg = 3*mu/r*(Imax-Imin)*np.sin(2*theta)"
   ]
  }
 ],
 "metadata": {
  "language_info": {
   "name": "python"
  }
 },
 "nbformat": 4,
 "nbformat_minor": 2
}
